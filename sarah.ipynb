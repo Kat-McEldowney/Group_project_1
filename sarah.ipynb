{
 "cells": [
  {
   "cell_type": "code",
   "execution_count": 1,
   "id": "0f7d4f23",
   "metadata": {},
   "outputs": [],
   "source": [
    "import pandas as pd\n",
    "import numpy as np\n",
    "from scipy import stats\n",
    "import matplotlib.pyplot as plt\n",
    "import warnings"
   ]
  },
  {
   "cell_type": "code",
   "execution_count": 2,
   "id": "507b3895",
   "metadata": {},
   "outputs": [
    {
     "name": "stdout",
     "output_type": "stream",
     "text": [
      "(17701, 17)\n"
     ]
    },
    {
     "data": {
      "text/plain": [
       "Index(['Count', 'Zipcode', 'Type', 'Owner Occ?', 'Purchase Down %',\n",
       "       'Purchase Amt', 'Amount Mortgaged', 'Mtg Tx Pd', 'Mansion Tax Pd',\n",
       "       'New Sales Tax Amount', 'Population', 'Median Age', 'Household Income',\n",
       "       'Per Capita Income', 'Median Gross Rent', 'Poverty Count',\n",
       "       'Poverty Rate'],\n",
       "      dtype='object')"
      ]
     },
     "execution_count": 2,
     "metadata": {},
     "output_type": "execute_result"
    }
   ],
   "source": [
    "complete_df = pd.read_csv('complete.csv')\n",
    "print(complete_df.shape)\n",
    "complete_df.columns"
   ]
  },
  {
   "cell_type": "code",
   "execution_count": 3,
   "id": "195dffe4",
   "metadata": {},
   "outputs": [
    {
     "data": {
      "text/html": [
       "<div>\n",
       "<style scoped>\n",
       "    .dataframe tbody tr th:only-of-type {\n",
       "        vertical-align: middle;\n",
       "    }\n",
       "\n",
       "    .dataframe tbody tr th {\n",
       "        vertical-align: top;\n",
       "    }\n",
       "\n",
       "    .dataframe thead th {\n",
       "        text-align: right;\n",
       "    }\n",
       "</style>\n",
       "<table border=\"1\" class=\"dataframe\">\n",
       "  <thead>\n",
       "    <tr style=\"text-align: right;\">\n",
       "      <th></th>\n",
       "      <th>Count</th>\n",
       "      <th>Zipcode</th>\n",
       "      <th>Type</th>\n",
       "      <th>Owner Occ?</th>\n",
       "      <th>Purchase Down %</th>\n",
       "      <th>Purchase Amt</th>\n",
       "      <th>Amount Mortgaged</th>\n",
       "      <th>Mtg Tx Pd</th>\n",
       "      <th>Mansion Tax Pd</th>\n",
       "      <th>New Sales Tax Amount</th>\n",
       "      <th>Population</th>\n",
       "      <th>Median Age</th>\n",
       "      <th>Household Income</th>\n",
       "      <th>Per Capita Income</th>\n",
       "      <th>Median Gross Rent</th>\n",
       "      <th>Poverty Count</th>\n",
       "      <th>Poverty Rate</th>\n",
       "    </tr>\n",
       "  </thead>\n",
       "  <tbody>\n",
       "    <tr>\n",
       "      <th>7996</th>\n",
       "      <td>1</td>\n",
       "      <td>11201</td>\n",
       "      <td>CND</td>\n",
       "      <td>1.0</td>\n",
       "      <td>100.0</td>\n",
       "      <td>2700000.0</td>\n",
       "      <td>0.0</td>\n",
       "      <td>0.0</td>\n",
       "      <td>27000.0</td>\n",
       "      <td>119826.0000</td>\n",
       "      <td>69755.0</td>\n",
       "      <td>35.1</td>\n",
       "      <td>163310.0</td>\n",
       "      <td>108933.0</td>\n",
       "      <td>3110.0</td>\n",
       "      <td>7004.0</td>\n",
       "      <td>10.040857</td>\n",
       "    </tr>\n",
       "    <tr>\n",
       "      <th>7997</th>\n",
       "      <td>1</td>\n",
       "      <td>11201</td>\n",
       "      <td>CND</td>\n",
       "      <td>1.0</td>\n",
       "      <td>52.0</td>\n",
       "      <td>5173120.0</td>\n",
       "      <td>2500000.0</td>\n",
       "      <td>48750.0</td>\n",
       "      <td>51731.2</td>\n",
       "      <td>229583.0656</td>\n",
       "      <td>69755.0</td>\n",
       "      <td>35.1</td>\n",
       "      <td>163310.0</td>\n",
       "      <td>108933.0</td>\n",
       "      <td>3110.0</td>\n",
       "      <td>7004.0</td>\n",
       "      <td>10.040857</td>\n",
       "    </tr>\n",
       "  </tbody>\n",
       "</table>\n",
       "</div>"
      ],
      "text/plain": [
       "      Count  Zipcode Type  Owner Occ?  Purchase Down %  Purchase Amt  \\\n",
       "7996      1    11201  CND         1.0            100.0     2700000.0   \n",
       "7997      1    11201  CND         1.0             52.0     5173120.0   \n",
       "\n",
       "      Amount Mortgaged  Mtg Tx Pd  Mansion Tax Pd  New Sales Tax Amount  \\\n",
       "7996               0.0        0.0         27000.0           119826.0000   \n",
       "7997         2500000.0    48750.0         51731.2           229583.0656   \n",
       "\n",
       "      Population  Median Age  Household Income  Per Capita Income  \\\n",
       "7996     69755.0        35.1          163310.0           108933.0   \n",
       "7997     69755.0        35.1          163310.0           108933.0   \n",
       "\n",
       "      Median Gross Rent  Poverty Count  Poverty Rate  \n",
       "7996             3110.0         7004.0     10.040857  \n",
       "7997             3110.0         7004.0     10.040857  "
      ]
     },
     "execution_count": 3,
     "metadata": {},
     "output_type": "execute_result"
    }
   ],
   "source": [
    "investor_df = complete_df[(complete_df['Owner Occ?'] ==1)]\n",
    "investor_df.head(2)"
   ]
  },
  {
   "cell_type": "code",
   "execution_count": 4,
   "id": "9aa15950",
   "metadata": {},
   "outputs": [
    {
     "data": {
      "text/plain": [
       "SFR    5248\n",
       "CND    4457\n",
       "Name: Type, dtype: int64"
      ]
     },
     "execution_count": 4,
     "metadata": {},
     "output_type": "execute_result"
    }
   ],
   "source": [
    "investor_df['Type'].value_counts()"
   ]
  },
  {
   "cell_type": "code",
   "execution_count": 5,
   "id": "fec3f437",
   "metadata": {},
   "outputs": [
    {
     "data": {
      "image/png": "[encoded data removed]",
      "text/plain": [
       "<Figure size 432x288 with 1 Axes>"
      ]
     },
     "metadata": {},
     "output_type": "display_data"
    }
   ],
   "source": [
    "type_series = investor_df['Type'].value_counts()\n",
    "\n",
    "plt.pie(type_series.values,labels=type_series.index.values,autopct='%1.1f%%')\n",
    "plt.title(\"single-family rental v.s. Conditional Offer\")\n",
    "plt.show()"
   ]
  },
  {
   "cell_type": "code",
   "execution_count": 6,
   "id": "12a7bb5c",
   "metadata": {},
   "outputs": [
    {
     "data": {
      "text/plain": [
       "10007     207\n",
       "10013     506\n",
       "10282      19\n",
       "10453      15\n",
       "10457      50\n",
       "11201     510\n",
       "11203     222\n",
       "11204     191\n",
       "11205     107\n",
       "11206      85\n",
       "11207     104\n",
       "11208     109\n",
       "11209     345\n",
       "11210     340\n",
       "11211     192\n",
       "11212      85\n",
       "11213      71\n",
       "11214     273\n",
       "11215     373\n",
       "11216      91\n",
       "11217     170\n",
       "11218     172\n",
       "11219      95\n",
       "11220     111\n",
       "11221      45\n",
       "11222     127\n",
       "11223     236\n",
       "11224     166\n",
       "11225     110\n",
       "11226     139\n",
       "11228     306\n",
       "11229     612\n",
       "11230     185\n",
       "11231     200\n",
       "11232      42\n",
       "11233      43\n",
       "11234    1160\n",
       "11235     332\n",
       "11236     248\n",
       "11237      35\n",
       "11238     290\n",
       "11239      13\n",
       "11249     220\n",
       "11355     584\n",
       "11368     169\n",
       "Name: Zipcode, dtype: int64"
      ]
     },
     "execution_count": 6,
     "metadata": {},
     "output_type": "execute_result"
    }
   ],
   "source": [
    "investor_df['Zipcode'].value_counts().sort_index()"
   ]
  },
  {
   "cell_type": "code",
   "execution_count": 7,
   "id": "2b018db9",
   "metadata": {},
   "outputs": [],
   "source": [
    "investor_by_zip = investor_df.groupby(['Zipcode']).agg({'Count': 'sum', 'Purchase Amt': 'mean', \n",
    "                                                            'Purchase Down %': 'mean',\n",
    "                                                            'Amount Mortgaged': 'mean', \n",
    "                                                            'Mtg Tx Pd': 'mean', 'Mansion Tax Pd': 'mean', \n",
    "                                                            'New Sales Tax Amount': 'mean', 'Per Capita Income': 'mean'})\n",
    "\n",
    "\n",
    "investor_by_zip[\"Purchase Amt\"] = investor_by_zip[\"Purchase Amt\"] / 10000\n",
    "investor_by_zip[\"Amount Mortgaged\"] = investor_by_zip[\"Amount Mortgaged\"] / 10000\n",
    "investor_by_zip[\"Mtg Tx Pd\"] = investor_by_zip[\"Mtg Tx Pd\"] / 1000\n",
    "investor_by_zip[\"Mansion Tax Pd\"] = investor_by_zip[\"Mansion Tax Pd\"] / 1000\n",
    "investor_by_zip[\"New Sales Tax Amount\"] = investor_by_zip[\"New Sales Tax Amount\"] / 1000\n",
    "investor_by_zip[\"Per Capita Income\"] = investor_by_zip[\"Per Capita Income\"] / 1000\n",
    "\n",
    "investor_by_zip[\"Purchase Amt\"] = investor_by_zip[\"Purchase Amt\"].map(\"{:.2f}\".format)\n",
    "investor_by_zip[\"Purchase Down %\"] = investor_by_zip[\"Purchase Down %\"].map(\"{:.2f}\".format)\n",
    "investor_by_zip[\"Amount Mortgaged\"] = investor_by_zip[\"Amount Mortgaged\"].map(\"{:.2f}\".format)\n",
    "investor_by_zip[\"Mtg Tx Pd\"] = investor_by_zip[\"Mtg Tx Pd\"].map(\"{:.2f}\".format)\n",
    "investor_by_zip[\"Mansion Tax Pd\"] = investor_by_zip[\"Mansion Tax Pd\"].map(\"{:.2f}\".format)\n",
    "investor_by_zip[\"New Sales Tax Amount\"] = investor_by_zip[\"New Sales Tax Amount\"].map(\"{:.2f}\".format)\n",
    "investor_by_zip[\"Per Capita Income\"] = investor_by_zip[\"Per Capita Income\"].map(\"{:.2f}\".format)\n",
    "\n",
    "investor_by_zip[\"Purchase Amt\"] = investor_by_zip[\"Purchase Amt\"].astype(\"float\")\n",
    "investor_by_zip[\"Purchase Down %\"] = investor_by_zip[\"Purchase Down %\"].astype(\"float\")\n",
    "investor_by_zip[\"Amount Mortgaged\"] = investor_by_zip[\"Amount Mortgaged\"].astype(\"float\")\n",
    "investor_by_zip[\"Mtg Tx Pd\"] = investor_by_zip[\"Mtg Tx Pd\"].astype(\"float\")\n",
    "investor_by_zip[\"Mansion Tax Pd\"] = investor_by_zip[\"Mansion Tax Pd\"].astype(\"float\")\n",
    "investor_by_zip[\"New Sales Tax Amount\"] = investor_by_zip[\"New Sales Tax Amount\"].astype(\"float\")\n",
    "investor_by_zip[\"Per Capita Income\"] = investor_by_zip[\"Per Capita Income\"].astype(\"float\")"
   ]
  },
  {
   "cell_type": "code",
   "execution_count": 8,
   "id": "a006348e",
   "metadata": {},
   "outputs": [
    {
     "name": "stdout",
     "output_type": "stream",
     "text": [
      "(45, 8)\n"
     ]
    },
    {
     "data": {
      "text/html": [
       "<div>\n",
       "<style scoped>\n",
       "    .dataframe tbody tr th:only-of-type {\n",
       "        vertical-align: middle;\n",
       "    }\n",
       "\n",
       "    .dataframe tbody tr th {\n",
       "        vertical-align: top;\n",
       "    }\n",
       "\n",
       "    .dataframe thead th {\n",
       "        text-align: right;\n",
       "    }\n",
       "</style>\n",
       "<table border=\"1\" class=\"dataframe\">\n",
       "  <thead>\n",
       "    <tr style=\"text-align: right;\">\n",
       "      <th></th>\n",
       "      <th>Count</th>\n",
       "      <th>Purchase Amt</th>\n",
       "      <th>Purchase Down %</th>\n",
       "      <th>Amount Mortgaged</th>\n",
       "      <th>Mtg Tx Pd</th>\n",
       "      <th>Mansion Tax Pd</th>\n",
       "      <th>New Sales Tax Amount</th>\n",
       "      <th>Per Capita Income</th>\n",
       "    </tr>\n",
       "    <tr>\n",
       "      <th>Zipcode</th>\n",
       "      <th></th>\n",
       "      <th></th>\n",
       "      <th></th>\n",
       "      <th></th>\n",
       "      <th></th>\n",
       "      <th></th>\n",
       "      <th></th>\n",
       "      <th></th>\n",
       "    </tr>\n",
       "  </thead>\n",
       "  <tbody>\n",
       "    <tr>\n",
       "      <th>10007</th>\n",
       "      <td>207</td>\n",
       "      <td>348.30</td>\n",
       "      <td>63.92</td>\n",
       "      <td>159.52</td>\n",
       "      <td>31.09</td>\n",
       "      <td>34.67</td>\n",
       "      <td>154.58</td>\n",
       "      <td>191.71</td>\n",
       "    </tr>\n",
       "    <tr>\n",
       "      <th>10013</th>\n",
       "      <td>506</td>\n",
       "      <td>395.44</td>\n",
       "      <td>65.75</td>\n",
       "      <td>148.59</td>\n",
       "      <td>28.97</td>\n",
       "      <td>39.08</td>\n",
       "      <td>175.49</td>\n",
       "      <td>157.38</td>\n",
       "    </tr>\n",
       "  </tbody>\n",
       "</table>\n",
       "</div>"
      ],
      "text/plain": [
       "         Count  Purchase Amt  Purchase Down %  Amount Mortgaged  Mtg Tx Pd  \\\n",
       "Zipcode                                                                      \n",
       "10007      207        348.30            63.92            159.52      31.09   \n",
       "10013      506        395.44            65.75            148.59      28.97   \n",
       "\n",
       "         Mansion Tax Pd  New Sales Tax Amount  Per Capita Income  \n",
       "Zipcode                                                           \n",
       "10007             34.67                154.58             191.71  \n",
       "10013             39.08                175.49             157.38  "
      ]
     },
     "execution_count": 8,
     "metadata": {},
     "output_type": "execute_result"
    }
   ],
   "source": [
    "print(investor_by_zip.shape)\n",
    "\n",
    "investor_by_zip.head(2)"
   ]
  },
  {
   "cell_type": "code",
   "execution_count": 9,
   "id": "aaea4274",
   "metadata": {},
   "outputs": [
    {
     "data": {
      "text/html": [
       "<div>\n",
       "<style scoped>\n",
       "    .dataframe tbody tr th:only-of-type {\n",
       "        vertical-align: middle;\n",
       "    }\n",
       "\n",
       "    .dataframe tbody tr th {\n",
       "        vertical-align: top;\n",
       "    }\n",
       "\n",
       "    .dataframe thead th {\n",
       "        text-align: right;\n",
       "    }\n",
       "</style>\n",
       "<table border=\"1\" class=\"dataframe\">\n",
       "  <thead>\n",
       "    <tr style=\"text-align: right;\">\n",
       "      <th></th>\n",
       "      <th>Count</th>\n",
       "      <th>Purchase Amt</th>\n",
       "      <th>Purchase Down %</th>\n",
       "      <th>Amount Mortgaged</th>\n",
       "      <th>Mtg Tx Pd</th>\n",
       "      <th>Mansion Tax Pd</th>\n",
       "      <th>New Sales Tax Amount</th>\n",
       "      <th>Per Capita Income</th>\n",
       "      <th>total_tax_paid</th>\n",
       "    </tr>\n",
       "    <tr>\n",
       "      <th>Zipcode</th>\n",
       "      <th></th>\n",
       "      <th></th>\n",
       "      <th></th>\n",
       "      <th></th>\n",
       "      <th></th>\n",
       "      <th></th>\n",
       "      <th></th>\n",
       "      <th></th>\n",
       "      <th></th>\n",
       "    </tr>\n",
       "  </thead>\n",
       "  <tbody>\n",
       "    <tr>\n",
       "      <th>10007</th>\n",
       "      <td>207</td>\n",
       "      <td>348.30</td>\n",
       "      <td>63.92</td>\n",
       "      <td>159.52</td>\n",
       "      <td>31.09</td>\n",
       "      <td>34.67</td>\n",
       "      <td>154.58</td>\n",
       "      <td>191.71</td>\n",
       "      <td>65.76</td>\n",
       "    </tr>\n",
       "    <tr>\n",
       "      <th>10013</th>\n",
       "      <td>506</td>\n",
       "      <td>395.44</td>\n",
       "      <td>65.75</td>\n",
       "      <td>148.59</td>\n",
       "      <td>28.97</td>\n",
       "      <td>39.08</td>\n",
       "      <td>175.49</td>\n",
       "      <td>157.38</td>\n",
       "      <td>68.05</td>\n",
       "    </tr>\n",
       "  </tbody>\n",
       "</table>\n",
       "</div>"
      ],
      "text/plain": [
       "         Count  Purchase Amt  Purchase Down %  Amount Mortgaged  Mtg Tx Pd  \\\n",
       "Zipcode                                                                      \n",
       "10007      207        348.30            63.92            159.52      31.09   \n",
       "10013      506        395.44            65.75            148.59      28.97   \n",
       "\n",
       "         Mansion Tax Pd  New Sales Tax Amount  Per Capita Income  \\\n",
       "Zipcode                                                            \n",
       "10007             34.67                154.58             191.71   \n",
       "10013             39.08                175.49             157.38   \n",
       "\n",
       "         total_tax_paid  \n",
       "Zipcode                  \n",
       "10007             65.76  \n",
       "10013             68.05  "
      ]
     },
     "execution_count": 9,
     "metadata": {},
     "output_type": "execute_result"
    }
   ],
   "source": [
    "investor_by_zip[\"total_tax_paid\"] = investor_by_zip[\"Mtg Tx Pd\"] + investor_by_zip[\"Mansion Tax Pd\"]\n",
    "investor_by_zip.head(2)"
   ]
  },
  {
   "cell_type": "code",
   "execution_count": 10,
   "id": "5a36949a",
   "metadata": {},
   "outputs": [
    {
     "data": {
      "text/plain": [
       "Count                     int64\n",
       "Purchase Amt            float64\n",
       "Purchase Down %         float64\n",
       "Amount Mortgaged        float64\n",
       "Mtg Tx Pd               float64\n",
       "Mansion Tax Pd          float64\n",
       "New Sales Tax Amount    float64\n",
       "Per Capita Income       float64\n",
       "total_tax_paid          float64\n",
       "dtype: object"
      ]
     },
     "execution_count": 10,
     "metadata": {},
     "output_type": "execute_result"
    }
   ],
   "source": [
    "investor_by_zip.dtypes"
   ]
  },
  {
   "cell_type": "markdown",
   "id": "a46f36d2",
   "metadata": {},
   "source": [
    "## zipcodes of Manhattan: 10013, 10007, 10118, 10282, 10453, 11355, 10457, 11368\n",
    "## The rest of zipcodes are in brooklyn."
   ]
  },
  {
   "cell_type": "code",
   "execution_count": 11,
   "id": "189f6261",
   "metadata": {},
   "outputs": [
    {
     "name": "stdout",
     "output_type": "stream",
     "text": [
      "(7, 9)\n"
     ]
    },
    {
     "data": {
      "text/html": [
       "<div>\n",
       "<style scoped>\n",
       "    .dataframe tbody tr th:only-of-type {\n",
       "        vertical-align: middle;\n",
       "    }\n",
       "\n",
       "    .dataframe tbody tr th {\n",
       "        vertical-align: top;\n",
       "    }\n",
       "\n",
       "    .dataframe thead th {\n",
       "        text-align: right;\n",
       "    }\n",
       "</style>\n",
       "<table border=\"1\" class=\"dataframe\">\n",
       "  <thead>\n",
       "    <tr style=\"text-align: right;\">\n",
       "      <th></th>\n",
       "      <th>Count</th>\n",
       "      <th>Purchase Amt</th>\n",
       "      <th>Purchase Down %</th>\n",
       "      <th>Amount Mortgaged</th>\n",
       "      <th>Mtg Tx Pd</th>\n",
       "      <th>Mansion Tax Pd</th>\n",
       "      <th>New Sales Tax Amount</th>\n",
       "      <th>Per Capita Income</th>\n",
       "      <th>total_tax_paid</th>\n",
       "    </tr>\n",
       "    <tr>\n",
       "      <th>Zipcode</th>\n",
       "      <th></th>\n",
       "      <th></th>\n",
       "      <th></th>\n",
       "      <th></th>\n",
       "      <th></th>\n",
       "      <th></th>\n",
       "      <th></th>\n",
       "      <th></th>\n",
       "      <th></th>\n",
       "    </tr>\n",
       "  </thead>\n",
       "  <tbody>\n",
       "    <tr>\n",
       "      <th>10013</th>\n",
       "      <td>506</td>\n",
       "      <td>395.44</td>\n",
       "      <td>65.75</td>\n",
       "      <td>148.59</td>\n",
       "      <td>28.97</td>\n",
       "      <td>39.08</td>\n",
       "      <td>175.49</td>\n",
       "      <td>157.38</td>\n",
       "      <td>68.05</td>\n",
       "    </tr>\n",
       "    <tr>\n",
       "      <th>10007</th>\n",
       "      <td>207</td>\n",
       "      <td>348.30</td>\n",
       "      <td>63.92</td>\n",
       "      <td>159.52</td>\n",
       "      <td>31.09</td>\n",
       "      <td>34.67</td>\n",
       "      <td>154.58</td>\n",
       "      <td>191.71</td>\n",
       "      <td>65.76</td>\n",
       "    </tr>\n",
       "    <tr>\n",
       "      <th>10282</th>\n",
       "      <td>19</td>\n",
       "      <td>298.71</td>\n",
       "      <td>63.32</td>\n",
       "      <td>105.30</td>\n",
       "      <td>20.50</td>\n",
       "      <td>29.87</td>\n",
       "      <td>132.57</td>\n",
       "      <td>190.52</td>\n",
       "      <td>50.37</td>\n",
       "    </tr>\n",
       "    <tr>\n",
       "      <th>11355</th>\n",
       "      <td>584</td>\n",
       "      <td>73.47</td>\n",
       "      <td>65.27</td>\n",
       "      <td>27.62</td>\n",
       "      <td>5.18</td>\n",
       "      <td>1.76</td>\n",
       "      <td>32.61</td>\n",
       "      <td>28.13</td>\n",
       "      <td>6.94</td>\n",
       "    </tr>\n",
       "    <tr>\n",
       "      <th>11368</th>\n",
       "      <td>169</td>\n",
       "      <td>58.09</td>\n",
       "      <td>55.09</td>\n",
       "      <td>24.15</td>\n",
       "      <td>4.45</td>\n",
       "      <td>0.77</td>\n",
       "      <td>25.78</td>\n",
       "      <td>24.23</td>\n",
       "      <td>5.22</td>\n",
       "    </tr>\n",
       "    <tr>\n",
       "      <th>10453</th>\n",
       "      <td>15</td>\n",
       "      <td>56.47</td>\n",
       "      <td>30.53</td>\n",
       "      <td>52.15</td>\n",
       "      <td>9.80</td>\n",
       "      <td>0.00</td>\n",
       "      <td>25.06</td>\n",
       "      <td>19.02</td>\n",
       "      <td>9.80</td>\n",
       "    </tr>\n",
       "    <tr>\n",
       "      <th>10457</th>\n",
       "      <td>50</td>\n",
       "      <td>48.76</td>\n",
       "      <td>18.54</td>\n",
       "      <td>43.16</td>\n",
       "      <td>8.13</td>\n",
       "      <td>0.43</td>\n",
       "      <td>21.64</td>\n",
       "      <td>20.19</td>\n",
       "      <td>8.56</td>\n",
       "    </tr>\n",
       "  </tbody>\n",
       "</table>\n",
       "</div>"
      ],
      "text/plain": [
       "         Count  Purchase Amt  Purchase Down %  Amount Mortgaged  Mtg Tx Pd  \\\n",
       "Zipcode                                                                      \n",
       "10013      506        395.44            65.75            148.59      28.97   \n",
       "10007      207        348.30            63.92            159.52      31.09   \n",
       "10282       19        298.71            63.32            105.30      20.50   \n",
       "11355      584         73.47            65.27             27.62       5.18   \n",
       "11368      169         58.09            55.09             24.15       4.45   \n",
       "10453       15         56.47            30.53             52.15       9.80   \n",
       "10457       50         48.76            18.54             43.16       8.13   \n",
       "\n",
       "         Mansion Tax Pd  New Sales Tax Amount  Per Capita Income  \\\n",
       "Zipcode                                                            \n",
       "10013             39.08                175.49             157.38   \n",
       "10007             34.67                154.58             191.71   \n",
       "10282             29.87                132.57             190.52   \n",
       "11355              1.76                 32.61              28.13   \n",
       "11368              0.77                 25.78              24.23   \n",
       "10453              0.00                 25.06              19.02   \n",
       "10457              0.43                 21.64              20.19   \n",
       "\n",
       "         total_tax_paid  \n",
       "Zipcode                  \n",
       "10013             68.05  \n",
       "10007             65.76  \n",
       "10282             50.37  \n",
       "11355              6.94  \n",
       "11368              5.22  \n",
       "10453              9.80  \n",
       "10457              8.56  "
      ]
     },
     "execution_count": 11,
     "metadata": {},
     "output_type": "execute_result"
    }
   ],
   "source": [
    "manhattan_df = investor_by_zip.loc[[10013, 10007, 10282, 10453, 11355, 10457, 11368], :].sort_values(\"Purchase Amt\", ascending=False)\n",
    "print(manhattan_df.shape)\n",
    "manhattan_df.head(8)"
   ]
  },
  {
   "cell_type": "code",
   "execution_count": 12,
   "id": "b564b4e3",
   "metadata": {},
   "outputs": [
    {
     "data": {
      "text/plain": [
       "array(['10013', '10007', '10282', '11355', '11368', '10453', '10457'],\n",
       "      dtype=object)"
      ]
     },
     "execution_count": 12,
     "metadata": {},
     "output_type": "execute_result"
    }
   ],
   "source": [
    "index_list = manhattan_df.index.values\n",
    "\n",
    "for zipcode in index_list:\n",
    "    manhattan_df.rename(index={zipcode: str(zipcode)}, inplace=True)\n",
    "\n",
    "manhattan_df.index.name = \"Manhattan Zipcode\"\n",
    "\n",
    "index_list = manhattan_df.index.values \n",
    "index_list"
   ]
  },
  {
   "cell_type": "code",
   "execution_count": 13,
   "id": "3bac5fac",
   "metadata": {},
   "outputs": [
    {
     "ename": "AttributeError",
     "evalue": "'AxesSubplot' object has no attribute 'bar_label'",
     "output_type": "error",
     "traceback": [
      "\u001b[0;31m---------------------------------------------------------------------------\u001b[0m",
      "\u001b[0;31mAttributeError\u001b[0m                            Traceback (most recent call last)",
      "\u001b[0;32m/var/folders/3j/nyngcfks7d1cq_wmwfzffxr40000gn/T/ipykernel_3021/4282090750.py\u001b[0m in \u001b[0;36m<module>\u001b[0;34m\u001b[0m\n\u001b[1;32m     16\u001b[0m     \u001b[0moffset\u001b[0m \u001b[0;34m=\u001b[0m \u001b[0mwidth\u001b[0m \u001b[0;34m*\u001b[0m \u001b[0mmultiplier\u001b[0m\u001b[0;34m\u001b[0m\u001b[0;34m\u001b[0m\u001b[0m\n\u001b[1;32m     17\u001b[0m     \u001b[0mrects\u001b[0m \u001b[0;34m=\u001b[0m \u001b[0max\u001b[0m\u001b[0;34m.\u001b[0m\u001b[0mbar\u001b[0m\u001b[0;34m(\u001b[0m\u001b[0mx\u001b[0m \u001b[0;34m+\u001b[0m \u001b[0moffset\u001b[0m\u001b[0;34m,\u001b[0m \u001b[0mmeasurement\u001b[0m\u001b[0;34m,\u001b[0m \u001b[0mwidth\u001b[0m\u001b[0;34m,\u001b[0m \u001b[0mlabel\u001b[0m\u001b[0;34m=\u001b[0m\u001b[0mattribute\u001b[0m\u001b[0;34m)\u001b[0m\u001b[0;34m\u001b[0m\u001b[0;34m\u001b[0m\u001b[0m\n\u001b[0;32m---> 18\u001b[0;31m     \u001b[0max\u001b[0m\u001b[0;34m.\u001b[0m\u001b[0mbar_label\u001b[0m\u001b[0;34m(\u001b[0m\u001b[0mrects\u001b[0m\u001b[0;34m,\u001b[0m \u001b[0mpadding\u001b[0m\u001b[0;34m=\u001b[0m\u001b[0;36m3\u001b[0m\u001b[0;34m)\u001b[0m\u001b[0;34m\u001b[0m\u001b[0;34m\u001b[0m\u001b[0m\n\u001b[0m\u001b[1;32m     19\u001b[0m     \u001b[0mmultiplier\u001b[0m \u001b[0;34m+=\u001b[0m \u001b[0;36m1\u001b[0m\u001b[0;34m\u001b[0m\u001b[0;34m\u001b[0m\u001b[0m\n\u001b[1;32m     20\u001b[0m \u001b[0;34m\u001b[0m\u001b[0m\n",
      "\u001b[0;31mAttributeError\u001b[0m: 'AxesSubplot' object has no attribute 'bar_label'"
     ]
    },
    {
     "data": {
      "image/png": "[encoded data removed]",
      "text/plain": [
       "<Figure size 432x288 with 1 Axes>"
      ]
     },
     "metadata": {
      "needs_background": "light"
     },
     "output_type": "display_data"
    }
   ],
   "source": [
    "species = index_list\n",
    "\n",
    "housing_data = {\n",
    "    'Purchase Amt': manhattan_df[\"Purchase Amt\"].values,\n",
    "    'Amount Mortgaged': manhattan_df[\"Amount Mortgaged\"].values,\n",
    "    'Per Capita Income': manhattan_df[\"Per Capita Income\"].values,\n",
    "}\n",
    "\n",
    "x = np.arange(len(species))  # the label locations\n",
    "width = 0.25  # the width of the bars\n",
    "multiplier = 0\n",
    "\n",
    "fig, ax = plt.subplots()\n",
    "\n",
    "for attribute, measurement in housing_data.items():\n",
    "    offset = width * multiplier\n",
    "    rects = ax.bar(x + offset, measurement, width, label=attribute)\n",
    "    ax.bar_label(rects, padding=3)\n",
    "    multiplier += 1\n",
    "\n",
    "# Add some text for labels, title and custom x-axis tick labels, etc.\n",
    "ax.set_ylabel('Dollar Amount')\n",
    "ax.set_title('Purchase Amount v.s. Amount Mortgaged v.s. Per Capita Income in Manhattan')\n",
    "ax.set_xticks(x + width, species)\n",
    "ax.set_xlabel(\"Manhattan Zipcode\")\n",
    "ax.legend(loc='upper left', ncols=3)\n",
    "ax.set_ylim(0, 500)\n",
    "\n",
    "plt.show()"
   ]
  },
  {
   "cell_type": "code",
   "execution_count": null,
   "id": "940edfa0",
   "metadata": {},
   "outputs": [
    {
     "data": {
      "image/png": "[encoded data removed]",
      "text/plain": [
       "<Figure size 640x480 with 2 Axes>"
      ]
     },
     "metadata": {},
     "output_type": "display_data"
    }
   ],
   "source": [
    "fig = plt.figure() # Create matplotlib figure\n",
    "\n",
    "ax = fig.add_subplot(111) # Create matplotlib axes\n",
    "ax2 = ax.twinx() # Create another axes that shares the same x-axis as ax.\n",
    "\n",
    "width = 0.4\n",
    "\n",
    "manhattan_df[\"Per Capita Income\"].plot(kind='bar', color='red', ax=ax, width=width, position=1)\n",
    "manhattan_df[\"total_tax_paid\"].plot(kind='bar', color='blue', ax=ax2, width=width, position=0)\n",
    "\n",
    "ax.set_ylabel('Per Capita Income in Thousands')\n",
    "ax2.set_ylabel('Total Taxes paid')\n",
    "ax.set_title('Scale to the left for Income and to the right for Taxes')\n",
    "plt.suptitle('Per Capita Income v.s. Total Taxes paid',fontsize=20, y=1)\n",
    "ax.legend(title='Income color')\n",
    "\n",
    "plt.show()"
   ]
  },
  {
   "cell_type": "code",
   "execution_count": null,
   "id": "b31114c2",
   "metadata": {},
   "outputs": [
    {
     "name": "stdout",
     "output_type": "stream",
     "text": [
      "(38, 10)\n"
     ]
    },
    {
     "data": {
      "text/html": [
       "<div>\n",
       "<style scoped>\n",
       "    .dataframe tbody tr th:only-of-type {\n",
       "        vertical-align: middle;\n",
       "    }\n",
       "\n",
       "    .dataframe tbody tr th {\n",
       "        vertical-align: top;\n",
       "    }\n",
       "\n",
       "    .dataframe thead th {\n",
       "        text-align: right;\n",
       "    }\n",
       "</style>\n",
       "<table border=\"1\" class=\"dataframe\">\n",
       "  <thead>\n",
       "    <tr style=\"text-align: right;\">\n",
       "      <th></th>\n",
       "      <th>Count</th>\n",
       "      <th>Purchase Amt</th>\n",
       "      <th>Purchase Down %</th>\n",
       "      <th>Amount Mortgaged</th>\n",
       "      <th>Mtg Tx Pd</th>\n",
       "      <th>Mansion Tax Pd</th>\n",
       "      <th>New Sales Tax Amount</th>\n",
       "      <th>Per Capita Income</th>\n",
       "      <th>total_tax_paid</th>\n",
       "    </tr>\n",
       "    <tr>\n",
       "      <th>Zipcode</th>\n",
       "      <th></th>\n",
       "      <th></th>\n",
       "      <th></th>\n",
       "      <th></th>\n",
       "      <th></th>\n",
       "      <th></th>\n",
       "      <th></th>\n",
       "      <th></th>\n",
       "      <th></th>\n",
       "    </tr>\n",
       "  </thead>\n",
       "  <tbody>\n",
       "    <tr>\n",
       "      <th>11201</th>\n",
       "      <td>510</td>\n",
       "      <td>194.09</td>\n",
       "      <td>52.08</td>\n",
       "      <td>83.32</td>\n",
       "      <td>16.17</td>\n",
       "      <td>16.78</td>\n",
       "      <td>86.14</td>\n",
       "      <td>108.93</td>\n",
       "      <td>32.95</td>\n",
       "    </tr>\n",
       "    <tr>\n",
       "      <th>11231</th>\n",
       "      <td>200</td>\n",
       "      <td>176.20</td>\n",
       "      <td>47.54</td>\n",
       "      <td>84.91</td>\n",
       "      <td>16.51</td>\n",
       "      <td>14.94</td>\n",
       "      <td>78.20</td>\n",
       "      <td>87.01</td>\n",
       "      <td>31.45</td>\n",
       "    </tr>\n",
       "    <tr>\n",
       "      <th>11217</th>\n",
       "      <td>170</td>\n",
       "      <td>166.85</td>\n",
       "      <td>50.16</td>\n",
       "      <td>78.28</td>\n",
       "      <td>15.19</td>\n",
       "      <td>14.54</td>\n",
       "      <td>74.05</td>\n",
       "      <td>100.33</td>\n",
       "      <td>29.73</td>\n",
       "    </tr>\n",
       "    <tr>\n",
       "      <th>11215</th>\n",
       "      <td>373</td>\n",
       "      <td>165.09</td>\n",
       "      <td>47.39</td>\n",
       "      <td>85.53</td>\n",
       "      <td>16.63</td>\n",
       "      <td>13.94</td>\n",
       "      <td>73.27</td>\n",
       "      <td>98.25</td>\n",
       "      <td>30.57</td>\n",
       "    </tr>\n",
       "    <tr>\n",
       "      <th>11249</th>\n",
       "      <td>220</td>\n",
       "      <td>144.69</td>\n",
       "      <td>56.46</td>\n",
       "      <td>66.32</td>\n",
       "      <td>12.90</td>\n",
       "      <td>12.41</td>\n",
       "      <td>64.21</td>\n",
       "      <td>66.66</td>\n",
       "      <td>25.31</td>\n",
       "    </tr>\n",
       "  </tbody>\n",
       "</table>\n",
       "</div>"
      ],
      "text/plain": [
       "         Count  Purchase Amt  Purchase Down %  Amount Mortgaged  Mtg Tx Pd  \\\n",
       "Zipcode                                                                      \n",
       "11201      510        194.09            52.08             83.32      16.17   \n",
       "11231      200        176.20            47.54             84.91      16.51   \n",
       "11217      170        166.85            50.16             78.28      15.19   \n",
       "11215      373        165.09            47.39             85.53      16.63   \n",
       "11249      220        144.69            56.46             66.32      12.90   \n",
       "\n",
       "         Mansion Tax Pd  New Sales Tax Amount  Per Capita Income  \\\n",
       "Zipcode                                                            \n",
       "11201             16.78                 86.14             108.93   \n",
       "11231             14.94                 78.20              87.01   \n",
       "11217             14.54                 74.05             100.33   \n",
       "11215             13.94                 73.27              98.25   \n",
       "11249             12.41                 64.21              66.66   \n",
       "\n",
       "         total_tax_paid  \n",
       "Zipcode                  \n",
       "11201             32.95  \n",
       "11231             31.45  \n",
       "11217             29.73  \n",
       "11215             30.57  \n",
       "11249             25.31  "
      ]
     },
     "execution_count": 15,
     "metadata": {},
     "output_type": "execute_result"
    }
   ],
   "source": [
    "brooklyn_df = investor_by_zip.drop([10013, 10007, 10282, 10453, 11355, 10457, 11368], axis=0)\\\n",
    "                            .sort_values(\"Purchase Amt\", ascending=False).reset_index()\n",
    "print(brooklyn_df.shape)\n",
    "\n",
    "top5_brooklyn_df = brooklyn_df.loc[0:4]\n",
    "\n",
    "top5_brooklyn_df.set_index([\"Zipcode\"], inplace=True)\n",
    "top5_brooklyn_df"
   ]
  },
  {
   "cell_type": "code",
   "execution_count": null,
   "id": "cb7cdbe8",
   "metadata": {},
   "outputs": [
    {
     "name": "stderr",
     "output_type": "stream",
     "text": [
      "/var/folders/f6/8kdhqln16lz90lsphyxxdn3m0000gp/T/ipykernel_96788/1373246681.py:4: SettingWithCopyWarning: \n",
      "A value is trying to be set on a copy of a slice from a DataFrame\n",
      "\n",
      "See the caveats in the documentation: https://pandas.pydata.org/pandas-docs/stable/user_guide/indexing.html#returning-a-view-versus-a-copy\n",
      "  top5_brooklyn_df.rename(index={zipcode: str(zipcode)}, inplace=True)\n",
      "/var/folders/f6/8kdhqln16lz90lsphyxxdn3m0000gp/T/ipykernel_96788/1373246681.py:4: SettingWithCopyWarning: \n",
      "A value is trying to be set on a copy of a slice from a DataFrame\n",
      "\n",
      "See the caveats in the documentation: https://pandas.pydata.org/pandas-docs/stable/user_guide/indexing.html#returning-a-view-versus-a-copy\n",
      "  top5_brooklyn_df.rename(index={zipcode: str(zipcode)}, inplace=True)\n",
      "/var/folders/f6/8kdhqln16lz90lsphyxxdn3m0000gp/T/ipykernel_96788/1373246681.py:4: SettingWithCopyWarning: \n",
      "A value is trying to be set on a copy of a slice from a DataFrame\n",
      "\n",
      "See the caveats in the documentation: https://pandas.pydata.org/pandas-docs/stable/user_guide/indexing.html#returning-a-view-versus-a-copy\n",
      "  top5_brooklyn_df.rename(index={zipcode: str(zipcode)}, inplace=True)\n",
      "/var/folders/f6/8kdhqln16lz90lsphyxxdn3m0000gp/T/ipykernel_96788/1373246681.py:4: SettingWithCopyWarning: \n",
      "A value is trying to be set on a copy of a slice from a DataFrame\n",
      "\n",
      "See the caveats in the documentation: https://pandas.pydata.org/pandas-docs/stable/user_guide/indexing.html#returning-a-view-versus-a-copy\n",
      "  top5_brooklyn_df.rename(index={zipcode: str(zipcode)}, inplace=True)\n",
      "/var/folders/f6/8kdhqln16lz90lsphyxxdn3m0000gp/T/ipykernel_96788/1373246681.py:4: SettingWithCopyWarning: \n",
      "A value is trying to be set on a copy of a slice from a DataFrame\n",
      "\n",
      "See the caveats in the documentation: https://pandas.pydata.org/pandas-docs/stable/user_guide/indexing.html#returning-a-view-versus-a-copy\n",
      "  top5_brooklyn_df.rename(index={zipcode: str(zipcode)}, inplace=True)\n"
     ]
    },
    {
     "data": {
      "text/plain": [
       "array(['11201', '11231', '11217', '11215', '11249'], dtype=object)"
      ]
     },
     "execution_count": 16,
     "metadata": {},
     "output_type": "execute_result"
    }
   ],
   "source": [
    "index_list = top5_brooklyn_df.index.values\n",
    "\n",
    "for zipcode in index_list:\n",
    "    top5_brooklyn_df.rename(index={zipcode: str(zipcode)}, inplace=True)\n",
    "\n",
    "top5_brooklyn_df.index.name = \"Brooklyn Top 5 Zipcode\"\n",
    "\n",
    "index_list = top5_brooklyn_df.index.values \n",
    "index_list"
   ]
  },
  {
   "cell_type": "code",
   "execution_count": null,
   "id": "6349feef",
   "metadata": {},
   "outputs": [
    {
     "data": {
      "image/png": "[encoded data removed]",
      "text/plain": [
       "<Figure size 640x480 with 1 Axes>"
      ]
     },
     "metadata": {},
     "output_type": "display_data"
    }
   ],
   "source": [
    "species = index_list\n",
    "\n",
    "housing_data = {\n",
    "    'Purchase Amt': top5_brooklyn_df[\"Purchase Amt\"].values,\n",
    "    'Amount Mortgaged': top5_brooklyn_df[\"Amount Mortgaged\"].values,\n",
    "    'Per Capita Income': top5_brooklyn_df[\"Per Capita Income\"].values,\n",
    "}\n",
    "\n",
    "x = np.arange(len(species))  # the label locations\n",
    "width = 0.25  # the width of the bars\n",
    "multiplier = 0\n",
    "\n",
    "fig, ax = plt.subplots()\n",
    "\n",
    "for attribute, measurement in housing_data.items():\n",
    "    offset = width * multiplier\n",
    "    rects = ax.bar(x + offset, measurement, width, label=attribute)\n",
    "    ax.bar_label(rects, padding=3)\n",
    "    multiplier += 1\n",
    "\n",
    "# Add some text for labels, title and custom x-axis tick labels, etc.\n",
    "ax.set_ylabel('Dollar Amount')\n",
    "ax.set_title('Purchase Amount v.s. Amount Mortgaged v.s. Per Capita Income in Manhattan')\n",
    "ax.set_xticks(x + width, species)\n",
    "ax.set_xlabel(\"Brooklyn Top 5 Zipcode\")\n",
    "ax.legend(loc='upper left', ncols=3)\n",
    "ax.set_ylim(0, 250)\n",
    "\n",
    "plt.show()"
   ]
  },
  {
   "cell_type": "code",
   "execution_count": null,
   "id": "0764b4c5",
   "metadata": {},
   "outputs": [],
   "source": []
  },
  {
   "cell_type": "code",
   "execution_count": null,
   "id": "c5bba4d3",
   "metadata": {},
   "outputs": [],
   "source": []
  }
 ],
 "metadata": {
  "kernelspec": {
   "display_name": "PythonData",
   "language": "python",
   "name": "pythondata"
  },
  "language_info": {
   "codemirror_mode": {
    "name": "ipython",
    "version": 3
   },
   "file_extension": ".py",
   "mimetype": "text/x-python",
   "name": "python",
   "nbconvert_exporter": "python",
   "pygments_lexer": "ipython3",
   "version": "3.7.7"
  }
 },
 "nbformat": 4,
 "nbformat_minor": 5
}
