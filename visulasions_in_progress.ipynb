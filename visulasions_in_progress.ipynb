{
 "cells": [
  {
   "cell_type": "code",
   "execution_count": 1,
   "id": "0f7d4f23",
   "metadata": {},
   "outputs": [],
   "source": [
    "import pandas as pd\n",
    "import numpy as np\n",
    "from scipy import stats\n",
    "import matplotlib.pyplot as plt\n",
    "import warnings\n",
    "import json\n",
    "import plotly.express as px\n",
    "from urllib.request import urlopen\n",
    "import seaborn as sns"
   ]
  },
  {
   "cell_type": "code",
   "execution_count": 2,
   "id": "507b3895",
   "metadata": {},
   "outputs": [
    {
     "name": "stdout",
     "output_type": "stream",
     "text": [
      "(2552, 18)\n"
     ]
    },
    {
     "data": {
      "text/plain": [
       "Index(['Address', 'Count', 'Zipcode', 'Type', 'Owner Occ?', 'Purchase Amt',\n",
       "       'Amount Mortgaged', '% Borrowed', 'Mtg Tx Pd', 'Mansion Tax Pd',\n",
       "       'New Sales Tax Amount', 'Population', 'Median Age', 'Household Income',\n",
       "       'Per Capita Income', 'Median Gross Rent', 'Poverty Count',\n",
       "       'Poverty Rate'],\n",
       "      dtype='object')"
      ]
     },
     "execution_count": 2,
     "metadata": {},
     "output_type": "execute_result"
    }
   ],
   "source": [
    "complete_df = pd.read_csv('complete.csv')\n",
    "print(complete_df.shape)\n",
    "complete_df.columns"
   ]
  },
  {
   "cell_type": "code",
   "execution_count": null,
   "id": "e52bd68c",
   "metadata": {},
   "outputs": [],
   "source": [
    "# complete_filtered = pd.DataFrame(complete_df[['Purchase Amt',\n",
    "#        'Amount Mortgaged', '% Borrowed', 'Mtg Tx Pd',\n",
    "#        New Sales Tax Amount']])\n",
    "# filtered_columns = ['Purchase Amt',\n",
    "#        'Amount Mortgaged', '% Borrowed', 'Mtg Tx Pd',\n",
    "#        'New Sales Tax Amount']\n",
    "\n",
    "# # for col in filtered_columns:\n",
    "# #     print(complete_filtered[col].describe())"
   ]
  },
  {
   "cell_type": "code",
   "execution_count": 3,
   "id": "ee013ee7",
   "metadata": {
    "scrolled": true
   },
   "outputs": [
    {
     "data": {
      "text/html": [
       "<div>\n",
       "<style scoped>\n",
       "    .dataframe tbody tr th:only-of-type {\n",
       "        vertical-align: middle;\n",
       "    }\n",
       "\n",
       "    .dataframe tbody tr th {\n",
       "        vertical-align: top;\n",
       "    }\n",
       "\n",
       "    .dataframe thead th {\n",
       "        text-align: right;\n",
       "    }\n",
       "</style>\n",
       "<table border=\"1\" class=\"dataframe\">\n",
       "  <thead>\n",
       "    <tr style=\"text-align: right;\">\n",
       "      <th></th>\n",
       "      <th>Address</th>\n",
       "      <th>Count</th>\n",
       "      <th>Zipcode</th>\n",
       "      <th>Type</th>\n",
       "      <th>Owner Occ?</th>\n",
       "      <th>Purchase Amt</th>\n",
       "      <th>Amount Mortgaged</th>\n",
       "      <th>% Borrowed</th>\n",
       "      <th>Mtg Tx Pd</th>\n",
       "      <th>Mansion Tax Pd</th>\n",
       "      <th>New Sales Tax Amount</th>\n",
       "      <th>Population</th>\n",
       "      <th>Median Age</th>\n",
       "      <th>Household Income</th>\n",
       "      <th>Per Capita Income</th>\n",
       "      <th>Median Gross Rent</th>\n",
       "      <th>Poverty Count</th>\n",
       "      <th>Poverty Rate</th>\n",
       "    </tr>\n",
       "  </thead>\n",
       "  <tbody>\n",
       "    <tr>\n",
       "      <th>1333</th>\n",
       "      <td>464 GREENWICH ST</td>\n",
       "      <td>1</td>\n",
       "      <td>10013</td>\n",
       "      <td>SFR</td>\n",
       "      <td>1.0</td>\n",
       "      <td>23500000.0</td>\n",
       "      <td>14100000.0</td>\n",
       "      <td>60.000000</td>\n",
       "      <td>274950.00</td>\n",
       "      <td>235000.00</td>\n",
       "      <td>1.042930e+06</td>\n",
       "      <td>29453.0</td>\n",
       "      <td>40.2</td>\n",
       "      <td>150675.0</td>\n",
       "      <td>157378.0</td>\n",
       "      <td>2113.0</td>\n",
       "      <td>2762.0</td>\n",
       "      <td>9.377653</td>\n",
       "    </tr>\n",
       "    <tr>\n",
       "      <th>809</th>\n",
       "      <td>30 PARK PL PH78B</td>\n",
       "      <td>1</td>\n",
       "      <td>10007</td>\n",
       "      <td>CND</td>\n",
       "      <td>1.0</td>\n",
       "      <td>18439344.0</td>\n",
       "      <td>11862500.0</td>\n",
       "      <td>64.332549</td>\n",
       "      <td>231318.75</td>\n",
       "      <td>184393.44</td>\n",
       "      <td>8.183381e+05</td>\n",
       "      <td>7506.0</td>\n",
       "      <td>34.7</td>\n",
       "      <td>250001.0</td>\n",
       "      <td>191709.0</td>\n",
       "      <td>3501.0</td>\n",
       "      <td>152.0</td>\n",
       "      <td>2.025047</td>\n",
       "    </tr>\n",
       "    <tr>\n",
       "      <th>1404</th>\n",
       "      <td>27 VANDAM ST</td>\n",
       "      <td>1</td>\n",
       "      <td>10013</td>\n",
       "      <td>SFR</td>\n",
       "      <td>1.0</td>\n",
       "      <td>14800000.0</td>\n",
       "      <td>11840000.0</td>\n",
       "      <td>80.000000</td>\n",
       "      <td>230880.00</td>\n",
       "      <td>148000.00</td>\n",
       "      <td>6.568240e+05</td>\n",
       "      <td>29453.0</td>\n",
       "      <td>40.2</td>\n",
       "      <td>150675.0</td>\n",
       "      <td>157378.0</td>\n",
       "      <td>2113.0</td>\n",
       "      <td>2762.0</td>\n",
       "      <td>9.377653</td>\n",
       "    </tr>\n",
       "    <tr>\n",
       "      <th>1236</th>\n",
       "      <td>7 HUBERT ST PHC</td>\n",
       "      <td>1</td>\n",
       "      <td>10013</td>\n",
       "      <td>CND</td>\n",
       "      <td>1.0</td>\n",
       "      <td>15000000.0</td>\n",
       "      <td>10000000.0</td>\n",
       "      <td>66.666667</td>\n",
       "      <td>195000.00</td>\n",
       "      <td>150000.00</td>\n",
       "      <td>6.657000e+05</td>\n",
       "      <td>29453.0</td>\n",
       "      <td>40.2</td>\n",
       "      <td>150675.0</td>\n",
       "      <td>157378.0</td>\n",
       "      <td>2113.0</td>\n",
       "      <td>2762.0</td>\n",
       "      <td>9.377653</td>\n",
       "    </tr>\n",
       "    <tr>\n",
       "      <th>2214</th>\n",
       "      <td>24 LEONARD ST 4</td>\n",
       "      <td>1</td>\n",
       "      <td>10013</td>\n",
       "      <td>CND</td>\n",
       "      <td>1.0</td>\n",
       "      <td>14700000.0</td>\n",
       "      <td>8880000.0</td>\n",
       "      <td>60.408163</td>\n",
       "      <td>173160.00</td>\n",
       "      <td>147000.00</td>\n",
       "      <td>6.523860e+05</td>\n",
       "      <td>29453.0</td>\n",
       "      <td>40.2</td>\n",
       "      <td>150675.0</td>\n",
       "      <td>157378.0</td>\n",
       "      <td>2113.0</td>\n",
       "      <td>2762.0</td>\n",
       "      <td>9.377653</td>\n",
       "    </tr>\n",
       "  </tbody>\n",
       "</table>\n",
       "</div>"
      ],
      "text/plain": [
       "               Address  Count  Zipcode Type  Owner Occ?  Purchase Amt  \\\n",
       "1333  464 GREENWICH ST      1    10013  SFR         1.0    23500000.0   \n",
       "809   30 PARK PL PH78B      1    10007  CND         1.0    18439344.0   \n",
       "1404      27 VANDAM ST      1    10013  SFR         1.0    14800000.0   \n",
       "1236   7 HUBERT ST PHC      1    10013  CND         1.0    15000000.0   \n",
       "2214   24 LEONARD ST 4      1    10013  CND         1.0    14700000.0   \n",
       "\n",
       "      Amount Mortgaged  % Borrowed  Mtg Tx Pd  Mansion Tax Pd  \\\n",
       "1333        14100000.0   60.000000  274950.00       235000.00   \n",
       "809         11862500.0   64.332549  231318.75       184393.44   \n",
       "1404        11840000.0   80.000000  230880.00       148000.00   \n",
       "1236        10000000.0   66.666667  195000.00       150000.00   \n",
       "2214         8880000.0   60.408163  173160.00       147000.00   \n",
       "\n",
       "      New Sales Tax Amount  Population  Median Age  Household Income  \\\n",
       "1333          1.042930e+06     29453.0        40.2          150675.0   \n",
       "809           8.183381e+05      7506.0        34.7          250001.0   \n",
       "1404          6.568240e+05     29453.0        40.2          150675.0   \n",
       "1236          6.657000e+05     29453.0        40.2          150675.0   \n",
       "2214          6.523860e+05     29453.0        40.2          150675.0   \n",
       "\n",
       "      Per Capita Income  Median Gross Rent  Poverty Count  Poverty Rate  \n",
       "1333           157378.0             2113.0         2762.0      9.377653  \n",
       "809            191709.0             3501.0          152.0      2.025047  \n",
       "1404           157378.0             2113.0         2762.0      9.377653  \n",
       "1236           157378.0             2113.0         2762.0      9.377653  \n",
       "2214           157378.0             2113.0         2762.0      9.377653  "
      ]
     },
     "execution_count": 3,
     "metadata": {},
     "output_type": "execute_result"
    }
   ],
   "source": [
    "#quick filter of data to show that the top 5 mtg amounts show a \n",
    "#135% increase over the 6th top mtg amount\n",
    "complete_df = complete_df.sort_values('Mtg Tx Pd', ascending=False)\n",
    "complete_df.head()\n"
   ]
  },
  {
   "cell_type": "code",
   "execution_count": 4,
   "id": "5ee13645",
   "metadata": {},
   "outputs": [
    {
     "data": {
      "text/html": [
       "<div>\n",
       "<style scoped>\n",
       "    .dataframe tbody tr th:only-of-type {\n",
       "        vertical-align: middle;\n",
       "    }\n",
       "\n",
       "    .dataframe tbody tr th {\n",
       "        vertical-align: top;\n",
       "    }\n",
       "\n",
       "    .dataframe thead th {\n",
       "        text-align: right;\n",
       "    }\n",
       "</style>\n",
       "<table border=\"1\" class=\"dataframe\">\n",
       "  <thead>\n",
       "    <tr style=\"text-align: right;\">\n",
       "      <th></th>\n",
       "      <th>Count</th>\n",
       "      <th>Zipcode</th>\n",
       "      <th>Owner Occ?</th>\n",
       "      <th>Purchase Amt</th>\n",
       "      <th>Amount Mortgaged</th>\n",
       "      <th>% Borrowed</th>\n",
       "      <th>Mtg Tx Pd</th>\n",
       "      <th>Mansion Tax Pd</th>\n",
       "      <th>New Sales Tax Amount</th>\n",
       "      <th>Population</th>\n",
       "      <th>Median Age</th>\n",
       "      <th>Household Income</th>\n",
       "      <th>Per Capita Income</th>\n",
       "      <th>Median Gross Rent</th>\n",
       "      <th>Poverty Count</th>\n",
       "      <th>Poverty Rate</th>\n",
       "    </tr>\n",
       "  </thead>\n",
       "  <tbody>\n",
       "    <tr>\n",
       "      <th>count</th>\n",
       "      <td>2552.0</td>\n",
       "      <td>2552.000000</td>\n",
       "      <td>2552.000000</td>\n",
       "      <td>2.552000e+03</td>\n",
       "      <td>2.552000e+03</td>\n",
       "      <td>2552.000000</td>\n",
       "      <td>2552.000000</td>\n",
       "      <td>2552.000000</td>\n",
       "      <td>2.552000e+03</td>\n",
       "      <td>2552.000000</td>\n",
       "      <td>2552.000000</td>\n",
       "      <td>2552.000000</td>\n",
       "      <td>2552.000000</td>\n",
       "      <td>2552.000000</td>\n",
       "      <td>2552.000000</td>\n",
       "      <td>2552.000000</td>\n",
       "    </tr>\n",
       "    <tr>\n",
       "      <th>mean</th>\n",
       "      <td>1.0</td>\n",
       "      <td>10621.760580</td>\n",
       "      <td>0.711207</td>\n",
       "      <td>2.088964e+06</td>\n",
       "      <td>7.062190e+05</td>\n",
       "      <td>35.514634</td>\n",
       "      <td>13661.602573</td>\n",
       "      <td>17904.026050</td>\n",
       "      <td>7.361444e+04</td>\n",
       "      <td>49828.514890</td>\n",
       "      <td>40.701528</td>\n",
       "      <td>126074.266850</td>\n",
       "      <td>99758.574843</td>\n",
       "      <td>2257.229232</td>\n",
       "      <td>9130.142241</td>\n",
       "      <td>15.914333</td>\n",
       "    </tr>\n",
       "    <tr>\n",
       "      <th>std</th>\n",
       "      <td>0.0</td>\n",
       "      <td>649.914836</td>\n",
       "      <td>0.453290</td>\n",
       "      <td>2.571257e+06</td>\n",
       "      <td>1.194865e+06</td>\n",
       "      <td>33.996108</td>\n",
       "      <td>23332.138229</td>\n",
       "      <td>27503.198626</td>\n",
       "      <td>1.049558e+05</td>\n",
       "      <td>36734.675922</td>\n",
       "      <td>4.518679</td>\n",
       "      <td>71909.451007</td>\n",
       "      <td>68885.614785</td>\n",
       "      <td>726.184283</td>\n",
       "      <td>8151.095669</td>\n",
       "      <td>7.746927</td>\n",
       "    </tr>\n",
       "    <tr>\n",
       "      <th>min</th>\n",
       "      <td>1.0</td>\n",
       "      <td>10007.000000</td>\n",
       "      <td>0.000000</td>\n",
       "      <td>3.500000e+04</td>\n",
       "      <td>0.000000e+00</td>\n",
       "      <td>0.000000</td>\n",
       "      <td>0.000000</td>\n",
       "      <td>0.000000</td>\n",
       "      <td>1.540000e+03</td>\n",
       "      <td>6259.000000</td>\n",
       "      <td>30.800000</td>\n",
       "      <td>34800.000000</td>\n",
       "      <td>19016.000000</td>\n",
       "      <td>1362.000000</td>\n",
       "      <td>152.000000</td>\n",
       "      <td>2.025047</td>\n",
       "    </tr>\n",
       "    <tr>\n",
       "      <th>25%</th>\n",
       "      <td>1.0</td>\n",
       "      <td>10013.000000</td>\n",
       "      <td>0.000000</td>\n",
       "      <td>6.100000e+05</td>\n",
       "      <td>0.000000e+00</td>\n",
       "      <td>0.000000</td>\n",
       "      <td>0.000000</td>\n",
       "      <td>0.000000</td>\n",
       "      <td>1.819580e+04</td>\n",
       "      <td>7506.000000</td>\n",
       "      <td>38.700000</td>\n",
       "      <td>52658.000000</td>\n",
       "      <td>28128.000000</td>\n",
       "      <td>1625.000000</td>\n",
       "      <td>1493.000000</td>\n",
       "      <td>9.377653</td>\n",
       "    </tr>\n",
       "    <tr>\n",
       "      <th>50%</th>\n",
       "      <td>1.0</td>\n",
       "      <td>10069.000000</td>\n",
       "      <td>1.000000</td>\n",
       "      <td>1.100000e+06</td>\n",
       "      <td>3.000000e+05</td>\n",
       "      <td>40.778534</td>\n",
       "      <td>5400.000000</td>\n",
       "      <td>11000.000000</td>\n",
       "      <td>3.679102e+04</td>\n",
       "      <td>29453.000000</td>\n",
       "      <td>40.200000</td>\n",
       "      <td>150675.000000</td>\n",
       "      <td>148668.000000</td>\n",
       "      <td>2113.000000</td>\n",
       "      <td>2762.000000</td>\n",
       "      <td>20.452859</td>\n",
       "    </tr>\n",
       "    <tr>\n",
       "      <th>75%</th>\n",
       "      <td>1.0</td>\n",
       "      <td>11355.000000</td>\n",
       "      <td>1.000000</td>\n",
       "      <td>2.900000e+06</td>\n",
       "      <td>7.762500e+05</td>\n",
       "      <td>68.854283</td>\n",
       "      <td>15136.875000</td>\n",
       "      <td>29000.000000</td>\n",
       "      <td>9.916988e+04</td>\n",
       "      <td>79495.000000</td>\n",
       "      <td>46.200000</td>\n",
       "      <td>197680.000000</td>\n",
       "      <td>157378.000000</td>\n",
       "      <td>3286.000000</td>\n",
       "      <td>16259.000000</td>\n",
       "      <td>20.452859</td>\n",
       "    </tr>\n",
       "    <tr>\n",
       "      <th>max</th>\n",
       "      <td>1.0</td>\n",
       "      <td>11368.000000</td>\n",
       "      <td>1.000000</td>\n",
       "      <td>4.750000e+07</td>\n",
       "      <td>1.410000e+07</td>\n",
       "      <td>98.738462</td>\n",
       "      <td>274950.000000</td>\n",
       "      <td>475000.000000</td>\n",
       "      <td>2.108050e+06</td>\n",
       "      <td>112750.000000</td>\n",
       "      <td>46.200000</td>\n",
       "      <td>250001.000000</td>\n",
       "      <td>191709.000000</td>\n",
       "      <td>3501.000000</td>\n",
       "      <td>27796.000000</td>\n",
       "      <td>34.578591</td>\n",
       "    </tr>\n",
       "  </tbody>\n",
       "</table>\n",
       "</div>"
      ],
      "text/plain": [
       "        Count       Zipcode   Owner Occ?  Purchase Amt  Amount Mortgaged  \\\n",
       "count  2552.0   2552.000000  2552.000000  2.552000e+03      2.552000e+03   \n",
       "mean      1.0  10621.760580     0.711207  2.088964e+06      7.062190e+05   \n",
       "std       0.0    649.914836     0.453290  2.571257e+06      1.194865e+06   \n",
       "min       1.0  10007.000000     0.000000  3.500000e+04      0.000000e+00   \n",
       "25%       1.0  10013.000000     0.000000  6.100000e+05      0.000000e+00   \n",
       "50%       1.0  10069.000000     1.000000  1.100000e+06      3.000000e+05   \n",
       "75%       1.0  11355.000000     1.000000  2.900000e+06      7.762500e+05   \n",
       "max       1.0  11368.000000     1.000000  4.750000e+07      1.410000e+07   \n",
       "\n",
       "        % Borrowed      Mtg Tx Pd  Mansion Tax Pd  New Sales Tax Amount  \\\n",
       "count  2552.000000    2552.000000     2552.000000          2.552000e+03   \n",
       "mean     35.514634   13661.602573    17904.026050          7.361444e+04   \n",
       "std      33.996108   23332.138229    27503.198626          1.049558e+05   \n",
       "min       0.000000       0.000000        0.000000          1.540000e+03   \n",
       "25%       0.000000       0.000000        0.000000          1.819580e+04   \n",
       "50%      40.778534    5400.000000    11000.000000          3.679102e+04   \n",
       "75%      68.854283   15136.875000    29000.000000          9.916988e+04   \n",
       "max      98.738462  274950.000000   475000.000000          2.108050e+06   \n",
       "\n",
       "          Population   Median Age  Household Income  Per Capita Income  \\\n",
       "count    2552.000000  2552.000000       2552.000000        2552.000000   \n",
       "mean    49828.514890    40.701528     126074.266850       99758.574843   \n",
       "std     36734.675922     4.518679      71909.451007       68885.614785   \n",
       "min      6259.000000    30.800000      34800.000000       19016.000000   \n",
       "25%      7506.000000    38.700000      52658.000000       28128.000000   \n",
       "50%     29453.000000    40.200000     150675.000000      148668.000000   \n",
       "75%     79495.000000    46.200000     197680.000000      157378.000000   \n",
       "max    112750.000000    46.200000     250001.000000      191709.000000   \n",
       "\n",
       "       Median Gross Rent  Poverty Count  Poverty Rate  \n",
       "count        2552.000000    2552.000000   2552.000000  \n",
       "mean         2257.229232    9130.142241     15.914333  \n",
       "std           726.184283    8151.095669      7.746927  \n",
       "min          1362.000000     152.000000      2.025047  \n",
       "25%          1625.000000    1493.000000      9.377653  \n",
       "50%          2113.000000    2762.000000     20.452859  \n",
       "75%          3286.000000   16259.000000     20.452859  \n",
       "max          3501.000000   27796.000000     34.578591  "
      ]
     },
     "execution_count": 4,
     "metadata": {},
     "output_type": "execute_result"
    }
   ],
   "source": [
    "complete_df.describe()"
   ]
  },
  {
   "cell_type": "code",
   "execution_count": null,
   "id": "83e928b2",
   "metadata": {
    "scrolled": false
   },
   "outputs": [],
   "source": [
    "\n",
    "# for col_name in filtered_columns:\n",
    "#     quartiles = complete_filtered[col_name].quantile([.25, .5, .75])\n",
    "#     lowerq= quartiles[0.25]\n",
    "#     upperq = quartiles[0.75]\n",
    "#     iqr = upperq - lowerq\n",
    "#     lower_bound = lowerq - (1.5*iqr)\n",
    "#     upper_bound = upperq + (1.5* iqr)\n",
    "#     outliers =complete_filtered[(complete_filtered[col_name] < lower_bound) | (complete_filtered[col_name] > upper_bound)]\n",
    "#     print(f\"{col_name}'s potentional outliers: {outliers}\")\n",
    "\n"
   ]
  },
  {
   "cell_type": "code",
   "execution_count": null,
   "id": "82d8f6bb",
   "metadata": {},
   "outputs": [],
   "source": [
    "# fig, axes = plt.subplots(nrows=len(filtered_columns), ncols=1, figsize=(8, 2 * len(filtered_columns)))\n",
    "\n",
    "\n",
    "# for i, column in enumerate(filtered_columns):\n",
    "#     axes[i].boxplot(complete_filtered[column])\n",
    "#     axes[i].set_title(f'Boxplot: {column}')\n",
    "#     axes[i].set_ylabel(column)\n",
    "    \n",
    "# plt.tight_layout()\n",
    "# plt.show()"
   ]
  },
  {
   "cell_type": "code",
   "execution_count": null,
   "id": "2cf83b1b",
   "metadata": {},
   "outputs": [],
   "source": [
    "# new_filt = complete_df[[ 'Type', 'Owner Occ?', 'Purchase Amt',\n",
    "#        'Amount Mortgaged', '% Borrowed', 'Mtg Tx Pd',\n",
    "#        'New Sales Tax Amount', 'Population', 'Median Age', 'Household Income',\n",
    "#        'Median Gross Rent']]\n",
    "\n",
    "# col_to_plot = ['Purchase Amt',\n",
    "#        'Amount Mortgaged', '% Borrowed', 'Mtg Tx Pd',\n",
    "#        'New Sales Tax Amount', 'Population', 'Household Income', 'Median Gross Rent']\n"
   ]
  },
  {
   "cell_type": "code",
   "execution_count": null,
   "id": "61ec95d3",
   "metadata": {},
   "outputs": [],
   "source": [
    "col_to_plot = []\n",
    "\n",
    "def plotscat(col_to_plot, df):\n",
    "    fig, axes = plt.subplots(nrows=len(col_to_plot), ncols=1, figsize=(8, 2 * len(col_to_plot)))\n",
    "    for i, column in enumerate(col_to_plot):\n",
    "        axes[i].scatter(df['Household Income'], df[column])\n",
    "        axes[i].set_title(f'Scatter Plot: Household Income vs {column}')\n",
    "        axes[i].set_xlabel('Household Income')\n",
    "        axes[i].set_ylabel(column)\n",
    "        plt.tight_layout()\n",
    "        plt.show()"
   ]
  },
  {
   "cell_type": "code",
   "execution_count": 5,
   "id": "9c339d53",
   "metadata": {},
   "outputs": [],
   "source": [
    "#NEED TO REWRITE THIS - BOOLEAN\n",
    "complete_df.drop('Type', axis=1, inplace=True)"
   ]
  },
  {
   "cell_type": "code",
   "execution_count": 6,
   "id": "657b349a",
   "metadata": {},
   "outputs": [],
   "source": [
    "#create new columns for % borrowed, total taxes paid and taxes as a percent of household income and taxes as a percent of gross rent\n",
    "\n",
    "#divide monetary amounts by 1000 to make the units per 1000\n",
    "complete_df['Zip'] = complete_df['Zipcode'].astype(str)\n",
    "complete_df['Tot tax pd'] = complete_df['Mtg Tx Pd'] + complete_df['Mansion Tax Pd']\n",
    "complete_df['Mtax as % Household Income'] = complete_df['Mtg Tx Pd']/complete_df['Household Income']* 100\n",
    "complete_df['Months rent spent on Mtax'] = complete_df['Median Gross Rent']/complete_df['Mtg Tx Pd']\n",
    "\n"
   ]
  },
  {
   "cell_type": "code",
   "execution_count": 7,
   "id": "34f02a45",
   "metadata": {
    "scrolled": true
   },
   "outputs": [],
   "source": [
    "complete_df[\"Purchase Amt\"] = complete_df[\"Purchase Amt\"] / 1000\n",
    "complete_df[\"Amount Mortgaged\"] = complete_df[\"Amount Mortgaged\"] / 1000\n",
    "complete_df[\"Mtg Tx Pd\"] = complete_df[\"Mtg Tx Pd\"] / 1000\n",
    "complete_df[\"Mansion Tax Pd\"] = complete_df[\"Mansion Tax Pd\"] / 1000\n",
    "complete_df[\"New Sales Tax Amount\"] = complete_df[\"New Sales Tax Amount\"] / 1000\n",
    "complete_df[\"Per Capita Income\"] = complete_df[\"Per Capita Income\"] / 1000"
   ]
  },
  {
   "cell_type": "code",
   "execution_count": 8,
   "id": "22201209",
   "metadata": {},
   "outputs": [
    {
     "data": {
      "text/plain": [
       "(2552, 21)"
      ]
     },
     "execution_count": 8,
     "metadata": {},
     "output_type": "execute_result"
    }
   ],
   "source": [
    "complete_df.shape"
   ]
  },
  {
   "cell_type": "code",
   "execution_count": 12,
   "id": "58e406e0",
   "metadata": {},
   "outputs": [
    {
     "data": {
      "text/plain": [
       "(1520, 21)"
      ]
     },
     "execution_count": 12,
     "metadata": {},
     "output_type": "execute_result"
    }
   ],
   "source": [
    "#Seperate the data into 4 dataframes, by areas and status\n",
    "\n",
    "bklyn_df = complete_df.loc[~complete_df['Zipcode'].isin([10013, 10007, 10282, 10453, 11355, 10457, 11368])]\n",
    "bklyn_investors = bklyn_df[(bklyn_df['Owner Occ?'] ==1)]\n",
    "bklyn_oocc = bklyn_df[(bklyn_df['Owner Occ?'] ==0)]\n",
    "\n"
   ]
  },
  {
   "cell_type": "code",
   "execution_count": 10,
   "id": "497e64b1",
   "metadata": {},
   "outputs": [
    {
     "data": {
      "text/plain": [
       "(95, 21)"
      ]
     },
     "execution_count": 10,
     "metadata": {},
     "output_type": "execute_result"
    }
   ],
   "source": [
    "bklyn_oocc.shape"
   ]
  },
  {
   "cell_type": "code",
   "execution_count": 11,
   "id": "46adc76f",
   "metadata": {},
   "outputs": [],
   "source": [
    "fourframes= [bklyn_oocc, bklyn_investors, high_low_oocc, high_low_investors]\n",
    "\n",
    "column_load = {'Count': 'sum', \"Population\": 'mean', 'Count': 'sum', 'Purchase Amt': 'mean',\n",
    "            '% Borrowed': 'mean',\n",
    "           'Amount Mortgaged': 'mean','Mtg Tx Pd': 'mean', 'Mtax as % Household Income': 'mean', \n",
    "            'Months rent spent on Mtax': 'mean',\n",
    "           'Mansion Tax Pd': 'mean', 'New Sales Tax Amount': 'mean', \n",
    "           'Per Capita Income': 'mean', 'Household Income': 'mean'}\n"
   ]
  },
  {
   "cell_type": "code",
   "execution_count": null,
   "id": "e5147f1b",
   "metadata": {
    "scrolled": true
   },
   "outputs": [],
   "source": [
    "bklyn_investors_by_zip = pd.DataFrame(data= bklyn_investors)\n",
    "bklyn_investors_by_zip = bklyn_investors_by_zip.groupby('Zip').agg(column_load)\n",
    "#bklyn_investors_by_zip = bklyn_investors_by_zip.applymap(\"{:.2f}\".format)\n",
    "bklyn_investors_by_zip.head()"
   ]
  },
  {
   "cell_type": "code",
   "execution_count": null,
   "id": "28afa50d",
   "metadata": {},
   "outputs": [],
   "source": [
    "bklyn_oocc_by_zip = pd.DataFrame(bklyn_oocc)\n",
    "bklyn_oocc_by_zip = bklyn_oocc_by_zip.groupby(['Zip'], axis=0).agg(column_load)\n",
    "#bklyn_oocc_by_zip = bklyn_oocc_by_zip.applymap(\"{:.2f}\".format)\n",
    "bklyn_oocc_by_zip.head()"
   ]
  },
  {
   "cell_type": "code",
   "execution_count": null,
   "id": "b622c917",
   "metadata": {},
   "outputs": [],
   "source": [
    "bklyn_oocc_by_zip.describe()"
   ]
  },
  {
   "cell_type": "code",
   "execution_count": null,
   "id": "19bf89bc",
   "metadata": {
    "scrolled": true
   },
   "outputs": [],
   "source": [
    "bklyn_investors_by_zip[['Count', 'Population', 'Purchase Amt', '% Borrowed',\n",
    "       'Amount Mortgaged', 'Mtg Tx Pd', 'Mansion Tax Pd',\n",
    "       'New Sales Tax Amount', 'Per Capita Income', 'Household Income']]=bklyn_investors_by_zip[['Count', 'Population', 'Purchase Amt', '% Borrowed',\n",
    "       'Amount Mortgaged', 'Mtg Tx Pd', 'Mansion Tax Pd',\n",
    "       'New Sales Tax Amount', 'Per Capita Income', 'Household Income']].astype('float64')\n",
    "bklyn_investors_by_zip.sort_values(by=['Household Income'], inplace=True)\n",
    "bklyn_investors_by_zip.head()"
   ]
  },
  {
   "cell_type": "code",
   "execution_count": null,
   "id": "d020f64a",
   "metadata": {},
   "outputs": [],
   "source": [
    "bklyn_oocc_by_zip[['Count', 'Population', 'Purchase Amt', '% Borrowed',\n",
    "       'Amount Mortgaged', 'Mtg Tx Pd', 'Mansion Tax Pd',\n",
    "       'New Sales Tax Amount', 'Per Capita Income', 'Household Income']]=bklyn_oocc_by_zip[['Count', 'Population', 'Purchase Amt', '% Borrowed',\n",
    "       'Amount Mortgaged', 'Mtg Tx Pd', 'Mansion Tax Pd',\n",
    "       'New Sales Tax Amount', 'Per Capita Income', 'Household Income']].astype('float64')\n",
    "bklyn_oocc_by_zip.sort_values(by=['Household Income'], inplace=True)\n",
    "bklyn_oocc_by_zip.head(20)"
   ]
  },
  {
   "cell_type": "code",
   "execution_count": null,
   "id": "c80f29ca",
   "metadata": {},
   "outputs": [],
   "source": [
    "bklyn_oocc_by_zip['mtg %'] = bklyn_oocc_by_zip['Amount Mortgaged']/bklyn_oocc_by_zip['Purchase Amt']*100\n",
    "bklyn_investors_by_zip['mtg %'] = bklyn_investors_by_zip['Amount Mortgaged']/bklyn_oocc_by_zip['Purchase Amt']*100\n",
    "bklyn_oocc_by_zip.head()\n"
   ]
  },
  {
   "cell_type": "code",
   "execution_count": null,
   "id": "551e52e7",
   "metadata": {},
   "outputs": [],
   "source": [
    "col_to_plot = ['Purchase Amt','% Borrowed', 'Amount Mortgaged',\n",
    "       'Mtg Tx Pd', 'Mtax as % Household Income', 'Months rent spent on Mtax',\n",
    "       'New Sales Tax Amount',\n",
    "       'mtg %']\n",
    "\n",
    "def plotscat(col_to_plot, df):\n",
    "    fig, axes = plt.subplots(nrows=len(col_to_plot), ncols=1, figsize=(8, 2 * len(col_to_plot)))\n",
    "    for i, column in enumerate(col_to_plot):\n",
    "        axes[i].scatter(df['Household Income'], df[column])\n",
    "        axes[i].set_title(f'Scatter Plot: Household Income vs {column}')\n",
    "        axes[i].set_xlabel('Household Income')\n",
    "        axes[i].set_ylabel(column)\n",
    "    plt.tight_layout()\n",
    "    plt.show()"
   ]
  },
  {
   "cell_type": "code",
   "execution_count": null,
   "id": "ca6feea8",
   "metadata": {
    "scrolled": true
   },
   "outputs": [],
   "source": [
    "plotscat(col_to_plot, bklyn_oocc_by_zip)"
   ]
  },
  {
   "cell_type": "code",
   "execution_count": null,
   "id": "ac5f27ac",
   "metadata": {},
   "outputs": [],
   "source": [
    "bklyn_oocc_by_zip.shape"
   ]
  },
  {
   "cell_type": "code",
   "execution_count": null,
   "id": "59c34747",
   "metadata": {
    "scrolled": true
   },
   "outputs": [],
   "source": [
    "\n",
    "plt.figure(figsize=(15,5))\n",
    "\n",
    "\n",
    "\n",
    "plt.plot(bklyn_oocc_by_zip['Household Income'], bklyn_oocc_by_zip['% Borrowed'], marker=\"x\", label='Bklyn Residence Purchase')\n",
    "plt.plot(bklyn_oocc_by_zip['Household Income'], bklyn_investors_by_zip['% Borrowed'], marker=\"o\", label='Bklyn Investment Purchase')\n",
    "plt.yticks(fontsize=15)\n",
    "plt.xlabel('Zipcode sorted by Household Income (in thousands)', fontsize=20)\n",
    "plt.ylabel('Percent Borrowed', fontsize=20)\n",
    "plt.title('Average Income vs. Average Percent Borrowed across Zipcodes in Brooklyn 2022', fontsize=20)\n",
    "plt.legend()\n",
    "plt.show()"
   ]
  },
  {
   "cell_type": "code",
   "execution_count": null,
   "id": "53b9c091",
   "metadata": {},
   "outputs": [],
   "source": [
    "plt.figure(figsize=(15,5))\n",
    "\n",
    "plt.plot(high_low_oocc_by_zip['Household Income'], high_low_oocc_by_zip['% Borrowed'], marker=\"x\", label='high_low Residence Purchase')\n",
    "plt.plot(high_low_oocc_by_zip['Household Income'], high_low_investors_by_zip['% Borrowed'], marker=\"o\", label='high_low Investment Purchase')\n",
    "#plt.plot(manhatt_oocc_df['Per Capita Income'], investor_by_zip[\"total_tax_paid\"], marker=\"o\", label='Total Tax Paid')\n",
    "#plt.xticks(high_low_oocc_df['Per Capita Income'], rotation=90)\n",
    "#plt.xticks(), fontsize=15, rotation='vertical')\n",
    "plt.yticks(fontsize=15)\n",
    "plt.xlabel('Zipcode sorted by Household Income (in thousands)', fontsize=20)\n",
    "plt.ylabel('Percent Borrowed', fontsize=20)\n",
    "plt.title('Average Income vs. Average Percent Borrowed across Zipcodes in Brooklyn 2022', fontsize=20)\n",
    "plt.legend()\n",
    "plt.show()"
   ]
  },
  {
   "cell_type": "code",
   "execution_count": null,
   "id": "db667bf8",
   "metadata": {},
   "outputs": [],
   "source": [
    "plt.figure(figsize=(15,5))\n",
    "\n",
    "plt.plot(high_low_oocc_by_zip['Per Capita Income'], yaxis, marker=\"x\", label='Bklyn Residence Purchase')\n",
    "plt.plot(high_low_oocc_by_zip['Per Capita Income'], high_low_investors_by_zip['% borrowed'], marker=\"o\", label='Bklyn Investment Purchase')\n",
    "    #plt.plot(manhatt_oocc_df['Per Capita Income'], investor_by_zip[\"total_tax_paid\"], marker=\"o\", label='Total Tax Paid')\n",
    "    #plt.xticks(bklyn_oocc_df['Per Capita Income'], rotation=90)\n",
    "    #plt.xticks(), fontsize=15, rotation='vertical')\n",
    "plt.yticks(fontsize=15)\n",
    "plt.xlabel('Zipcode sorted by Per Capita Income (in thousands)', fontsize=20)\n",
    "plt.ylabel('Percent Borrowed', fontsize=20)\n",
    "plt.title('Average Income vs. Average Percent Borrowed across Zipcodes in other 8 2022', fontsize=20)\n",
    "plt.legend()\n",
    "plt.show()"
   ]
  },
  {
   "cell_type": "code",
   "execution_count": null,
   "id": "6ec26997",
   "metadata": {},
   "outputs": [],
   "source": [
    "bklyn_sorted = bklyn_oocc_by_zip.sort_values('Per Capita Income')\n",
    "bklyn_sorted.head()\n",
    "\n",
    "# bklyn_oocc_by_zip.sort_values(['Per Capita Income'], inplace=True)\n",
    "# bklyn_oocc_by_zip"
   ]
  },
  {
   "cell_type": "code",
   "execution_count": null,
   "id": "108b6c20",
   "metadata": {},
   "outputs": [],
   "source": [
    "#make a chart of the % borrowed for the zip in ascending order but first sort dfs in order\n",
    "\n",
    "#fig = plt.figure()\n",
    "#ax1 = fig.add_subplot()\n",
    "\n",
    "\n",
    "\n",
    "bklyn_sorted.plot('Per Capita Income', '% borrowed')\n",
    "plt.show()\n",
    "\n",
    "#bklyn_oocc_by_zip.set_index(['Per Capita Income'), inplace = True)\n",
    "#bklyn_oocc_by_zip.sort_index()\n",
    "#bklyn_investors_by_zip.sort_values('Per Capita Income', inplace = True)\n",
    "#bklyn_investors_by_zip.sort_index()\n",
    "#bklyn_oocc_df['perCI'] = bklyn_oocc_df.index.astype(str)\n",
    "#manhattan_oocc_df.set_index('Per Capita Income', inplace = True)\n",
    "# #manhattan_investor_df.set_index('Per Capita Income', inplace = True)\n",
    "\n",
    "# graphaxis1 = pd.DataFrame(bklyn_oocc_by_zip['Per Capita Income'], ['% borrowed'])\n",
    "\n",
    "# plt.figure(figsize=(15,10))\n",
    "\n",
    "\n",
    "\n",
    "# plt.plot(graphaxis1['Per Capita Income'], graphaxis1['% borrowed'], marker=\"x\", label='Bklyn Residence Purchase')\n",
    "# #plt.plot(x = bklyn_investors_by_zip['Per Capita Income'], y =bklyn_investors_by_zip['% borrowed'], marker=\"o\", label='Bklyn Investment Purchase')\n",
    "# #plt.plot(manhatt_oocc_df['Per Capita Income'], investor_by_zip[\"total_tax_paid\"], marker=\"o\", label='Total Tax Paid')\n",
    "# #plt.xticks(bklyn_oocc_df['Per Capita Income'], rotation=90)\n",
    "# plt.xticks(['Per Capita Income'], fontsize=15, rotation='vertical')\n",
    "# plt.yticks(fontsize=15)\n",
    "# plt.xlabel('Zipcode sorted by Per Capita Income (in thousands)', fontsize=20)\n",
    "# plt.ylabel('Percent Borrowed', fontsize=20)\n",
    "# plt.title('Average Income vs. Average Percent Borrowed across Zipcodes in Brooklyn 2022', fontsize=20)\n",
    "# plt.legend()\n",
    "# plt.show()"
   ]
  },
  {
   "cell_type": "code",
   "execution_count": null,
   "id": "f6b40c47",
   "metadata": {},
   "outputs": [],
   "source": []
  },
  {
   "cell_type": "code",
   "execution_count": null,
   "id": "2ab5e2f3",
   "metadata": {},
   "outputs": [],
   "source": []
  },
  {
   "cell_type": "code",
   "execution_count": null,
   "id": "d306d801",
   "metadata": {},
   "outputs": [],
   "source": [
    "# bklyn_oocc = bklyn_oocc.groupby(['Zipcode']).agg({'Count': 'sum', 'Purchase Amt': 'mean', #                                                             'Purchase Down %': 'mean', '% borrowed': 'mean',\n",
    "#                                                             'Amount Mortgaged': 'mean', \n",
    "#                                                             'Mtg Tx Pd': 'mean', 'Mansion Tax Pd': 'mean', \n",
    "#                                                             'New Sales Tax Amount': 'mean', \n",
    "#                                                              'Per Capita Income': 'mean'})\n",
    "\n",
    "# bklyn_oocc = bklyn_oocc.applymap(\"{:.2f}\".format)\n",
    "# bklyn_oocc.head()"
   ]
  },
  {
   "cell_type": "code",
   "execution_count": null,
   "id": "cfd790b2",
   "metadata": {},
   "outputs": [],
   "source": [
    "high_low_oocc = high_low_oocc.groupby(['Zipcode']).agg({'Zipcode': 'Zipcode', \"Population\": 'mean', 'Count': 'sum', 'Purchase Amt': 'mean',\n",
    "           'Purchase Down %': 'mean', '% borrowed': 'mean',\n",
    "           'Amount Mortgaged': 'mean','Mtg Tx Pd': 'mean',\n",
    "           'Mansion Tax Pd': 'mean', 'New Sales Tax Amount': 'mean', \n",
    "           'Per Capita Income': 'mean'})\n",
    "\n",
    "high_low_oocc = high_low_oocc.applymap(\"{:.2f}\".format)\n",
    "high_low_oocc.head()"
   ]
  },
  {
   "cell_type": "code",
   "execution_count": null,
   "id": "0cb97d43",
   "metadata": {},
   "outputs": [],
   "source": [
    "#bklyn_oocc.set_index('Per Capita Income', inplace = True)\n",
    "bklyn_investors.set_index('Per Capita Income', inplace = True)\n",
    "# bklyn_oocc['perCI'] = bklyn_oocc.index.astype(str)\n",
    "# # manhattan_oocc_df.set_index('Per Capita Income', inplace = True)\n",
    "# # manhattan_investor_df.set_index('Per Capita Income', inplace = True)\n",
    "\n",
    "\n",
    "# plt.figure(figsize=(15,5))\n",
    "\n",
    "\n",
    "\n",
    "plt.plot(bklyn_oocc['Per Capita Income'], bklyn_oocc['percent borrowed'], marker=\"x\", label='Bklyn Residence Purchase')\n",
    "plt.plot(bklyn_oocc['perCI'], bklyn_investors['percent borrowed'], marker=\"o\", label='Bklyn Investment Purchase')\n",
    "# #plt.plot(manhatt_oocc_df['Per Capita Income'], investor_by_zip[\"total_tax_paid\"], marker=\"o\", label='Total Tax Paid')\n",
    "# #plt.xticks(bklyn_oocc_df['Per Capita Income'], rotation=90)\n",
    "# plt.xticks(range(len(bklyn_oocc['Zip'])), fontsize=15, rotation='vertical')\n",
    "# plt.yticks(fontsize=15)\n",
    "# plt.xlabel('Zipcode sorted by Per Capita Income (in thousands)', fontsize=20)\n",
    "# plt.ylabel('Percent Borrowed', fontsize=20)\n",
    "# plt.title('Average Income vs. Average Percent Borrowed across Zipcodes in Brooklyn 2022', fontsize=20)\n",
    "# plt.legend()\n",
    "# plt.show()\n",
    "\n",
    "bklyn_oocc.head()"
   ]
  },
  {
   "cell_type": "code",
   "execution_count": null,
   "id": "6f07ea52",
   "metadata": {},
   "outputs": [],
   "source": []
  },
  {
   "cell_type": "code",
   "execution_count": null,
   "id": "c33b3c29",
   "metadata": {},
   "outputs": [],
   "source": []
  },
  {
   "cell_type": "code",
   "execution_count": null,
   "id": "4d3a8da3",
   "metadata": {},
   "outputs": [],
   "source": []
  },
  {
   "cell_type": "code",
   "execution_count": null,
   "id": "89cd0c08",
   "metadata": {},
   "outputs": [],
   "source": []
  },
  {
   "cell_type": "code",
   "execution_count": null,
   "id": "71ebb562",
   "metadata": {},
   "outputs": [],
   "source": [
    "#the next few cells seperate the data into 4 data frames, first by owner \n",
    "2 for brooklyn, and two for the other zips.\n",
    "#each of these are then sp\n",
    "\n",
    "\n",
    "owner_occ_by_zip = owner_occ_df.groupby(['Zipcode']).agg({'Count': 'sum', 'Purchase Amt': 'mean', \n",
    "                                                            'Purchase Down %': 'mean',\n",
    "                                                            'Amount Mortgaged': 'mean', \n",
    "                                                            'Mtg Tx Pd': 'mean', 'Mansion Tax Pd': 'mean', \n",
    "                                                            'New Sales Tax Amount': 'mean', \n",
    "                                                            'Per Capita Income': 'mean'})\n",
    "\n",
    "\n",
    "owner_occ_by_zip[\"Purchase Amt\"] = owner_occ_by_zip[\"Purchase Amt\"] / 1000\n",
    "owner_occ_by_zip[\"Amount Mortgaged\"] = owner_occ_by_zip[\"Amount Mortgaged\"] / 1000\n",
    "owner_occ_by_zip[\"Mtg Tx Pd\"] = owner_occ_by_zip[\"Mtg Tx Pd\"] / 1000\n",
    "owner_occ_by_zip[\"Mansion Tax Pd\"] = owner_occ_by_zip[\"Mansion Tax Pd\"] / 1000\n",
    "owner_occ_by_zip[\"New Sales Tax Amount\"] = owner_occ_by_zip[\"New Sales Tax Amount\"] / 1000\n",
    "owner_occ_by_zip[\"Per Capita Income\"] = owner_occ_by_zip[\"Per Capita Income\"] / 1000\n",
    "\n",
    "owner_occ_by_zip[\"Purchase Amt\"] = owner_occ_by_zip[\"Purchase Amt\"].map(\"{:.2f}\".format)\n",
    "owner_occ_by_zip[\"Purchase Down %\"] = owner_occ_by_zip[\"Purchase Down %\"].map(\"{:.2f}\".format)\n",
    "owner_occ_by_zip[\"Amount Mortgaged\"] = owner_occ_by_zip[\"Amount Mortgaged\"].map(\"{:.2f}\".format)\n",
    "owner_occ_by_zip[\"Mtg Tx Pd\"] = owner_occ_by_zip[\"Mtg Tx Pd\"].map(\"{:.2f}\".format)\n",
    "owner_occ_by_zip[\"Mansion Tax Pd\"] = owner_occ_by_zip[\"Mansion Tax Pd\"].map(\"{:.2f}\".format)\n",
    "owner_occ_by_zip[\"New Sales Tax Amount\"] = owner_occ_by_zip[\"New Sales Tax Amount\"].map(\"{:.2f}\".format)\n",
    "owner_occ_by_zip[\"Per Capita Income\"] = owner_occ_by_zip[\"Per Capita Income\"].map(\"{:.2f}\".format)\n",
    "\n",
    "owner_occ_by_zip[\"Purchase Amt\"] = owner_occ_by_zip[\"Purchase Amt\"].astype(\"float\")\n",
    "owner_occ_by_zip[\"Purchase Down %\"] = owner_occ_by_zip[\"Purchase Down %\"].astype(\"float\")\n",
    "owner_occ_by_zip[\"Amount Mortgaged\"] = owner_occ_by_zip[\"Amount Mortgaged\"].astype(\"float\")\n",
    "owner_occ_by_zip[\"Mtg Tx Pd\"] = owner_occ_by_zip[\"Mtg Tx Pd\"].astype(\"float\")\n",
    "owner_occ_by_zip[\"Mansion Tax Pd\"] = owner_occ_by_zip[\"Mansion Tax Pd\"].astype(\"float\")\n",
    "owner_occ_by_zip[\"New Sales Tax Amount\"] = owner_occ_by_zip[\"New Sales Tax Amount\"].astype(\"float\")\n",
    "owner_occ_by_zip[\"Per Capita Income\"] = owner_occ_by_zip[\"Per Capita Income\"].astype(\"float\")"
   ]
  },
  {
   "cell_type": "code",
   "execution_count": null,
   "id": "2a8c5c5b",
   "metadata": {},
   "outputs": [],
   "source": [
    "investor_by_zip = investor_df.groupby(['Zipcode']).agg({'Count': 'sum', 'Purchase Amt': 'mean', \n",
    "                                                            'Purchase Down %': 'mean',\n",
    "                                                            'Amount Mortgaged': 'mean', \n",
    "                                                            'Mtg Tx Pd': 'mean', 'Mansion Tax Pd': 'mean', \n",
    "                                                            'New Sales Tax Amount': 'mean', \n",
    "                                                            'Per Capita Income': 'mean'})\n",
    "\n",
    "\n",
    "investor_by_zip[\"Purchase Amt\"] = investor_by_zip[\"Purchase Amt\"] / 1000\n",
    "investor_by_zip[\"Amount Mortgaged\"] = investor_by_zip[\"Amount Mortgaged\"] / 1000\n",
    "investor_by_zip[\"Mtg Tx Pd\"] = investor_by_zip[\"Mtg Tx Pd\"] / 1000\n",
    "investor_by_zip[\"Mansion Tax Pd\"] = investor_by_zip[\"Mansion Tax Pd\"] / 1000\n",
    "investor_by_zip[\"New Sales Tax Amount\"] = investor_by_zip[\"New Sales Tax Amount\"] / 1000\n",
    "investor_by_zip[\"Per Capita Income\"] = investor_by_zip[\"Per Capita Income\"] / 1000\n",
    "\n",
    "investor_by_zip[\"Purchase Amt\"] = investor_by_zip[\"Purchase Amt\"].map(\"{:.2f}\".format)\n",
    "investor_by_zip[\"Purchase Down %\"] = investor_by_zip[\"Purchase Down %\"].map(\"{:.2f}\".format)\n",
    "investor_by_zip[\"Amount Mortgaged\"] = investor_by_zip[\"Amount Mortgaged\"].map(\"{:.2f}\".format)\n",
    "investor_by_zip[\"Mtg Tx Pd\"] = investor_by_zip[\"Mtg Tx Pd\"].map(\"{:.2f}\".format)\n",
    "investor_by_zip[\"Mansion Tax Pd\"] = investor_by_zip[\"Mansion Tax Pd\"].map(\"{:.2f}\".format)\n",
    "investor_by_zip[\"New Sales Tax Amount\"] = investor_by_zip[\"New Sales Tax Amount\"].map(\"{:.2f}\".format)\n",
    "investor_by_zip[\"Per Capita Income\"] = investor_by_zip[\"Per Capita Income\"].map(\"{:.2f}\".format)\n",
    "\n",
    "investor_by_zip[\"Purchase Amt\"] = investor_by_zip[\"Purchase Amt\"].astype(\"float\")\n",
    "investor_by_zip[\"Purchase Down %\"] = investor_by_zip[\"Purchase Down %\"].astype(\"float\")\n",
    "investor_by_zip[\"Amount Mortgaged\"] = investor_by_zip[\"Amount Mortgaged\"].astype(\"float\")\n",
    "investor_by_zip[\"Mtg Tx Pd\"] = investor_by_zip[\"Mtg Tx Pd\"].astype(\"float\")\n",
    "investor_by_zip[\"Mansion Tax Pd\"] = investor_by_zip[\"Mansion Tax Pd\"].astype(\"float\")\n",
    "investor_by_zip[\"New Sales Tax Amount\"] = investor_by_zip[\"New Sales Tax Amount\"].astype(\"float\")\n",
    "investor_by_zip[\"Per Capita Income\"] = investor_by_zip[\"Per Capita Income\"].astype(\"float\")"
   ]
  },
  {
   "cell_type": "code",
   "execution_count": null,
   "id": "e2a5b91e",
   "metadata": {},
   "outputs": [],
   "source": [
    "owner_occ_by_zip[\"total_tax_paid\"] = owner_occ_by_zip[\"Mtg Tx Pd\"] + owner_occ_by_zip[\"Mansion Tax Pd\"]\n",
    "owner_occ_by_zip['percent borrowed'] = 100 - owner_occ_by_zip['Purchase Down %']\n",
    "owner_occ_by_zip['mtg tax as % of med income'] = owner_occ_by_zip['total_tax_paid']/owner_occ_by_zip['Per Capita Income'] *100\n",
    "owner_occ_by_zip['sales tax as % of med income'] = owner_occ_by_zip['New Sales Tax Amount']/owner_occ_by_zip['Per Capita Income'] *100\n",
    "owner_occ_by_zip.head(2)"
   ]
  },
  {
   "cell_type": "code",
   "execution_count": null,
   "id": "aaea4274",
   "metadata": {},
   "outputs": [],
   "source": [
    "investor_by_zip[\"total_tax_paid\"] = investor_by_zip[\"Mtg Tx Pd\"] + investor_by_zip[\"Mansion Tax Pd\"]\n",
    "investor_by_zip['percent borrowed'] = 100 - investor_by_zip['Purchase Down %']\n",
    "investor_by_zip['mtg tax as % of med income'] = investor_by_zip['total_tax_paid']/investor_by_zip['Per Capita Income'] *100\n",
    "investor_by_zip['sales tax as % of med income'] = investor_by_zip['New Sales Tax Amount']/investor_by_zip['Per Capita Income'] *100\n",
    "investor_by_zip.head(2)"
   ]
  },
  {
   "cell_type": "code",
   "execution_count": null,
   "id": "3df665e8",
   "metadata": {},
   "outputs": [],
   "source": [
    "investor_by_zip.dtypes"
   ]
  },
  {
   "cell_type": "code",
   "execution_count": null,
   "id": "822d37fa",
   "metadata": {},
   "outputs": [],
   "source": [
    "zipcode_list = investor_by_zip.index.values.astype(\"str\")\n",
    "zipcode_list"
   ]
  },
  {
   "cell_type": "markdown",
   "id": "c95ec397",
   "metadata": {},
   "source": [
    "## zipcodes of Manhattan: 10013, 10007, 10118, 10282, 10453, 11355, 10457, 11368\n",
    "## The rest of zipcodes are in Brooklyn."
   ]
  },
  {
   "cell_type": "code",
   "execution_count": null,
   "id": "18cb3f1e",
   "metadata": {},
   "outputs": [],
   "source": [
    "\n",
    "manhattan_investor_df = investor_by_zip.loc[[10013, 10007, 10282, 10453, 11355, 10457, 11368], :].sort_values(\"Purchase Amt\", ascending=False)\n",
    "print(manhattan_df.shape)\n",
    "manhattan_investor_df.head(8)"
   ]
  },
  {
   "cell_type": "code",
   "execution_count": null,
   "id": "24b139ec",
   "metadata": {},
   "outputs": [],
   "source": [
    "manhattan_oocc_df = owner_occ_by_zip.loc[[10013, 10007, 10282, 10453, 11355, 10457, 11368], :].sort_values(\"Purchase Amt\", ascending=False)\n",
    "print(manhattan_oocc_df.shape)\n",
    "manhattan_oocc_df.head(8)"
   ]
  },
  {
   "cell_type": "code",
   "execution_count": null,
   "id": "8fd4440a",
   "metadata": {
    "scrolled": true
   },
   "outputs": [],
   "source": [
    "bklyn_investor_df = investor_by_zip.drop([10013, 10007, 10282, 10453, 11355, 10457, 11368], axis = 0)\n",
    "bklyn_investor_df = bklyn_investor_df.sort_values(\"Purchase Amt\", ascending=False)\n",
    "print(bklyn_investor_df.shape)\n",
    "bklyn_investor_df.head(8)"
   ]
  },
  {
   "cell_type": "code",
   "execution_count": null,
   "id": "632f6715",
   "metadata": {},
   "outputs": [],
   "source": [
    "bklyn_oocc_df = owner_occ_by_zip.drop([10013, 10007, 10282, 10453, 11355, 10457, 11368], axis = 0)\n",
    "bklyn_oocc_df = bklyn_oocc_df.sort_values(\"Purchase Amt\", ascending=False)\n",
    "print(bklyn_oocc_df.shape)\n",
    "bklyn_oocc_df.head()"
   ]
  },
  {
   "cell_type": "code",
   "execution_count": null,
   "id": "95370c9b",
   "metadata": {},
   "outputs": [],
   "source": [
    "\n",
    "bklyn_oocc_df.set_index('Per Capita Income', inplace = True)\n",
    "#bklyn_oocc_df['Zip'] = bklyn_oocc_df.index.astype(str)\n",
    "\n",
    "bklyn_oocc_df.head(20)"
   ]
  },
  {
   "cell_type": "code",
   "execution_count": null,
   "id": "b6b79d8a",
   "metadata": {},
   "outputs": [],
   "source": [
    "#make a chart of the % borrowed for the zip in ascending order but first sort dfs in order\n",
    "\n",
    "bklyn_oocc_df.set_index('Per Capita Income', inplace = True)\n",
    "bklyn_investor_df.set_index('Per Capita Income', inplace = True)\n",
    "bklyn_oocc_df['perCI'] = bklyn_oocc_df.index.astype(str)\n",
    "manhattan_oocc_df.set_index('Per Capita Income', inplace = True)\n",
    "manhattan_investor_df.set_index('Per Capita Income', inplace = True)\n",
    "\n",
    "\n",
    "plt.figure(figsize=(15,5))\n",
    "\n",
    "\n",
    "\n",
    "plt.plot(bklyn_oocc_df['perCI'], bklyn_oocc_df['percent borrowed'], marker=\"x\", label='Bklyn Residence Purchase')\n",
    "plt.plot(bklyn_oocc_df['perCI'], bklyn_investor_df['percent borrowed'], marker=\"o\", label='Bklyn Investment Purchase')\n",
    "#plt.plot(manhatt_oocc_df['Per Capita Income'], investor_by_zip[\"total_tax_paid\"], marker=\"o\", label='Total Tax Paid')\n",
    "#plt.xticks(bklyn_oocc_df['Per Capita Income'], rotation=90)\n",
    "plt.xticks(range(len(bklyn_oocc_df['Zip'])), fontsize=15, rotation='vertical')\n",
    "plt.yticks(fontsize=15)\n",
    "plt.xlabel('Zipcode sorted by Per Capita Income (in thousands)', fontsize=20)\n",
    "plt.ylabel('Percent Borrowed', fontsize=20)\n",
    "plt.title('Average Income vs. Average Percent Borrowed across Zipcodes in Brooklyn 2022', fontsize=20)\n",
    "plt.legend()\n",
    "plt.show()"
   ]
  },
  {
   "cell_type": "code",
   "execution_count": null,
   "id": "1238f912",
   "metadata": {},
   "outputs": [],
   "source": []
  },
  {
   "cell_type": "code",
   "execution_count": null,
   "id": "dc883a96",
   "metadata": {},
   "outputs": [],
   "source": [
    "\n",
    "plt.figure(figsize=(10,5))\n",
    "\n",
    "plt.plot(manhattan_oocc_df['Zip'], manhattan_oocc_df['percent borrowed'], marker=\"x\", label='manhattan Residence Purchase')\n",
    "plt.plot(manhattan_investor_df['Zip'], manhattan_investor_df['percent borrowed'], marker=\"o\", label='manhattan Investment Purchase')\n",
    "plt.xticks(fontsize=15, rotation='vertical')\n",
    "plt.yticks(fontsize=15)\n",
    "plt.xlabel('Zipcode sorted by Per Capita Income', fontsize=20)\n",
    "plt.ylabel('Percent Borrowed', fontsize=20)\n",
    "plt.title('Average Income vs. Average Percent Borrowed across Zipcodes in Brooklyn 2022', fontsize=20)\n",
    "plt.legend()\n",
    "plt.show()"
   ]
  },
  {
   "cell_type": "code",
   "execution_count": null,
   "id": "6163af53",
   "metadata": {},
   "outputs": [],
   "source": [
    "#make a chart of the % borrowed for the zip in ascending order but first sort dfs in order\n",
    "bklyn_oocc_df.sort_values(by =['Per Capita Income'], inplace=True)\n",
    "bklyn_oocc_df['Zip'] = bklyn_oocc_df.index.astype(str)\n",
    "bklyn_investor_df.sort_values(by =['Per Capita Income'], inplace=True)\n",
    "bklyn_investor_df['Zip'] = bklyn_investor_df.index.astype(str)\n",
    "manhattan_oocc_df.sort_values(by =['Per Capita Income'], inplace=True)\n",
    "manhattan_oocc_df['Zip'] = manhattan_oocc_df.index.astype(str)\n",
    "manhattan_investor_df.sort_values(by =['Per Capita Income'], inplace=True)\n",
    "manhattan_investor_df['Zip'] = manhattan_investor_df.index.astype(str)\n",
    "\n",
    "manhattan_investor_df.head(20)\n",
    "\n",
    "plt.figure(figsize=(15,5))\n",
    "\n",
    "plt.plot(bklyn_oocc_df['Zip'], bklyn_oocc_df['mtg tax as % of med income'], marker=\"x\", label='Mtg tax as % of med income')\n",
    "plt.plot(bklyn_investor_df['Zip'], bklyn_investor_df['percent borrowed'], marker=\"o\", label='Sales tax as % of med income')\n",
    "#plt.plot(manhatt_oocc_df['Per Capita Income'], investor_by_zip[\"total_tax_paid\"], marker=\"o\", label='Total Tax Paid')\n",
    "#plt.xticks(bklyn_oocc_df['Per Capita Income'], rotation=90)\n",
    "plt.xticks(fontsize=15, rotation='vertical')\n",
    "plt.yticks(fontsize=15)\n",
    "plt.xlabel('Zipcode sorted by Per Capita Income', fontsize=20)\n",
    "plt.ylabel('Percent Borrowed', fontsize=20)\n",
    "plt.title('Average Income vs. Average Percent Borrowed across Zipcodes in Brooklyn 2022', fontsize=20)\n",
    "plt.legend()\n",
    "plt.show()"
   ]
  },
  {
   "cell_type": "code",
   "execution_count": null,
   "id": "7d8159e3",
   "metadata": {},
   "outputs": [],
   "source": []
  },
  {
   "cell_type": "code",
   "execution_count": null,
   "id": "51889011",
   "metadata": {},
   "outputs": [],
   "source": [
    "plt.figure(figsize=(20,5))\n",
    "\n",
    "plt.plot(zipcode_list, investor_by_zip[\"Per Capita Income\"], marker=\"o\", label='Per Capita Income')\n",
    "plt.plot(zipcode_list, investor_by_zip[\"Purchase Amt\"], marker=\"o\", label='Purchase Amountt')\n",
    "plt.plot(zipcode_list, investor_by_zip[\"total_tax_paid\"], marker=\"o\", label='Total Tax Paid')\n",
    "plt.xticks(zipcode_list, rotation=90)\n",
    "plt.xticks(fontsize=15)\n",
    "plt.yticks(fontsize=15)\n",
    "plt.xlabel('Zipcode', fontsize=20)\n",
    "plt.ylabel('Purchase Amount (in thousands)', fontsize=20)\n",
    "plt.title('Average Income v.s. Average Purchase Amount across Zipcodes in NYC', fontsize=20)\n",
    "plt.legend()\n",
    "plt.show()"
   ]
  },
  {
   "cell_type": "markdown",
   "id": "63a969c1",
   "metadata": {},
   "source": [
    "## Generate Manhattan dataframe"
   ]
  },
  {
   "cell_type": "code",
   "execution_count": null,
   "id": "0b402168",
   "metadata": {},
   "outputs": [],
   "source": [
    "mindex_list = manhattan_df.index.values\n",
    "\n",
    "for zipcode in mindex_list:\n",
    "    manhattan_df.rename(index={zipcode: str(zipcode)}, inplace=True)\n",
    "\n",
    "manhattan_df.index.name = \"Manhattan Zipcode\"\n",
    "\n",
    "mindex_list = manhattan_df.index.values \n",
    "mindex_list"
   ]
  },
  {
   "cell_type": "code",
   "execution_count": null,
   "id": "aaa4a062",
   "metadata": {},
   "outputs": [],
   "source": [
    "species = mindex_list\n",
    "\n",
    "housing_data = {\n",
    "    'Purchase Amt': manhattan_df[\"Purchase Amt\"].values,\n",
    "    'Amount Mortgaged': manhattan_df[\"Amount Mortgaged\"].values,\n",
    "    'Per Capita Income': manhattan_df[\"Per Capita Income\"].values,\n",
    "}\n",
    "\n",
    "x = np.arange(len(species))  # the label locations\n",
    "width = 0.25  # the width of the bars\n",
    "multiplier = 0\n",
    "\n",
    "fig, ax = plt.subplots(figsize=(15,6))\n",
    "\n",
    "for attribute, measurement in housing_data.items():\n",
    "    offset = width * multiplier\n",
    "    rects = ax.bar(x + offset, measurement, width, label=attribute)\n",
    "    #ax.bar_label(rects, padding=3)\n",
    "    multiplier += 1\n",
    "\n",
    "# Add some text for labels, title and custom x-axis tick labels, etc.\n",
    "ax.set_ylabel('Dollar Amount', fontsize=13)\n",
    "ax.set_title('Purchase & Mortgage (in thousands) Per Capita Income (in thousands)', fontsize=13)\n",
    "ax.set_xticks(x + width, species)\n",
    "ax.set_xlabel(\"Manhattan Zipcode\", fontsize=13)\n",
    "ax.legend(loc='upper left', ncols=3)\n",
    "ax.set_ylim(0, 500)\n",
    "plt.suptitle('Purchase Amount v.s. Amount Mortgaged v.s. Per Capita Income in Manhattan', fontsize=15)\n",
    "plt.show()"
   ]
  },
  {
   "cell_type": "code",
   "execution_count": null,
   "id": "0d8e57fb",
   "metadata": {},
   "outputs": [],
   "source": [
    "fig = plt.figure() # Create matplotlib figure\n",
    "\n",
    "ax = fig.add_subplot(111) # Create matplotlib axes\n",
    "ax2 = ax.twinx() # Create another axes that shares the same x-axis as ax.\n",
    "\n",
    "width = 0.4\n",
    "\n",
    "manhattan_df[\"Per Capita Income\"].plot(kind='bar', color='Orange', ax=ax, width=width, position=1)\n",
    "manhattan_df[\"total_tax_paid\"].plot(kind='bar', color='green', ax=ax2, width=width, position=0)\n",
    "\n",
    "ax.set_ylabel('Per Capita Income in Thousands')\n",
    "ax2.set_ylabel('Total Taxes paid')\n",
    "ax.set_title('Scale to the left for Income and to the right for Taxes (in thousands)')\n",
    "plt.suptitle('Per Capita Income v.s. Total Taxes paid',fontsize=15, y=1)\n",
    "ax.legend()\n",
    "ax2.legend(loc=9)\n",
    "\n",
    "plt.show()"
   ]
  },
  {
   "cell_type": "markdown",
   "id": "10797ab9",
   "metadata": {},
   "source": [
    "## Generate Broolyn dataframe"
   ]
  },
  {
   "cell_type": "code",
   "execution_count": null,
   "id": "72bbeb08",
   "metadata": {},
   "outputs": [],
   "source": [
    "brooklyn_df = investor_by_zip.drop([10013, 10007, 10282, 10453, 11355, 10457, 11368], axis=0)\\\n",
    "                            .sort_values(\"Purchase Amt\", ascending=False).reset_index()\n",
    "print(brooklyn_df.shape)\n",
    "\n",
    "top5_brooklyn_df = brooklyn_df.loc[0:4]\n",
    "\n",
    "top5_brooklyn_df.set_index([\"Zipcode\"], inplace=True)\n",
    "top5_brooklyn_df"
   ]
  },
  {
   "cell_type": "code",
   "execution_count": null,
   "id": "fa79f4b2",
   "metadata": {},
   "outputs": [],
   "source": [
    "# index_list = top5_brooklyn_df.index.values\n",
    "\n",
    "# for zipcode in index_list:\n",
    "#     top5_brooklyn_df.rename(index={zipcode: str(zipcode)}, inplace=True)\n",
    "\n",
    "# top5_brooklyn_df.index.name = \"Brooklyn Top 5 Zipcode\"\n",
    "\n",
    "index_list = top5_brooklyn_df.index.values.astype(\"str\")\n",
    "index_list"
   ]
  },
  {
   "cell_type": "code",
   "execution_count": null,
   "id": "86c00664",
   "metadata": {},
   "outputs": [],
   "source": [
    "species = index_list\n",
    "\n",
    "housing_data = {\n",
    "    'Purchase Amt': top5_brooklyn_df[\"Purchase Amt\"].values,\n",
    "    'Amount Mortgaged': top5_brooklyn_df[\"Amount Mortgaged\"].values,\n",
    "    'Per Capita Income': top5_brooklyn_df[\"Per Capita Income\"].values,\n",
    "}\n",
    "\n",
    "x = np.arange(len(species))  # the label locations\n",
    "width = 0.25  # the width of the bars\n",
    "multiplier = 0\n",
    "\n",
    "fig, ax = plt.subplots(figsize=(15,6))\n",
    "\n",
    "for attribute, measurement in housing_data.items():\n",
    "    offset = width * multiplier\n",
    "    rects = ax.bar(x + offset, measurement, width, label=attribute)\n",
    "    #ax.bar_label(rects, padding=3)\n",
    "    multiplier += 1\n",
    "\n",
    "# Add some text for labels, title and custom x-axis tick labels, etc.\n",
    "ax.set_ylabel('Dollar Amount', fontsize=13)\n",
    "ax.set_title('Purchase & Mortgage (in thousands) Per Capita Income (in thousands)', fontsize=13)\n",
    "ax.set_xticks(x + width, species)\n",
    "ax.set_xlabel(\"Brooklyn Top 5 Zipcode\", fontsize=13)\n",
    "ax.legend(loc='upper left', ncols=3)\n",
    "ax.set_ylim(0, 250)\n",
    "plt.suptitle('Top 5 Purchase Amount v.s. Amount Mortgaged v.s. Per Capita Income in Brooklyn', fontsize=15)\n",
    "plt.show()"
   ]
  },
  {
   "cell_type": "markdown",
   "id": "6394c027",
   "metadata": {},
   "source": [
    "## Line Chart Brooklyn - showing the amount borrowed by income level"
   ]
  },
  {
   "cell_type": "code",
   "execution_count": null,
   "id": "557fadd1",
   "metadata": {},
   "outputs": [],
   "source": [
    "complete_df.shape"
   ]
  },
  {
   "cell_type": "code",
   "execution_count": null,
   "id": "50fe8878",
   "metadata": {},
   "outputs": [],
   "source": [
    "brooklyn_complete = complete_df.drop([10013, 10007, 10282, 10453, 11355, 10457, 11368], axis=0)\n",
    "brooklyn_complete.shape"
   ]
  },
  {
   "cell_type": "code",
   "execution_count": null,
   "id": "546c94b8",
   "metadata": {},
   "outputs": [],
   "source": [
    "brooklyn_by_zip = brooklyn_complete.groupby(['Zipcode']).agg({'Count': 'sum', 'Purchase Amt': 'mean', \n",
    "                                                            'Purchase Down %': 'mean',\n",
    "                                                            'Amount Mortgaged': 'mean', \n",
    "                                                            'Mtg Tx Pd': 'mean', 'Mansion Tax Pd': 'mean', \n",
    "                                                            'New Sales Tax Amount': 'mean', \n",
    "                                                            'Per Capita Income': 'mean'})\n",
    "brooklyn_by_zip.shape"
   ]
  },
  {
   "cell_type": "code",
   "execution_count": null,
   "id": "73b97888",
   "metadata": {},
   "outputs": [],
   "source": [
    "brooklyn_by_zip_income_level = brooklyn_by_zip.sort_values(\"Per Capita Income\")\n",
    "brooklyn_by_zip_income_level.head()"
   ]
  },
  {
   "cell_type": "code",
   "execution_count": null,
   "id": "6f05a92d",
   "metadata": {},
   "outputs": [],
   "source": [
    "brooklyn_by_zip_income_level['Zipcode'] = brooklyn_by_zip_income_level.index\n",
    "final_brooklyn_by_zip_income_level = brooklyn_by_zip_income_level.set_index(\"Per Capita Income\")\n",
    "final_brooklyn_by_zip_income_level.head()"
   ]
  },
  {
   "cell_type": "code",
   "execution_count": null,
   "id": "6e62418f",
   "metadata": {},
   "outputs": [],
   "source": [
    "investor_df = complete_df[(complete_df['Owner Occ?'] ==1)]\n",
    "investor_df.shape"
   ]
  },
  {
   "cell_type": "code",
   "execution_count": null,
   "id": "24051cce",
   "metadata": {},
   "outputs": [],
   "source": [
    "investor_index = investor_df.drop([10013, 10007, 10282, 10453, 11355, 10457, 11368], axis=0)\n",
    "investor_index.shape"
   ]
  },
  {
   "cell_type": "code",
   "execution_count": null,
   "id": "ca3c1846",
   "metadata": {},
   "outputs": [],
   "source": [
    "investor_by_zip = investor_index.groupby(['Zipcode']).agg({'Count': 'sum', 'Purchase Amt': 'mean', \n",
    "                                                            'Purchase Down %': 'mean',\n",
    "                                                            'Amount Mortgaged': 'mean', \n",
    "                                                            'Mtg Tx Pd': 'mean', 'Mansion Tax Pd': 'mean', \n",
    "                                                            'New Sales Tax Amount': 'mean', \n",
    "                                                            'Per Capita Income': 'mean'})\n",
    "investor_by_zip.shape"
   ]
  },
  {
   "cell_type": "code",
   "execution_count": null,
   "id": "40f8a945",
   "metadata": {},
   "outputs": [],
   "source": [
    "investor_income_level = investor_by_zip.sort_values(\"Per Capita Income\")\n",
    "investor_income_level.head()"
   ]
  },
  {
   "cell_type": "code",
   "execution_count": null,
   "id": "0c26800a",
   "metadata": {},
   "outputs": [],
   "source": [
    "home_owner_df = complete_df[(complete_df['Owner Occ?'] ==0)]\n",
    "home_owner_df.shape"
   ]
  },
  {
   "cell_type": "code",
   "execution_count": null,
   "id": "5c7bae4e",
   "metadata": {},
   "outputs": [],
   "source": [
    "home_owner_df = complete_df[(complete_df['Owner Occ?'] ==0)]\n",
    "home_owner_df.shape "
   ]
  },
  {
   "cell_type": "code",
   "execution_count": null,
   "id": "4b17bddb",
   "metadata": {},
   "outputs": [],
   "source": [
    "home_owner_df = complete_df[(complete_df['Owner Occ?'] ==0)]\n",
    "zip_codes_to_drop = [10013, 10007, 10282, 10453, 11355, 10457, 11368]\n",
    "home_owner_index = home_owner_df[~home_owner_df['Zipcode'].isin(zip_codes_to_drop)]\n",
    "home_owner_index.shape"
   ]
  },
  {
   "cell_type": "code",
   "execution_count": null,
   "id": "ceeece17",
   "metadata": {},
   "outputs": [],
   "source": [
    "home_owner_by_zip = home_owner_index.groupby(['Zipcode']).agg({'Count': 'sum', 'Purchase Amt': 'mean', \n",
    "                                                             'Purchase Down %': 'mean',\n",
    "                                                             'Amount Mortgaged': 'mean', \n",
    "                                                             'Mtg Tx Pd': 'mean', 'Mansion Tax Pd': 'mean', \n",
    "                                                             'New Sales Tax Amount': 'mean', \n",
    "                                                             'Per Capita Income': 'mean'})\n",
    "home_owner_by_zip.shape"
   ]
  },
  {
   "cell_type": "code",
   "execution_count": null,
   "id": "bc83462c",
   "metadata": {},
   "outputs": [],
   "source": [
    "home_owner_by_zip_income_level = home_owner_by_zip.sort_values(\"Per Capita Income\")\n",
    "home_owner_by_zip_income_level.head()"
   ]
  },
  {
   "cell_type": "code",
   "execution_count": null,
   "id": "30dc6974",
   "metadata": {},
   "outputs": [],
   "source": [
    "columns_to_select = ['Column1', 'Column2', 'Column3']"
   ]
  },
  {
   "cell_type": "code",
   "execution_count": null,
   "id": "42c87da6",
   "metadata": {},
   "outputs": [],
   "source": [
    "plt.figure(figsize=(20,5))\n",
    "\n",
    "x_axis = brooklyn_by_zip_income_level['Zipcode'] \n",
    "y_axis = brooklyn_by_zip_income_level['Amount Mortgaged']\n",
    "plt.bar(x_axis, y_axis, color='r', alpha=0.5, align=\"center\")\n",
    "# plt.plot(brooklyn_by_zip_income_level['Zipcode'], brooklyn_by_zip_income_level['Amount Mortgaged'], marker=\"o\", label='Total Brooklyn Populaiton')\n",
    "# plt.plot(zipcode_list, investor_by_zip[\"Purchase Amt\"], marker=\"o\", label='Purchase Amountt')\n",
    "# plt.plot(zipcode_list, investor_by_zip[\"total_tax_paid\"], marker=\"o\", label='Total Tax Paid')\n",
    "\n",
    "plt.xticks(x_axis, rotation=90)\n",
    "plt.xticks(fontsize=15)\n",
    "plt.yticks(fontsize=15)\n",
    "plt.xlabel('Zipcode (Income=Lowest to Highest)', fontsize=20)\n",
    "plt.ylabel('Purchase Amount (in thousands)', fontsize=20)\n",
    "plt.title('Amount Mrtgaged vs Average Income Level by Zipcode', fontsize=20)\n",
    "plt.legend()\n",
    "plt.show()\n"
   ]
  },
  {
   "cell_type": "code",
   "execution_count": null,
   "id": "5fcbf346",
   "metadata": {},
   "outputs": [],
   "source": [
    "# plt.figure(figsize=(20,5))\n",
    "\n",
    "# plt.plot(zipcode_list, investor_by_zip[\"Per Capita Income\"], marker=\"o\", label='Per Capita Income')\n",
    "# plt.plot(zipcode_list, investor_by_zip[\"Purchase Amt\"], marker=\"o\", label='Purchase Amountt')\n",
    "# plt.plot(zipcode_list, investor_by_zip[\"total_tax_paid\"], marker=\"o\", label='Total Tax Paid')\n",
    "# plt.xticks(zipcode_list, rotation=90)\n",
    "# plt.xticks(fontsize=15)\n",
    "# plt.yticks(fontsize=15)\n",
    "# plt.xlabel('Zipcode', fontsize=20)\n",
    "# plt.ylabel('Purchase Amount (in thousands)', fontsize=20)\n",
    "# plt.title('Average Income v.s. Average Purchase Amount across Zipcodes in NYC', fontsize=20)\n",
    "# plt.legend()\n",
    "# plt.show()"
   ]
  },
  {
   "cell_type": "code",
   "execution_count": null,
   "id": "cf0e881a",
   "metadata": {},
   "outputs": [],
   "source": []
  }
 ],
 "metadata": {
  "kernelspec": {
   "display_name": "Python 3 (ipykernel)",
   "language": "python",
   "name": "python3"
  },
  "language_info": {
   "codemirror_mode": {
    "name": "ipython",
    "version": 3
   },
   "file_extension": ".py",
   "mimetype": "text/x-python",
   "name": "python",
   "nbconvert_exporter": "python",
   "pygments_lexer": "ipython3",
   "version": "3.10.13"
  }
 },
 "nbformat": 4,
 "nbformat_minor": 5
}
