{
 "cells": [
  {
   "cell_type": "code",
   "execution_count": 1,
   "id": "2cd6d257",
   "metadata": {},
   "outputs": [
    {
     "name": "stdout",
     "output_type": "stream",
     "text": [
      "Requirement already satisfied: plotly in /Users/sarahdemmon/anaconda3/lib/python3.11/site-packages (5.18.0)\r\n",
      "Requirement already satisfied: tenacity>=6.2.0 in /Users/sarahdemmon/anaconda3/lib/python3.11/site-packages (from plotly) (8.2.2)\r\n",
      "Requirement already satisfied: packaging in /Users/sarahdemmon/anaconda3/lib/python3.11/site-packages (from plotly) (23.0)\r\n"
     ]
    }
   ],
   "source": [
    "!pip install plotly"
   ]
  },
  {
   "cell_type": "code",
   "execution_count": 2,
   "id": "0f7d4f23",
   "metadata": {},
   "outputs": [],
   "source": [
    "import pandas as pd\n",
    "import numpy as np\n",
    "from scipy import stats\n",
    "import matplotlib.pyplot as plt\n",
    "import warnings\n",
    "import json\n",
    "import plotly\n",
    "import plotly.express as px\n",
    "from urllib.request import urlopen\n",
    "import seaborn as sns"
   ]
  },
  {
   "cell_type": "code",
   "execution_count": 3,
   "id": "507b3895",
   "metadata": {},
   "outputs": [
    {
     "name": "stdout",
     "output_type": "stream",
     "text": [
      "(2997, 14)\n"
     ]
    },
    {
     "data": {
      "text/plain": [
       "Index(['Count', 'Zipcode', 'Type', 'Owner Occ?', 'Purchase Down %',\n",
       "       'Purchase Amt', 'Amount Mortgaged', 'Mtg Tx Pd', 'Mansion Tax Pd',\n",
       "       'New Sales Tax Amount', 'Population', 'Median Age', 'Household Income',\n",
       "       'Median Gross Rent'],\n",
       "      dtype='object')"
      ]
     },
     "execution_count": 3,
     "metadata": {},
     "output_type": "execute_result"
    }
   ],
   "source": [
    "complete_df = pd.read_csv('Final/final.csv')\n",
    "print(complete_df.shape)\n",
    "complete_df.columns"
   ]
  },
  {
   "cell_type": "code",
   "execution_count": 4,
   "id": "e52bd68c",
   "metadata": {},
   "outputs": [],
   "source": [
    "# complete_filtered = pd.DataFrame(complete_df[['Purchase Amt',\n",
    "#        'Amount Mortgaged', '% Borrowed', 'Mtg Tx Pd',\n",
    "#        New Sales Tax Amount']])\n",
    "# filtered_columns = ['Purchase Amt',\n",
    "#        'Amount Mortgaged', '% Borrowed', 'Mtg Tx Pd',\n",
    "#        'New Sales Tax Amount']\n",
    "\n",
    "# # for col in filtered_columns:\n",
    "# #     print(complete_filtered[col].describe())"
   ]
  },
  {
   "cell_type": "code",
   "execution_count": 5,
   "id": "ee013ee7",
   "metadata": {
    "scrolled": true
   },
   "outputs": [],
   "source": [
    "#quick filter of data to show that the top 5 mtg amounts show a \n",
    "#135% increase over the 6th top mtg amount\n",
    "# complete_df = complete_df.sort_values('Mtg Tx Pd', ascending=False)\n",
    "# complete_df.head()\n"
   ]
  },
  {
   "cell_type": "code",
   "execution_count": 6,
   "id": "5ee13645",
   "metadata": {},
   "outputs": [
    {
     "data": {
      "text/html": [
       "<div>\n",
       "<style scoped>\n",
       "    .dataframe tbody tr th:only-of-type {\n",
       "        vertical-align: middle;\n",
       "    }\n",
       "\n",
       "    .dataframe tbody tr th {\n",
       "        vertical-align: top;\n",
       "    }\n",
       "\n",
       "    .dataframe thead th {\n",
       "        text-align: right;\n",
       "    }\n",
       "</style>\n",
       "<table border=\"1\" class=\"dataframe\">\n",
       "  <thead>\n",
       "    <tr style=\"text-align: right;\">\n",
       "      <th></th>\n",
       "      <th>Count</th>\n",
       "      <th>Zipcode</th>\n",
       "      <th>Owner Occ?</th>\n",
       "      <th>Purchase Down %</th>\n",
       "      <th>Purchase Amt</th>\n",
       "      <th>Amount Mortgaged</th>\n",
       "      <th>Mtg Tx Pd</th>\n",
       "      <th>Mansion Tax Pd</th>\n",
       "      <th>New Sales Tax Amount</th>\n",
       "      <th>Population</th>\n",
       "      <th>Median Age</th>\n",
       "      <th>Household Income</th>\n",
       "      <th>Median Gross Rent</th>\n",
       "    </tr>\n",
       "  </thead>\n",
       "  <tbody>\n",
       "    <tr>\n",
       "      <th>count</th>\n",
       "      <td>2997.0</td>\n",
       "      <td>2997.000000</td>\n",
       "      <td>2997.000000</td>\n",
       "      <td>2997.000000</td>\n",
       "      <td>2.997000e+03</td>\n",
       "      <td>2.997000e+03</td>\n",
       "      <td>2997.000000</td>\n",
       "      <td>2997.000000</td>\n",
       "      <td>2997.000000</td>\n",
       "      <td>2997.000000</td>\n",
       "      <td>2997.000000</td>\n",
       "      <td>2997.000000</td>\n",
       "      <td>2997.000000</td>\n",
       "    </tr>\n",
       "    <tr>\n",
       "      <th>mean</th>\n",
       "      <td>1.0</td>\n",
       "      <td>11221.890891</td>\n",
       "      <td>0.472139</td>\n",
       "      <td>44.020020</td>\n",
       "      <td>1.214225e+06</td>\n",
       "      <td>6.375541e+05</td>\n",
       "      <td>12307.199369</td>\n",
       "      <td>7827.393230</td>\n",
       "      <td>30534.361356</td>\n",
       "      <td>71584.858859</td>\n",
       "      <td>37.628328</td>\n",
       "      <td>97640.814815</td>\n",
       "      <td>2021.971305</td>\n",
       "    </tr>\n",
       "    <tr>\n",
       "      <th>std</th>\n",
       "      <td>0.0</td>\n",
       "      <td>13.261508</td>\n",
       "      <td>0.499306</td>\n",
       "      <td>33.341443</td>\n",
       "      <td>1.175700e+06</td>\n",
       "      <td>7.485164e+05</td>\n",
       "      <td>14638.764523</td>\n",
       "      <td>13841.097031</td>\n",
       "      <td>35348.060226</td>\n",
       "      <td>18264.745179</td>\n",
       "      <td>4.665048</td>\n",
       "      <td>37566.381597</td>\n",
       "      <td>532.018719</td>\n",
       "    </tr>\n",
       "    <tr>\n",
       "      <th>min</th>\n",
       "      <td>1.0</td>\n",
       "      <td>11201.000000</td>\n",
       "      <td>0.000000</td>\n",
       "      <td>0.000000</td>\n",
       "      <td>5.600000e+04</td>\n",
       "      <td>0.000000e+00</td>\n",
       "      <td>0.000000</td>\n",
       "      <td>0.000000</td>\n",
       "      <td>784.000000</td>\n",
       "      <td>16808.000000</td>\n",
       "      <td>25.800000</td>\n",
       "      <td>35840.000000</td>\n",
       "      <td>925.000000</td>\n",
       "    </tr>\n",
       "    <tr>\n",
       "      <th>25%</th>\n",
       "      <td>1.0</td>\n",
       "      <td>11211.000000</td>\n",
       "      <td>0.000000</td>\n",
       "      <td>20.000000</td>\n",
       "      <td>6.820000e+05</td>\n",
       "      <td>3.000000e+05</td>\n",
       "      <td>5400.000000</td>\n",
       "      <td>0.000000</td>\n",
       "      <td>11340.000000</td>\n",
       "      <td>58047.000000</td>\n",
       "      <td>35.100000</td>\n",
       "      <td>68006.000000</td>\n",
       "      <td>1627.000000</td>\n",
       "    </tr>\n",
       "    <tr>\n",
       "      <th>50%</th>\n",
       "      <td>1.0</td>\n",
       "      <td>11222.000000</td>\n",
       "      <td>0.000000</td>\n",
       "      <td>30.000000</td>\n",
       "      <td>9.100000e+05</td>\n",
       "      <td>5.600000e+05</td>\n",
       "      <td>10920.000000</td>\n",
       "      <td>0.000000</td>\n",
       "      <td>20880.000000</td>\n",
       "      <td>72014.000000</td>\n",
       "      <td>37.200000</td>\n",
       "      <td>88546.000000</td>\n",
       "      <td>1732.000000</td>\n",
       "    </tr>\n",
       "    <tr>\n",
       "      <th>75%</th>\n",
       "      <td>1.0</td>\n",
       "      <td>11234.000000</td>\n",
       "      <td>1.000000</td>\n",
       "      <td>70.000000</td>\n",
       "      <td>1.350000e+06</td>\n",
       "      <td>8.000000e+05</td>\n",
       "      <td>15600.000000</td>\n",
       "      <td>13500.000000</td>\n",
       "      <td>37723.000000</td>\n",
       "      <td>89976.000000</td>\n",
       "      <td>42.200000</td>\n",
       "      <td>125747.000000</td>\n",
       "      <td>2368.000000</td>\n",
       "    </tr>\n",
       "    <tr>\n",
       "      <th>max</th>\n",
       "      <td>1.0</td>\n",
       "      <td>11249.000000</td>\n",
       "      <td>1.000000</td>\n",
       "      <td>100.000000</td>\n",
       "      <td>3.056371e+07</td>\n",
       "      <td>1.806635e+07</td>\n",
       "      <td>352293.864000</td>\n",
       "      <td>305637.140000</td>\n",
       "      <td>763336.000000</td>\n",
       "      <td>108180.000000</td>\n",
       "      <td>49.400000</td>\n",
       "      <td>173899.000000</td>\n",
       "      <td>3110.000000</td>\n",
       "    </tr>\n",
       "  </tbody>\n",
       "</table>\n",
       "</div>"
      ],
      "text/plain": [
       "        Count       Zipcode   Owner Occ?  Purchase Down %  Purchase Amt  \\\n",
       "count  2997.0   2997.000000  2997.000000      2997.000000  2.997000e+03   \n",
       "mean      1.0  11221.890891     0.472139        44.020020  1.214225e+06   \n",
       "std       0.0     13.261508     0.499306        33.341443  1.175700e+06   \n",
       "min       1.0  11201.000000     0.000000         0.000000  5.600000e+04   \n",
       "25%       1.0  11211.000000     0.000000        20.000000  6.820000e+05   \n",
       "50%       1.0  11222.000000     0.000000        30.000000  9.100000e+05   \n",
       "75%       1.0  11234.000000     1.000000        70.000000  1.350000e+06   \n",
       "max       1.0  11249.000000     1.000000       100.000000  3.056371e+07   \n",
       "\n",
       "       Amount Mortgaged      Mtg Tx Pd  Mansion Tax Pd  New Sales Tax Amount  \\\n",
       "count      2.997000e+03    2997.000000     2997.000000           2997.000000   \n",
       "mean       6.375541e+05   12307.199369     7827.393230          30534.361356   \n",
       "std        7.485164e+05   14638.764523    13841.097031          35348.060226   \n",
       "min        0.000000e+00       0.000000        0.000000            784.000000   \n",
       "25%        3.000000e+05    5400.000000        0.000000          11340.000000   \n",
       "50%        5.600000e+05   10920.000000        0.000000          20880.000000   \n",
       "75%        8.000000e+05   15600.000000    13500.000000          37723.000000   \n",
       "max        1.806635e+07  352293.864000   305637.140000         763336.000000   \n",
       "\n",
       "          Population   Median Age  Household Income  Median Gross Rent  \n",
       "count    2997.000000  2997.000000       2997.000000        2997.000000  \n",
       "mean    71584.858859    37.628328      97640.814815        2021.971305  \n",
       "std     18264.745179     4.665048      37566.381597         532.018719  \n",
       "min     16808.000000    25.800000      35840.000000         925.000000  \n",
       "25%     58047.000000    35.100000      68006.000000        1627.000000  \n",
       "50%     72014.000000    37.200000      88546.000000        1732.000000  \n",
       "75%     89976.000000    42.200000     125747.000000        2368.000000  \n",
       "max    108180.000000    49.400000     173899.000000        3110.000000  "
      ]
     },
     "execution_count": 6,
     "metadata": {},
     "output_type": "execute_result"
    }
   ],
   "source": [
    "complete_df.describe()"
   ]
  },
  {
   "cell_type": "code",
   "execution_count": 7,
   "id": "83e928b2",
   "metadata": {
    "scrolled": false
   },
   "outputs": [],
   "source": [
    "\n",
    "# for col_name in filtered_columns:\n",
    "#     quartiles = complete_filtered[col_name].quantile([.25, .5, .75])\n",
    "#     lowerq= quartiles[0.25]\n",
    "#     upperq = quartiles[0.75]\n",
    "#     iqr = upperq - lowerq\n",
    "#     lower_bound = lowerq - (1.5*iqr)\n",
    "#     upper_bound = upperq + (1.5* iqr)\n",
    "#     outliers =complete_filtered[(complete_filtered[col_name] < lower_bound) | (complete_filtered[col_name] > upper_bound)]\n",
    "#     print(f\"{col_name}'s potentional outliers: {outliers}\")\n",
    "\n"
   ]
  },
  {
   "cell_type": "code",
   "execution_count": 8,
   "id": "82d8f6bb",
   "metadata": {},
   "outputs": [],
   "source": [
    "# fig, axes = plt.subplots(nrows=len(filtered_columns), ncols=1, figsize=(8, 2 * len(filtered_columns)))\n",
    "\n",
    "\n",
    "# for i, column in enumerate(filtered_columns):\n",
    "#     axes[i].boxplot(complete_filtered[column])\n",
    "#     axes[i].set_title(f'Boxplot: {column}')\n",
    "#     axes[i].set_ylabel(column)\n",
    "    \n",
    "# plt.tight_layout()\n",
    "# plt.show()"
   ]
  },
  {
   "cell_type": "code",
   "execution_count": 9,
   "id": "2cf83b1b",
   "metadata": {},
   "outputs": [],
   "source": [
    "# new_filt = complete_df[[ 'Type', 'Owner Occ?', 'Purchase Amt',\n",
    "#        'Amount Mortgaged', '% Borrowed', 'Mtg Tx Pd',\n",
    "#        'New Sales Tax Amount', 'Population', 'Median Age', 'Household Income',\n",
    "#        'Median Gross Rent']]\n",
    "\n",
    "# col_to_plot = ['Purchase Amt',\n",
    "#        'Amount Mortgaged', '% Borrowed', 'Mtg Tx Pd',\n",
    "#        'New Sales Tax Amount', 'Population', 'Household Income', 'Median Gross Rent']\n"
   ]
  },
  {
   "cell_type": "code",
   "execution_count": 10,
   "id": "61ec95d3",
   "metadata": {},
   "outputs": [],
   "source": [
    "col_to_plot = []\n",
    "\n",
    "def plotscat(col_to_plot, df):\n",
    "    fig, axes = plt.subplots(nrows=len(col_to_plot), ncols=1, figsize=(8, 2 * len(col_to_plot)))\n",
    "    for i, column in enumerate(col_to_plot):\n",
    "        axes[i].scatter(df['Household Income'], df[column])\n",
    "        axes[i].set_title(f'Scatter Plot: Household Income vs {column}')\n",
    "        axes[i].set_xlabel('Household Income')\n",
    "        axes[i].set_ylabel(column)\n",
    "        plt.tight_layout()\n",
    "        plt.show()"
   ]
  },
  {
   "cell_type": "code",
   "execution_count": 11,
   "id": "9c339d53",
   "metadata": {},
   "outputs": [],
   "source": [
    "#NEED TO REWRITE THIS - BOOLEAN\n",
    "complete_df.drop('Type', axis=1, inplace=True)"
   ]
  },
  {
   "cell_type": "code",
   "execution_count": 12,
   "id": "657b349a",
   "metadata": {},
   "outputs": [],
   "source": [
    "#create new columns for % borrowed, total taxes paid and taxes as a percent of household income and taxes as a percent of gross rent\n",
    "\n",
    "#divide monetary amounts by 1000 to make the units per 1000\n",
    "complete_df['Zip'] = complete_df['Zipcode'].astype(str)\n",
    "complete_df['Tot tax pd'] = complete_df['Mtg Tx Pd'] + complete_df['Mansion Tax Pd']\n",
    "complete_df['Mtax as % Household Income'] = complete_df['Mtg Tx Pd']/complete_df['Household Income']* 100\n",
    "complete_df['Months rent spent on Mtax'] = complete_df['Median Gross Rent']/complete_df['Mtg Tx Pd']\n",
    "complete_df['New Sales Tax Pd % Household Income'] = complete_df['New Sales Tax Amount']/complete_df['Household Income']*100\n",
    "\n"
   ]
  },
  {
   "cell_type": "code",
   "execution_count": 13,
   "id": "34f02a45",
   "metadata": {
    "scrolled": true
   },
   "outputs": [],
   "source": [
    "# complete_df[\"Purchase Amt\"] = complete_df[\"Purchase Amt\"] / 1000\n",
    "# complete_df[\"Amount Mortgaged\"] = complete_df[\"Amount Mortgaged\"] / 1000\n",
    "# complete_df[\"Mtg Tx Pd\"] = complete_df[\"Mtg Tx Pd\"] / 1000\n",
    "# complete_df[\"Mansion Tax Pd\"] = complete_df[\"Mansion Tax Pd\"] / 1000\n",
    "# complete_df[\"New Sales Tax Amount\"] = complete_df[\"New Sales Tax Amount\"] / 1000"
   ]
  },
  {
   "cell_type": "code",
   "execution_count": 14,
   "id": "22201209",
   "metadata": {},
   "outputs": [
    {
     "data": {
      "text/html": [
       "<div>\n",
       "<style scoped>\n",
       "    .dataframe tbody tr th:only-of-type {\n",
       "        vertical-align: middle;\n",
       "    }\n",
       "\n",
       "    .dataframe tbody tr th {\n",
       "        vertical-align: top;\n",
       "    }\n",
       "\n",
       "    .dataframe thead th {\n",
       "        text-align: right;\n",
       "    }\n",
       "</style>\n",
       "<table border=\"1\" class=\"dataframe\">\n",
       "  <thead>\n",
       "    <tr style=\"text-align: right;\">\n",
       "      <th></th>\n",
       "      <th>Count</th>\n",
       "      <th>Zipcode</th>\n",
       "      <th>Owner Occ?</th>\n",
       "      <th>Purchase Down %</th>\n",
       "      <th>Purchase Amt</th>\n",
       "      <th>Amount Mortgaged</th>\n",
       "      <th>Mtg Tx Pd</th>\n",
       "      <th>Mansion Tax Pd</th>\n",
       "      <th>New Sales Tax Amount</th>\n",
       "      <th>Population</th>\n",
       "      <th>Median Age</th>\n",
       "      <th>Household Income</th>\n",
       "      <th>Median Gross Rent</th>\n",
       "      <th>Tot tax pd</th>\n",
       "      <th>Mtax as % Household Income</th>\n",
       "      <th>Months rent spent on Mtax</th>\n",
       "      <th>New Sales Tax Pd % Household Income</th>\n",
       "    </tr>\n",
       "  </thead>\n",
       "  <tbody>\n",
       "    <tr>\n",
       "      <th>count</th>\n",
       "      <td>2997.0</td>\n",
       "      <td>2997.000000</td>\n",
       "      <td>2997.000000</td>\n",
       "      <td>2997.000000</td>\n",
       "      <td>2.997000e+03</td>\n",
       "      <td>2.997000e+03</td>\n",
       "      <td>2997.000000</td>\n",
       "      <td>2997.000000</td>\n",
       "      <td>2997.000000</td>\n",
       "      <td>2997.000000</td>\n",
       "      <td>2997.000000</td>\n",
       "      <td>2997.000000</td>\n",
       "      <td>2997.000000</td>\n",
       "      <td>2997.000000</td>\n",
       "      <td>2997.000000</td>\n",
       "      <td>2997.000000</td>\n",
       "      <td>2997.000000</td>\n",
       "    </tr>\n",
       "    <tr>\n",
       "      <th>mean</th>\n",
       "      <td>1.0</td>\n",
       "      <td>11221.890891</td>\n",
       "      <td>0.472139</td>\n",
       "      <td>44.020020</td>\n",
       "      <td>1.214225e+06</td>\n",
       "      <td>6.375541e+05</td>\n",
       "      <td>12307.199369</td>\n",
       "      <td>7827.393230</td>\n",
       "      <td>30534.361356</td>\n",
       "      <td>71584.858859</td>\n",
       "      <td>37.628328</td>\n",
       "      <td>97640.814815</td>\n",
       "      <td>2021.971305</td>\n",
       "      <td>20134.592599</td>\n",
       "      <td>13.522502</td>\n",
       "      <td>inf</td>\n",
       "      <td>33.854470</td>\n",
       "    </tr>\n",
       "    <tr>\n",
       "      <th>std</th>\n",
       "      <td>0.0</td>\n",
       "      <td>13.261508</td>\n",
       "      <td>0.499306</td>\n",
       "      <td>33.341443</td>\n",
       "      <td>1.175700e+06</td>\n",
       "      <td>7.485164e+05</td>\n",
       "      <td>14638.764523</td>\n",
       "      <td>13841.097031</td>\n",
       "      <td>35348.060226</td>\n",
       "      <td>18264.745179</td>\n",
       "      <td>4.665048</td>\n",
       "      <td>37566.381597</td>\n",
       "      <td>532.018719</td>\n",
       "      <td>25359.903939</td>\n",
       "      <td>20.295194</td>\n",
       "      <td>NaN</td>\n",
       "      <td>37.605883</td>\n",
       "    </tr>\n",
       "    <tr>\n",
       "      <th>min</th>\n",
       "      <td>1.0</td>\n",
       "      <td>11201.000000</td>\n",
       "      <td>0.000000</td>\n",
       "      <td>0.000000</td>\n",
       "      <td>5.600000e+04</td>\n",
       "      <td>0.000000e+00</td>\n",
       "      <td>0.000000</td>\n",
       "      <td>0.000000</td>\n",
       "      <td>784.000000</td>\n",
       "      <td>16808.000000</td>\n",
       "      <td>25.800000</td>\n",
       "      <td>35840.000000</td>\n",
       "      <td>925.000000</td>\n",
       "      <td>0.000000</td>\n",
       "      <td>0.000000</td>\n",
       "      <td>0.004190</td>\n",
       "      <td>0.617231</td>\n",
       "    </tr>\n",
       "    <tr>\n",
       "      <th>25%</th>\n",
       "      <td>1.0</td>\n",
       "      <td>11211.000000</td>\n",
       "      <td>0.000000</td>\n",
       "      <td>20.000000</td>\n",
       "      <td>6.820000e+05</td>\n",
       "      <td>3.000000e+05</td>\n",
       "      <td>5400.000000</td>\n",
       "      <td>0.000000</td>\n",
       "      <td>11340.000000</td>\n",
       "      <td>58047.000000</td>\n",
       "      <td>35.100000</td>\n",
       "      <td>68006.000000</td>\n",
       "      <td>1627.000000</td>\n",
       "      <td>8122.500000</td>\n",
       "      <td>5.984838</td>\n",
       "      <td>0.122337</td>\n",
       "      <td>12.084071</td>\n",
       "    </tr>\n",
       "    <tr>\n",
       "      <th>50%</th>\n",
       "      <td>1.0</td>\n",
       "      <td>11222.000000</td>\n",
       "      <td>0.000000</td>\n",
       "      <td>30.000000</td>\n",
       "      <td>9.100000e+05</td>\n",
       "      <td>5.600000e+05</td>\n",
       "      <td>10920.000000</td>\n",
       "      <td>0.000000</td>\n",
       "      <td>20880.000000</td>\n",
       "      <td>72014.000000</td>\n",
       "      <td>37.200000</td>\n",
       "      <td>88546.000000</td>\n",
       "      <td>1732.000000</td>\n",
       "      <td>12655.500000</td>\n",
       "      <td>12.483722</td>\n",
       "      <td>0.170411</td>\n",
       "      <td>22.260274</td>\n",
       "    </tr>\n",
       "    <tr>\n",
       "      <th>75%</th>\n",
       "      <td>1.0</td>\n",
       "      <td>11234.000000</td>\n",
       "      <td>1.000000</td>\n",
       "      <td>70.000000</td>\n",
       "      <td>1.350000e+06</td>\n",
       "      <td>8.000000e+05</td>\n",
       "      <td>15600.000000</td>\n",
       "      <td>13500.000000</td>\n",
       "      <td>37723.000000</td>\n",
       "      <td>89976.000000</td>\n",
       "      <td>42.200000</td>\n",
       "      <td>125747.000000</td>\n",
       "      <td>2368.000000</td>\n",
       "      <td>28294.125000</td>\n",
       "      <td>18.232251</td>\n",
       "      <td>0.345621</td>\n",
       "      <td>45.447487</td>\n",
       "    </tr>\n",
       "    <tr>\n",
       "      <th>max</th>\n",
       "      <td>1.0</td>\n",
       "      <td>11249.000000</td>\n",
       "      <td>1.000000</td>\n",
       "      <td>100.000000</td>\n",
       "      <td>3.056371e+07</td>\n",
       "      <td>1.806635e+07</td>\n",
       "      <td>352293.864000</td>\n",
       "      <td>305637.140000</td>\n",
       "      <td>763336.000000</td>\n",
       "      <td>108180.000000</td>\n",
       "      <td>49.400000</td>\n",
       "      <td>173899.000000</td>\n",
       "      <td>3110.000000</td>\n",
       "      <td>657931.004000</td>\n",
       "      <td>670.155156</td>\n",
       "      <td>inf</td>\n",
       "      <td>823.589832</td>\n",
       "    </tr>\n",
       "  </tbody>\n",
       "</table>\n",
       "</div>"
      ],
      "text/plain": [
       "        Count       Zipcode   Owner Occ?  Purchase Down %  Purchase Amt  \\\n",
       "count  2997.0   2997.000000  2997.000000      2997.000000  2.997000e+03   \n",
       "mean      1.0  11221.890891     0.472139        44.020020  1.214225e+06   \n",
       "std       0.0     13.261508     0.499306        33.341443  1.175700e+06   \n",
       "min       1.0  11201.000000     0.000000         0.000000  5.600000e+04   \n",
       "25%       1.0  11211.000000     0.000000        20.000000  6.820000e+05   \n",
       "50%       1.0  11222.000000     0.000000        30.000000  9.100000e+05   \n",
       "75%       1.0  11234.000000     1.000000        70.000000  1.350000e+06   \n",
       "max       1.0  11249.000000     1.000000       100.000000  3.056371e+07   \n",
       "\n",
       "       Amount Mortgaged      Mtg Tx Pd  Mansion Tax Pd  New Sales Tax Amount  \\\n",
       "count      2.997000e+03    2997.000000     2997.000000           2997.000000   \n",
       "mean       6.375541e+05   12307.199369     7827.393230          30534.361356   \n",
       "std        7.485164e+05   14638.764523    13841.097031          35348.060226   \n",
       "min        0.000000e+00       0.000000        0.000000            784.000000   \n",
       "25%        3.000000e+05    5400.000000        0.000000          11340.000000   \n",
       "50%        5.600000e+05   10920.000000        0.000000          20880.000000   \n",
       "75%        8.000000e+05   15600.000000    13500.000000          37723.000000   \n",
       "max        1.806635e+07  352293.864000   305637.140000         763336.000000   \n",
       "\n",
       "          Population   Median Age  Household Income  Median Gross Rent  \\\n",
       "count    2997.000000  2997.000000       2997.000000        2997.000000   \n",
       "mean    71584.858859    37.628328      97640.814815        2021.971305   \n",
       "std     18264.745179     4.665048      37566.381597         532.018719   \n",
       "min     16808.000000    25.800000      35840.000000         925.000000   \n",
       "25%     58047.000000    35.100000      68006.000000        1627.000000   \n",
       "50%     72014.000000    37.200000      88546.000000        1732.000000   \n",
       "75%     89976.000000    42.200000     125747.000000        2368.000000   \n",
       "max    108180.000000    49.400000     173899.000000        3110.000000   \n",
       "\n",
       "          Tot tax pd  Mtax as % Household Income  Months rent spent on Mtax  \\\n",
       "count    2997.000000                 2997.000000                2997.000000   \n",
       "mean    20134.592599                   13.522502                        inf   \n",
       "std     25359.903939                   20.295194                        NaN   \n",
       "min         0.000000                    0.000000                   0.004190   \n",
       "25%      8122.500000                    5.984838                   0.122337   \n",
       "50%     12655.500000                   12.483722                   0.170411   \n",
       "75%     28294.125000                   18.232251                   0.345621   \n",
       "max    657931.004000                  670.155156                        inf   \n",
       "\n",
       "       New Sales Tax Pd % Household Income  \n",
       "count                          2997.000000  \n",
       "mean                             33.854470  \n",
       "std                              37.605883  \n",
       "min                               0.617231  \n",
       "25%                              12.084071  \n",
       "50%                              22.260274  \n",
       "75%                              45.447487  \n",
       "max                             823.589832  "
      ]
     },
     "execution_count": 14,
     "metadata": {},
     "output_type": "execute_result"
    }
   ],
   "source": [
    "complete_df.describe()"
   ]
  },
  {
   "cell_type": "code",
   "execution_count": 15,
   "id": "9b351d6f",
   "metadata": {},
   "outputs": [],
   "source": [
    "mtg_sum = complete_df[\"Mtg Tx Pd\"].sum()\n",
    "mansion_sum = complete_df[\"Mansion Tax Pd\"].sum()\n",
    "sales_tax_sum = complete_df[\"New Sales Tax Amount\"].sum()\n",
    "old_sum = mansion_sum + mtg_sum \n",
    "new_sum =  sales_tax_sum \n",
    "extra_revenue = new_sum - old_sum"
   ]
  },
  {
   "cell_type": "code",
   "execution_count": 16,
   "id": "061346a1",
   "metadata": {},
   "outputs": [],
   "source": [
    "tax_revenue = [\"Current Mortgage Tax Paid\", \"Current Mansion Tax Paid\", \"Surplus Over Old Tax Collected\"]\n",
    "tax = [mtg_sum, mansion_sum, extra_revenue]\n",
    "colors = [\"lightblue\",\"red\",\"yellowgreen\"]"
   ]
  },
  {
   "cell_type": "code",
   "execution_count": 17,
   "id": "32c811dd",
   "metadata": {},
   "outputs": [
    {
     "data": {
      "image/png": "[encoded data removed]",
      "text/plain": [
       "<Figure size 640x480 with 1 Axes>"
      ]
     },
     "metadata": {},
     "output_type": "display_data"
    }
   ],
   "source": [
    "# Tell matplotlib to create a pie chart based upon the above data\n",
    "plt.pie(tax, labels=tax_revenue, colors=colors,\n",
    "        autopct=\"%1.1f%%\", shadow=True, startangle=140)\n",
    "plt.title('Taxes Currently Being Paid As a Portion Proposed New Tax')\n",
    "# Create axes which are equal so we have a perfect circle\n",
    "#plt.axis(\"equal\")\n",
    "# Save an image of our chart and print the final product to the screen\n",
    "plt.show()"
   ]
  },
  {
   "cell_type": "code",
   "execution_count": 18,
   "id": "58e406e0",
   "metadata": {},
   "outputs": [],
   "source": [
    "#Seperate the data into 4 dataframes, by areas and status\n",
    "\n",
    "bklyn_df = complete_df.loc[~complete_df['Zipcode'].isin([10013, 10007, 10282, 10453, 11355, 10457, 11368])]\n",
    "bklyn_investors = bklyn_df[(bklyn_df['Owner Occ?'] ==1)]\n",
    "bklyn_oocc = bklyn_df[(bklyn_df['Owner Occ?'] ==0)]\n",
    "\n"
   ]
  },
  {
   "cell_type": "markdown",
   "id": "2f17ef81",
   "metadata": {},
   "source": [
    "## Bar Chart (proportion of taxes paid in the old and new system form Occ vs Investors)"
   ]
  },
  {
   "cell_type": "code",
   "execution_count": 19,
   "id": "d1dd5143",
   "metadata": {},
   "outputs": [
    {
     "data": {
      "text/html": [
       "<div>\n",
       "<style scoped>\n",
       "    .dataframe tbody tr th:only-of-type {\n",
       "        vertical-align: middle;\n",
       "    }\n",
       "\n",
       "    .dataframe tbody tr th {\n",
       "        vertical-align: top;\n",
       "    }\n",
       "\n",
       "    .dataframe thead th {\n",
       "        text-align: right;\n",
       "    }\n",
       "</style>\n",
       "<table border=\"1\" class=\"dataframe\">\n",
       "  <thead>\n",
       "    <tr style=\"text-align: right;\">\n",
       "      <th></th>\n",
       "      <th>Count</th>\n",
       "      <th>Zipcode</th>\n",
       "      <th>Owner Occ?</th>\n",
       "      <th>Purchase Down %</th>\n",
       "      <th>Purchase Amt</th>\n",
       "      <th>Amount Mortgaged</th>\n",
       "      <th>Mtg Tx Pd</th>\n",
       "      <th>Mansion Tax Pd</th>\n",
       "      <th>New Sales Tax Amount</th>\n",
       "      <th>Population</th>\n",
       "      <th>Median Age</th>\n",
       "      <th>Household Income</th>\n",
       "      <th>Median Gross Rent</th>\n",
       "      <th>Zip</th>\n",
       "      <th>Tot tax pd</th>\n",
       "      <th>Mtax as % Household Income</th>\n",
       "      <th>Months rent spent on Mtax</th>\n",
       "      <th>New Sales Tax Pd % Household Income</th>\n",
       "    </tr>\n",
       "  </thead>\n",
       "  <tbody>\n",
       "    <tr>\n",
       "      <th>1582</th>\n",
       "      <td>1</td>\n",
       "      <td>11201</td>\n",
       "      <td>1</td>\n",
       "      <td>100.0</td>\n",
       "      <td>5975000</td>\n",
       "      <td>0.0</td>\n",
       "      <td>0.00</td>\n",
       "      <td>59750.0</td>\n",
       "      <td>265170.5</td>\n",
       "      <td>69755.0</td>\n",
       "      <td>35.1</td>\n",
       "      <td>163310.0</td>\n",
       "      <td>3110.0</td>\n",
       "      <td>11201</td>\n",
       "      <td>59750.00</td>\n",
       "      <td>0.000000</td>\n",
       "      <td>inf</td>\n",
       "      <td>162.372482</td>\n",
       "    </tr>\n",
       "    <tr>\n",
       "      <th>1583</th>\n",
       "      <td>1</td>\n",
       "      <td>11201</td>\n",
       "      <td>1</td>\n",
       "      <td>20.0</td>\n",
       "      <td>2780000</td>\n",
       "      <td>2224000.0</td>\n",
       "      <td>43368.00</td>\n",
       "      <td>27800.0</td>\n",
       "      <td>123376.4</td>\n",
       "      <td>69755.0</td>\n",
       "      <td>35.1</td>\n",
       "      <td>163310.0</td>\n",
       "      <td>3110.0</td>\n",
       "      <td>11201</td>\n",
       "      <td>71168.00</td>\n",
       "      <td>26.555630</td>\n",
       "      <td>0.071712</td>\n",
       "      <td>75.547364</td>\n",
       "    </tr>\n",
       "    <tr>\n",
       "      <th>1584</th>\n",
       "      <td>1</td>\n",
       "      <td>11201</td>\n",
       "      <td>1</td>\n",
       "      <td>36.0</td>\n",
       "      <td>1675000</td>\n",
       "      <td>1075000.0</td>\n",
       "      <td>20962.50</td>\n",
       "      <td>16750.0</td>\n",
       "      <td>74336.5</td>\n",
       "      <td>69755.0</td>\n",
       "      <td>35.1</td>\n",
       "      <td>163310.0</td>\n",
       "      <td>3110.0</td>\n",
       "      <td>11201</td>\n",
       "      <td>37712.50</td>\n",
       "      <td>12.836017</td>\n",
       "      <td>0.148360</td>\n",
       "      <td>45.518646</td>\n",
       "    </tr>\n",
       "    <tr>\n",
       "      <th>1585</th>\n",
       "      <td>1</td>\n",
       "      <td>11201</td>\n",
       "      <td>1</td>\n",
       "      <td>30.0</td>\n",
       "      <td>1295000</td>\n",
       "      <td>906500.0</td>\n",
       "      <td>17676.75</td>\n",
       "      <td>12950.0</td>\n",
       "      <td>57472.1</td>\n",
       "      <td>69755.0</td>\n",
       "      <td>35.1</td>\n",
       "      <td>163310.0</td>\n",
       "      <td>3110.0</td>\n",
       "      <td>11201</td>\n",
       "      <td>30626.75</td>\n",
       "      <td>10.824046</td>\n",
       "      <td>0.175937</td>\n",
       "      <td>35.192027</td>\n",
       "    </tr>\n",
       "    <tr>\n",
       "      <th>1586</th>\n",
       "      <td>1</td>\n",
       "      <td>11201</td>\n",
       "      <td>1</td>\n",
       "      <td>20.0</td>\n",
       "      <td>1100000</td>\n",
       "      <td>880000.0</td>\n",
       "      <td>17160.00</td>\n",
       "      <td>11000.0</td>\n",
       "      <td>48818.0</td>\n",
       "      <td>69755.0</td>\n",
       "      <td>35.1</td>\n",
       "      <td>163310.0</td>\n",
       "      <td>3110.0</td>\n",
       "      <td>11201</td>\n",
       "      <td>28160.00</td>\n",
       "      <td>10.507624</td>\n",
       "      <td>0.181235</td>\n",
       "      <td>29.892842</td>\n",
       "    </tr>\n",
       "  </tbody>\n",
       "</table>\n",
       "</div>"
      ],
      "text/plain": [
       "      Count  Zipcode  Owner Occ?  Purchase Down %  Purchase Amt  \\\n",
       "1582      1    11201           1            100.0       5975000   \n",
       "1583      1    11201           1             20.0       2780000   \n",
       "1584      1    11201           1             36.0       1675000   \n",
       "1585      1    11201           1             30.0       1295000   \n",
       "1586      1    11201           1             20.0       1100000   \n",
       "\n",
       "      Amount Mortgaged  Mtg Tx Pd  Mansion Tax Pd  New Sales Tax Amount  \\\n",
       "1582               0.0       0.00         59750.0              265170.5   \n",
       "1583         2224000.0   43368.00         27800.0              123376.4   \n",
       "1584         1075000.0   20962.50         16750.0               74336.5   \n",
       "1585          906500.0   17676.75         12950.0               57472.1   \n",
       "1586          880000.0   17160.00         11000.0               48818.0   \n",
       "\n",
       "      Population  Median Age  Household Income  Median Gross Rent    Zip  \\\n",
       "1582     69755.0        35.1          163310.0             3110.0  11201   \n",
       "1583     69755.0        35.1          163310.0             3110.0  11201   \n",
       "1584     69755.0        35.1          163310.0             3110.0  11201   \n",
       "1585     69755.0        35.1          163310.0             3110.0  11201   \n",
       "1586     69755.0        35.1          163310.0             3110.0  11201   \n",
       "\n",
       "      Tot tax pd  Mtax as % Household Income  Months rent spent on Mtax  \\\n",
       "1582    59750.00                    0.000000                        inf   \n",
       "1583    71168.00                   26.555630                   0.071712   \n",
       "1584    37712.50                   12.836017                   0.148360   \n",
       "1585    30626.75                   10.824046                   0.175937   \n",
       "1586    28160.00                   10.507624                   0.181235   \n",
       "\n",
       "      New Sales Tax Pd % Household Income  \n",
       "1582                           162.372482  \n",
       "1583                            75.547364  \n",
       "1584                            45.518646  \n",
       "1585                            35.192027  \n",
       "1586                            29.892842  "
      ]
     },
     "execution_count": 19,
     "metadata": {},
     "output_type": "execute_result"
    }
   ],
   "source": [
    "bklyn_investors.head()"
   ]
  },
  {
   "cell_type": "code",
   "execution_count": 20,
   "id": "757e1722",
   "metadata": {},
   "outputs": [
    {
     "data": {
      "text/html": [
       "<div>\n",
       "<style scoped>\n",
       "    .dataframe tbody tr th:only-of-type {\n",
       "        vertical-align: middle;\n",
       "    }\n",
       "\n",
       "    .dataframe tbody tr th {\n",
       "        vertical-align: top;\n",
       "    }\n",
       "\n",
       "    .dataframe thead th {\n",
       "        text-align: right;\n",
       "    }\n",
       "</style>\n",
       "<table border=\"1\" class=\"dataframe\">\n",
       "  <thead>\n",
       "    <tr style=\"text-align: right;\">\n",
       "      <th></th>\n",
       "      <th>Count</th>\n",
       "      <th>Zipcode</th>\n",
       "      <th>Owner Occ?</th>\n",
       "      <th>Purchase Down %</th>\n",
       "      <th>Purchase Amt</th>\n",
       "      <th>Amount Mortgaged</th>\n",
       "      <th>Mtg Tx Pd</th>\n",
       "      <th>Mansion Tax Pd</th>\n",
       "      <th>New Sales Tax Amount</th>\n",
       "      <th>Population</th>\n",
       "      <th>Median Age</th>\n",
       "      <th>Household Income</th>\n",
       "      <th>Median Gross Rent</th>\n",
       "      <th>Zip</th>\n",
       "      <th>Tot tax pd</th>\n",
       "      <th>Mtax as % Household Income</th>\n",
       "      <th>Months rent spent on Mtax</th>\n",
       "      <th>New Sales Tax Pd % Household Income</th>\n",
       "    </tr>\n",
       "  </thead>\n",
       "  <tbody>\n",
       "    <tr>\n",
       "      <th>0</th>\n",
       "      <td>1</td>\n",
       "      <td>11201</td>\n",
       "      <td>0</td>\n",
       "      <td>33.0</td>\n",
       "      <td>4600000</td>\n",
       "      <td>3062500.0</td>\n",
       "      <td>59718.7500</td>\n",
       "      <td>46000.0</td>\n",
       "      <td>41400.0</td>\n",
       "      <td>69755.0</td>\n",
       "      <td>35.1</td>\n",
       "      <td>163310.0</td>\n",
       "      <td>3110.0</td>\n",
       "      <td>11201</td>\n",
       "      <td>105718.7500</td>\n",
       "      <td>36.567724</td>\n",
       "      <td>0.052077</td>\n",
       "      <td>25.350560</td>\n",
       "    </tr>\n",
       "    <tr>\n",
       "      <th>1</th>\n",
       "      <td>1</td>\n",
       "      <td>11201</td>\n",
       "      <td>0</td>\n",
       "      <td>100.0</td>\n",
       "      <td>4740000</td>\n",
       "      <td>0.0</td>\n",
       "      <td>0.0000</td>\n",
       "      <td>47400.0</td>\n",
       "      <td>42660.0</td>\n",
       "      <td>69755.0</td>\n",
       "      <td>35.1</td>\n",
       "      <td>163310.0</td>\n",
       "      <td>3110.0</td>\n",
       "      <td>11201</td>\n",
       "      <td>47400.0000</td>\n",
       "      <td>0.000000</td>\n",
       "      <td>inf</td>\n",
       "      <td>26.122099</td>\n",
       "    </tr>\n",
       "    <tr>\n",
       "      <th>2</th>\n",
       "      <td>1</td>\n",
       "      <td>11201</td>\n",
       "      <td>0</td>\n",
       "      <td>81.0</td>\n",
       "      <td>4200000</td>\n",
       "      <td>787743.0</td>\n",
       "      <td>15360.9885</td>\n",
       "      <td>42000.0</td>\n",
       "      <td>37800.0</td>\n",
       "      <td>69755.0</td>\n",
       "      <td>35.1</td>\n",
       "      <td>163310.0</td>\n",
       "      <td>3110.0</td>\n",
       "      <td>11201</td>\n",
       "      <td>57360.9885</td>\n",
       "      <td>9.406031</td>\n",
       "      <td>0.202461</td>\n",
       "      <td>23.146164</td>\n",
       "    </tr>\n",
       "    <tr>\n",
       "      <th>3</th>\n",
       "      <td>1</td>\n",
       "      <td>11201</td>\n",
       "      <td>0</td>\n",
       "      <td>20.0</td>\n",
       "      <td>3700000</td>\n",
       "      <td>2960000.0</td>\n",
       "      <td>57720.0000</td>\n",
       "      <td>37000.0</td>\n",
       "      <td>33300.0</td>\n",
       "      <td>69755.0</td>\n",
       "      <td>35.1</td>\n",
       "      <td>163310.0</td>\n",
       "      <td>3110.0</td>\n",
       "      <td>11201</td>\n",
       "      <td>94720.0000</td>\n",
       "      <td>35.343825</td>\n",
       "      <td>0.053881</td>\n",
       "      <td>20.390668</td>\n",
       "    </tr>\n",
       "    <tr>\n",
       "      <th>4</th>\n",
       "      <td>1</td>\n",
       "      <td>11201</td>\n",
       "      <td>0</td>\n",
       "      <td>71.0</td>\n",
       "      <td>1655000</td>\n",
       "      <td>478540.0</td>\n",
       "      <td>8613.7200</td>\n",
       "      <td>16550.0</td>\n",
       "      <td>14895.0</td>\n",
       "      <td>69755.0</td>\n",
       "      <td>35.1</td>\n",
       "      <td>163310.0</td>\n",
       "      <td>3110.0</td>\n",
       "      <td>11201</td>\n",
       "      <td>25163.7200</td>\n",
       "      <td>5.274460</td>\n",
       "      <td>0.361052</td>\n",
       "      <td>9.120691</td>\n",
       "    </tr>\n",
       "  </tbody>\n",
       "</table>\n",
       "</div>"
      ],
      "text/plain": [
       "   Count  Zipcode  Owner Occ?  Purchase Down %  Purchase Amt  \\\n",
       "0      1    11201           0             33.0       4600000   \n",
       "1      1    11201           0            100.0       4740000   \n",
       "2      1    11201           0             81.0       4200000   \n",
       "3      1    11201           0             20.0       3700000   \n",
       "4      1    11201           0             71.0       1655000   \n",
       "\n",
       "   Amount Mortgaged   Mtg Tx Pd  Mansion Tax Pd  New Sales Tax Amount  \\\n",
       "0         3062500.0  59718.7500         46000.0               41400.0   \n",
       "1               0.0      0.0000         47400.0               42660.0   \n",
       "2          787743.0  15360.9885         42000.0               37800.0   \n",
       "3         2960000.0  57720.0000         37000.0               33300.0   \n",
       "4          478540.0   8613.7200         16550.0               14895.0   \n",
       "\n",
       "   Population  Median Age  Household Income  Median Gross Rent    Zip  \\\n",
       "0     69755.0        35.1          163310.0             3110.0  11201   \n",
       "1     69755.0        35.1          163310.0             3110.0  11201   \n",
       "2     69755.0        35.1          163310.0             3110.0  11201   \n",
       "3     69755.0        35.1          163310.0             3110.0  11201   \n",
       "4     69755.0        35.1          163310.0             3110.0  11201   \n",
       "\n",
       "    Tot tax pd  Mtax as % Household Income  Months rent spent on Mtax  \\\n",
       "0  105718.7500                   36.567724                   0.052077   \n",
       "1   47400.0000                    0.000000                        inf   \n",
       "2   57360.9885                    9.406031                   0.202461   \n",
       "3   94720.0000                   35.343825                   0.053881   \n",
       "4   25163.7200                    5.274460                   0.361052   \n",
       "\n",
       "   New Sales Tax Pd % Household Income  \n",
       "0                            25.350560  \n",
       "1                            26.122099  \n",
       "2                            23.146164  \n",
       "3                            20.390668  \n",
       "4                             9.120691  "
      ]
     },
     "execution_count": 20,
     "metadata": {},
     "output_type": "execute_result"
    }
   ],
   "source": [
    "bklyn_oocc.head()"
   ]
  },
  {
   "cell_type": "code",
   "execution_count": 21,
   "id": "cdbc4453",
   "metadata": {},
   "outputs": [
    {
     "data": {
      "text/plain": [
       "20339390.2725"
      ]
     },
     "execution_count": 21,
     "metadata": {},
     "output_type": "execute_result"
    }
   ],
   "source": [
    "oocc_mtg_sum = bklyn_oocc[\"Mtg Tx Pd\"].sum()\n",
    "oocc_mtg_sum"
   ]
  },
  {
   "cell_type": "code",
   "execution_count": 22,
   "id": "390389f4",
   "metadata": {},
   "outputs": [
    {
     "data": {
      "text/plain": [
       "14504776.77"
      ]
     },
     "execution_count": 22,
     "metadata": {},
     "output_type": "execute_result"
    }
   ],
   "source": [
    "oocc_mansion_sum = bklyn_oocc[\"Mansion Tax Pd\"].sum()\n",
    "oocc_mansion_sum"
   ]
  },
  {
   "cell_type": "code",
   "execution_count": 23,
   "id": "6b20f66d",
   "metadata": {},
   "outputs": [
    {
     "data": {
      "text/plain": [
       "21658394.859"
      ]
     },
     "execution_count": 23,
     "metadata": {},
     "output_type": "execute_result"
    }
   ],
   "source": [
    "oocc_sales_tax_sum = bklyn_oocc[\"New Sales Tax Amount\"].sum()\n",
    "oocc_sales_tax_sum"
   ]
  },
  {
   "cell_type": "code",
   "execution_count": 24,
   "id": "45704152",
   "metadata": {},
   "outputs": [
    {
     "data": {
      "text/plain": [
       "34844167.042500004"
      ]
     },
     "execution_count": 24,
     "metadata": {},
     "output_type": "execute_result"
    }
   ],
   "source": [
    "oocc_old_sum = oocc_mansion_sum + oocc_mtg_sum \n",
    "oocc_old_sum"
   ]
  },
  {
   "cell_type": "code",
   "execution_count": 25,
   "id": "8d9a0dcc",
   "metadata": {},
   "outputs": [
    {
     "data": {
      "text/plain": [
       "16545286.2375"
      ]
     },
     "execution_count": 25,
     "metadata": {},
     "output_type": "execute_result"
    }
   ],
   "source": [
    "investors_mtg_sum = bklyn_investors[\"Mtg Tx Pd\"].sum()\n",
    "investors_mtg_sum"
   ]
  },
  {
   "cell_type": "code",
   "execution_count": 26,
   "id": "00e41c3f",
   "metadata": {},
   "outputs": [
    {
     "data": {
      "text/plain": [
       "8953920.74"
      ]
     },
     "execution_count": 26,
     "metadata": {},
     "output_type": "execute_result"
    }
   ],
   "source": [
    "investors_mansion_sum = bklyn_investors[\"Mansion Tax Pd\"].sum()\n",
    "investors_mansion_sum"
   ]
  },
  {
   "cell_type": "code",
   "execution_count": 27,
   "id": "67f4cd53",
   "metadata": {},
   "outputs": [
    {
     "data": {
      "text/plain": [
       "69853086.12352"
      ]
     },
     "execution_count": 27,
     "metadata": {},
     "output_type": "execute_result"
    }
   ],
   "source": [
    "investors_sales_tax_sum = bklyn_investors[\"New Sales Tax Amount\"].sum()\n",
    "investors_sales_tax_sum"
   ]
  },
  {
   "cell_type": "code",
   "execution_count": 28,
   "id": "c52dd5a5",
   "metadata": {},
   "outputs": [
    {
     "data": {
      "text/plain": [
       "25499206.9775"
      ]
     },
     "execution_count": 28,
     "metadata": {},
     "output_type": "execute_result"
    }
   ],
   "source": [
    "investors_old_sum = investors_mansion_sum + investors_mtg_sum\n",
    "investors_old_sum"
   ]
  },
  {
   "cell_type": "code",
   "execution_count": 29,
   "id": "37e2306d",
   "metadata": {},
   "outputs": [
    {
     "data": {
      "image/png": "[encoded data removed]",
      "text/plain": [
       "<Figure size 640x480 with 1 Axes>"
      ]
     },
     "metadata": {},
     "output_type": "display_data"
    }
   ],
   "source": [
    "bar_labels = ['Old Revenue', 'New Revenue']\n",
    "y_old_sum = [oocc_old_sum/1e6, investors_old_sum/1e6]\n",
    "y_new_sales_tax_sum = [oocc_sales_tax_sum/1e6, investors_sales_tax_sum/1e6]\n",
    "\n",
    "plt.bar(bar_labels, y_old_sum, color='r')\n",
    "plt.bar(bar_labels, y_new_sales_tax_sum, bottom=y_old_sum, color='g')\n",
    "# plt.bar(bar_labels, y_oocc_sales_tax_sum, bottom=y_oocc_old_sum, color='b')\n",
    "# plt.bar(bar_labels, y_investors_old_sum, color='g')\n",
    "# plt.bar(bar_labels, y_investors_sales_tax_sum, bottom=y_investors_old_sum, color='m')\n",
    "plt.title(\"Tax Revenues\")\n",
    "plt.xlabel(\"Tax System\")\n",
    "plt.ylabel(\"Tax Revenues ($1,000,000)\")\n",
    "plt.legend([\"Occupied\", \"Investors\"])\n",
    "plt.show()"
   ]
  },
  {
   "cell_type": "code",
   "execution_count": null,
   "id": "ab6b2ef9",
   "metadata": {},
   "outputs": [],
   "source": []
  },
  {
   "cell_type": "code",
   "execution_count": null,
   "id": "f349141a",
   "metadata": {},
   "outputs": [],
   "source": []
  },
  {
   "cell_type": "markdown",
   "id": "78098b49",
   "metadata": {},
   "source": [
    "## Boxplot (quartile range of bottom 100 income vs highest 100 income taxes paid under old and new system)"
   ]
  },
  {
   "cell_type": "code",
   "execution_count": 30,
   "id": "47d86252",
   "metadata": {},
   "outputs": [],
   "source": [
    "# bklyn_investors_highlow = bklyn_investors.sort_values('Household Income', ascending=False)\n",
    "# bklyn_investors_highlow .head()"
   ]
  },
  {
   "cell_type": "code",
   "execution_count": 31,
   "id": "3f55ef53",
   "metadata": {},
   "outputs": [],
   "source": [
    "# bklyn_investors_lowhigh = bklyn_investors.sort_values('Household Income', ascending=True)\n",
    "# bklyn_investors_lowhigh.head()"
   ]
  },
  {
   "cell_type": "code",
   "execution_count": 32,
   "id": "c682c0e4",
   "metadata": {},
   "outputs": [
    {
     "data": {
      "text/html": [
       "<div>\n",
       "<style scoped>\n",
       "    .dataframe tbody tr th:only-of-type {\n",
       "        vertical-align: middle;\n",
       "    }\n",
       "\n",
       "    .dataframe tbody tr th {\n",
       "        vertical-align: top;\n",
       "    }\n",
       "\n",
       "    .dataframe thead th {\n",
       "        text-align: right;\n",
       "    }\n",
       "</style>\n",
       "<table border=\"1\" class=\"dataframe\">\n",
       "  <thead>\n",
       "    <tr style=\"text-align: right;\">\n",
       "      <th></th>\n",
       "      <th>index</th>\n",
       "      <th>Count</th>\n",
       "      <th>Zipcode</th>\n",
       "      <th>Owner Occ?</th>\n",
       "      <th>Purchase Down %</th>\n",
       "      <th>Purchase Amt</th>\n",
       "      <th>Amount Mortgaged</th>\n",
       "      <th>Mtg Tx Pd</th>\n",
       "      <th>Mansion Tax Pd</th>\n",
       "      <th>New Sales Tax Amount</th>\n",
       "      <th>Population</th>\n",
       "      <th>Median Age</th>\n",
       "      <th>Household Income</th>\n",
       "      <th>Median Gross Rent</th>\n",
       "      <th>Zip</th>\n",
       "      <th>Tot tax pd</th>\n",
       "      <th>Mtax as % Household Income</th>\n",
       "      <th>Months rent spent on Mtax</th>\n",
       "      <th>New Sales Tax Pd % Household Income</th>\n",
       "    </tr>\n",
       "  </thead>\n",
       "  <tbody>\n",
       "    <tr>\n",
       "      <th>0</th>\n",
       "      <td>296</td>\n",
       "      <td>1</td>\n",
       "      <td>11215</td>\n",
       "      <td>0</td>\n",
       "      <td>74.0</td>\n",
       "      <td>2890255</td>\n",
       "      <td>750000.0</td>\n",
       "      <td>14625.0</td>\n",
       "      <td>28902.55</td>\n",
       "      <td>26012.295</td>\n",
       "      <td>72014.0</td>\n",
       "      <td>37.2</td>\n",
       "      <td>173899.0</td>\n",
       "      <td>2673.0</td>\n",
       "      <td>11215</td>\n",
       "      <td>43527.55</td>\n",
       "      <td>8.410054</td>\n",
       "      <td>0.182769</td>\n",
       "      <td>14.958278</td>\n",
       "    </tr>\n",
       "    <tr>\n",
       "      <th>1</th>\n",
       "      <td>312</td>\n",
       "      <td>1</td>\n",
       "      <td>11215</td>\n",
       "      <td>0</td>\n",
       "      <td>28.0</td>\n",
       "      <td>715000</td>\n",
       "      <td>515000.0</td>\n",
       "      <td>10042.5</td>\n",
       "      <td>0.00</td>\n",
       "      <td>10010.000</td>\n",
       "      <td>72014.0</td>\n",
       "      <td>37.2</td>\n",
       "      <td>173899.0</td>\n",
       "      <td>2673.0</td>\n",
       "      <td>11215</td>\n",
       "      <td>10042.50</td>\n",
       "      <td>5.774904</td>\n",
       "      <td>0.266169</td>\n",
       "      <td>5.756215</td>\n",
       "    </tr>\n",
       "    <tr>\n",
       "      <th>2</th>\n",
       "      <td>323</td>\n",
       "      <td>1</td>\n",
       "      <td>11215</td>\n",
       "      <td>0</td>\n",
       "      <td>25.0</td>\n",
       "      <td>1860000</td>\n",
       "      <td>1395000.0</td>\n",
       "      <td>27202.5</td>\n",
       "      <td>18600.00</td>\n",
       "      <td>16740.000</td>\n",
       "      <td>72014.0</td>\n",
       "      <td>37.2</td>\n",
       "      <td>173899.0</td>\n",
       "      <td>2673.0</td>\n",
       "      <td>11215</td>\n",
       "      <td>45802.50</td>\n",
       "      <td>15.642701</td>\n",
       "      <td>0.098263</td>\n",
       "      <td>9.626277</td>\n",
       "    </tr>\n",
       "    <tr>\n",
       "      <th>3</th>\n",
       "      <td>1566</td>\n",
       "      <td>1</td>\n",
       "      <td>11215</td>\n",
       "      <td>0</td>\n",
       "      <td>83.0</td>\n",
       "      <td>2450000</td>\n",
       "      <td>408000.0</td>\n",
       "      <td>7344.0</td>\n",
       "      <td>24500.00</td>\n",
       "      <td>22050.000</td>\n",
       "      <td>72014.0</td>\n",
       "      <td>37.2</td>\n",
       "      <td>173899.0</td>\n",
       "      <td>2673.0</td>\n",
       "      <td>11215</td>\n",
       "      <td>31844.00</td>\n",
       "      <td>4.223141</td>\n",
       "      <td>0.363971</td>\n",
       "      <td>12.679774</td>\n",
       "    </tr>\n",
       "    <tr>\n",
       "      <th>4</th>\n",
       "      <td>322</td>\n",
       "      <td>1</td>\n",
       "      <td>11215</td>\n",
       "      <td>0</td>\n",
       "      <td>24.0</td>\n",
       "      <td>3155000</td>\n",
       "      <td>2405000.0</td>\n",
       "      <td>46897.5</td>\n",
       "      <td>31550.00</td>\n",
       "      <td>28395.000</td>\n",
       "      <td>72014.0</td>\n",
       "      <td>37.2</td>\n",
       "      <td>173899.0</td>\n",
       "      <td>2673.0</td>\n",
       "      <td>11215</td>\n",
       "      <td>78447.50</td>\n",
       "      <td>26.968240</td>\n",
       "      <td>0.056997</td>\n",
       "      <td>16.328444</td>\n",
       "    </tr>\n",
       "  </tbody>\n",
       "</table>\n",
       "</div>"
      ],
      "text/plain": [
       "   index  Count  Zipcode  Owner Occ?  Purchase Down %  Purchase Amt  \\\n",
       "0    296      1    11215           0             74.0       2890255   \n",
       "1    312      1    11215           0             28.0        715000   \n",
       "2    323      1    11215           0             25.0       1860000   \n",
       "3   1566      1    11215           0             83.0       2450000   \n",
       "4    322      1    11215           0             24.0       3155000   \n",
       "\n",
       "   Amount Mortgaged  Mtg Tx Pd  Mansion Tax Pd  New Sales Tax Amount  \\\n",
       "0          750000.0    14625.0        28902.55             26012.295   \n",
       "1          515000.0    10042.5            0.00             10010.000   \n",
       "2         1395000.0    27202.5        18600.00             16740.000   \n",
       "3          408000.0     7344.0        24500.00             22050.000   \n",
       "4         2405000.0    46897.5        31550.00             28395.000   \n",
       "\n",
       "   Population  Median Age  Household Income  Median Gross Rent    Zip  \\\n",
       "0     72014.0        37.2          173899.0             2673.0  11215   \n",
       "1     72014.0        37.2          173899.0             2673.0  11215   \n",
       "2     72014.0        37.2          173899.0             2673.0  11215   \n",
       "3     72014.0        37.2          173899.0             2673.0  11215   \n",
       "4     72014.0        37.2          173899.0             2673.0  11215   \n",
       "\n",
       "   Tot tax pd  Mtax as % Household Income  Months rent spent on Mtax  \\\n",
       "0    43527.55                    8.410054                   0.182769   \n",
       "1    10042.50                    5.774904                   0.266169   \n",
       "2    45802.50                   15.642701                   0.098263   \n",
       "3    31844.00                    4.223141                   0.363971   \n",
       "4    78447.50                   26.968240                   0.056997   \n",
       "\n",
       "   New Sales Tax Pd % Household Income  \n",
       "0                            14.958278  \n",
       "1                             5.756215  \n",
       "2                             9.626277  \n",
       "3                            12.679774  \n",
       "4                            16.328444  "
      ]
     },
     "execution_count": 32,
     "metadata": {},
     "output_type": "execute_result"
    }
   ],
   "source": [
    "#Ordering Brooklyn Occupied by highest income to lowest income\n",
    "bklyn_oocc_highlow = bklyn_oocc.sort_values('Household Income', ascending=False).reset_index()\n",
    "bklyn_oocc_highlow.head()"
   ]
  },
  {
   "cell_type": "code",
   "execution_count": null,
   "id": "595d43ad",
   "metadata": {},
   "outputs": [],
   "source": []
  },
  {
   "cell_type": "code",
   "execution_count": 33,
   "id": "09b17434",
   "metadata": {},
   "outputs": [
    {
     "data": {
      "text/html": [
       "<div>\n",
       "<style scoped>\n",
       "    .dataframe tbody tr th:only-of-type {\n",
       "        vertical-align: middle;\n",
       "    }\n",
       "\n",
       "    .dataframe tbody tr th {\n",
       "        vertical-align: top;\n",
       "    }\n",
       "\n",
       "    .dataframe thead th {\n",
       "        text-align: right;\n",
       "    }\n",
       "</style>\n",
       "<table border=\"1\" class=\"dataframe\">\n",
       "  <thead>\n",
       "    <tr style=\"text-align: right;\">\n",
       "      <th></th>\n",
       "      <th>index</th>\n",
       "      <th>Count</th>\n",
       "      <th>Zipcode</th>\n",
       "      <th>Owner Occ?</th>\n",
       "      <th>Purchase Down %</th>\n",
       "      <th>Purchase Amt</th>\n",
       "      <th>Amount Mortgaged</th>\n",
       "      <th>Mtg Tx Pd</th>\n",
       "      <th>Mansion Tax Pd</th>\n",
       "      <th>New Sales Tax Amount</th>\n",
       "      <th>Population</th>\n",
       "      <th>Median Age</th>\n",
       "      <th>Household Income</th>\n",
       "      <th>Median Gross Rent</th>\n",
       "      <th>Zip</th>\n",
       "      <th>Tot tax pd</th>\n",
       "      <th>Mtax as % Household Income</th>\n",
       "      <th>Months rent spent on Mtax</th>\n",
       "      <th>New Sales Tax Pd % Household Income</th>\n",
       "    </tr>\n",
       "  </thead>\n",
       "  <tbody>\n",
       "    <tr>\n",
       "      <th>0</th>\n",
       "      <td>875</td>\n",
       "      <td>1</td>\n",
       "      <td>11212</td>\n",
       "      <td>0</td>\n",
       "      <td>2.0</td>\n",
       "      <td>615000</td>\n",
       "      <td>603860.0</td>\n",
       "      <td>11775.2700</td>\n",
       "      <td>0.0</td>\n",
       "      <td>8610.0</td>\n",
       "      <td>84006.0</td>\n",
       "      <td>37.2</td>\n",
       "      <td>35840.0</td>\n",
       "      <td>1150.0</td>\n",
       "      <td>11212</td>\n",
       "      <td>11775.2700</td>\n",
       "      <td>32.855106</td>\n",
       "      <td>0.097662</td>\n",
       "      <td>24.023438</td>\n",
       "    </tr>\n",
       "    <tr>\n",
       "      <th>1</th>\n",
       "      <td>909</td>\n",
       "      <td>1</td>\n",
       "      <td>11212</td>\n",
       "      <td>0</td>\n",
       "      <td>30.0</td>\n",
       "      <td>650000</td>\n",
       "      <td>452500.0</td>\n",
       "      <td>8145.0000</td>\n",
       "      <td>0.0</td>\n",
       "      <td>9100.0</td>\n",
       "      <td>84006.0</td>\n",
       "      <td>37.2</td>\n",
       "      <td>35840.0</td>\n",
       "      <td>1150.0</td>\n",
       "      <td>11212</td>\n",
       "      <td>8145.0000</td>\n",
       "      <td>22.726004</td>\n",
       "      <td>0.141191</td>\n",
       "      <td>25.390625</td>\n",
       "    </tr>\n",
       "    <tr>\n",
       "      <th>2</th>\n",
       "      <td>870</td>\n",
       "      <td>1</td>\n",
       "      <td>11212</td>\n",
       "      <td>0</td>\n",
       "      <td>3.0</td>\n",
       "      <td>540000</td>\n",
       "      <td>521977.0</td>\n",
       "      <td>10178.5515</td>\n",
       "      <td>0.0</td>\n",
       "      <td>7560.0</td>\n",
       "      <td>84006.0</td>\n",
       "      <td>37.2</td>\n",
       "      <td>35840.0</td>\n",
       "      <td>1150.0</td>\n",
       "      <td>11212</td>\n",
       "      <td>10178.5515</td>\n",
       "      <td>28.399976</td>\n",
       "      <td>0.112983</td>\n",
       "      <td>21.093750</td>\n",
       "    </tr>\n",
       "    <tr>\n",
       "      <th>3</th>\n",
       "      <td>871</td>\n",
       "      <td>1</td>\n",
       "      <td>11212</td>\n",
       "      <td>0</td>\n",
       "      <td>5.0</td>\n",
       "      <td>620000</td>\n",
       "      <td>589000.0</td>\n",
       "      <td>11485.5000</td>\n",
       "      <td>0.0</td>\n",
       "      <td>8680.0</td>\n",
       "      <td>84006.0</td>\n",
       "      <td>37.2</td>\n",
       "      <td>35840.0</td>\n",
       "      <td>1150.0</td>\n",
       "      <td>11212</td>\n",
       "      <td>11485.5000</td>\n",
       "      <td>32.046596</td>\n",
       "      <td>0.100126</td>\n",
       "      <td>24.218750</td>\n",
       "    </tr>\n",
       "    <tr>\n",
       "      <th>4</th>\n",
       "      <td>872</td>\n",
       "      <td>1</td>\n",
       "      <td>11212</td>\n",
       "      <td>0</td>\n",
       "      <td>0.0</td>\n",
       "      <td>533000</td>\n",
       "      <td>533000.0</td>\n",
       "      <td>10393.5000</td>\n",
       "      <td>0.0</td>\n",
       "      <td>7462.0</td>\n",
       "      <td>84006.0</td>\n",
       "      <td>37.2</td>\n",
       "      <td>35840.0</td>\n",
       "      <td>1150.0</td>\n",
       "      <td>11212</td>\n",
       "      <td>10393.5000</td>\n",
       "      <td>28.999721</td>\n",
       "      <td>0.110646</td>\n",
       "      <td>20.820312</td>\n",
       "    </tr>\n",
       "  </tbody>\n",
       "</table>\n",
       "</div>"
      ],
      "text/plain": [
       "   index  Count  Zipcode  Owner Occ?  Purchase Down %  Purchase Amt  \\\n",
       "0    875      1    11212           0              2.0        615000   \n",
       "1    909      1    11212           0             30.0        650000   \n",
       "2    870      1    11212           0              3.0        540000   \n",
       "3    871      1    11212           0              5.0        620000   \n",
       "4    872      1    11212           0              0.0        533000   \n",
       "\n",
       "   Amount Mortgaged   Mtg Tx Pd  Mansion Tax Pd  New Sales Tax Amount  \\\n",
       "0          603860.0  11775.2700             0.0                8610.0   \n",
       "1          452500.0   8145.0000             0.0                9100.0   \n",
       "2          521977.0  10178.5515             0.0                7560.0   \n",
       "3          589000.0  11485.5000             0.0                8680.0   \n",
       "4          533000.0  10393.5000             0.0                7462.0   \n",
       "\n",
       "   Population  Median Age  Household Income  Median Gross Rent    Zip  \\\n",
       "0     84006.0        37.2           35840.0             1150.0  11212   \n",
       "1     84006.0        37.2           35840.0             1150.0  11212   \n",
       "2     84006.0        37.2           35840.0             1150.0  11212   \n",
       "3     84006.0        37.2           35840.0             1150.0  11212   \n",
       "4     84006.0        37.2           35840.0             1150.0  11212   \n",
       "\n",
       "   Tot tax pd  Mtax as % Household Income  Months rent spent on Mtax  \\\n",
       "0  11775.2700                   32.855106                   0.097662   \n",
       "1   8145.0000                   22.726004                   0.141191   \n",
       "2  10178.5515                   28.399976                   0.112983   \n",
       "3  11485.5000                   32.046596                   0.100126   \n",
       "4  10393.5000                   28.999721                   0.110646   \n",
       "\n",
       "   New Sales Tax Pd % Household Income  \n",
       "0                            24.023438  \n",
       "1                            25.390625  \n",
       "2                            21.093750  \n",
       "3                            24.218750  \n",
       "4                            20.820312  "
      ]
     },
     "execution_count": 33,
     "metadata": {},
     "output_type": "execute_result"
    }
   ],
   "source": [
    "#Ordering Brooklyn Occupied by lowest income to highest income\n",
    "bklyn_oocc_lowhigh = bklyn_oocc.sort_values('Household Income', ascending=True).reset_index()\n",
    "bklyn_oocc_lowhigh.head()"
   ]
  },
  {
   "cell_type": "code",
   "execution_count": 34,
   "id": "ccd49f32",
   "metadata": {},
   "outputs": [
    {
     "data": {
      "text/html": [
       "<div>\n",
       "<style scoped>\n",
       "    .dataframe tbody tr th:only-of-type {\n",
       "        vertical-align: middle;\n",
       "    }\n",
       "\n",
       "    .dataframe tbody tr th {\n",
       "        vertical-align: top;\n",
       "    }\n",
       "\n",
       "    .dataframe thead th {\n",
       "        text-align: right;\n",
       "    }\n",
       "</style>\n",
       "<table border=\"1\" class=\"dataframe\">\n",
       "  <thead>\n",
       "    <tr style=\"text-align: right;\">\n",
       "      <th></th>\n",
       "      <th>index</th>\n",
       "      <th>Count</th>\n",
       "      <th>Zipcode</th>\n",
       "      <th>Owner Occ?</th>\n",
       "      <th>Purchase Down %</th>\n",
       "      <th>Purchase Amt</th>\n",
       "      <th>Amount Mortgaged</th>\n",
       "      <th>Mtg Tx Pd</th>\n",
       "      <th>Mansion Tax Pd</th>\n",
       "      <th>New Sales Tax Amount</th>\n",
       "      <th>Population</th>\n",
       "      <th>Median Age</th>\n",
       "      <th>Household Income</th>\n",
       "      <th>Median Gross Rent</th>\n",
       "      <th>Zip</th>\n",
       "      <th>Tot tax pd</th>\n",
       "      <th>Mtax as % Household Income</th>\n",
       "      <th>Months rent spent on Mtax</th>\n",
       "      <th>New Sales Tax Pd % Household Income</th>\n",
       "    </tr>\n",
       "  </thead>\n",
       "  <tbody>\n",
       "    <tr>\n",
       "      <th>0</th>\n",
       "      <td>875</td>\n",
       "      <td>1</td>\n",
       "      <td>11212</td>\n",
       "      <td>0</td>\n",
       "      <td>2.0</td>\n",
       "      <td>615000</td>\n",
       "      <td>603860.0</td>\n",
       "      <td>11775.2700</td>\n",
       "      <td>0.0</td>\n",
       "      <td>8610.0</td>\n",
       "      <td>84006.0</td>\n",
       "      <td>37.2</td>\n",
       "      <td>35840.0</td>\n",
       "      <td>1150.0</td>\n",
       "      <td>11212</td>\n",
       "      <td>11775.2700</td>\n",
       "      <td>32.855106</td>\n",
       "      <td>0.097662</td>\n",
       "      <td>24.023438</td>\n",
       "    </tr>\n",
       "    <tr>\n",
       "      <th>1</th>\n",
       "      <td>909</td>\n",
       "      <td>1</td>\n",
       "      <td>11212</td>\n",
       "      <td>0</td>\n",
       "      <td>30.0</td>\n",
       "      <td>650000</td>\n",
       "      <td>452500.0</td>\n",
       "      <td>8145.0000</td>\n",
       "      <td>0.0</td>\n",
       "      <td>9100.0</td>\n",
       "      <td>84006.0</td>\n",
       "      <td>37.2</td>\n",
       "      <td>35840.0</td>\n",
       "      <td>1150.0</td>\n",
       "      <td>11212</td>\n",
       "      <td>8145.0000</td>\n",
       "      <td>22.726004</td>\n",
       "      <td>0.141191</td>\n",
       "      <td>25.390625</td>\n",
       "    </tr>\n",
       "    <tr>\n",
       "      <th>2</th>\n",
       "      <td>870</td>\n",
       "      <td>1</td>\n",
       "      <td>11212</td>\n",
       "      <td>0</td>\n",
       "      <td>3.0</td>\n",
       "      <td>540000</td>\n",
       "      <td>521977.0</td>\n",
       "      <td>10178.5515</td>\n",
       "      <td>0.0</td>\n",
       "      <td>7560.0</td>\n",
       "      <td>84006.0</td>\n",
       "      <td>37.2</td>\n",
       "      <td>35840.0</td>\n",
       "      <td>1150.0</td>\n",
       "      <td>11212</td>\n",
       "      <td>10178.5515</td>\n",
       "      <td>28.399976</td>\n",
       "      <td>0.112983</td>\n",
       "      <td>21.093750</td>\n",
       "    </tr>\n",
       "    <tr>\n",
       "      <th>3</th>\n",
       "      <td>871</td>\n",
       "      <td>1</td>\n",
       "      <td>11212</td>\n",
       "      <td>0</td>\n",
       "      <td>5.0</td>\n",
       "      <td>620000</td>\n",
       "      <td>589000.0</td>\n",
       "      <td>11485.5000</td>\n",
       "      <td>0.0</td>\n",
       "      <td>8680.0</td>\n",
       "      <td>84006.0</td>\n",
       "      <td>37.2</td>\n",
       "      <td>35840.0</td>\n",
       "      <td>1150.0</td>\n",
       "      <td>11212</td>\n",
       "      <td>11485.5000</td>\n",
       "      <td>32.046596</td>\n",
       "      <td>0.100126</td>\n",
       "      <td>24.218750</td>\n",
       "    </tr>\n",
       "    <tr>\n",
       "      <th>4</th>\n",
       "      <td>872</td>\n",
       "      <td>1</td>\n",
       "      <td>11212</td>\n",
       "      <td>0</td>\n",
       "      <td>0.0</td>\n",
       "      <td>533000</td>\n",
       "      <td>533000.0</td>\n",
       "      <td>10393.5000</td>\n",
       "      <td>0.0</td>\n",
       "      <td>7462.0</td>\n",
       "      <td>84006.0</td>\n",
       "      <td>37.2</td>\n",
       "      <td>35840.0</td>\n",
       "      <td>1150.0</td>\n",
       "      <td>11212</td>\n",
       "      <td>10393.5000</td>\n",
       "      <td>28.999721</td>\n",
       "      <td>0.110646</td>\n",
       "      <td>20.820312</td>\n",
       "    </tr>\n",
       "  </tbody>\n",
       "</table>\n",
       "</div>"
      ],
      "text/plain": [
       "   index  Count  Zipcode  Owner Occ?  Purchase Down %  Purchase Amt  \\\n",
       "0    875      1    11212           0              2.0        615000   \n",
       "1    909      1    11212           0             30.0        650000   \n",
       "2    870      1    11212           0              3.0        540000   \n",
       "3    871      1    11212           0              5.0        620000   \n",
       "4    872      1    11212           0              0.0        533000   \n",
       "\n",
       "   Amount Mortgaged   Mtg Tx Pd  Mansion Tax Pd  New Sales Tax Amount  \\\n",
       "0          603860.0  11775.2700             0.0                8610.0   \n",
       "1          452500.0   8145.0000             0.0                9100.0   \n",
       "2          521977.0  10178.5515             0.0                7560.0   \n",
       "3          589000.0  11485.5000             0.0                8680.0   \n",
       "4          533000.0  10393.5000             0.0                7462.0   \n",
       "\n",
       "   Population  Median Age  Household Income  Median Gross Rent    Zip  \\\n",
       "0     84006.0        37.2           35840.0             1150.0  11212   \n",
       "1     84006.0        37.2           35840.0             1150.0  11212   \n",
       "2     84006.0        37.2           35840.0             1150.0  11212   \n",
       "3     84006.0        37.2           35840.0             1150.0  11212   \n",
       "4     84006.0        37.2           35840.0             1150.0  11212   \n",
       "\n",
       "   Tot tax pd  Mtax as % Household Income  Months rent spent on Mtax  \\\n",
       "0  11775.2700                   32.855106                   0.097662   \n",
       "1   8145.0000                   22.726004                   0.141191   \n",
       "2  10178.5515                   28.399976                   0.112983   \n",
       "3  11485.5000                   32.046596                   0.100126   \n",
       "4  10393.5000                   28.999721                   0.110646   \n",
       "\n",
       "   New Sales Tax Pd % Household Income  \n",
       "0                            24.023438  \n",
       "1                            25.390625  \n",
       "2                            21.093750  \n",
       "3                            24.218750  \n",
       "4                            20.820312  "
      ]
     },
     "execution_count": 34,
     "metadata": {},
     "output_type": "execute_result"
    }
   ],
   "source": [
    "#creating DF for the lowest 100 HH income \n",
    "lowest_brooklyn_df = bklyn_oocc_lowhigh.loc[0:99]\n",
    "\n",
    "# top5_brooklyn_df.set_index([\"Zipcode\"], inplace=True)\n",
    "# top5_brooklyn_df\n",
    "lowest_brooklyn_df.head()"
   ]
  },
  {
   "cell_type": "code",
   "execution_count": 35,
   "id": "1f97f5d1",
   "metadata": {},
   "outputs": [
    {
     "data": {
      "text/html": [
       "<div>\n",
       "<style scoped>\n",
       "    .dataframe tbody tr th:only-of-type {\n",
       "        vertical-align: middle;\n",
       "    }\n",
       "\n",
       "    .dataframe tbody tr th {\n",
       "        vertical-align: top;\n",
       "    }\n",
       "\n",
       "    .dataframe thead th {\n",
       "        text-align: right;\n",
       "    }\n",
       "</style>\n",
       "<table border=\"1\" class=\"dataframe\">\n",
       "  <thead>\n",
       "    <tr style=\"text-align: right;\">\n",
       "      <th></th>\n",
       "      <th>index</th>\n",
       "      <th>Count</th>\n",
       "      <th>Zipcode</th>\n",
       "      <th>Owner Occ?</th>\n",
       "      <th>Purchase Down %</th>\n",
       "      <th>Purchase Amt</th>\n",
       "      <th>Amount Mortgaged</th>\n",
       "      <th>Mtg Tx Pd</th>\n",
       "      <th>Mansion Tax Pd</th>\n",
       "      <th>New Sales Tax Amount</th>\n",
       "      <th>Population</th>\n",
       "      <th>Median Age</th>\n",
       "      <th>Household Income</th>\n",
       "      <th>Median Gross Rent</th>\n",
       "      <th>Zip</th>\n",
       "      <th>Tot tax pd</th>\n",
       "      <th>Mtax as % Household Income</th>\n",
       "      <th>Months rent spent on Mtax</th>\n",
       "      <th>New Sales Tax Pd % Household Income</th>\n",
       "    </tr>\n",
       "  </thead>\n",
       "  <tbody>\n",
       "    <tr>\n",
       "      <th>0</th>\n",
       "      <td>296</td>\n",
       "      <td>1</td>\n",
       "      <td>11215</td>\n",
       "      <td>0</td>\n",
       "      <td>74.0</td>\n",
       "      <td>2890255</td>\n",
       "      <td>750000.0</td>\n",
       "      <td>14625.0</td>\n",
       "      <td>28902.55</td>\n",
       "      <td>26012.295</td>\n",
       "      <td>72014.0</td>\n",
       "      <td>37.2</td>\n",
       "      <td>173899.0</td>\n",
       "      <td>2673.0</td>\n",
       "      <td>11215</td>\n",
       "      <td>43527.55</td>\n",
       "      <td>8.410054</td>\n",
       "      <td>0.182769</td>\n",
       "      <td>14.958278</td>\n",
       "    </tr>\n",
       "    <tr>\n",
       "      <th>1</th>\n",
       "      <td>312</td>\n",
       "      <td>1</td>\n",
       "      <td>11215</td>\n",
       "      <td>0</td>\n",
       "      <td>28.0</td>\n",
       "      <td>715000</td>\n",
       "      <td>515000.0</td>\n",
       "      <td>10042.5</td>\n",
       "      <td>0.00</td>\n",
       "      <td>10010.000</td>\n",
       "      <td>72014.0</td>\n",
       "      <td>37.2</td>\n",
       "      <td>173899.0</td>\n",
       "      <td>2673.0</td>\n",
       "      <td>11215</td>\n",
       "      <td>10042.50</td>\n",
       "      <td>5.774904</td>\n",
       "      <td>0.266169</td>\n",
       "      <td>5.756215</td>\n",
       "    </tr>\n",
       "    <tr>\n",
       "      <th>2</th>\n",
       "      <td>323</td>\n",
       "      <td>1</td>\n",
       "      <td>11215</td>\n",
       "      <td>0</td>\n",
       "      <td>25.0</td>\n",
       "      <td>1860000</td>\n",
       "      <td>1395000.0</td>\n",
       "      <td>27202.5</td>\n",
       "      <td>18600.00</td>\n",
       "      <td>16740.000</td>\n",
       "      <td>72014.0</td>\n",
       "      <td>37.2</td>\n",
       "      <td>173899.0</td>\n",
       "      <td>2673.0</td>\n",
       "      <td>11215</td>\n",
       "      <td>45802.50</td>\n",
       "      <td>15.642701</td>\n",
       "      <td>0.098263</td>\n",
       "      <td>9.626277</td>\n",
       "    </tr>\n",
       "    <tr>\n",
       "      <th>3</th>\n",
       "      <td>1566</td>\n",
       "      <td>1</td>\n",
       "      <td>11215</td>\n",
       "      <td>0</td>\n",
       "      <td>83.0</td>\n",
       "      <td>2450000</td>\n",
       "      <td>408000.0</td>\n",
       "      <td>7344.0</td>\n",
       "      <td>24500.00</td>\n",
       "      <td>22050.000</td>\n",
       "      <td>72014.0</td>\n",
       "      <td>37.2</td>\n",
       "      <td>173899.0</td>\n",
       "      <td>2673.0</td>\n",
       "      <td>11215</td>\n",
       "      <td>31844.00</td>\n",
       "      <td>4.223141</td>\n",
       "      <td>0.363971</td>\n",
       "      <td>12.679774</td>\n",
       "    </tr>\n",
       "    <tr>\n",
       "      <th>4</th>\n",
       "      <td>322</td>\n",
       "      <td>1</td>\n",
       "      <td>11215</td>\n",
       "      <td>0</td>\n",
       "      <td>24.0</td>\n",
       "      <td>3155000</td>\n",
       "      <td>2405000.0</td>\n",
       "      <td>46897.5</td>\n",
       "      <td>31550.00</td>\n",
       "      <td>28395.000</td>\n",
       "      <td>72014.0</td>\n",
       "      <td>37.2</td>\n",
       "      <td>173899.0</td>\n",
       "      <td>2673.0</td>\n",
       "      <td>11215</td>\n",
       "      <td>78447.50</td>\n",
       "      <td>26.968240</td>\n",
       "      <td>0.056997</td>\n",
       "      <td>16.328444</td>\n",
       "    </tr>\n",
       "  </tbody>\n",
       "</table>\n",
       "</div>"
      ],
      "text/plain": [
       "   index  Count  Zipcode  Owner Occ?  Purchase Down %  Purchase Amt  \\\n",
       "0    296      1    11215           0             74.0       2890255   \n",
       "1    312      1    11215           0             28.0        715000   \n",
       "2    323      1    11215           0             25.0       1860000   \n",
       "3   1566      1    11215           0             83.0       2450000   \n",
       "4    322      1    11215           0             24.0       3155000   \n",
       "\n",
       "   Amount Mortgaged  Mtg Tx Pd  Mansion Tax Pd  New Sales Tax Amount  \\\n",
       "0          750000.0    14625.0        28902.55             26012.295   \n",
       "1          515000.0    10042.5            0.00             10010.000   \n",
       "2         1395000.0    27202.5        18600.00             16740.000   \n",
       "3          408000.0     7344.0        24500.00             22050.000   \n",
       "4         2405000.0    46897.5        31550.00             28395.000   \n",
       "\n",
       "   Population  Median Age  Household Income  Median Gross Rent    Zip  \\\n",
       "0     72014.0        37.2          173899.0             2673.0  11215   \n",
       "1     72014.0        37.2          173899.0             2673.0  11215   \n",
       "2     72014.0        37.2          173899.0             2673.0  11215   \n",
       "3     72014.0        37.2          173899.0             2673.0  11215   \n",
       "4     72014.0        37.2          173899.0             2673.0  11215   \n",
       "\n",
       "   Tot tax pd  Mtax as % Household Income  Months rent spent on Mtax  \\\n",
       "0    43527.55                    8.410054                   0.182769   \n",
       "1    10042.50                    5.774904                   0.266169   \n",
       "2    45802.50                   15.642701                   0.098263   \n",
       "3    31844.00                    4.223141                   0.363971   \n",
       "4    78447.50                   26.968240                   0.056997   \n",
       "\n",
       "   New Sales Tax Pd % Household Income  \n",
       "0                            14.958278  \n",
       "1                             5.756215  \n",
       "2                             9.626277  \n",
       "3                            12.679774  \n",
       "4                            16.328444  "
      ]
     },
     "execution_count": 35,
     "metadata": {},
     "output_type": "execute_result"
    }
   ],
   "source": [
    "#creating DF for the highest 100 HH income \n",
    "highest_brooklyn_df = bklyn_oocc_highlow.loc[0:99]\n",
    "\n",
    "# top5_brooklyn_df.set_index([\"Zipcode\"], inplace=True)\n",
    "# top5_brooklyn_df\n",
    "highest_brooklyn_df.head()"
   ]
  },
  {
   "cell_type": "code",
   "execution_count": 36,
   "id": "4d8d5560",
   "metadata": {},
   "outputs": [],
   "source": [
    "#Pulling the same mortgae % column for lowest and highest income \n",
    "low_income = lowest_brooklyn_df['Mtax as % Household Income']\n",
    "high_income = highest_brooklyn_df['Mtax as % Household Income']\n",
    "\n",
    "#Pulling the same new sales column for lowest and highest income \n",
    "new_low_income = lowest_brooklyn_df['New Sales Tax Pd % Household Income']\n",
    "new_high_income = highest_brooklyn_df['New Sales Tax Pd % Household Income']"
   ]
  },
  {
   "cell_type": "code",
   "execution_count": 37,
   "id": "75d3ede7",
   "metadata": {},
   "outputs": [
    {
     "data": {
      "image/png": "[encoded data removed]",
      "text/plain": [
       "<Figure size 640x480 with 1 Axes>"
      ]
     },
     "metadata": {},
     "output_type": "display_data"
    }
   ],
   "source": [
    "#plotting the low vs high income group for mortgage %\n",
    "fig, ax = plt.subplots()\n",
    "ax.set_title('Mtax as % Household Income')\n",
    "ax.set_ylabel('Mtax as % Household Income')\n",
    "ax.boxplot([low_income, high_income], labels=['Low Income', 'High Income'])\n",
    "plt.show()"
   ]
  },
  {
   "cell_type": "code",
   "execution_count": 38,
   "id": "ba91b54a",
   "metadata": {},
   "outputs": [
    {
     "data": {
      "text/plain": [
       "0.25     3.455482\n",
       "0.50     8.163359\n",
       "0.75    13.214746\n",
       "Name: Mtax as % Household Income, dtype: float64"
      ]
     },
     "execution_count": 38,
     "metadata": {},
     "output_type": "execute_result"
    }
   ],
   "source": [
    "# Mortgage % high income quartile \n",
    "high_quartiles = high_income.quantile([.25,.5,.75])\n",
    "high_quartiles"
   ]
  },
  {
   "cell_type": "code",
   "execution_count": 45,
   "id": "64b003f4",
   "metadata": {},
   "outputs": [
    {
     "data": {
      "text/plain": [
       "0.25     8.219296\n",
       "0.50    18.768315\n",
       "0.75    25.396351\n",
       "Name: Mtax as % Household Income, dtype: float64"
      ]
     },
     "execution_count": 45,
     "metadata": {},
     "output_type": "execute_result"
    }
   ],
   "source": [
    "# Mortgage % low income quartile \n",
    "low_quartiles = low_income.quantile([.25,.5,.75])\n",
    "low_quartiles"
   ]
  },
  {
   "cell_type": "code",
   "execution_count": 46,
   "id": "061a0a7d",
   "metadata": {},
   "outputs": [
    {
     "data": {
      "text/plain": [
       "51.16193322852472"
      ]
     },
     "execution_count": 46,
     "metadata": {},
     "output_type": "execute_result"
    }
   ],
   "source": [
    "# Mortgage % low income quartile range\n",
    "lowerq = low_quartiles[0.25]\n",
    "upperq = low_quartiles[0.75]\n",
    "iqr = upperq-lowerq\n",
    "lower_bound = lowerq - (1.5*iqr)\n",
    "upper_bound = upperq + (1.5*iqr)\n",
    "upper_bound"
   ]
  },
  {
   "cell_type": "code",
   "execution_count": 48,
   "id": "821911f9",
   "metadata": {},
   "outputs": [
    {
     "data": {
      "text/plain": [
       "27.853642703523313"
      ]
     },
     "execution_count": 48,
     "metadata": {},
     "output_type": "execute_result"
    }
   ],
   "source": [
    "high_lowerq = high_quartiles[0.25]\n",
    "high_upperq = high_quartiles[0.75]\n",
    "iqr = high_upperq-high_lowerq\n",
    "high_lower_bound = high_lowerq - (1.5*iqr)\n",
    "high_upper_bound = high_upperq + (1.5*iqr)\n",
    "high_upper_bound"
   ]
  },
  {
   "cell_type": "code",
   "execution_count": 50,
   "id": "6a2a1552",
   "metadata": {},
   "outputs": [
    {
     "name": "stdout",
     "output_type": "stream",
     "text": [
      "Outlier values: 16     90.206835\n",
      "78    670.155156\n",
      "80    670.155156\n",
      "Name: Mtax as % Household Income, dtype: float64\n"
     ]
    }
   ],
   "source": [
    "low_income_outliers = low_income[(low_income < lower_bound) | (low_income > upper_bound)]\n",
    "print(\"Outlier values:\", low_income_outliers)"
   ]
  },
  {
   "cell_type": "code",
   "execution_count": 52,
   "id": "d846f3f2",
   "metadata": {},
   "outputs": [
    {
     "name": "stdout",
     "output_type": "stream",
     "text": [
      "Outlier values: 29    29.154854\n",
      "47    37.564908\n",
      "66    30.276195\n",
      "96    30.276195\n",
      "Name: Mtax as % Household Income, dtype: float64\n"
     ]
    }
   ],
   "source": [
    "high_income_outliers = high_income[(high_income < high_lower_bound) | (high_income > high_upper_bound)]\n",
    "print(\"Outlier values:\", high_income_outliers)"
   ]
  },
  {
   "cell_type": "code",
   "execution_count": 54,
   "id": "abf963ed",
   "metadata": {},
   "outputs": [
    {
     "data": {
      "image/png": "[encoded data removed]",
      "text/plain": [
       "<Figure size 640x480 with 1 Axes>"
      ]
     },
     "metadata": {},
     "output_type": "display_data"
    }
   ],
   "source": [
    "Ldata_no_outliers = low_income[(low_income > lower_bound) & (low_income < upper_bound)]\n",
    "Hdata_no_outliers = high_income[(high_income > high_lower_bound) & (high_income < high_upper_bound)]\n",
    "plt.boxplot([Ldata_no_outliers, Hdata_no_outliers], labels=['Low Income', 'High Income'])\n",
    "plt.title('Boxplot without Outliers (Mtax as % Household Income)')\n",
    "plt.show()"
   ]
  },
  {
   "cell_type": "code",
   "execution_count": 55,
   "id": "eb05b1a0",
   "metadata": {},
   "outputs": [
    {
     "data": {
      "image/png": "[encoded data removed]",
      "text/plain": [
       "<Figure size 640x480 with 1 Axes>"
      ]
     },
     "metadata": {},
     "output_type": "display_data"
    }
   ],
   "source": [
    "fig, ax = plt.subplots()\n",
    "ax.set_title('New Sales Tax Pd % Household Income')\n",
    "ax.set_ylabel('New Sales Tax Pd % Household Income')\n",
    "ax.boxplot([new_low_income, new_high_income], labels=['Low Income', 'High Income'])\n",
    "plt.show()"
   ]
  },
  {
   "cell_type": "code",
   "execution_count": 56,
   "id": "8b6e6a62",
   "metadata": {},
   "outputs": [
    {
     "data": {
      "text/plain": [
       "0.25    16.309007\n",
       "0.50    20.704524\n",
       "0.75    23.195763\n",
       "Name: New Sales Tax Pd % Household Income, dtype: float64"
      ]
     },
     "execution_count": 56,
     "metadata": {},
     "output_type": "execute_result"
    }
   ],
   "source": [
    "new_low_quartiles = new_low_income.quantile([.25,.5,.75])\n",
    "new_low_quartiles"
   ]
  },
  {
   "cell_type": "code",
   "execution_count": 57,
   "id": "dc0d182c",
   "metadata": {},
   "outputs": [
    {
     "data": {
      "text/plain": [
       "0.25    6.207626\n",
       "0.50    7.446851\n",
       "0.75    9.606870\n",
       "Name: New Sales Tax Pd % Household Income, dtype: float64"
      ]
     },
     "execution_count": 57,
     "metadata": {},
     "output_type": "execute_result"
    }
   ],
   "source": [
    "new_high_quartiles = new_high_income.quantile([.25,.5,.75])\n",
    "new_high_quartiles"
   ]
  },
  {
   "cell_type": "code",
   "execution_count": 59,
   "id": "b76894ed",
   "metadata": {},
   "outputs": [
    {
     "data": {
      "text/plain": [
       "37.83466006977912"
      ]
     },
     "execution_count": 59,
     "metadata": {},
     "output_type": "execute_result"
    }
   ],
   "source": [
    "lnew_lowerq = new_low_quartiles[0.25]\n",
    "lnew_upperq = new_low_quartiles[0.75]\n",
    "lnew_iqr = lnew_upperq-lnew_lowerq\n",
    "lnew_lower_bound = lnew_lowerq - (1.5*iqr)\n",
    "lnew_upper_bound = lnew_upperq + (1.5*iqr)\n",
    "lnew_upper_bound"
   ]
  },
  {
   "cell_type": "code",
   "execution_count": 60,
   "id": "c88e0b43",
   "metadata": {},
   "outputs": [
    {
     "data": {
      "text/plain": [
       "24.24576614874151"
      ]
     },
     "execution_count": 60,
     "metadata": {},
     "output_type": "execute_result"
    }
   ],
   "source": [
    "hnew_high_lowerq = new_high_quartiles[0.25]\n",
    "hnew_high_upperq = new_high_quartiles[0.75]\n",
    "hnew_high_iqr = hnew_high_upperq-hnew_high_lowerq\n",
    "hnew_high_lower_bound = hnew_high_lowerq - (1.5*iqr)\n",
    "hnew_high_upper_bound = hnew_high_upperq + (1.5*iqr)\n",
    "hnew_high_upper_bound"
   ]
  },
  {
   "cell_type": "code",
   "execution_count": 61,
   "id": "5f357fc5",
   "metadata": {},
   "outputs": [
    {
     "name": "stdout",
     "output_type": "stream",
     "text": [
      "Outlier values: 16     52.042405\n",
      "58      1.522123\n",
      "78     99.919295\n",
      "80    523.261668\n",
      "Name: New Sales Tax Pd % Household Income, dtype: float64\n"
     ]
    }
   ],
   "source": [
    "lnew_outliers = new_low_income[(new_low_income < lnew_lower_bound) | (new_low_income > lnew_upper_bound)]\n",
    "print(\"Outlier values:\", lnew_outliers)"
   ]
  },
  {
   "cell_type": "code",
   "execution_count": 62,
   "id": "12b0e7ee",
   "metadata": {},
   "outputs": [
    {
     "name": "stdout",
     "output_type": "stream",
     "text": [
      "Outlier values: 27    57.534474\n",
      "29    38.298093\n",
      "43    28.464799\n",
      "47    30.276195\n",
      "54    37.780551\n",
      "Name: New Sales Tax Pd % Household Income, dtype: float64\n"
     ]
    }
   ],
   "source": [
    "hnew_high_outliers = new_high_income[(new_high_income < hnew_high_lower_bound) | (new_high_income > hnew_high_upper_bound)]\n",
    "print(\"Outlier values:\", hnew_high_outliers)"
   ]
  },
  {
   "cell_type": "code",
   "execution_count": 65,
   "id": "543c2e80",
   "metadata": {},
   "outputs": [
    {
     "data": {
      "image/png": "[encoded data removed]",
      "text/plain": [
       "<Figure size 640x480 with 1 Axes>"
      ]
     },
     "metadata": {},
     "output_type": "display_data"
    }
   ],
   "source": [
    "NoLnew_data_no_outliers = new_low_income[(new_low_income >= lnew_lower_bound) & (new_low_income <= lnew_upper_bound)]\n",
    "NoHnew_data_no_outliers = new_high_income[(new_high_income >= hnew_high_lower_bound) & (new_high_income <= hnew_high_upper_bound)]\n",
    "plt.boxplot([NoLnew_data_no_outliers, NoHnew_data_no_outliers], labels=['Low Income', 'High Income'])\n",
    "plt.title('Boxplot without Outliers (New Sales Tax Pd % Household Income)')\n",
    "plt.show()"
   ]
  },
  {
   "cell_type": "code",
   "execution_count": 66,
   "id": "b8c9dca6",
   "metadata": {},
   "outputs": [
    {
     "data": {
      "image/png": "[encoded data removed]",
      "text/plain": [
       "<Figure size 640x480 with 1 Axes>"
      ]
     },
     "metadata": {},
     "output_type": "display_data"
    }
   ],
   "source": [
    "NoLnew_data_no_outliers = new_low_income[(new_low_income >= lnew_lower_bound) & (new_low_income <= lnew_upper_bound)]\n",
    "NoHnew_data_no_outliers = new_high_income[(new_high_income >= hnew_high_lower_bound) & (new_high_income <= hnew_high_upper_bound)]\n",
    "plt.boxplot([NoLnew_data_no_outliers, new_high_income], labels=['Low Income', 'High Income'])\n",
    "plt.title('Boxplot without Outliers (New Sales Tax Pd % Household Income)')\n",
    "plt.show()"
   ]
  },
  {
   "cell_type": "code",
   "execution_count": null,
   "id": "46adc76f",
   "metadata": {},
   "outputs": [],
   "source": [
    "# fourframes= [bklyn_oocc, bklyn_investors, high_low_oocc, high_low_investors]\n",
    "\n",
    "column_load = {'Count': 'sum', \"Population\": 'mean', 'Count': 'sum', 'Purchase Amt': 'mean',\n",
    "           'Amount Mortgaged': 'mean','Mtg Tx Pd': 'mean', 'Mtax as % Household Income': 'mean', \n",
    "            'Months rent spent on Mtax': 'median',\n",
    "           'Mansion Tax Pd': 'mean', 'New Sales Tax Amount': 'mean', 'Household Income': 'mean'}\n"
   ]
  },
  {
   "cell_type": "code",
   "execution_count": null,
   "id": "e5147f1b",
   "metadata": {
    "scrolled": true
   },
   "outputs": [],
   "source": [
    "bklyn_investors_by_zip = pd.DataFrame(data = bklyn_investors)\n",
    "bklyn_investors_by_zip = bklyn_investors_by_zip.groupby(['Zipcode']).agg(column_load).reset_index()\n",
    "#bklyn_investors_by_zip = bklyn_investors_by_zip.applymap(\"{:.2f}\".format)\n",
    "bklyn_investors_by_zip.head()"
   ]
  },
  {
   "cell_type": "code",
   "execution_count": null,
   "id": "28afa50d",
   "metadata": {},
   "outputs": [],
   "source": [
    "bklyn_oocc_by_zip = pd.DataFrame(bklyn_oocc)\n",
    "bklyn_oocc_by_zip = bklyn_oocc_by_zip.groupby(['Zip'], axis=0).agg(column_load)\n",
    "#bklyn_oocc_by_zip = bklyn_oocc_by_zip.applymap(\"{:.2f}\".format)\n",
    "bklyn_oocc_by_zip.head()"
   ]
  },
  {
   "cell_type": "code",
   "execution_count": null,
   "id": "5586a110",
   "metadata": {},
   "outputs": [],
   "source": []
  },
  {
   "cell_type": "code",
   "execution_count": null,
   "id": "cf50a89d",
   "metadata": {},
   "outputs": [],
   "source": []
  },
  {
   "cell_type": "code",
   "execution_count": null,
   "id": "94ccab2c",
   "metadata": {},
   "outputs": [],
   "source": []
  },
  {
   "cell_type": "code",
   "execution_count": null,
   "id": "c0868109",
   "metadata": {},
   "outputs": [],
   "source": []
  },
  {
   "cell_type": "code",
   "execution_count": null,
   "id": "78878785",
   "metadata": {},
   "outputs": [],
   "source": []
  },
  {
   "cell_type": "code",
   "execution_count": null,
   "id": "078b3c81",
   "metadata": {},
   "outputs": [],
   "source": []
  },
  {
   "cell_type": "code",
   "execution_count": null,
   "id": "b622c917",
   "metadata": {},
   "outputs": [],
   "source": [
    "bklyn_oocc_by_zip.describe()"
   ]
  },
  {
   "cell_type": "code",
   "execution_count": null,
   "id": "19bf89bc",
   "metadata": {
    "scrolled": true
   },
   "outputs": [],
   "source": [
    "bklyn_investors_by_zip[['Count', 'Population', 'Purchase Amt',\n",
    "       'Amount Mortgaged', 'Mtg Tx Pd', 'Mansion Tax Pd',\n",
    "       'New Sales Tax Amount', 'Household Income']]=bklyn_investors_by_zip[['Count', 'Population', 'Purchase Amt', \n",
    "       'Amount Mortgaged', 'Mtg Tx Pd', 'Mansion Tax Pd',\n",
    "       'New Sales Tax Amount', 'Household Income']].astype('float64')\n",
    "bklyn_investors_by_zip.sort_values(by=['Household Income'], inplace=True)\n",
    "bklyn_investors_by_zip.head()"
   ]
  },
  {
   "cell_type": "code",
   "execution_count": null,
   "id": "d020f64a",
   "metadata": {},
   "outputs": [],
   "source": [
    "bklyn_oocc_by_zip[['Count', 'Population', 'Purchase Amt',\n",
    "       'Amount Mortgaged', 'Mtg Tx Pd', 'Mansion Tax Pd',\n",
    "       'New Sales Tax Amount', 'Household Income']]=bklyn_oocc_by_zip[['Count', 'Population', 'Purchase Amt', \n",
    "       'Amount Mortgaged', 'Mtg Tx Pd', 'Mansion Tax Pd',\n",
    "       'New Sales Tax Amount', 'Household Income']].astype('float64')\n",
    "bklyn_oocc_by_zip.sort_values(by=['Household Income'], inplace=True)\n",
    "bklyn_oocc_by_zip.head()"
   ]
  },
  {
   "cell_type": "code",
   "execution_count": null,
   "id": "c80f29ca",
   "metadata": {},
   "outputs": [],
   "source": [
    "bklyn_oocc_by_zip['mtg %'] = bklyn_oocc_by_zip['Amount Mortgaged']/bklyn_oocc_by_zip['Purchase Amt']*100\n",
    "bklyn_investors_by_zip['mtg %'] = bklyn_investors_by_zip['Amount Mortgaged']/bklyn_investors_by_zip['Purchase Amt']*100\n",
    "bklyn_oocc_by_zip.head()"
   ]
  },
  {
   "cell_type": "code",
   "execution_count": null,
   "id": "551e52e7",
   "metadata": {},
   "outputs": [],
   "source": [
    "col_to_plot = ['Purchase Amt', 'Amount Mortgaged',\n",
    "       'Mtg Tx Pd', 'Mtax as % Household Income', 'Months rent spent on Mtax',\n",
    "       'New Sales Tax Amount',\n",
    "       'mtg %']\n",
    "\n",
    "def plotscat(col_to_plot, df):\n",
    "    fig, axes = plt.subplots(nrows=len(col_to_plot), ncols=1, figsize=(8, 2 * len(col_to_plot)))\n",
    "    for i, column in enumerate(col_to_plot):\n",
    "        axes[i].scatter(df['Household Income'], df[column])\n",
    "        axes[i].set_title(f'Scatter Plot: Household Income vs {column}')\n",
    "        axes[i].set_xlabel('Household Income')\n",
    "        axes[i].set_ylabel(column)\n",
    "    plt.tight_layout()\n",
    "    plt.show()"
   ]
  },
  {
   "cell_type": "code",
   "execution_count": null,
   "id": "ca6feea8",
   "metadata": {
    "scrolled": true
   },
   "outputs": [],
   "source": [
    "plotscat(col_to_plot, bklyn_oocc_by_zip)"
   ]
  },
  {
   "cell_type": "code",
   "execution_count": null,
   "id": "ac5f27ac",
   "metadata": {},
   "outputs": [],
   "source": [
    "bklyn_oocc_by_zip.shape"
   ]
  },
  {
   "cell_type": "code",
   "execution_count": null,
   "id": "59c34747",
   "metadata": {
    "scrolled": true
   },
   "outputs": [],
   "source": [
    "plt.figure(figsize=(15,5))\n",
    "\n",
    "plt.plot(bklyn_oocc_by_zip['Household Income'], bklyn_oocc_by_zip['mtg %'], marker=\"x\", label='Bklyn Residence Purchase')\n",
    "plt.plot(bklyn_investors_by_zip['Household Income'], bklyn_investors_by_zip['mtg %'], marker=\"o\", label='Bklyn Investment Purchase')\n",
    "plt.yticks(fontsize=15)\n",
    "plt.xlabel('Zipcode sorted by Household Income (in thousands)', fontsize=20)\n",
    "plt.ylabel('Percent Borrowed', fontsize=20)\n",
    "plt.title('Average Income vs. Average Percent Mortgaged across Zipcodes in Brooklyn 2022', fontsize=20)\n",
    "plt.legend()\n",
    "plt.show()"
   ]
  },
  {
   "cell_type": "code",
   "execution_count": null,
   "id": "53b9c091",
   "metadata": {},
   "outputs": [],
   "source": [
    "#########??? do we still need this?\n",
    "\n",
    "# plt.figure(figsize=(15,5))\n",
    "\n",
    "# plt.plot(high_low_oocc_by_zip['Household Income'], high_low_oocc_by_zip['mtg %'], marker=\"x\", label='high_low Residence Purchase')\n",
    "# plt.plot(high_low_oocc_by_zip['Household Income'], high_low_investors_by_zip['mtg %'], marker=\"o\", label='high_low Investment Purchase')\n",
    "# #plt.plot(manhatt_oocc_df['Per Capita Income'], investor_by_zip[\"total_tax_paid\"], marker=\"o\", label='Total Tax Paid')\n",
    "# #plt.xticks(high_low_oocc_df['Per Capita Income'], rotation=90)\n",
    "# #plt.xticks(), fontsize=15, rotation='vertical')\n",
    "# plt.yticks(fontsize=15)\n",
    "# plt.xlabel('Zipcode sorted by Household Income (in thousands)', fontsize=20)\n",
    "# plt.ylabel('Percent Borrowed', fontsize=20)\n",
    "# plt.title('Average Income vs. Average Percent Borrowed across Zipcodes in Brooklyn 2022', fontsize=20)\n",
    "# plt.legend()\n",
    "# plt.show()"
   ]
  },
  {
   "cell_type": "code",
   "execution_count": null,
   "id": "db667bf8",
   "metadata": {},
   "outputs": [],
   "source": [
    "# plt.figure(figsize=(15,5))\n",
    "\n",
    "# plt.plot(high_low_oocc_by_zip['Per Capita Income'], yaxis, marker=\"x\", label='Bklyn Residence Purchase')\n",
    "# plt.plot(high_low_oocc_by_zip['Per Capita Income'], high_low_investors_by_zip['% borrowed'], marker=\"o\", label='Bklyn Investment Purchase')\n",
    "#     #plt.plot(manhatt_oocc_df['Per Capita Income'], investor_by_zip[\"total_tax_paid\"], marker=\"o\", label='Total Tax Paid')\n",
    "#     #plt.xticks(bklyn_oocc_df['Per Capita Income'], rotation=90)\n",
    "#     #plt.xticks(), fontsize=15, rotation='vertical')\n",
    "# plt.yticks(fontsize=15)\n",
    "# plt.xlabel('Zipcode sorted by Per Capita Income (in thousands)', fontsize=20)\n",
    "# plt.ylabel('Percent Borrowed', fontsize=20)\n",
    "# plt.title('Average Income vs. Average Percent Borrowed across Zipcodes in other 8 2022', fontsize=20)\n",
    "# plt.legend()\n",
    "# plt.show()"
   ]
  },
  {
   "cell_type": "code",
   "execution_count": null,
   "id": "108b6c20",
   "metadata": {},
   "outputs": [],
   "source": [
    "#make a chart of the % borrowed for the zip in ascending order but first sort dfs in order\n",
    "\n",
    "#fig = plt.figure()\n",
    "#ax1 = fig.add_subplot()\n",
    "\n",
    "\n",
    "\n",
    "# bklyn_sorted.plot('Household Income', 'mtg %')\n",
    "# plt.show()\n",
    "\n",
    "#bklyn_oocc_by_zip.set_index(['Per Capita Income'), inplace = True)\n",
    "#bklyn_oocc_by_zip.sort_index()\n",
    "#bklyn_investors_by_zip.sort_values('Per Capita Income', inplace = True)\n",
    "#bklyn_investors_by_zip.sort_index()\n",
    "#bklyn_oocc_df['perCI'] = bklyn_oocc_df.index.astype(str)\n",
    "#manhattan_oocc_df.set_index('Per Capita Income', inplace = True)\n",
    "# #manhattan_investor_df.set_index('Per Capita Income', inplace = True)\n",
    "\n",
    "# graphaxis1 = pd.DataFrame(bklyn_oocc_by_zip['Per Capita Income'], ['% borrowed'])\n",
    "\n",
    "# plt.figure(figsize=(15,10))\n",
    "\n",
    "\n",
    "\n",
    "# plt.plot(graphaxis1['Per Capita Income'], graphaxis1['% borrowed'], marker=\"x\", label='Bklyn Residence Purchase')\n",
    "# #plt.plot(x = bklyn_investors_by_zip['Per Capita Income'], y =bklyn_investors_by_zip['% borrowed'], marker=\"o\", label='Bklyn Investment Purchase')\n",
    "# #plt.plot(manhatt_oocc_df['Per Capita Income'], investor_by_zip[\"total_tax_paid\"], marker=\"o\", label='Total Tax Paid')\n",
    "# #plt.xticks(bklyn_oocc_df['Per Capita Income'], rotation=90)\n",
    "# plt.xticks(['Per Capita Income'], fontsize=15, rotation='vertical')\n",
    "# plt.yticks(fontsize=15)\n",
    "# plt.xlabel('Zipcode sorted by Per Capita Income (in thousands)', fontsize=20)\n",
    "# plt.ylabel('Percent Borrowed', fontsize=20)\n",
    "# plt.title('Average Income vs. Average Percent Borrowed across Zipcodes in Brooklyn 2022', fontsize=20)\n",
    "# plt.legend()\n",
    "# plt.show()"
   ]
  },
  {
   "cell_type": "code",
   "execution_count": null,
   "id": "f6b40c47",
   "metadata": {},
   "outputs": [],
   "source": []
  },
  {
   "cell_type": "code",
   "execution_count": null,
   "id": "2ab5e2f3",
   "metadata": {},
   "outputs": [],
   "source": [
    "bklyn_oocc.head()"
   ]
  },
  {
   "cell_type": "code",
   "execution_count": null,
   "id": "d306d801",
   "metadata": {},
   "outputs": [],
   "source": [
    "bklyn_oocc = bklyn_oocc.groupby(['Zipcode']).agg({'Count': 'sum', 'Purchase Amt': 'mean', #                                                             'Purchase Down %': 'mean', '% borrowed': 'mean',\n",
    "                                                            'Amount Mortgaged': 'mean', \n",
    "                                                            'Mtg Tx Pd': 'mean', 'Mansion Tax Pd': 'mean', \n",
    "                                                            'New Sales Tax Amount': 'mean',\n",
    "                                                             'Household Income': 'mean'})\n",
    "\n",
    "# bklyn_oocc = bklyn_oocc.applymap(\"{:.2f}\".format)\n",
    "bklyn_oocc.head()"
   ]
  },
  {
   "cell_type": "code",
   "execution_count": null,
   "id": "cfd790b2",
   "metadata": {},
   "outputs": [],
   "source": [
    "# high_low_oocc = high_low_oocc.groupby(['Zipcode']).agg({'Zipcode': 'Zipcode', \"Population\": 'mean', 'Count': 'sum', 'Purchase Amt': 'mean',\n",
    "#            'Purchase Down %': 'mean', 'mtg %': 'mean',\n",
    "#            'Amount Mortgaged': 'mean','Mtg Tx Pd': 'mean',\n",
    "#            'Mansion Tax Pd': 'mean', 'New Sales Tax Amount': 'mean'})\n",
    "\n",
    "# high_low_oocc = high_low_oocc.applymap(\"{:.2f}\".format)\n",
    "# high_low_oocc.head()"
   ]
  },
  {
   "cell_type": "code",
   "execution_count": null,
   "id": "0cb97d43",
   "metadata": {},
   "outputs": [],
   "source": [
    "#bklyn_oocc.set_index('Per Capita Income', inplace = True)\n",
    "bklyn_investors.set_index('Household Income', inplace = True)\n",
    "# bklyn_oocc['perCI'] = bklyn_oocc.index.astype(str)\n",
    "# # manhattan_oocc_df.set_index('Per Capita Income', inplace = True)\n",
    "# # manhattan_investor_df.set_index('Per Capita Income', inplace = True)\n",
    "\n",
    "\n",
    "# plt.figure(figsize=(15,5))\n",
    "\n",
    "\n",
    "\n",
    "plt.plot(bklyn_oocc['Household Income'], bklyn_oocc['mtg %'], marker=\"x\", label='Bklyn Residence Purchase')\n",
    "plt.plot(bklyn_oocc['perCI'], bklyn_investors['mtg %'], marker=\"o\", label='Bklyn Investment Purchase')\n",
    "# #plt.plot(manhatt_oocc_df['Per Capita Income'], investor_by_zip[\"total_tax_paid\"], marker=\"o\", label='Total Tax Paid')\n",
    "# #plt.xticks(bklyn_oocc_df['Per Capita Income'], rotation=90)\n",
    "# plt.xticks(range(len(bklyn_oocc['Zip'])), fontsize=15, rotation='vertical')\n",
    "# plt.yticks(fontsize=15)\n",
    "# plt.xlabel('Zipcode sorted by Per Capita Income (in thousands)', fontsize=20)\n",
    "# plt.ylabel('Percent Borrowed', fontsize=20)\n",
    "# plt.title('Average Income vs. Average Percent Borrowed across Zipcodes in Brooklyn 2022', fontsize=20)\n",
    "# plt.legend()\n",
    "# plt.show()\n",
    "\n",
    "bklyn_oocc.head()"
   ]
  },
  {
   "cell_type": "code",
   "execution_count": null,
   "id": "6f07ea52",
   "metadata": {},
   "outputs": [],
   "source": []
  },
  {
   "cell_type": "code",
   "execution_count": null,
   "id": "c33b3c29",
   "metadata": {},
   "outputs": [],
   "source": []
  },
  {
   "cell_type": "code",
   "execution_count": null,
   "id": "4d3a8da3",
   "metadata": {},
   "outputs": [],
   "source": []
  },
  {
   "cell_type": "code",
   "execution_count": null,
   "id": "89cd0c08",
   "metadata": {},
   "outputs": [],
   "source": []
  },
  {
   "cell_type": "code",
   "execution_count": null,
   "id": "71ebb562",
   "metadata": {},
   "outputs": [],
   "source": [
    "#the next few cells seperate the data into 4 data frames, first by owner \n",
    "#2 for brooklyn, and two for the other zips,\n",
    "#each of these are then sp\n",
    "\n",
    "\n",
    "owner_occ_by_zip = bklyn_oocc.groupby(['Zipcode']).agg({'Count': 'sum', 'Purchase Amt': 'mean', \n",
    "                                                            'Purchase Down %': 'mean',\n",
    "                                                            'Amount Mortgaged': 'mean', \n",
    "                                                            'Mtg Tx Pd': 'mean', 'Mansion Tax Pd': 'mean', \n",
    "                                                            'New Sales Tax Amount': 'mean', \n",
    "                                                            })\n",
    "\n",
    "\n",
    "owner_occ_by_zip[\"Purchase Amt\"] = owner_occ_by_zip[\"Purchase Amt\"] / 1000\n",
    "owner_occ_by_zip[\"Amount Mortgaged\"] = owner_occ_by_zip[\"Amount Mortgaged\"] / 1000\n",
    "owner_occ_by_zip[\"Mtg Tx Pd\"] = owner_occ_by_zip[\"Mtg Tx Pd\"] / 1000\n",
    "owner_occ_by_zip[\"Mansion Tax Pd\"] = owner_occ_by_zip[\"Mansion Tax Pd\"] / 1000\n",
    "owner_occ_by_zip[\"New Sales Tax Amount\"] = owner_occ_by_zip[\"New Sales Tax Amount\"] / 1000\n",
    "#owner_occ_by_zip[\"Per Capita Income\"] = owner_occ_by_zip[\"Per Capita Income\"] / 1000\n",
    "\n",
    "owner_occ_by_zip[\"Purchase Amt\"] = owner_occ_by_zip[\"Purchase Amt\"].map(\"{:.2f}\".format)\n",
    "owner_occ_by_zip[\"Purchase Down %\"] = owner_occ_by_zip[\"Purchase Down %\"].map(\"{:.2f}\".format)\n",
    "owner_occ_by_zip[\"Amount Mortgaged\"] = owner_occ_by_zip[\"Amount Mortgaged\"].map(\"{:.2f}\".format)\n",
    "owner_occ_by_zip[\"Mtg Tx Pd\"] = owner_occ_by_zip[\"Mtg Tx Pd\"].map(\"{:.2f}\".format)\n",
    "owner_occ_by_zip[\"Mansion Tax Pd\"] = owner_occ_by_zip[\"Mansion Tax Pd\"].map(\"{:.2f}\".format)\n",
    "owner_occ_by_zip[\"New Sales Tax Amount\"] = owner_occ_by_zip[\"New Sales Tax Amount\"].map(\"{:.2f}\".format)\n",
    "#owner_occ_by_zip[\"Per Capita Income\"] = owner_occ_by_zip[\"Per Capita Income\"].map(\"{:.2f}\".format)\n",
    "\n",
    "owner_occ_by_zip[\"Purchase Amt\"] = owner_occ_by_zip[\"Purchase Amt\"].astype(\"float\")\n",
    "owner_occ_by_zip[\"Purchase Down %\"] = owner_occ_by_zip[\"Purchase Down %\"].astype(\"float\")\n",
    "owner_occ_by_zip[\"Amount Mortgaged\"] = owner_occ_by_zip[\"Amount Mortgaged\"].astype(\"float\")\n",
    "owner_occ_by_zip[\"Mtg Tx Pd\"] = owner_occ_by_zip[\"Mtg Tx Pd\"].astype(\"float\")\n",
    "owner_occ_by_zip[\"Mansion Tax Pd\"] = owner_occ_by_zip[\"Mansion Tax Pd\"].astype(\"float\")\n",
    "owner_occ_by_zip[\"New Sales Tax Amount\"] = owner_occ_by_zip[\"New Sales Tax Amount\"].astype(\"float\")\n",
    "#owner_occ_by_zip[\"Per Capita Income\"] = owner_occ_by_zip[\"Per Capita Income\"].astype(\"float\")"
   ]
  },
  {
   "cell_type": "code",
   "execution_count": null,
   "id": "2a8c5c5b",
   "metadata": {},
   "outputs": [],
   "source": [
    "investor_by_zip = investor_df.groupby(['Zipcode']).agg({'Count': 'sum', 'Purchase Amt': 'mean', \n",
    "                                                            'Purchase Down %': 'mean',\n",
    "                                                            'Amount Mortgaged': 'mean', \n",
    "                                                            'Mtg Tx Pd': 'mean', 'Mansion Tax Pd': 'mean', \n",
    "                                                            'New Sales Tax Amount': 'mean', \n",
    "                                                            })\n",
    "\n",
    "\n",
    "investor_by_zip[\"Purchase Amt\"] = investor_by_zip[\"Purchase Amt\"] / 1000\n",
    "investor_by_zip[\"Amount Mortgaged\"] = investor_by_zip[\"Amount Mortgaged\"] / 1000\n",
    "investor_by_zip[\"Mtg Tx Pd\"] = investor_by_zip[\"Mtg Tx Pd\"] / 1000\n",
    "investor_by_zip[\"Mansion Tax Pd\"] = investor_by_zip[\"Mansion Tax Pd\"] / 1000\n",
    "investor_by_zip[\"New Sales Tax Amount\"] = investor_by_zip[\"New Sales Tax Amount\"] / 1000\n",
    "#investor_by_zip[\"Per Capita Income\"] = investor_by_zip[\"Per Capita Income\"] / 1000\n",
    "\n",
    "investor_by_zip[\"Purchase Amt\"] = investor_by_zip[\"Purchase Amt\"].map(\"{:.2f}\".format)\n",
    "investor_by_zip[\"Purchase Down %\"] = investor_by_zip[\"Purchase Down %\"].map(\"{:.2f}\".format)\n",
    "investor_by_zip[\"Amount Mortgaged\"] = investor_by_zip[\"Amount Mortgaged\"].map(\"{:.2f}\".format)\n",
    "investor_by_zip[\"Mtg Tx Pd\"] = investor_by_zip[\"Mtg Tx Pd\"].map(\"{:.2f}\".format)\n",
    "investor_by_zip[\"Mansion Tax Pd\"] = investor_by_zip[\"Mansion Tax Pd\"].map(\"{:.2f}\".format)\n",
    "investor_by_zip[\"New Sales Tax Amount\"] = investor_by_zip[\"New Sales Tax Amount\"].map(\"{:.2f}\".format)\n",
    "#investor_by_zip[\"Per Capita Income\"] = investor_by_zip[\"Per Capita Income\"].map(\"{:.2f}\".format)\n",
    "\n",
    "investor_by_zip[\"Purchase Amt\"] = investor_by_zip[\"Purchase Amt\"].astype(\"float\")\n",
    "investor_by_zip[\"Purchase Down %\"] = investor_by_zip[\"Purchase Down %\"].astype(\"float\")\n",
    "investor_by_zip[\"Amount Mortgaged\"] = investor_by_zip[\"Amount Mortgaged\"].astype(\"float\")\n",
    "investor_by_zip[\"Mtg Tx Pd\"] = investor_by_zip[\"Mtg Tx Pd\"].astype(\"float\")\n",
    "investor_by_zip[\"Mansion Tax Pd\"] = investor_by_zip[\"Mansion Tax Pd\"].astype(\"float\")\n",
    "investor_by_zip[\"New Sales Tax Amount\"] = investor_by_zip[\"New Sales Tax Amount\"].astype(\"float\")\n",
    "#investor_by_zip[\"Per Capita Income\"] = investor_by_zip[\"Per Capita Income\"].astype(\"float\")"
   ]
  },
  {
   "cell_type": "code",
   "execution_count": null,
   "id": "e2a5b91e",
   "metadata": {},
   "outputs": [],
   "source": [
    "owner_occ_by_zip[\"total_tax_paid\"] = owner_occ_by_zip[\"Mtg Tx Pd\"] + owner_occ_by_zip[\"Mansion Tax Pd\"]\n",
    "owner_occ_by_zip['percent borrowed'] = 100 - owner_occ_by_zip['Purchase Down %']\n",
    "owner_occ_by_zip['mtg tax as % of med income'] = owner_occ_by_zip['total_tax_paid']/owner_occ_by_zip['Household Income'] *100\n",
    "owner_occ_by_zip['sales tax as % of med income'] = owner_occ_by_zip['New Sales Tax Amount']/owner_occ_by_zip['Household Income'] *100\n",
    "owner_occ_by_zip.head(2)"
   ]
  },
  {
   "cell_type": "code",
   "execution_count": null,
   "id": "aaea4274",
   "metadata": {},
   "outputs": [],
   "source": [
    "investor_by_zip[\"total_tax_paid\"] = investor_by_zip[\"Mtg Tx Pd\"] + investor_by_zip[\"Mansion Tax Pd\"]\n",
    "investor_by_zip['percent borrowed'] = 100 - investor_by_zip['Purchase Down %']\n",
    "investor_by_zip['mtg tax as % of med income'] = investor_by_zip['total_tax_paid']/investor_by_zip['Per Capita Income'] *100\n",
    "investor_by_zip['sales tax as % of med income'] = investor_by_zip['New Sales Tax Amount']/investor_by_zip['Per Capita Income'] *100\n",
    "investor_by_zip.head(2)"
   ]
  },
  {
   "cell_type": "code",
   "execution_count": null,
   "id": "3df665e8",
   "metadata": {},
   "outputs": [],
   "source": [
    "investor_by_zip.dtypes"
   ]
  },
  {
   "cell_type": "code",
   "execution_count": null,
   "id": "822d37fa",
   "metadata": {},
   "outputs": [],
   "source": [
    "zipcode_list = investor_by_zip.index.values.astype(\"str\")\n",
    "zipcode_list"
   ]
  },
  {
   "cell_type": "markdown",
   "id": "c95ec397",
   "metadata": {},
   "source": [
    "## zipcodes of Manhattan: 10013, 10007, 10118, 10282, 10453, 11355, 10457, 11368\n",
    "## The rest of zipcodes are in Brooklyn."
   ]
  },
  {
   "cell_type": "code",
   "execution_count": null,
   "id": "18cb3f1e",
   "metadata": {},
   "outputs": [],
   "source": [
    "\n",
    "manhattan_investor_df = investor_by_zip.loc[[10013, 10007, 10282, 10453, 11355, 10457, 11368], :].sort_values(\"Purchase Amt\", ascending=False)\n",
    "print(manhattan_df.shape)\n",
    "manhattan_investor_df.head(8)"
   ]
  },
  {
   "cell_type": "code",
   "execution_count": null,
   "id": "24b139ec",
   "metadata": {},
   "outputs": [],
   "source": [
    "manhattan_oocc_df = owner_occ_by_zip.loc[[10013, 10007, 10282, 10453, 11355, 10457, 11368], :].sort_values(\"Purchase Amt\", ascending=False)\n",
    "print(manhattan_oocc_df.shape)\n",
    "manhattan_oocc_df.head(8)"
   ]
  },
  {
   "cell_type": "code",
   "execution_count": null,
   "id": "8fd4440a",
   "metadata": {
    "scrolled": true
   },
   "outputs": [],
   "source": [
    "bklyn_investor_df = investor_by_zip.drop([10013, 10007, 10282, 10453, 11355, 10457, 11368], axis = 0)\n",
    "bklyn_investor_df = bklyn_investor_df.sort_values(\"Purchase Amt\", ascending=False)\n",
    "print(bklyn_investor_df.shape)\n",
    "bklyn_investor_df.head(8)"
   ]
  },
  {
   "cell_type": "code",
   "execution_count": null,
   "id": "632f6715",
   "metadata": {},
   "outputs": [],
   "source": [
    "bklyn_oocc_df = owner_occ_by_zip.drop([10013, 10007, 10282, 10453, 11355, 10457, 11368], axis = 0)\n",
    "bklyn_oocc_df = bklyn_oocc_df.sort_values(\"Purchase Amt\", ascending=False)\n",
    "print(bklyn_oocc_df.shape)\n",
    "bklyn_oocc_df.head()"
   ]
  },
  {
   "cell_type": "code",
   "execution_count": null,
   "id": "95370c9b",
   "metadata": {},
   "outputs": [],
   "source": [
    "\n",
    "bklyn_oocc_df.set_index('Per Capita Income', inplace = True)\n",
    "#bklyn_oocc_df['Zip'] = bklyn_oocc_df.index.astype(str)\n",
    "\n",
    "bklyn_oocc_df.head(20)"
   ]
  },
  {
   "cell_type": "code",
   "execution_count": null,
   "id": "b6b79d8a",
   "metadata": {},
   "outputs": [],
   "source": [
    "#make a chart of the % borrowed for the zip in ascending order but first sort dfs in order\n",
    "\n",
    "bklyn_oocc_df.set_index('Per Capita Income', inplace = True)\n",
    "bklyn_investor_df.set_index('Per Capita Income', inplace = True)\n",
    "bklyn_oocc_df['perCI'] = bklyn_oocc_df.index.astype(str)\n",
    "manhattan_oocc_df.set_index('Per Capita Income', inplace = True)\n",
    "manhattan_investor_df.set_index('Per Capita Income', inplace = True)\n",
    "\n",
    "\n",
    "plt.figure(figsize=(15,5))\n",
    "\n",
    "\n",
    "\n",
    "plt.plot(bklyn_oocc_df['perCI'], bklyn_oocc_df['percent borrowed'], marker=\"x\", label='Bklyn Residence Purchase')\n",
    "plt.plot(bklyn_oocc_df['perCI'], bklyn_investor_df['percent borrowed'], marker=\"o\", label='Bklyn Investment Purchase')\n",
    "#plt.plot(manhatt_oocc_df['Per Capita Income'], investor_by_zip[\"total_tax_paid\"], marker=\"o\", label='Total Tax Paid')\n",
    "#plt.xticks(bklyn_oocc_df['Per Capita Income'], rotation=90)\n",
    "plt.xticks(range(len(bklyn_oocc_df['Zip'])), fontsize=15, rotation='vertical')\n",
    "plt.yticks(fontsize=15)\n",
    "plt.xlabel('Zipcode sorted by Per Capita Income (in thousands)', fontsize=20)\n",
    "plt.ylabel('Percent Borrowed', fontsize=20)\n",
    "plt.title('Average Income vs. Average Percent Borrowed across Zipcodes in Brooklyn 2022', fontsize=20)\n",
    "plt.legend()\n",
    "plt.show()"
   ]
  },
  {
   "cell_type": "code",
   "execution_count": null,
   "id": "1238f912",
   "metadata": {},
   "outputs": [],
   "source": []
  },
  {
   "cell_type": "code",
   "execution_count": null,
   "id": "dc883a96",
   "metadata": {},
   "outputs": [],
   "source": [
    "\n",
    "plt.figure(figsize=(10,5))\n",
    "\n",
    "plt.plot(manhattan_oocc_df['Zip'], manhattan_oocc_df['percent borrowed'], marker=\"x\", label='manhattan Residence Purchase')\n",
    "plt.plot(manhattan_investor_df['Zip'], manhattan_investor_df['percent borrowed'], marker=\"o\", label='manhattan Investment Purchase')\n",
    "plt.xticks(fontsize=15, rotation='vertical')\n",
    "plt.yticks(fontsize=15)\n",
    "plt.xlabel('Zipcode sorted by Per Capita Income', fontsize=20)\n",
    "plt.ylabel('Percent Borrowed', fontsize=20)\n",
    "plt.title('Average Income vs. Average Percent Borrowed across Zipcodes in Brooklyn 2022', fontsize=20)\n",
    "plt.legend()\n",
    "plt.show()"
   ]
  },
  {
   "cell_type": "code",
   "execution_count": null,
   "id": "6163af53",
   "metadata": {},
   "outputs": [],
   "source": [
    "#make a chart of the % borrowed for the zip in ascending order but first sort dfs in order\n",
    "bklyn_oocc_df.sort_values(by =['Per Capita Income'], inplace=True)\n",
    "bklyn_oocc_df['Zip'] = bklyn_oocc_df.index.astype(str)\n",
    "bklyn_investor_df.sort_values(by =['Per Capita Income'], inplace=True)\n",
    "bklyn_investor_df['Zip'] = bklyn_investor_df.index.astype(str)\n",
    "manhattan_oocc_df.sort_values(by =['Per Capita Income'], inplace=True)\n",
    "manhattan_oocc_df['Zip'] = manhattan_oocc_df.index.astype(str)\n",
    "manhattan_investor_df.sort_values(by =['Per Capita Income'], inplace=True)\n",
    "manhattan_investor_df['Zip'] = manhattan_investor_df.index.astype(str)\n",
    "\n",
    "manhattan_investor_df.head(20)\n",
    "\n",
    "plt.figure(figsize=(15,5))\n",
    "\n",
    "plt.plot(bklyn_oocc_df['Zip'], bklyn_oocc_df['mtg tax as % of med income'], marker=\"x\", label='Mtg tax as % of med income')\n",
    "plt.plot(bklyn_investor_df['Zip'], bklyn_investor_df['percent borrowed'], marker=\"o\", label='Sales tax as % of med income')\n",
    "#plt.plot(manhatt_oocc_df['Per Capita Income'], investor_by_zip[\"total_tax_paid\"], marker=\"o\", label='Total Tax Paid')\n",
    "#plt.xticks(bklyn_oocc_df['Per Capita Income'], rotation=90)\n",
    "plt.xticks(fontsize=15, rotation='vertical')\n",
    "plt.yticks(fontsize=15)\n",
    "plt.xlabel('Zipcode sorted by Per Capita Income', fontsize=20)\n",
    "plt.ylabel('Percent Borrowed', fontsize=20)\n",
    "plt.title('Average Income vs. Average Percent Borrowed across Zipcodes in Brooklyn 2022', fontsize=20)\n",
    "plt.legend()\n",
    "plt.show()"
   ]
  },
  {
   "cell_type": "code",
   "execution_count": null,
   "id": "7d8159e3",
   "metadata": {},
   "outputs": [],
   "source": []
  },
  {
   "cell_type": "code",
   "execution_count": null,
   "id": "51889011",
   "metadata": {},
   "outputs": [],
   "source": [
    "plt.figure(figsize=(20,5))\n",
    "\n",
    "plt.plot(zipcode_list, investor_by_zip[\"Per Capita Income\"], marker=\"o\", label='Per Capita Income')\n",
    "plt.plot(zipcode_list, investor_by_zip[\"Purchase Amt\"], marker=\"o\", label='Purchase Amountt')\n",
    "plt.plot(zipcode_list, investor_by_zip[\"total_tax_paid\"], marker=\"o\", label='Total Tax Paid')\n",
    "plt.xticks(zipcode_list, rotation=90)\n",
    "plt.xticks(fontsize=15)\n",
    "plt.yticks(fontsize=15)\n",
    "plt.xlabel('Zipcode', fontsize=20)\n",
    "plt.ylabel('Purchase Amount (in thousands)', fontsize=20)\n",
    "plt.title('Average Income v.s. Average Purchase Amount across Zipcodes in NYC', fontsize=20)\n",
    "plt.legend()\n",
    "plt.show()"
   ]
  },
  {
   "cell_type": "markdown",
   "id": "63a969c1",
   "metadata": {},
   "source": [
    "## Generate Manhattan dataframe"
   ]
  },
  {
   "cell_type": "code",
   "execution_count": null,
   "id": "0b402168",
   "metadata": {},
   "outputs": [],
   "source": [
    "mindex_list = manhattan_df.index.values\n",
    "\n",
    "for zipcode in mindex_list:\n",
    "    manhattan_df.rename(index={zipcode: str(zipcode)}, inplace=True)\n",
    "\n",
    "manhattan_df.index.name = \"Manhattan Zipcode\"\n",
    "\n",
    "mindex_list = manhattan_df.index.values \n",
    "mindex_list"
   ]
  },
  {
   "cell_type": "code",
   "execution_count": null,
   "id": "aaa4a062",
   "metadata": {},
   "outputs": [],
   "source": [
    "species = mindex_list\n",
    "\n",
    "housing_data = {\n",
    "    'Purchase Amt': manhattan_df[\"Purchase Amt\"].values,\n",
    "    'Amount Mortgaged': manhattan_df[\"Amount Mortgaged\"].values,\n",
    "    'Per Capita Income': manhattan_df[\"Per Capita Income\"].values,\n",
    "}\n",
    "\n",
    "x = np.arange(len(species))  # the label locations\n",
    "width = 0.25  # the width of the bars\n",
    "multiplier = 0\n",
    "\n",
    "fig, ax = plt.subplots(figsize=(15,6))\n",
    "\n",
    "for attribute, measurement in housing_data.items():\n",
    "    offset = width * multiplier\n",
    "    rects = ax.bar(x + offset, measurement, width, label=attribute)\n",
    "    #ax.bar_label(rects, padding=3)\n",
    "    multiplier += 1\n",
    "\n",
    "# Add some text for labels, title and custom x-axis tick labels, etc.\n",
    "ax.set_ylabel('Dollar Amount', fontsize=13)\n",
    "ax.set_title('Purchase & Mortgage (in thousands) Per Capita Income (in thousands)', fontsize=13)\n",
    "ax.set_xticks(x + width, species)\n",
    "ax.set_xlabel(\"Manhattan Zipcode\", fontsize=13)\n",
    "ax.legend(loc='upper left', ncols=3)\n",
    "ax.set_ylim(0, 500)\n",
    "plt.suptitle('Purchase Amount v.s. Amount Mortgaged v.s. Per Capita Income in Manhattan', fontsize=15)\n",
    "plt.show()"
   ]
  },
  {
   "cell_type": "code",
   "execution_count": null,
   "id": "0d8e57fb",
   "metadata": {},
   "outputs": [],
   "source": [
    "fig = plt.figure() # Create matplotlib figure\n",
    "\n",
    "ax = fig.add_subplot(111) # Create matplotlib axes\n",
    "ax2 = ax.twinx() # Create another axes that shares the same x-axis as ax.\n",
    "\n",
    "width = 0.4\n",
    "\n",
    "manhattan_df[\"Per Capita Income\"].plot(kind='bar', color='Orange', ax=ax, width=width, position=1)\n",
    "manhattan_df[\"total_tax_paid\"].plot(kind='bar', color='green', ax=ax2, width=width, position=0)\n",
    "\n",
    "ax.set_ylabel('Per Capita Income in Thousands')\n",
    "ax2.set_ylabel('Total Taxes paid')\n",
    "ax.set_title('Scale to the left for Income and to the right for Taxes (in thousands)')\n",
    "plt.suptitle('Per Capita Income v.s. Total Taxes paid',fontsize=15, y=1)\n",
    "ax.legend()\n",
    "ax2.legend(loc=9)\n",
    "\n",
    "plt.show()"
   ]
  },
  {
   "cell_type": "markdown",
   "id": "10797ab9",
   "metadata": {},
   "source": [
    "## Generate Broolyn dataframe"
   ]
  },
  {
   "cell_type": "code",
   "execution_count": null,
   "id": "72bbeb08",
   "metadata": {},
   "outputs": [],
   "source": [
    "# brooklyn_df = investor_by_zip.drop([10013, 10007, 10282, 10453, 11355, 10457, 11368], axis=0)\\\n",
    "#                             .sort_values(\"Purchase Amt\", ascending=False).reset_index()\n",
    "# print(brooklyn_df.shape)\n",
    "\n",
    "# top5_brooklyn_df = brooklyn_df.loc[0:4]\n",
    "\n",
    "# top5_brooklyn_df.set_index([\"Zipcode\"], inplace=True)\n",
    "# top5_brooklyn_df\n",
    "bklyn_df.head()"
   ]
  },
  {
   "cell_type": "code",
   "execution_count": null,
   "id": "4c84aea0",
   "metadata": {},
   "outputs": [],
   "source": [
    "bklyn_income_df = bklyn_df.sort_values(\"Household Income\", inplace=True)\n",
    "bklyn_oocc_by_zip.head()"
   ]
  },
  {
   "cell_type": "code",
   "execution_count": null,
   "id": "3871a8e8",
   "metadata": {},
   "outputs": [],
   "source": [
    "#top5_bklyn_oocc_by_zip = bklyn_oocc_by_zip.loc[0:4]"
   ]
  },
  {
   "cell_type": "code",
   "execution_count": null,
   "id": "fa79f4b2",
   "metadata": {},
   "outputs": [],
   "source": [
    "# index_list = top5_brooklyn_df.index.values\n",
    "\n",
    "# for zipcode in index_list:\n",
    "#     top5_brooklyn_df.rename(index={zipcode: str(zipcode)}, inplace=True)\n",
    "\n",
    "# top5_brooklyn_df.index.name = \"Brooklyn Top 5 Zipcode\"\n",
    "\n",
    "index_list = top5_brooklyn_df.index.values.astype(\"str\")\n",
    "index_list"
   ]
  },
  {
   "cell_type": "code",
   "execution_count": null,
   "id": "86c00664",
   "metadata": {},
   "outputs": [],
   "source": [
    "species = index_list\n",
    "\n",
    "housing_data = {\n",
    "    'Purchase Amt': top5_brooklyn_df[\"Purchase Amt\"].values,\n",
    "    'Amount Mortgaged': top5_brooklyn_df[\"Amount Mortgaged\"].values,\n",
    "    'Per Capita Income': top5_brooklyn_df[\"Per Capita Income\"].values,\n",
    "}\n",
    "\n",
    "x = np.arange(len(species))  # the label locations\n",
    "width = 0.25  # the width of the bars\n",
    "multiplier = 0\n",
    "\n",
    "fig, ax = plt.subplots(figsize=(15,6))\n",
    "\n",
    "for attribute, measurement in housing_data.items():\n",
    "    offset = width * multiplier\n",
    "    rects = ax.bar(x + offset, measurement, width, label=attribute)\n",
    "    #ax.bar_label(rects, padding=3)\n",
    "    multiplier += 1\n",
    "\n",
    "# Add some text for labels, title and custom x-axis tick labels, etc.\n",
    "ax.set_ylabel('Dollar Amount', fontsize=13)\n",
    "ax.set_title('Purchase & Mortgage (in thousands) Per Capita Income (in thousands)', fontsize=13)\n",
    "ax.set_xticks(x + width, species)\n",
    "ax.set_xlabel(\"Brooklyn Top 5 Zipcode\", fontsize=13)\n",
    "ax.legend(loc='upper left', ncols=3)\n",
    "ax.set_ylim(0, 250)\n",
    "plt.suptitle('Top 5 Purchase Amount v.s. Amount Mortgaged v.s. Per Capita Income in Brooklyn', fontsize=15)\n",
    "plt.show()"
   ]
  },
  {
   "cell_type": "markdown",
   "id": "6394c027",
   "metadata": {},
   "source": [
    "## Line Chart Brooklyn - showing the amount borrowed by income level"
   ]
  },
  {
   "cell_type": "code",
   "execution_count": null,
   "id": "557fadd1",
   "metadata": {},
   "outputs": [],
   "source": [
    "complete_df.shape"
   ]
  },
  {
   "cell_type": "code",
   "execution_count": null,
   "id": "50fe8878",
   "metadata": {},
   "outputs": [],
   "source": [
    "brooklyn_complete = complete_df.drop([10013, 10007, 10282, 10453, 11355, 10457, 11368], axis=0)\n",
    "brooklyn_complete.shape"
   ]
  },
  {
   "cell_type": "code",
   "execution_count": null,
   "id": "546c94b8",
   "metadata": {},
   "outputs": [],
   "source": [
    "brooklyn_by_zip = brooklyn_complete.groupby(['Zipcode']).agg({'Count': 'sum', 'Purchase Amt': 'mean', \n",
    "                                                            'Purchase Down %': 'mean',\n",
    "                                                            'Amount Mortgaged': 'mean', \n",
    "                                                            'Mtg Tx Pd': 'mean', 'Mansion Tax Pd': 'mean', \n",
    "                                                            'New Sales Tax Amount': 'mean', \n",
    "                                                            'Per Capita Income': 'mean'})\n",
    "brooklyn_by_zip.shape"
   ]
  },
  {
   "cell_type": "code",
   "execution_count": null,
   "id": "73b97888",
   "metadata": {},
   "outputs": [],
   "source": [
    "brooklyn_by_zip_income_level = brooklyn_by_zip.sort_values(\"Per Capita Income\")\n",
    "brooklyn_by_zip_income_level.head()"
   ]
  },
  {
   "cell_type": "code",
   "execution_count": null,
   "id": "6f05a92d",
   "metadata": {},
   "outputs": [],
   "source": [
    "brooklyn_by_zip_income_level['Zipcode'] = brooklyn_by_zip_income_level.index\n",
    "final_brooklyn_by_zip_income_level = brooklyn_by_zip_income_level.set_index(\"Per Capita Income\")\n",
    "final_brooklyn_by_zip_income_level.head()"
   ]
  },
  {
   "cell_type": "code",
   "execution_count": null,
   "id": "6e62418f",
   "metadata": {},
   "outputs": [],
   "source": [
    "investor_df = complete_df[(complete_df['Owner Occ?'] ==1)]\n",
    "investor_df.shape"
   ]
  },
  {
   "cell_type": "code",
   "execution_count": null,
   "id": "24051cce",
   "metadata": {},
   "outputs": [],
   "source": [
    "investor_index = investor_df.drop([10013, 10007, 10282, 10453, 11355, 10457, 11368], axis=0)\n",
    "investor_index.shape"
   ]
  },
  {
   "cell_type": "code",
   "execution_count": null,
   "id": "ca3c1846",
   "metadata": {},
   "outputs": [],
   "source": [
    "investor_by_zip = investor_index.groupby(['Zipcode']).agg({'Count': 'sum', 'Purchase Amt': 'mean', \n",
    "                                                            'Purchase Down %': 'mean',\n",
    "                                                            'Amount Mortgaged': 'mean', \n",
    "                                                            'Mtg Tx Pd': 'mean', 'Mansion Tax Pd': 'mean', \n",
    "                                                            'New Sales Tax Amount': 'mean', \n",
    "                                                            'Per Capita Income': 'mean'})\n",
    "investor_by_zip.shape"
   ]
  },
  {
   "cell_type": "code",
   "execution_count": null,
   "id": "40f8a945",
   "metadata": {},
   "outputs": [],
   "source": [
    "investor_income_level = investor_by_zip.sort_values(\"Per Capita Income\")\n",
    "investor_income_level.head()"
   ]
  },
  {
   "cell_type": "code",
   "execution_count": null,
   "id": "0c26800a",
   "metadata": {},
   "outputs": [],
   "source": [
    "home_owner_df = complete_df[(complete_df['Owner Occ?'] ==0)]\n",
    "home_owner_df.shape"
   ]
  },
  {
   "cell_type": "code",
   "execution_count": null,
   "id": "5c7bae4e",
   "metadata": {},
   "outputs": [],
   "source": [
    "home_owner_df = complete_df[(complete_df['Owner Occ?'] ==0)]\n",
    "home_owner_df.shape "
   ]
  },
  {
   "cell_type": "code",
   "execution_count": null,
   "id": "4b17bddb",
   "metadata": {},
   "outputs": [],
   "source": [
    "home_owner_df = complete_df[(complete_df['Owner Occ?'] ==0)]\n",
    "zip_codes_to_drop = [10013, 10007, 10282, 10453, 11355, 10457, 11368]\n",
    "home_owner_index = home_owner_df[~home_owner_df['Zipcode'].isin(zip_codes_to_drop)]\n",
    "home_owner_index.shape"
   ]
  },
  {
   "cell_type": "code",
   "execution_count": null,
   "id": "ceeece17",
   "metadata": {},
   "outputs": [],
   "source": [
    "home_owner_by_zip = home_owner_index.groupby(['Zipcode']).agg({'Count': 'sum', 'Purchase Amt': 'mean', \n",
    "                                                             'Purchase Down %': 'mean',\n",
    "                                                             'Amount Mortgaged': 'mean', \n",
    "                                                             'Mtg Tx Pd': 'mean', 'Mansion Tax Pd': 'mean', \n",
    "                                                             'New Sales Tax Amount': 'mean', \n",
    "                                                             'Per Capita Income': 'mean'})\n",
    "home_owner_by_zip.shape"
   ]
  },
  {
   "cell_type": "code",
   "execution_count": null,
   "id": "bc83462c",
   "metadata": {},
   "outputs": [],
   "source": [
    "home_owner_by_zip_income_level = home_owner_by_zip.sort_values(\"Per Capita Income\")\n",
    "home_owner_by_zip_income_level.head()"
   ]
  },
  {
   "cell_type": "code",
   "execution_count": null,
   "id": "30dc6974",
   "metadata": {},
   "outputs": [],
   "source": [
    "columns_to_select = ['Column1', 'Column2', 'Column3']"
   ]
  },
  {
   "cell_type": "code",
   "execution_count": null,
   "id": "42c87da6",
   "metadata": {},
   "outputs": [],
   "source": [
    "plt.figure(figsize=(20,5))\n",
    "\n",
    "x_axis = brooklyn_by_zip_income_level['Zipcode'] \n",
    "y_axis = brooklyn_by_zip_income_level['Amount Mortgaged']\n",
    "plt.bar(x_axis, y_axis, color='r', alpha=0.5, align=\"center\")\n",
    "# plt.plot(brooklyn_by_zip_income_level['Zipcode'], brooklyn_by_zip_income_level['Amount Mortgaged'], marker=\"o\", label='Total Brooklyn Populaiton')\n",
    "# plt.plot(zipcode_list, investor_by_zip[\"Purchase Amt\"], marker=\"o\", label='Purchase Amountt')\n",
    "# plt.plot(zipcode_list, investor_by_zip[\"total_tax_paid\"], marker=\"o\", label='Total Tax Paid')\n",
    "\n",
    "plt.xticks(x_axis, rotation=90)\n",
    "plt.xticks(fontsize=15)\n",
    "plt.yticks(fontsize=15)\n",
    "plt.xlabel('Zipcode (Income=Lowest to Highest)', fontsize=20)\n",
    "plt.ylabel('Purchase Amount (in thousands)', fontsize=20)\n",
    "plt.title('Amount Mrtgaged vs Average Income Level by Zipcode', fontsize=20)\n",
    "plt.legend()\n",
    "plt.show()\n"
   ]
  },
  {
   "cell_type": "code",
   "execution_count": null,
   "id": "5fcbf346",
   "metadata": {},
   "outputs": [],
   "source": [
    "# plt.figure(figsize=(20,5))\n",
    "\n",
    "# plt.plot(zipcode_list, investor_by_zip[\"Per Capita Income\"], marker=\"o\", label='Per Capita Income')\n",
    "# plt.plot(zipcode_list, investor_by_zip[\"Purchase Amt\"], marker=\"o\", label='Purchase Amountt')\n",
    "# plt.plot(zipcode_list, investor_by_zip[\"total_tax_paid\"], marker=\"o\", label='Total Tax Paid')\n",
    "# plt.xticks(zipcode_list, rotation=90)\n",
    "# plt.xticks(fontsize=15)\n",
    "# plt.yticks(fontsize=15)\n",
    "# plt.xlabel('Zipcode', fontsize=20)\n",
    "# plt.ylabel('Purchase Amount (in thousands)', fontsize=20)\n",
    "# plt.title('Average Income v.s. Average Purchase Amount across Zipcodes in NYC', fontsize=20)\n",
    "# plt.legend()\n",
    "# plt.show()"
   ]
  },
  {
   "cell_type": "code",
   "execution_count": null,
   "id": "cf0e881a",
   "metadata": {},
   "outputs": [],
   "source": []
  }
 ],
 "metadata": {
  "kernelspec": {
   "display_name": "Python 3 (ipykernel)",
   "language": "python",
   "name": "python3"
  },
  "language_info": {
   "codemirror_mode": {
    "name": "ipython",
    "version": 3
   },
   "file_extension": ".py",
   "mimetype": "text/x-python",
   "name": "python",
   "nbconvert_exporter": "python",
   "pygments_lexer": "ipython3",
   "version": "3.11.4"
  }
 },
 "nbformat": 4,
 "nbformat_minor": 5
}
