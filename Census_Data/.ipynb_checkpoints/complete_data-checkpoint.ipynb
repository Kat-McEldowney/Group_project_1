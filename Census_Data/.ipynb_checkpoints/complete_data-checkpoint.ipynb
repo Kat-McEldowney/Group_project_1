{
 "cells": [
  {
   "cell_type": "code",
   "execution_count": 1,
   "metadata": {},
   "outputs": [],
   "source": [
    "# Dependencies\n",
    "import requests\n",
    "import pandas as pd\n",
    "from census import Census"
   ]
  },
  {
   "cell_type": "code",
   "execution_count": 2,
   "metadata": {},
   "outputs": [],
   "source": [
    "# File paths\n",
    "path = \"../Sales_info_with_taxes.csv\"\n",
    "study_results_path = \"output_data/census.csv\"\n",
    "\n",
    "# Read the mouse data and the study results\n",
    "sales_data = pd.read_csv(path)\n",
    "census_data = pd.read_csv(study_results_path)"
   ]
  },
  {
   "cell_type": "code",
   "execution_count": 3,
   "metadata": {},
   "outputs": [],
   "source": [
    "# Rename ZIP column in sales_data\n",
    "sales_data = sales_data.rename(\n",
    "    columns = {\n",
    "        \"ZIP\": \"Zipcode\",\n",
    "    }\n",
    ")"
   ]
  },
  {
   "cell_type": "code",
   "execution_count": 4,
   "metadata": {},
   "outputs": [
    {
     "data": {
      "text/html": [
       "<div>\n",
       "<style scoped>\n",
       "    .dataframe tbody tr th:only-of-type {\n",
       "        vertical-align: middle;\n",
       "    }\n",
       "\n",
       "    .dataframe tbody tr th {\n",
       "        vertical-align: top;\n",
       "    }\n",
       "\n",
       "    .dataframe thead th {\n",
       "        text-align: right;\n",
       "    }\n",
       "</style>\n",
       "<table border=\"1\" class=\"dataframe\">\n",
       "  <thead>\n",
       "    <tr style=\"text-align: right;\">\n",
       "      <th></th>\n",
       "      <th>Address</th>\n",
       "      <th>Count</th>\n",
       "      <th>Zipcode</th>\n",
       "      <th>Type</th>\n",
       "      <th>Owner Occ?</th>\n",
       "      <th>Purchase Amt</th>\n",
       "      <th>Amount Mortgaged</th>\n",
       "      <th>% Borrowed</th>\n",
       "      <th>Mtg Tx Pd</th>\n",
       "      <th>Mansion Tax Pd</th>\n",
       "      <th>New Sales Tax Amount</th>\n",
       "      <th>Population</th>\n",
       "      <th>Median Age</th>\n",
       "      <th>Household Income</th>\n",
       "      <th>Per Capita Income</th>\n",
       "      <th>Median Gross Rent</th>\n",
       "      <th>Poverty Count</th>\n",
       "      <th>Poverty Rate</th>\n",
       "    </tr>\n",
       "  </thead>\n",
       "  <tbody>\n",
       "    <tr>\n",
       "      <th>0</th>\n",
       "      <td>1995 ANTHONY AVE</td>\n",
       "      <td>1</td>\n",
       "      <td>10457.0</td>\n",
       "      <td>SFR</td>\n",
       "      <td>0.0</td>\n",
       "      <td>2450000.0</td>\n",
       "      <td>2350000.0</td>\n",
       "      <td>95.918367</td>\n",
       "      <td>45825.000</td>\n",
       "      <td>24500.0</td>\n",
       "      <td>22050.0</td>\n",
       "      <td>79817.0</td>\n",
       "      <td>30.8</td>\n",
       "      <td>41145.0</td>\n",
       "      <td>20187.0</td>\n",
       "      <td>1381.0</td>\n",
       "      <td>27317.0</td>\n",
       "      <td>34.224539</td>\n",
       "    </tr>\n",
       "    <tr>\n",
       "      <th>1</th>\n",
       "      <td>146 E 176TH ST</td>\n",
       "      <td>1</td>\n",
       "      <td>10453.0</td>\n",
       "      <td>SFR</td>\n",
       "      <td>0.0</td>\n",
       "      <td>490000.0</td>\n",
       "      <td>0.0</td>\n",
       "      <td>0.000000</td>\n",
       "      <td>0.000</td>\n",
       "      <td>0.0</td>\n",
       "      <td>6860.0</td>\n",
       "      <td>80385.0</td>\n",
       "      <td>33.8</td>\n",
       "      <td>34800.0</td>\n",
       "      <td>19016.0</td>\n",
       "      <td>1362.0</td>\n",
       "      <td>27796.0</td>\n",
       "      <td>34.578591</td>\n",
       "    </tr>\n",
       "    <tr>\n",
       "      <th>2</th>\n",
       "      <td>412 E 179TH ST</td>\n",
       "      <td>1</td>\n",
       "      <td>10457.0</td>\n",
       "      <td>SFR</td>\n",
       "      <td>0.0</td>\n",
       "      <td>355000.0</td>\n",
       "      <td>324328.0</td>\n",
       "      <td>91.360000</td>\n",
       "      <td>5837.904</td>\n",
       "      <td>0.0</td>\n",
       "      <td>4970.0</td>\n",
       "      <td>79817.0</td>\n",
       "      <td>30.8</td>\n",
       "      <td>41145.0</td>\n",
       "      <td>20187.0</td>\n",
       "      <td>1381.0</td>\n",
       "      <td>27317.0</td>\n",
       "      <td>34.224539</td>\n",
       "    </tr>\n",
       "    <tr>\n",
       "      <th>3</th>\n",
       "      <td>2075 BATHGATE AVE</td>\n",
       "      <td>1</td>\n",
       "      <td>10457.0</td>\n",
       "      <td>SFR</td>\n",
       "      <td>0.0</td>\n",
       "      <td>420000.0</td>\n",
       "      <td>408000.0</td>\n",
       "      <td>97.142857</td>\n",
       "      <td>7344.000</td>\n",
       "      <td>0.0</td>\n",
       "      <td>5880.0</td>\n",
       "      <td>79817.0</td>\n",
       "      <td>30.8</td>\n",
       "      <td>41145.0</td>\n",
       "      <td>20187.0</td>\n",
       "      <td>1381.0</td>\n",
       "      <td>27317.0</td>\n",
       "      <td>34.224539</td>\n",
       "    </tr>\n",
       "    <tr>\n",
       "      <th>4</th>\n",
       "      <td>482 E 181ST ST</td>\n",
       "      <td>1</td>\n",
       "      <td>10457.0</td>\n",
       "      <td>SFR</td>\n",
       "      <td>0.0</td>\n",
       "      <td>365100.0</td>\n",
       "      <td>282000.0</td>\n",
       "      <td>77.239113</td>\n",
       "      <td>5076.000</td>\n",
       "      <td>0.0</td>\n",
       "      <td>5111.4</td>\n",
       "      <td>79817.0</td>\n",
       "      <td>30.8</td>\n",
       "      <td>41145.0</td>\n",
       "      <td>20187.0</td>\n",
       "      <td>1381.0</td>\n",
       "      <td>27317.0</td>\n",
       "      <td>34.224539</td>\n",
       "    </tr>\n",
       "  </tbody>\n",
       "</table>\n",
       "</div>"
      ],
      "text/plain": [
       "             Address  Count  Zipcode Type  Owner Occ?  Purchase Amt  \\\n",
       "0   1995 ANTHONY AVE      1  10457.0  SFR         0.0     2450000.0   \n",
       "1     146 E 176TH ST      1  10453.0  SFR         0.0      490000.0   \n",
       "2     412 E 179TH ST      1  10457.0  SFR         0.0      355000.0   \n",
       "3  2075 BATHGATE AVE      1  10457.0  SFR         0.0      420000.0   \n",
       "4     482 E 181ST ST      1  10457.0  SFR         0.0      365100.0   \n",
       "\n",
       "   Amount Mortgaged  % Borrowed  Mtg Tx Pd  Mansion Tax Pd  \\\n",
       "0         2350000.0   95.918367  45825.000         24500.0   \n",
       "1               0.0    0.000000      0.000             0.0   \n",
       "2          324328.0   91.360000   5837.904             0.0   \n",
       "3          408000.0   97.142857   7344.000             0.0   \n",
       "4          282000.0   77.239113   5076.000             0.0   \n",
       "\n",
       "   New Sales Tax Amount  Population  Median Age  Household Income  \\\n",
       "0               22050.0     79817.0        30.8           41145.0   \n",
       "1                6860.0     80385.0        33.8           34800.0   \n",
       "2                4970.0     79817.0        30.8           41145.0   \n",
       "3                5880.0     79817.0        30.8           41145.0   \n",
       "4                5111.4     79817.0        30.8           41145.0   \n",
       "\n",
       "   Per Capita Income  Median Gross Rent  Poverty Count  Poverty Rate  \n",
       "0            20187.0             1381.0        27317.0     34.224539  \n",
       "1            19016.0             1362.0        27796.0     34.578591  \n",
       "2            20187.0             1381.0        27317.0     34.224539  \n",
       "3            20187.0             1381.0        27317.0     34.224539  \n",
       "4            20187.0             1381.0        27317.0     34.224539  "
      ]
     },
     "execution_count": 4,
     "metadata": {},
     "output_type": "execute_result"
    }
   ],
   "source": [
    "# Combine the data into a single DataFrame\n",
    "complete_df = pd.merge(sales_data, census_data, how=\"left\", on=(\"Zipcode\"))\n",
    "# drop a column\n",
    "complete_df.drop(columns='Unnamed: 0', inplace=True) \n",
    "complete_df.head()"
   ]
  },
  {
   "cell_type": "code",
   "execution_count": 5,
   "metadata": {},
   "outputs": [
    {
     "name": "stdout",
     "output_type": "stream",
     "text": [
      "The size of the data frame is: (2552, 18)\n"
     ]
    }
   ],
   "source": [
    "# prints the size of the dataframe\n",
    "print('The size of the data frame is:',complete_df.shape)"
   ]
  },
  {
   "cell_type": "code",
   "execution_count": 6,
   "metadata": {},
   "outputs": [
    {
     "data": {
      "text/plain": [
       "8"
      ]
     },
     "execution_count": 6,
     "metadata": {},
     "output_type": "execute_result"
    }
   ],
   "source": [
    "len(complete_df['Zipcode'].unique())"
   ]
  },
  {
   "cell_type": "code",
   "execution_count": 7,
   "metadata": {},
   "outputs": [
    {
     "name": "stdout",
     "output_type": "stream",
     "text": [
      "Address\n",
      "Address\n",
      "False    2552\n",
      "Name: count, dtype: int64\n",
      "\n",
      "Count\n",
      "Count\n",
      "False    2552\n",
      "Name: count, dtype: int64\n",
      "\n",
      "Zipcode\n",
      "Zipcode\n",
      "False    2552\n",
      "Name: count, dtype: int64\n",
      "\n",
      "Type\n",
      "Type\n",
      "False    2552\n",
      "Name: count, dtype: int64\n",
      "\n",
      "Owner Occ?\n",
      "Owner Occ?\n",
      "False    2552\n",
      "Name: count, dtype: int64\n",
      "\n",
      "Purchase Amt\n",
      "Purchase Amt\n",
      "False    2552\n",
      "Name: count, dtype: int64\n",
      "\n",
      "Amount Mortgaged\n",
      "Amount Mortgaged\n",
      "False    2552\n",
      "Name: count, dtype: int64\n",
      "\n",
      "% Borrowed\n",
      "% Borrowed\n",
      "False    2552\n",
      "Name: count, dtype: int64\n",
      "\n",
      "Mtg Tx Pd\n",
      "Mtg Tx Pd\n",
      "False    2552\n",
      "Name: count, dtype: int64\n",
      "\n",
      "Mansion Tax Pd\n",
      "Mansion Tax Pd\n",
      "False    2552\n",
      "Name: count, dtype: int64\n",
      "\n",
      "New Sales Tax Amount\n",
      "New Sales Tax Amount\n",
      "False    2552\n",
      "Name: count, dtype: int64\n",
      "\n",
      "Population\n",
      "Population\n",
      "False    2552\n",
      "Name: count, dtype: int64\n",
      "\n",
      "Median Age\n",
      "Median Age\n",
      "False    2552\n",
      "Name: count, dtype: int64\n",
      "\n",
      "Household Income\n",
      "Household Income\n",
      "False    2552\n",
      "Name: count, dtype: int64\n",
      "\n",
      "Per Capita Income\n",
      "Per Capita Income\n",
      "False    2552\n",
      "Name: count, dtype: int64\n",
      "\n",
      "Median Gross Rent\n",
      "Median Gross Rent\n",
      "False    2552\n",
      "Name: count, dtype: int64\n",
      "\n",
      "Poverty Count\n",
      "Poverty Count\n",
      "False    2552\n",
      "Name: count, dtype: int64\n",
      "\n",
      "Poverty Rate\n",
      "Poverty Rate\n",
      "False    2552\n",
      "Name: count, dtype: int64\n",
      "\n"
     ]
    }
   ],
   "source": [
    "# Verify if the data contains missing values\n",
    "missing_data=complete_df.isnull()\n",
    "for column in missing_data.columns:\n",
    "    print(column)\n",
    "    print(missing_data[column].value_counts()) \n",
    "    print(\"\")"
   ]
  },
  {
   "cell_type": "code",
   "execution_count": 8,
   "metadata": {},
   "outputs": [
    {
     "data": {
      "text/html": [
       "<div>\n",
       "<style scoped>\n",
       "    .dataframe tbody tr th:only-of-type {\n",
       "        vertical-align: middle;\n",
       "    }\n",
       "\n",
       "    .dataframe tbody tr th {\n",
       "        vertical-align: top;\n",
       "    }\n",
       "\n",
       "    .dataframe thead th {\n",
       "        text-align: right;\n",
       "    }\n",
       "</style>\n",
       "<table border=\"1\" class=\"dataframe\">\n",
       "  <thead>\n",
       "    <tr style=\"text-align: right;\">\n",
       "      <th></th>\n",
       "      <th>Address</th>\n",
       "      <th>Count</th>\n",
       "      <th>Zipcode</th>\n",
       "      <th>Type</th>\n",
       "      <th>Owner Occ?</th>\n",
       "      <th>Purchase Amt</th>\n",
       "      <th>Amount Mortgaged</th>\n",
       "      <th>% Borrowed</th>\n",
       "      <th>Mtg Tx Pd</th>\n",
       "      <th>Mansion Tax Pd</th>\n",
       "      <th>New Sales Tax Amount</th>\n",
       "      <th>Population</th>\n",
       "      <th>Median Age</th>\n",
       "      <th>Household Income</th>\n",
       "      <th>Per Capita Income</th>\n",
       "      <th>Median Gross Rent</th>\n",
       "      <th>Poverty Count</th>\n",
       "      <th>Poverty Rate</th>\n",
       "    </tr>\n",
       "  </thead>\n",
       "  <tbody>\n",
       "  </tbody>\n",
       "</table>\n",
       "</div>"
      ],
      "text/plain": [
       "Empty DataFrame\n",
       "Columns: [Address, Count, Zipcode, Type, Owner Occ?, Purchase Amt, Amount Mortgaged, % Borrowed, Mtg Tx Pd, Mansion Tax Pd, New Sales Tax Amount, Population, Median Age, Household Income, Per Capita Income, Median Gross Rent, Poverty Count, Poverty Rate]\n",
       "Index: []"
      ]
     },
     "execution_count": 8,
     "metadata": {},
     "output_type": "execute_result"
    }
   ],
   "source": [
    "# prints rows with missing values\n",
    "complete_df[complete_df.isnull().any(axis=1)]"
   ]
  },
  {
   "cell_type": "code",
   "execution_count": 9,
   "metadata": {},
   "outputs": [],
   "source": [
    "# # drop rows with Nan values\n",
    "# complete_df.drop(index=[2446,2447,2448,2449,2450,2451,2452,2453,2454,2455,2456,2457,\n",
    "# 2458,2459,2460,2461,2462,2463,2464,2465,2466,2467,2468,2469,2470,2471,2472,2473,7373,\n",
    "# 8006,8026,10018,10019,10020,10021,10022,10023,10024,10025,10026,10027,10028,10029,10030,\n",
    "# 10031,10032,10033,10034,10035,10036,10037,10038,10039,10040,10041,10042,10043,], inplace=True)"
   ]
  },
  {
   "cell_type": "code",
   "execution_count": 10,
   "metadata": {},
   "outputs": [
    {
     "name": "stdout",
     "output_type": "stream",
     "text": [
      "The number of missing data in the dataset is: 0\n"
     ]
    }
   ],
   "source": [
    "# print number of missing data in the dataset\n",
    "print('The number of missing data in the dataset is:',complete_df.isnull().sum().sum())"
   ]
  },
  {
   "cell_type": "code",
   "execution_count": 11,
   "metadata": {},
   "outputs": [
    {
     "data": {
      "text/plain": [
       "Address                  object\n",
       "Count                     int64\n",
       "Zipcode                 float64\n",
       "Type                     object\n",
       "Owner Occ?              float64\n",
       "Purchase Amt            float64\n",
       "Amount Mortgaged        float64\n",
       "% Borrowed              float64\n",
       "Mtg Tx Pd               float64\n",
       "Mansion Tax Pd          float64\n",
       "New Sales Tax Amount    float64\n",
       "Population              float64\n",
       "Median Age              float64\n",
       "Household Income        float64\n",
       "Per Capita Income       float64\n",
       "Median Gross Rent       float64\n",
       "Poverty Count           float64\n",
       "Poverty Rate            float64\n",
       "dtype: object"
      ]
     },
     "execution_count": 11,
     "metadata": {},
     "output_type": "execute_result"
    }
   ],
   "source": [
    "# check datatypes\n",
    "complete_df.dtypes"
   ]
  },
  {
   "cell_type": "code",
   "execution_count": 12,
   "metadata": {},
   "outputs": [],
   "source": [
    "# change datatype for zipcode\n",
    "complete_df['Zipcode']=complete_df['Zipcode'].astype('int64')"
   ]
  },
  {
   "cell_type": "code",
   "execution_count": 13,
   "metadata": {},
   "outputs": [],
   "source": [
    "# reset indeces\n",
    "complete_df.reset_index(drop=True, inplace=True)"
   ]
  },
  {
   "cell_type": "code",
   "execution_count": 14,
   "metadata": {},
   "outputs": [],
   "source": [
    "# Export the City_Data into a csv\n",
    "complete_df.to_csv(\"../complete.csv\", encoding=\"utf-8\", index=False)"
   ]
  },
  {
   "cell_type": "code",
   "execution_count": 15,
   "metadata": {},
   "outputs": [],
   "source": [
    "# # Useful code\n",
    "\n",
    "# # Data cleaning\n",
    "\n",
    "# # prints the size of the dataframe\n",
    "# print('The size of the data frame is:',census_df.shape) \n",
    "\n",
    "# # drop a certain column\n",
    "# census_df.drop(columns='Unnamed: 0', inplace=True) \n",
    "\n",
    "# census_df['electric_eui'].replace(np.nan, census_df['Median Age'].mean(), inplace=True)\n",
    "\n",
    "# # Find number of missing values for each column\n",
    "# missing_data=census_pd.isnull()\n",
    "# for column in missing_data.columns:\n",
    "#     print(column)\n",
    "#     print(missing_data[column].value_counts()) \n",
    "#     print(\"\")\n",
    "\n",
    "# # prints rows with missing values\n",
    "# census_pd[census_pd.isnull().any(axis=1)]\n",
    "\n",
    "# # reset indeces\n",
    "# census_pd.reset_index(drop=True, inplace=True)\n",
    "\n",
    "# # print datatypes\n",
    "# census_pd.dtypes\n",
    "\n",
    "# # change datatype\n",
    "# census_pd['Median Age']=census_pd['Median Age'].astype('int')\n",
    "\n",
    "# # Exploratory Data Analysis\n",
    "\n",
    "# # .describe\n",
    "# census_pd[['columns']].describe()"
   ]
  },
  {
   "cell_type": "code",
   "execution_count": null,
   "metadata": {},
   "outputs": [],
   "source": []
  }
 ],
 "metadata": {
  "kernelspec": {
   "display_name": "Python 3 (ipykernel)",
   "language": "python",
   "name": "python3"
  },
  "language_info": {
   "codemirror_mode": {
    "name": "ipython",
    "version": 3
   },
   "file_extension": ".py",
   "mimetype": "text/x-python",
   "name": "python",
   "nbconvert_exporter": "python",
   "pygments_lexer": "ipython3",
   "version": "3.10.13"
  }
 },
 "nbformat": 4,
 "nbformat_minor": 2
}
