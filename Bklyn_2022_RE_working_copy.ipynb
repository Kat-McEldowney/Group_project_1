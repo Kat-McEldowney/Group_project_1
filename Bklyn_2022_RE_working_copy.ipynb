{
 "cells": [
  {
   "cell_type": "markdown",
   "id": "5036fea7",
   "metadata": {},
   "source": []
  },
  {
   "cell_type": "code",
   "execution_count": 3,
   "id": "b82232d6",
   "metadata": {},
   "outputs": [
    {
     "data": {
      "text/plain": [
       "Index(['Type', 'Address', 'ZIP', 'Purchase Amt', 'Purchase Down %',\n",
       "       '1st Amount', '2nd Amount', 'CLTV %', 'Purchase Date', 'Purchase Type',\n",
       "       'City', 'Owner Occ?', 'Listed for Sale?'],\n",
       "      dtype='object')"
      ]
     },
     "execution_count": 3,
     "metadata": {},
     "output_type": "execute_result"
    }
   ],
   "source": [
    "import pandas as pd\n",
    "import numpy as np\n",
    "import matplotlib.pyplot as plt\n",
    "import warnings\n",
    "warnings.filterwarnings(\"ignore\")\n",
    "\n",
    "full_df = pd.read_csv('bklyn_sales_working.csv')\n",
    "full_df.columns"
   ]
  },
  {
   "cell_type": "code",
   "execution_count": 6,
   "id": "81905090",
   "metadata": {},
   "outputs": [
    {
     "data": {
      "text/html": [
       "<div>\n",
       "<style scoped>\n",
       "    .dataframe tbody tr th:only-of-type {\n",
       "        vertical-align: middle;\n",
       "    }\n",
       "\n",
       "    .dataframe tbody tr th {\n",
       "        vertical-align: top;\n",
       "    }\n",
       "\n",
       "    .dataframe thead th {\n",
       "        text-align: right;\n",
       "    }\n",
       "</style>\n",
       "<table border=\"1\" class=\"dataframe\">\n",
       "  <thead>\n",
       "    <tr style=\"text-align: right;\">\n",
       "      <th></th>\n",
       "      <th>Count</th>\n",
       "      <th>ZIP</th>\n",
       "      <th>Type</th>\n",
       "      <th>Owner Occ?</th>\n",
       "      <th>Purchase Down %</th>\n",
       "      <th>Purchase Amt</th>\n",
       "      <th>Amount Mortgaged</th>\n",
       "    </tr>\n",
       "  </thead>\n",
       "  <tbody>\n",
       "    <tr>\n",
       "      <th>3007</th>\n",
       "      <td>1</td>\n",
       "      <td>11214</td>\n",
       "      <td>CND</td>\n",
       "      <td>1</td>\n",
       "      <td>100.0</td>\n",
       "      <td>650000.0</td>\n",
       "      <td>0.0</td>\n",
       "    </tr>\n",
       "    <tr>\n",
       "      <th>3008</th>\n",
       "      <td>1</td>\n",
       "      <td>11214</td>\n",
       "      <td>CND</td>\n",
       "      <td>1</td>\n",
       "      <td>21.0</td>\n",
       "      <td>659262.0</td>\n",
       "      <td>520000.0</td>\n",
       "    </tr>\n",
       "    <tr>\n",
       "      <th>3009</th>\n",
       "      <td>1</td>\n",
       "      <td>11230</td>\n",
       "      <td>CND</td>\n",
       "      <td>1</td>\n",
       "      <td>31.0</td>\n",
       "      <td>539672.0</td>\n",
       "      <td>371000.0</td>\n",
       "    </tr>\n",
       "    <tr>\n",
       "      <th>3010</th>\n",
       "      <td>1</td>\n",
       "      <td>11229</td>\n",
       "      <td>CND</td>\n",
       "      <td>1</td>\n",
       "      <td>20.0</td>\n",
       "      <td>575000.0</td>\n",
       "      <td>460000.0</td>\n",
       "    </tr>\n",
       "    <tr>\n",
       "      <th>3011</th>\n",
       "      <td>1</td>\n",
       "      <td>11235</td>\n",
       "      <td>CND</td>\n",
       "      <td>0</td>\n",
       "      <td>100.0</td>\n",
       "      <td>360000.0</td>\n",
       "      <td>0.0</td>\n",
       "    </tr>\n",
       "  </tbody>\n",
       "</table>\n",
       "</div>"
      ],
      "text/plain": [
       "      Count    ZIP Type  Owner Occ?  Purchase Down %  Purchase Amt  \\\n",
       "3007      1  11214  CND           1            100.0      650000.0   \n",
       "3008      1  11214  CND           1             21.0      659262.0   \n",
       "3009      1  11230  CND           1             31.0      539672.0   \n",
       "3010      1  11229  CND           1             20.0      575000.0   \n",
       "3011      1  11235  CND           0            100.0      360000.0   \n",
       "\n",
       "      Amount Mortgaged  \n",
       "3007               0.0  \n",
       "3008          520000.0  \n",
       "3009          371000.0  \n",
       "3010          460000.0  \n",
       "3011               0.0  "
      ]
     },
     "execution_count": 6,
     "metadata": {},
     "output_type": "execute_result"
    }
   ],
   "source": [
    "full_df['Purchase Amt'] = full_df['Purchase Amt'].astype('float64')\n",
    "full_df.columns\n",
    "\n",
    "full_df = full_df.fillna(0)\n",
    "full_df['Amount Mortgaged'] = full_df['1st Amount']\n",
    "full_df['Count'] = 1\n",
    "full_df = full_df.loc[:, ['Count', 'ZIP', 'Type', 'Owner Occ?', 'Purchase Down %', \n",
    "                                 'Purchase Amt', 'Amount Mortgaged']]\n",
    "\n",
    "\n",
    "\n",
    "full_df.tail()"
   ]
  },
  {
   "cell_type": "code",
   "execution_count": 11,
   "id": "91b0b6df",
   "metadata": {},
   "outputs": [
    {
     "data": {
      "text/plain": [
       "Index(['Count', 'ZIP', 'Type', 'Owner Occ?', 'Purchase Down %', 'Purchase Amt',\n",
       "       'Amount Mortgaged'],\n",
       "      dtype='object')"
      ]
     },
     "execution_count": 11,
     "metadata": {},
     "output_type": "execute_result"
    }
   ],
   "source": [
    "full_df.columns\n"
   ]
  },
  {
   "cell_type": "code",
   "execution_count": 12,
   "id": "55db6fa4",
   "metadata": {},
   "outputs": [],
   "source": [
    "# full_df = full_df.loc[:, full_df['Count', 'ZIP', 'Type', 'Owner Occ?', 'Purchase Down %', 'Purchase Amt',\n",
    "#        'Amount Mortgaged']]\n",
    "# full_df.head()\n"
   ]
  },
  {
   "cell_type": "code",
   "execution_count": 13,
   "id": "b69496a2",
   "metadata": {},
   "outputs": [
    {
     "data": {
      "text/plain": [
       "(3012, 7)"
      ]
     },
     "execution_count": 13,
     "metadata": {},
     "output_type": "execute_result"
    }
   ],
   "source": [
    "full_df.shape"
   ]
  },
  {
   "cell_type": "code",
   "execution_count": 14,
   "id": "8c72bdd9",
   "metadata": {},
   "outputs": [
    {
     "ename": "KeyError",
     "evalue": "Index(['Address'], dtype='object')",
     "output_type": "error",
     "traceback": [
      "\u001b[1;31m---------------------------------------------------------------------------\u001b[0m",
      "\u001b[1;31mKeyError\u001b[0m                                  Traceback (most recent call last)",
      "\u001b[1;32m~\\AppData\\Local\\Temp\\ipykernel_15320\\1684942034.py\u001b[0m in \u001b[0;36m?\u001b[1;34m()\u001b[0m\n\u001b[1;32m----> 1\u001b[1;33m \u001b[0mfull_df_dupe\u001b[0m \u001b[1;33m=\u001b[0m \u001b[0mfull_df\u001b[0m\u001b[1;33m[\u001b[0m\u001b[0mfull_df\u001b[0m\u001b[1;33m.\u001b[0m\u001b[0mduplicated\u001b[0m\u001b[1;33m(\u001b[0m\u001b[1;33m[\u001b[0m\u001b[1;34m'Address'\u001b[0m\u001b[1;33m]\u001b[0m\u001b[1;33m,\u001b[0m \u001b[0mkeep\u001b[0m \u001b[1;33m=\u001b[0m \u001b[1;32mFalse\u001b[0m\u001b[1;33m)\u001b[0m\u001b[1;33m]\u001b[0m\u001b[1;33m\u001b[0m\u001b[1;33m\u001b[0m\u001b[0m\n\u001b[0m\u001b[0;32m      2\u001b[0m \u001b[0mfull_dupe\u001b[0m\u001b[1;33m.\u001b[0m\u001b[0mshape\u001b[0m\u001b[1;33m\u001b[0m\u001b[1;33m\u001b[0m\u001b[0m\n",
      "\u001b[1;32m~\\anaconda3\\envs\\dev\\lib\\site-packages\\pandas\\core\\frame.py\u001b[0m in \u001b[0;36m?\u001b[1;34m(self, subset, keep)\u001b[0m\n\u001b[0;32m   6650\u001b[0m         \u001b[1;31m# Otherwise, raise a KeyError, same as if you try to __getitem__ with a\u001b[0m\u001b[1;33m\u001b[0m\u001b[1;33m\u001b[0m\u001b[0m\n\u001b[0;32m   6651\u001b[0m         \u001b[1;31m# key that doesn't exist.\u001b[0m\u001b[1;33m\u001b[0m\u001b[1;33m\u001b[0m\u001b[0m\n\u001b[0;32m   6652\u001b[0m         \u001b[0mdiff\u001b[0m \u001b[1;33m=\u001b[0m \u001b[0mset\u001b[0m\u001b[1;33m(\u001b[0m\u001b[0msubset\u001b[0m\u001b[1;33m)\u001b[0m \u001b[1;33m-\u001b[0m \u001b[0mset\u001b[0m\u001b[1;33m(\u001b[0m\u001b[0mself\u001b[0m\u001b[1;33m.\u001b[0m\u001b[0mcolumns\u001b[0m\u001b[1;33m)\u001b[0m\u001b[1;33m\u001b[0m\u001b[1;33m\u001b[0m\u001b[0m\n\u001b[0;32m   6653\u001b[0m         \u001b[1;32mif\u001b[0m \u001b[0mdiff\u001b[0m\u001b[1;33m:\u001b[0m\u001b[1;33m\u001b[0m\u001b[1;33m\u001b[0m\u001b[0m\n\u001b[1;32m-> 6654\u001b[1;33m             \u001b[1;32mraise\u001b[0m \u001b[0mKeyError\u001b[0m\u001b[1;33m(\u001b[0m\u001b[0mIndex\u001b[0m\u001b[1;33m(\u001b[0m\u001b[0mdiff\u001b[0m\u001b[1;33m)\u001b[0m\u001b[1;33m)\u001b[0m\u001b[1;33m\u001b[0m\u001b[1;33m\u001b[0m\u001b[0m\n\u001b[0m\u001b[0;32m   6655\u001b[0m \u001b[1;33m\u001b[0m\u001b[0m\n\u001b[0;32m   6656\u001b[0m         \u001b[1;32mif\u001b[0m \u001b[0mlen\u001b[0m\u001b[1;33m(\u001b[0m\u001b[0msubset\u001b[0m\u001b[1;33m)\u001b[0m \u001b[1;33m==\u001b[0m \u001b[1;36m1\u001b[0m \u001b[1;32mand\u001b[0m \u001b[0mself\u001b[0m\u001b[1;33m.\u001b[0m\u001b[0mcolumns\u001b[0m\u001b[1;33m.\u001b[0m\u001b[0mis_unique\u001b[0m\u001b[1;33m:\u001b[0m\u001b[1;33m\u001b[0m\u001b[1;33m\u001b[0m\u001b[0m\n\u001b[0;32m   6657\u001b[0m             \u001b[1;31m# GH#45236 This is faster than get_group_index below\u001b[0m\u001b[1;33m\u001b[0m\u001b[1;33m\u001b[0m\u001b[0m\n",
      "\u001b[1;31mKeyError\u001b[0m: Index(['Address'], dtype='object')"
     ]
    }
   ],
   "source": [
    "full_df_dupe = full_df[full_df.duplicated(['Address'], keep = False)]\n",
    "full_dupe.shape"
   ]
  },
  {
   "cell_type": "code",
   "execution_count": null,
   "id": "7c32ee1a",
   "metadata": {},
   "outputs": [],
   "source": [
    "full_df.shape"
   ]
  },
  {
   "cell_type": "code",
   "execution_count": null,
   "id": "64580f6f",
   "metadata": {},
   "outputs": [],
   "source": [
    "full_df['% Borrowed'] = full_df['Amount Mortgaged']/ full_df['Purchase Amt']*100\n",
    "full_df = full_df[full_df['% Borrowed'] < 100]\n",
    "full_df.shape"
   ]
  },
  {
   "cell_type": "code",
   "execution_count": null,
   "id": "28983e33",
   "metadata": {},
   "outputs": [],
   "source": [
    "#calculate how much mortgage tax was collected.\n",
    "# for mortgages less than $500,000, tax is 1.8% for mortgages of $500,000, 1.95% \n",
    "#calculate the mansion tax as 1% for sales over $1,000,000\n",
    "\n",
    "full_df['Mtg Tx Pd'] = np.where(full_df['Amount Mortgaged'] >= 500000, \n",
    "                                 full_df['Amount Mortgaged'] * 0.0195, full_df['Amount Mortgaged'] * 0.018)\n",
    "full_df['Mansion Tax Pd'] = np.where(full_df['Purchase Amt'] >= 1000000, full_df['Purchase Amt'] * 0.01, 0)\n",
    "full_df.head()"
   ]
  },
  {
   "cell_type": "code",
   "execution_count": null,
   "id": "38141b11",
   "metadata": {},
   "outputs": [],
   "source": [
    "#created two dataframes, one for investor purchases and the other for primary residences\n",
    "investor_df = full_df[(full_df['Owner Occ?'] ==1)]\n",
    "owner_occ_df = full_df[(full_df['Owner Occ?'] == 0)]\n"
   ]
  },
  {
   "cell_type": "code",
   "execution_count": null,
   "id": "68e245e1",
   "metadata": {},
   "outputs": [],
   "source": [
    "#calculate new sales tax info for private residences, 0.9% for purchases under $1mil and \n",
    "#calculate new sales tax for investment purchases, 4.4357%\n",
    "owner_occ_df['New Sales Tax Amount'] = np.where(owner_occ_df['Purchase Amt'] >= 1000000, owner_occ_df['Purchase Amt'] * 0.009,\n",
    "                                owner_occ_df['Purchase Amt'] * 0.014)\n",
    "investor_df['New Sales Tax Amount'] = investor_df['Purchase Amt'] * 0.04438\n",
    "\n",
    "owner_occ_df.tail()"
   ]
  },
  {
   "cell_type": "code",
   "execution_count": null,
   "id": "36c11238",
   "metadata": {
    "scrolled": true
   },
   "outputs": [],
   "source": [
    "#show the total mtg tax and mansion taxes collected and compare to what our hypothetical tax would have raised\n",
    "\n",
    "total_mtg_tax_pd = owner_occ_df['Mtg Tx Pd'].sum()\n",
    "total_mansion_tax_pd = owner_occ_df['Mansion Tax Pd'].sum()\n",
    "total_est_tax = owner_occ_df['New Sales Tax Amount'].sum()\n",
    "total_mtg_tax_inves_pd = investor_df['Mtg Tx Pd'].sum()\n",
    "total_mansion_tax_inves_pd = investor_df['Mansion Tax Pd'].sum()\n",
    "total_est_inves_tax = investor_df['New Sales Tax Amount'].sum()\n",
    "print(f\"The total mtg tax paid  by individuals purchasing primary residences in 2022 was ${total_mtg_tax_pd:,.0f} and the total mansion tax collected was ${total_mansion_tax_pd:,.0f}.\")\n",
    "print(f'The combined mtg and mansion tax was {total_mtg_tax_pd + total_mansion_tax_pd:,.0f}, our hypothetical sales tax would have raised ${total_est_tax:,.0f}')\n",
    "print(f\"The total mtg tax paid in bklyn by investors in 2022 was ${total_mtg_tax_inves_pd:,.0f} and the total mansion tax collected was ${total_mansion_tax_inves_pd:,.0f}.\")\n",
    "print(f'The combined mtg and mansion tax was {total_mtg_tax_inves_pd + total_mansion_tax_inves_pd:,.0f}, our hypothetical sales tax on investments would have raised ${total_est_inves_tax:,.0f}')\n",
    "print(f'The total tax raised in 2022 was {total_mtg_tax_pd + total_mansion_tax_pd + total_mtg_tax_inves_pd + total_mansion_tax_inves_pd:,.0f} and the total amount that would have been raised would have been ${total_est_tax + total_est_inves_tax:,.0f}')"
   ]
  },
  {
   "cell_type": "code",
   "execution_count": null,
   "id": "1bb88f05",
   "metadata": {
    "scrolled": true
   },
   "outputs": [],
   "source": [
    "frames = [owner_occ_df, investor_df]\n",
    "calculated_full_df = pd.concat(frames)\n",
    "calculated_full_df.shape"
   ]
  },
  {
   "cell_type": "code",
   "execution_count": null,
   "id": "1dd1a220",
   "metadata": {},
   "outputs": [],
   "source": [
    "calculated_full_df.to_csv('Sales_info_with_taxes_4.csv')"
   ]
  },
  {
   "cell_type": "code",
   "execution_count": null,
   "id": "1d97512b",
   "metadata": {},
   "outputs": [],
   "source": []
  },
  {
   "cell_type": "code",
   "execution_count": null,
   "id": "0f3dbf50",
   "metadata": {},
   "outputs": [],
   "source": []
  }
 ],
 "metadata": {
  "kernelspec": {
   "display_name": "Python 3 (ipykernel)",
   "language": "python",
   "name": "python3"
  },
  "language_info": {
   "codemirror_mode": {
    "name": "ipython",
    "version": 3
   },
   "file_extension": ".py",
   "mimetype": "text/x-python",
   "name": "python",
   "nbconvert_exporter": "python",
   "pygments_lexer": "ipython3",
   "version": "3.10.13"
  }
 },
 "nbformat": 4,
 "nbformat_minor": 5
}
