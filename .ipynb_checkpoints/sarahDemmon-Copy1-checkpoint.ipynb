{
 "cells": [
  {
   "cell_type": "code",
   "execution_count": 1,
   "id": "0f7d4f23",
   "metadata": {},
   "outputs": [],
   "source": [
    "import pandas as pd\n",
    "import numpy as np\n",
    "from scipy import stats\n",
    "import matplotlib.pyplot as plt\n",
    "import warnings"
   ]
  },
  {
   "cell_type": "code",
   "execution_count": 2,
   "id": "507b3895",
   "metadata": {},
   "outputs": [
    {
     "name": "stdout",
     "output_type": "stream",
     "text": [
      "(17701, 17)\n"
     ]
    },
    {
     "data": {
      "text/plain": [
       "Index(['Count', 'Zipcode', 'Type', 'Owner Occ?', 'Purchase Down %',\n",
       "       'Purchase Amt', 'Amount Mortgaged', 'Mtg Tx Pd', 'Mansion Tax Pd',\n",
       "       'New Sales Tax Amount', 'Population', 'Median Age', 'Household Income',\n",
       "       'Per Capita Income', 'Median Gross Rent', 'Poverty Count',\n",
       "       'Poverty Rate'],\n",
       "      dtype='object')"
      ]
     },
     "execution_count": 2,
     "metadata": {},
     "output_type": "execute_result"
    }
   ],
   "source": [
    "complete_df = pd.read_csv('complete.csv')\n",
    "print(complete_df.shape)\n",
    "complete_df.columns"
   ]
  },
  {
   "cell_type": "code",
   "execution_count": 20,
   "id": "f1bcae22",
   "metadata": {},
   "outputs": [],
   "source": [
    "#NEED TO REWRITE THIS - BOOLEAN\n",
    "\n",
    "complete_df.drop('Type', axis=1, inplace=True)"
   ]
  },
  {
   "cell_type": "code",
   "execution_count": 21,
   "id": "c9083736",
   "metadata": {},
   "outputs": [],
   "source": [
    "#create new columns for % borrowed, total taxes paid and taxes as a percent of household income and taxes as a percent of gross rent\n",
    "\n",
    "#divide monetary amounts by 1000 to make the units per 1000\n",
    "\n",
    "complete_df['% borrowed'] = 100 - complete_df['Purchase Down %']\n",
    "complete_df['Tot tax pd'] = complete_df['Mtg Tx Pd'] + complete_df['Mansion Tax Pd']\n",
    "complete_df['Mtax as % Household Income'] = complete_df['Household Income']/complete_df['Household Income']* 100\n",
    "complete_df['Months rent spent on tax'] = complete_df['Median Gross Rent']/complete_df['Tot tax pd']\n",
    "\n",
    "complete_df[\"Purchase Amt\"] = complete_df[\"Purchase Amt\"] / 1000\n",
    "complete_df[\"Amount Mortgaged\"] = complete_df[\"Amount Mortgaged\"] / 1000\n",
    "complete_df[\"Mtg Tx Pd\"] = complete_df[\"Mtg Tx Pd\"] / 1000\n",
    "complete_df[\"Mansion Tax Pd\"] = complete_df[\"Mansion Tax Pd\"] / 1000\n",
    "complete_df[\"New Sales Tax Amount\"] = complete_df[\"New Sales Tax Amount\"] / 1000\n",
    "complete_df[\"Per Capita Income\"] = complete_df[\"Per Capita Income\"] / 1000"
   ]
  },
  {
   "cell_type": "code",
   "execution_count": 22,
   "id": "b47b22c1",
   "metadata": {
    "scrolled": true
   },
   "outputs": [],
   "source": [
    "# complete_df.set_index(['Zipcode'])\n",
    "# complete_df.head()"
   ]
  },
  {
   "cell_type": "code",
   "execution_count": 23,
   "id": "dc8bffba",
   "metadata": {},
   "outputs": [
    {
     "data": {
      "text/plain": [
       "Count                           int64\n",
       "Zipcode                         int64\n",
       "Owner Occ?                    float64\n",
       "Purchase Down %               float64\n",
       "Purchase Amt                  float64\n",
       "Amount Mortgaged              float64\n",
       "Mtg Tx Pd                     float64\n",
       "Mansion Tax Pd                float64\n",
       "New Sales Tax Amount          float64\n",
       "Population                    float64\n",
       "Median Age                    float64\n",
       "Household Income              float64\n",
       "Per Capita Income             float64\n",
       "Median Gross Rent             float64\n",
       "Poverty Count                 float64\n",
       "Poverty Rate                  float64\n",
       "% borrowed                    float64\n",
       "Tot tax pd                    float64\n",
       "Mtax as % Household Income    float64\n",
       "Months rent spent on tax      float64\n",
       "dtype: object"
      ]
     },
     "execution_count": 23,
     "metadata": {},
     "output_type": "execute_result"
    }
   ],
   "source": [
    "#Seperate the data into 4 dataframes, by areas and status\n",
    "\n",
    "high_low_df = complete_df.loc[complete_df['Zipcode'].isin([10013, 10007, 10282, 10453, 11355, 10457, 11368])]\n",
    "high_low_investors = high_low_df[(high_low_df['Owner Occ?'] ==1)]\n",
    "high_low_oocc = high_low_df[(high_low_df['Owner Occ?'] ==0)]\n",
    "bklyn_df = complete_df.loc[~complete_df['Zipcode'].isin([10013, 10007, 10282, 10453, 11355, 10457, 11368])]\n",
    "bklyn_investors = bklyn_df[(bklyn_df['Owner Occ?'] ==1)]\n",
    "bklyn_oocc = bklyn_df[(bklyn_df['Owner Occ?'] ==0)]\n",
    "\n",
    "bklyn_investors.dtypes\n",
    "\n"
   ]
  },
  {
   "cell_type": "code",
   "execution_count": 24,
   "id": "02df4e65",
   "metadata": {},
   "outputs": [],
   "source": [
    "fourframes= [bklyn_oocc, bklyn_investors, high_low_oocc, high_low_investors]\n",
    "\n",
    "column_load = {'Zipcode': 'Zipcode', \"Population\": 'mean', 'Count': 'sum', 'Purchase Amt': 'mean',\n",
    "           'Purchase Down %': 'mean', '% borrowed': 'mean',\n",
    "           'Amount Mortgaged': 'mean','Mtg Tx Pd': 'mean',\n",
    "           'Mansion Tax Pd': 'mean', 'New Sales Tax Amount': 'mean', \n",
    "           'Per Capita Income': 'mean'}\n"
   ]
  },
  {
   "cell_type": "code",
   "execution_count": null,
   "id": "25f9eb22",
   "metadata": {
    "collapsed": true
   },
   "outputs": [],
   "source": []
  },
  {
   "cell_type": "code",
   "execution_count": 28,
   "id": "2faf2273",
   "metadata": {
    "scrolled": true
   },
   "outputs": [
    {
     "data": {
      "text/html": [
       "<div>\n",
       "<style scoped>\n",
       "    .dataframe tbody tr th:only-of-type {\n",
       "        vertical-align: middle;\n",
       "    }\n",
       "\n",
       "    .dataframe tbody tr th {\n",
       "        vertical-align: top;\n",
       "    }\n",
       "\n",
       "    .dataframe thead th {\n",
       "        text-align: right;\n",
       "    }\n",
       "</style>\n",
       "<table border=\"1\" class=\"dataframe\">\n",
       "  <thead>\n",
       "    <tr style=\"text-align: right;\">\n",
       "      <th></th>\n",
       "      <th>Count</th>\n",
       "      <th>Zipcode</th>\n",
       "      <th>Owner Occ?</th>\n",
       "      <th>Purchase Down %</th>\n",
       "      <th>Purchase Amt</th>\n",
       "      <th>Amount Mortgaged</th>\n",
       "      <th>Mtg Tx Pd</th>\n",
       "      <th>Mansion Tax Pd</th>\n",
       "      <th>New Sales Tax Amount</th>\n",
       "      <th>Population</th>\n",
       "      <th>Median Age</th>\n",
       "      <th>Household Income</th>\n",
       "      <th>Per Capita Income</th>\n",
       "      <th>Median Gross Rent</th>\n",
       "      <th>Poverty Count</th>\n",
       "      <th>Poverty Rate</th>\n",
       "      <th>% borrowed</th>\n",
       "      <th>Tot tax pd</th>\n",
       "      <th>Mtax as % Household Income</th>\n",
       "      <th>Months rent spent on tax</th>\n",
       "    </tr>\n",
       "  </thead>\n",
       "  <tbody>\n",
       "    <tr>\n",
       "      <th>7996</th>\n",
       "      <td>1</td>\n",
       "      <td>11201</td>\n",
       "      <td>1.0</td>\n",
       "      <td>100.0</td>\n",
       "      <td>0.002700</td>\n",
       "      <td>0.000000</td>\n",
       "      <td>0.000000</td>\n",
       "      <td>0.000027</td>\n",
       "      <td>0.000120</td>\n",
       "      <td>69755.0</td>\n",
       "      <td>35.1</td>\n",
       "      <td>163310.0</td>\n",
       "      <td>0.000109</td>\n",
       "      <td>3110.0</td>\n",
       "      <td>7004.0</td>\n",
       "      <td>10.040857</td>\n",
       "      <td>0.0</td>\n",
       "      <td>0.027000</td>\n",
       "      <td>100.0</td>\n",
       "      <td>115185.185185</td>\n",
       "    </tr>\n",
       "    <tr>\n",
       "      <th>7997</th>\n",
       "      <td>1</td>\n",
       "      <td>11201</td>\n",
       "      <td>1.0</td>\n",
       "      <td>52.0</td>\n",
       "      <td>0.005173</td>\n",
       "      <td>0.002500</td>\n",
       "      <td>0.000049</td>\n",
       "      <td>0.000052</td>\n",
       "      <td>0.000230</td>\n",
       "      <td>69755.0</td>\n",
       "      <td>35.1</td>\n",
       "      <td>163310.0</td>\n",
       "      <td>0.000109</td>\n",
       "      <td>3110.0</td>\n",
       "      <td>7004.0</td>\n",
       "      <td>10.040857</td>\n",
       "      <td>48.0</td>\n",
       "      <td>0.100481</td>\n",
       "      <td>100.0</td>\n",
       "      <td>30951.063483</td>\n",
       "    </tr>\n",
       "    <tr>\n",
       "      <th>7998</th>\n",
       "      <td>1</td>\n",
       "      <td>11201</td>\n",
       "      <td>1.0</td>\n",
       "      <td>100.0</td>\n",
       "      <td>0.005975</td>\n",
       "      <td>0.000000</td>\n",
       "      <td>0.000000</td>\n",
       "      <td>0.000060</td>\n",
       "      <td>0.000265</td>\n",
       "      <td>69755.0</td>\n",
       "      <td>35.1</td>\n",
       "      <td>163310.0</td>\n",
       "      <td>0.000109</td>\n",
       "      <td>3110.0</td>\n",
       "      <td>7004.0</td>\n",
       "      <td>10.040857</td>\n",
       "      <td>0.0</td>\n",
       "      <td>0.059750</td>\n",
       "      <td>100.0</td>\n",
       "      <td>52050.209205</td>\n",
       "    </tr>\n",
       "    <tr>\n",
       "      <th>7999</th>\n",
       "      <td>1</td>\n",
       "      <td>11201</td>\n",
       "      <td>1.0</td>\n",
       "      <td>20.0</td>\n",
       "      <td>0.002780</td>\n",
       "      <td>0.002224</td>\n",
       "      <td>0.000043</td>\n",
       "      <td>0.000028</td>\n",
       "      <td>0.000123</td>\n",
       "      <td>69755.0</td>\n",
       "      <td>35.1</td>\n",
       "      <td>163310.0</td>\n",
       "      <td>0.000109</td>\n",
       "      <td>3110.0</td>\n",
       "      <td>7004.0</td>\n",
       "      <td>10.040857</td>\n",
       "      <td>80.0</td>\n",
       "      <td>0.071168</td>\n",
       "      <td>100.0</td>\n",
       "      <td>43699.415468</td>\n",
       "    </tr>\n",
       "    <tr>\n",
       "      <th>8000</th>\n",
       "      <td>1</td>\n",
       "      <td>11201</td>\n",
       "      <td>1.0</td>\n",
       "      <td>20.0</td>\n",
       "      <td>0.001550</td>\n",
       "      <td>0.001240</td>\n",
       "      <td>0.000024</td>\n",
       "      <td>0.000016</td>\n",
       "      <td>0.000069</td>\n",
       "      <td>69755.0</td>\n",
       "      <td>35.1</td>\n",
       "      <td>163310.0</td>\n",
       "      <td>0.000109</td>\n",
       "      <td>3110.0</td>\n",
       "      <td>7004.0</td>\n",
       "      <td>10.040857</td>\n",
       "      <td>80.0</td>\n",
       "      <td>0.039680</td>\n",
       "      <td>100.0</td>\n",
       "      <td>78377.016129</td>\n",
       "    </tr>\n",
       "  </tbody>\n",
       "</table>\n",
       "</div>"
      ],
      "text/plain": [
       "      Count  Zipcode  Owner Occ?  Purchase Down %  Purchase Amt  \\\n",
       "7996      1    11201         1.0            100.0      0.002700   \n",
       "7997      1    11201         1.0             52.0      0.005173   \n",
       "7998      1    11201         1.0            100.0      0.005975   \n",
       "7999      1    11201         1.0             20.0      0.002780   \n",
       "8000      1    11201         1.0             20.0      0.001550   \n",
       "\n",
       "      Amount Mortgaged  Mtg Tx Pd  Mansion Tax Pd  New Sales Tax Amount  \\\n",
       "7996          0.000000   0.000000        0.000027              0.000120   \n",
       "7997          0.002500   0.000049        0.000052              0.000230   \n",
       "7998          0.000000   0.000000        0.000060              0.000265   \n",
       "7999          0.002224   0.000043        0.000028              0.000123   \n",
       "8000          0.001240   0.000024        0.000016              0.000069   \n",
       "\n",
       "      Population  Median Age  Household Income  Per Capita Income  \\\n",
       "7996     69755.0        35.1          163310.0           0.000109   \n",
       "7997     69755.0        35.1          163310.0           0.000109   \n",
       "7998     69755.0        35.1          163310.0           0.000109   \n",
       "7999     69755.0        35.1          163310.0           0.000109   \n",
       "8000     69755.0        35.1          163310.0           0.000109   \n",
       "\n",
       "      Median Gross Rent  Poverty Count  Poverty Rate  % borrowed  Tot tax pd  \\\n",
       "7996             3110.0         7004.0     10.040857         0.0    0.027000   \n",
       "7997             3110.0         7004.0     10.040857        48.0    0.100481   \n",
       "7998             3110.0         7004.0     10.040857         0.0    0.059750   \n",
       "7999             3110.0         7004.0     10.040857        80.0    0.071168   \n",
       "8000             3110.0         7004.0     10.040857        80.0    0.039680   \n",
       "\n",
       "      Mtax as % Household Income  Months rent spent on tax  \n",
       "7996                       100.0             115185.185185  \n",
       "7997                       100.0              30951.063483  \n",
       "7998                       100.0              52050.209205  \n",
       "7999                       100.0              43699.415468  \n",
       "8000                       100.0              78377.016129  "
      ]
     },
     "execution_count": 28,
     "metadata": {},
     "output_type": "execute_result"
    }
   ],
   "source": [
    "for frame in fourframes:\n",
    "    frame =frame + '_oocc'\n",
    "    frame.groupby(['Zipcode'])e.iloc[0].agg(column_load)\n",
    "    #frame = frame.applymap(\"{:.2f}\".format)\n",
    "\n",
    "    \n",
    "    owner_occ_by_zip = owner_occ_df.groupby(['Zipcode']).agg({'Count'\n",
    "bklyn_investors.head()\n",
    "\n",
    "#klyn_zip.head()\n"
   ]
  },
  {
   "cell_type": "code",
   "execution_count": null,
   "id": "cd5c0d4c",
   "metadata": {},
   "outputs": [],
   "source": [
    "# bklyn_oocc = bklyn_oocc.groupby(['Zipcode']).agg({'Count': 'sum', 'Purchase Amt': 'mean', #                                                             'Purchase Down %': 'mean', '% borrowed': 'mean',\n",
    "#                                                             'Amount Mortgaged': 'mean', \n",
    "#                                                             'Mtg Tx Pd': 'mean', 'Mansion Tax Pd': 'mean', \n",
    "#                                                             'New Sales Tax Amount': 'mean', \n",
    "#                                                              'Per Capita Income': 'mean'})\n",
    "\n",
    "# bklyn_oocc = bklyn_oocc.applymap(\"{:.2f}\".format)\n",
    "# bklyn_oocc.head()"
   ]
  },
  {
   "cell_type": "code",
   "execution_count": 8,
   "id": "f9928ec0",
   "metadata": {},
   "outputs": [
    {
     "ename": "AttributeError",
     "evalue": "'SeriesGroupBy' object has no attribute 'Zipcode'",
     "output_type": "error",
     "traceback": [
      "\u001b[1;31m---------------------------------------------------------------------------\u001b[0m",
      "\u001b[1;31mAttributeError\u001b[0m                            Traceback (most recent call last)",
      "Cell \u001b[1;32mIn[8], line 1\u001b[0m\n\u001b[1;32m----> 1\u001b[0m high_low_oocc \u001b[38;5;241m=\u001b[39m high_low_oocc\u001b[38;5;241m.\u001b[39mgroupby([\u001b[38;5;124m'\u001b[39m\u001b[38;5;124mZipcode\u001b[39m\u001b[38;5;124m'\u001b[39m])\u001b[38;5;241m.\u001b[39magg({\u001b[38;5;124m'\u001b[39m\u001b[38;5;124mZipcode\u001b[39m\u001b[38;5;124m'\u001b[39m: \u001b[38;5;124m'\u001b[39m\u001b[38;5;124mZipcode\u001b[39m\u001b[38;5;124m'\u001b[39m, \u001b[38;5;124m\"\u001b[39m\u001b[38;5;124mPopulation\u001b[39m\u001b[38;5;124m\"\u001b[39m: \u001b[38;5;124m'\u001b[39m\u001b[38;5;124mmean\u001b[39m\u001b[38;5;124m'\u001b[39m, \u001b[38;5;124m'\u001b[39m\u001b[38;5;124mCount\u001b[39m\u001b[38;5;124m'\u001b[39m: \u001b[38;5;124m'\u001b[39m\u001b[38;5;124msum\u001b[39m\u001b[38;5;124m'\u001b[39m, \u001b[38;5;124m'\u001b[39m\u001b[38;5;124mPurchase Amt\u001b[39m\u001b[38;5;124m'\u001b[39m: \u001b[38;5;124m'\u001b[39m\u001b[38;5;124mmean\u001b[39m\u001b[38;5;124m'\u001b[39m,\n\u001b[0;32m      2\u001b[0m            \u001b[38;5;124m'\u001b[39m\u001b[38;5;124mPurchase Down \u001b[39m\u001b[38;5;124m%\u001b[39m\u001b[38;5;124m'\u001b[39m: \u001b[38;5;124m'\u001b[39m\u001b[38;5;124mmean\u001b[39m\u001b[38;5;124m'\u001b[39m, \u001b[38;5;124m'\u001b[39m\u001b[38;5;124m%\u001b[39m\u001b[38;5;124m borrowed\u001b[39m\u001b[38;5;124m'\u001b[39m: \u001b[38;5;124m'\u001b[39m\u001b[38;5;124mmean\u001b[39m\u001b[38;5;124m'\u001b[39m,\n\u001b[0;32m      3\u001b[0m            \u001b[38;5;124m'\u001b[39m\u001b[38;5;124mAmount Mortgaged\u001b[39m\u001b[38;5;124m'\u001b[39m: \u001b[38;5;124m'\u001b[39m\u001b[38;5;124mmean\u001b[39m\u001b[38;5;124m'\u001b[39m,\u001b[38;5;124m'\u001b[39m\u001b[38;5;124mMtg Tx Pd\u001b[39m\u001b[38;5;124m'\u001b[39m: \u001b[38;5;124m'\u001b[39m\u001b[38;5;124mmean\u001b[39m\u001b[38;5;124m'\u001b[39m,\n\u001b[0;32m      4\u001b[0m            \u001b[38;5;124m'\u001b[39m\u001b[38;5;124mMansion Tax Pd\u001b[39m\u001b[38;5;124m'\u001b[39m: \u001b[38;5;124m'\u001b[39m\u001b[38;5;124mmean\u001b[39m\u001b[38;5;124m'\u001b[39m, \u001b[38;5;124m'\u001b[39m\u001b[38;5;124mNew Sales Tax Amount\u001b[39m\u001b[38;5;124m'\u001b[39m: \u001b[38;5;124m'\u001b[39m\u001b[38;5;124mmean\u001b[39m\u001b[38;5;124m'\u001b[39m, \n\u001b[0;32m      5\u001b[0m            \u001b[38;5;124m'\u001b[39m\u001b[38;5;124mPer Capita Income\u001b[39m\u001b[38;5;124m'\u001b[39m: \u001b[38;5;124m'\u001b[39m\u001b[38;5;124mmean\u001b[39m\u001b[38;5;124m'\u001b[39m})\n\u001b[0;32m      7\u001b[0m high_low_oocc \u001b[38;5;241m=\u001b[39m high_low_oocc\u001b[38;5;241m.\u001b[39mapplymap(\u001b[38;5;124m\"\u001b[39m\u001b[38;5;132;01m{:.2f}\u001b[39;00m\u001b[38;5;124m\"\u001b[39m\u001b[38;5;241m.\u001b[39mformat)\n\u001b[0;32m      8\u001b[0m high_low_oocc\u001b[38;5;241m.\u001b[39mhead()\n",
      "File \u001b[1;32m~\\anaconda3\\Lib\\site-packages\\pandas\\core\\groupby\\generic.py:1269\u001b[0m, in \u001b[0;36mDataFrameGroupBy.aggregate\u001b[1;34m(self, func, engine, engine_kwargs, *args, **kwargs)\u001b[0m\n\u001b[0;32m   1266\u001b[0m func \u001b[38;5;241m=\u001b[39m maybe_mangle_lambdas(func)\n\u001b[0;32m   1268\u001b[0m op \u001b[38;5;241m=\u001b[39m GroupByApply(\u001b[38;5;28mself\u001b[39m, func, args, kwargs)\n\u001b[1;32m-> 1269\u001b[0m result \u001b[38;5;241m=\u001b[39m op\u001b[38;5;241m.\u001b[39magg()\n\u001b[0;32m   1270\u001b[0m \u001b[38;5;28;01mif\u001b[39;00m \u001b[38;5;129;01mnot\u001b[39;00m is_dict_like(func) \u001b[38;5;129;01mand\u001b[39;00m result \u001b[38;5;129;01mis\u001b[39;00m \u001b[38;5;129;01mnot\u001b[39;00m \u001b[38;5;28;01mNone\u001b[39;00m:\n\u001b[0;32m   1271\u001b[0m     \u001b[38;5;28;01mreturn\u001b[39;00m result\n",
      "File \u001b[1;32m~\\anaconda3\\Lib\\site-packages\\pandas\\core\\apply.py:163\u001b[0m, in \u001b[0;36mApply.agg\u001b[1;34m(self)\u001b[0m\n\u001b[0;32m    160\u001b[0m     \u001b[38;5;28;01mreturn\u001b[39;00m \u001b[38;5;28mself\u001b[39m\u001b[38;5;241m.\u001b[39mapply_str()\n\u001b[0;32m    162\u001b[0m \u001b[38;5;28;01mif\u001b[39;00m is_dict_like(arg):\n\u001b[1;32m--> 163\u001b[0m     \u001b[38;5;28;01mreturn\u001b[39;00m \u001b[38;5;28mself\u001b[39m\u001b[38;5;241m.\u001b[39magg_dict_like()\n\u001b[0;32m    164\u001b[0m \u001b[38;5;28;01melif\u001b[39;00m is_list_like(arg):\n\u001b[0;32m    165\u001b[0m     \u001b[38;5;66;03m# we require a list, but not a 'str'\u001b[39;00m\n\u001b[0;32m    166\u001b[0m     \u001b[38;5;28;01mreturn\u001b[39;00m \u001b[38;5;28mself\u001b[39m\u001b[38;5;241m.\u001b[39magg_list_like()\n",
      "File \u001b[1;32m~\\anaconda3\\Lib\\site-packages\\pandas\\core\\apply.py:420\u001b[0m, in \u001b[0;36mApply.agg_dict_like\u001b[1;34m(self)\u001b[0m\n\u001b[0;32m    417\u001b[0m         results \u001b[38;5;241m=\u001b[39m {key: colg\u001b[38;5;241m.\u001b[39magg(how) \u001b[38;5;28;01mfor\u001b[39;00m key, how \u001b[38;5;129;01min\u001b[39;00m arg\u001b[38;5;241m.\u001b[39mitems()}\n\u001b[0;32m    418\u001b[0m     \u001b[38;5;28;01melse\u001b[39;00m:\n\u001b[0;32m    419\u001b[0m         \u001b[38;5;66;03m# key used for column selection and output\u001b[39;00m\n\u001b[1;32m--> 420\u001b[0m         results \u001b[38;5;241m=\u001b[39m {\n\u001b[0;32m    421\u001b[0m             key: obj\u001b[38;5;241m.\u001b[39m_gotitem(key, ndim\u001b[38;5;241m=\u001b[39m\u001b[38;5;241m1\u001b[39m)\u001b[38;5;241m.\u001b[39magg(how) \u001b[38;5;28;01mfor\u001b[39;00m key, how \u001b[38;5;129;01min\u001b[39;00m arg\u001b[38;5;241m.\u001b[39mitems()\n\u001b[0;32m    422\u001b[0m         }\n\u001b[0;32m    424\u001b[0m \u001b[38;5;66;03m# set the final keys\u001b[39;00m\n\u001b[0;32m    425\u001b[0m keys \u001b[38;5;241m=\u001b[39m \u001b[38;5;28mlist\u001b[39m(arg\u001b[38;5;241m.\u001b[39mkeys())\n",
      "File \u001b[1;32m~\\anaconda3\\Lib\\site-packages\\pandas\\core\\apply.py:421\u001b[0m, in \u001b[0;36m<dictcomp>\u001b[1;34m(.0)\u001b[0m\n\u001b[0;32m    417\u001b[0m         results \u001b[38;5;241m=\u001b[39m {key: colg\u001b[38;5;241m.\u001b[39magg(how) \u001b[38;5;28;01mfor\u001b[39;00m key, how \u001b[38;5;129;01min\u001b[39;00m arg\u001b[38;5;241m.\u001b[39mitems()}\n\u001b[0;32m    418\u001b[0m     \u001b[38;5;28;01melse\u001b[39;00m:\n\u001b[0;32m    419\u001b[0m         \u001b[38;5;66;03m# key used for column selection and output\u001b[39;00m\n\u001b[0;32m    420\u001b[0m         results \u001b[38;5;241m=\u001b[39m {\n\u001b[1;32m--> 421\u001b[0m             key: obj\u001b[38;5;241m.\u001b[39m_gotitem(key, ndim\u001b[38;5;241m=\u001b[39m\u001b[38;5;241m1\u001b[39m)\u001b[38;5;241m.\u001b[39magg(how) \u001b[38;5;28;01mfor\u001b[39;00m key, how \u001b[38;5;129;01min\u001b[39;00m arg\u001b[38;5;241m.\u001b[39mitems()\n\u001b[0;32m    422\u001b[0m         }\n\u001b[0;32m    424\u001b[0m \u001b[38;5;66;03m# set the final keys\u001b[39;00m\n\u001b[0;32m    425\u001b[0m keys \u001b[38;5;241m=\u001b[39m \u001b[38;5;28mlist\u001b[39m(arg\u001b[38;5;241m.\u001b[39mkeys())\n",
      "File \u001b[1;32m~\\anaconda3\\Lib\\site-packages\\pandas\\core\\groupby\\generic.py:232\u001b[0m, in \u001b[0;36mSeriesGroupBy.aggregate\u001b[1;34m(self, func, engine, engine_kwargs, *args, **kwargs)\u001b[0m\n\u001b[0;32m    229\u001b[0m     kwargs \u001b[38;5;241m=\u001b[39m {}\n\u001b[0;32m    231\u001b[0m \u001b[38;5;28;01mif\u001b[39;00m \u001b[38;5;28misinstance\u001b[39m(func, \u001b[38;5;28mstr\u001b[39m):\n\u001b[1;32m--> 232\u001b[0m     \u001b[38;5;28;01mreturn\u001b[39;00m \u001b[38;5;28mgetattr\u001b[39m(\u001b[38;5;28mself\u001b[39m, func)(\u001b[38;5;241m*\u001b[39margs, \u001b[38;5;241m*\u001b[39m\u001b[38;5;241m*\u001b[39mkwargs)\n\u001b[0;32m    234\u001b[0m \u001b[38;5;28;01melif\u001b[39;00m \u001b[38;5;28misinstance\u001b[39m(func, abc\u001b[38;5;241m.\u001b[39mIterable):\n\u001b[0;32m    235\u001b[0m     \u001b[38;5;66;03m# Catch instances of lists / tuples\u001b[39;00m\n\u001b[0;32m    236\u001b[0m     \u001b[38;5;66;03m# but not the class list / tuple itself.\u001b[39;00m\n\u001b[0;32m    237\u001b[0m     func \u001b[38;5;241m=\u001b[39m maybe_mangle_lambdas(func)\n",
      "File \u001b[1;32m~\\anaconda3\\Lib\\site-packages\\pandas\\core\\groupby\\groupby.py:952\u001b[0m, in \u001b[0;36mGroupBy.__getattr__\u001b[1;34m(self, attr)\u001b[0m\n\u001b[0;32m    949\u001b[0m \u001b[38;5;28;01mif\u001b[39;00m attr \u001b[38;5;129;01min\u001b[39;00m \u001b[38;5;28mself\u001b[39m\u001b[38;5;241m.\u001b[39mobj:\n\u001b[0;32m    950\u001b[0m     \u001b[38;5;28;01mreturn\u001b[39;00m \u001b[38;5;28mself\u001b[39m[attr]\n\u001b[1;32m--> 952\u001b[0m \u001b[38;5;28;01mraise\u001b[39;00m \u001b[38;5;167;01mAttributeError\u001b[39;00m(\n\u001b[0;32m    953\u001b[0m     \u001b[38;5;124mf\u001b[39m\u001b[38;5;124m\"\u001b[39m\u001b[38;5;124m'\u001b[39m\u001b[38;5;132;01m{\u001b[39;00m\u001b[38;5;28mtype\u001b[39m(\u001b[38;5;28mself\u001b[39m)\u001b[38;5;241m.\u001b[39m\u001b[38;5;18m__name__\u001b[39m\u001b[38;5;132;01m}\u001b[39;00m\u001b[38;5;124m'\u001b[39m\u001b[38;5;124m object has no attribute \u001b[39m\u001b[38;5;124m'\u001b[39m\u001b[38;5;132;01m{\u001b[39;00mattr\u001b[38;5;132;01m}\u001b[39;00m\u001b[38;5;124m'\u001b[39m\u001b[38;5;124m\"\u001b[39m\n\u001b[0;32m    954\u001b[0m )\n",
      "\u001b[1;31mAttributeError\u001b[0m: 'SeriesGroupBy' object has no attribute 'Zipcode'"
     ]
    }
   ],
   "source": [
    "high_low_oocc = high_low_oocc.groupby(['Zipcode']).agg({'Zipcode': 'Zipcode', \"Population\": 'mean', 'Count': 'sum', 'Purchase Amt': 'mean',\n",
    "           'Purchase Down %': 'mean', '% borrowed': 'mean',\n",
    "           'Amount Mortgaged': 'mean','Mtg Tx Pd': 'mean',\n",
    "           'Mansion Tax Pd': 'mean', 'New Sales Tax Amount': 'mean', \n",
    "           'Per Capita Income': 'mean'})\n",
    "\n",
    "high_low_oocc = high_low_oocc.applymap(\"{:.2f}\".format)\n",
    "high_low_oocc.head()"
   ]
  },
  {
   "cell_type": "code",
   "execution_count": null,
   "id": "8142ace8",
   "metadata": {},
   "outputs": [],
   "source": [
    "#bklyn_oocc.set_index('Per Capita Income', inplace = True)\n",
    "# bklyn_investors.set_index('Per Capita Income', inplace = True)\n",
    "# bklyn_oocc['perCI'] = bklyn_oocc.index.astype(str)\n",
    "# # manhattan_oocc_df.set_index('Per Capita Income', inplace = True)\n",
    "# # manhattan_investor_df.set_index('Per Capita Income', inplace = True)\n",
    "\n",
    "\n",
    "# plt.figure(figsize=(15,5))\n",
    "\n",
    "\n",
    "\n",
    "plt.plot(bklyn_oocc['Per Capita Income'], bklyn_oocc['percent borrowed'], marker=\"x\", label='Bklyn Residence Purchase')\n",
    "# plt.plot(bklyn_oocc['perCI'], bklyn_investors['percent borrowed'], marker=\"o\", label='Bklyn Investment Purchase')\n",
    "# #plt.plot(manhatt_oocc_df['Per Capita Income'], investor_by_zip[\"total_tax_paid\"], marker=\"o\", label='Total Tax Paid')\n",
    "# #plt.xticks(bklyn_oocc_df['Per Capita Income'], rotation=90)\n",
    "# plt.xticks(range(len(bklyn_oocc['Zip'])), fontsize=15, rotation='vertical')\n",
    "# plt.yticks(fontsize=15)\n",
    "# plt.xlabel('Zipcode sorted by Per Capita Income (in thousands)', fontsize=20)\n",
    "# plt.ylabel('Percent Borrowed', fontsize=20)\n",
    "# plt.title('Average Income vs. Average Percent Borrowed across Zipcodes in Brooklyn 2022', fontsize=20)\n",
    "# plt.legend()\n",
    "# plt.show()\n",
    "\n",
    "bklyn_oocc.head()"
   ]
  },
  {
   "cell_type": "code",
   "execution_count": null,
   "id": "651694f4",
   "metadata": {},
   "outputs": [],
   "source": []
  },
  {
   "cell_type": "code",
   "execution_count": null,
   "id": "e16d5111",
   "metadata": {},
   "outputs": [],
   "source": []
  },
  {
   "cell_type": "code",
   "execution_count": null,
   "id": "f5c1d30f",
   "metadata": {},
   "outputs": [],
   "source": []
  },
  {
   "cell_type": "code",
   "execution_count": null,
   "id": "3e1ea337",
   "metadata": {},
   "outputs": [],
   "source": []
  },
  {
   "cell_type": "code",
   "execution_count": null,
   "id": "e3478af4",
   "metadata": {},
   "outputs": [],
   "source": [
    "#the next few cells seperate the data into 4 data frames, first by owner \n",
    "2 for brooklyn, and two for the other zips.\n",
    "#each of these are then sp\n",
    "\n",
    "\n",
    "owner_occ_by_zip = owner_occ_df.groupby(['Zipcode']).agg({'Count': 'sum', 'Purchase Amt': 'mean', \n",
    "                                                            'Purchase Down %': 'mean',\n",
    "                                                            'Amount Mortgaged': 'mean', \n",
    "                                                            'Mtg Tx Pd': 'mean', 'Mansion Tax Pd': 'mean', \n",
    "                                                            'New Sales Tax Amount': 'mean', \n",
    "                                                            'Per Capita Income': 'mean'})\n",
    "\n",
    "\n",
    "owner_occ_by_zip[\"Purchase Amt\"] = owner_occ_by_zip[\"Purchase Amt\"] / 1000\n",
    "owner_occ_by_zip[\"Amount Mortgaged\"] = owner_occ_by_zip[\"Amount Mortgaged\"] / 1000\n",
    "owner_occ_by_zip[\"Mtg Tx Pd\"] = owner_occ_by_zip[\"Mtg Tx Pd\"] / 1000\n",
    "owner_occ_by_zip[\"Mansion Tax Pd\"] = owner_occ_by_zip[\"Mansion Tax Pd\"] / 1000\n",
    "owner_occ_by_zip[\"New Sales Tax Amount\"] = owner_occ_by_zip[\"New Sales Tax Amount\"] / 1000\n",
    "owner_occ_by_zip[\"Per Capita Income\"] = owner_occ_by_zip[\"Per Capita Income\"] / 1000\n",
    "\n",
    "owner_occ_by_zip[\"Purchase Amt\"] = owner_occ_by_zip[\"Purchase Amt\"].map(\"{:.2f}\".format)\n",
    "owner_occ_by_zip[\"Purchase Down %\"] = owner_occ_by_zip[\"Purchase Down %\"].map(\"{:.2f}\".format)\n",
    "owner_occ_by_zip[\"Amount Mortgaged\"] = owner_occ_by_zip[\"Amount Mortgaged\"].map(\"{:.2f}\".format)\n",
    "owner_occ_by_zip[\"Mtg Tx Pd\"] = owner_occ_by_zip[\"Mtg Tx Pd\"].map(\"{:.2f}\".format)\n",
    "owner_occ_by_zip[\"Mansion Tax Pd\"] = owner_occ_by_zip[\"Mansion Tax Pd\"].map(\"{:.2f}\".format)\n",
    "owner_occ_by_zip[\"New Sales Tax Amount\"] = owner_occ_by_zip[\"New Sales Tax Amount\"].map(\"{:.2f}\".format)\n",
    "owner_occ_by_zip[\"Per Capita Income\"] = owner_occ_by_zip[\"Per Capita Income\"].map(\"{:.2f}\".format)\n",
    "\n",
    "owner_occ_by_zip[\"Purchase Amt\"] = owner_occ_by_zip[\"Purchase Amt\"].astype(\"float\")\n",
    "owner_occ_by_zip[\"Purchase Down %\"] = owner_occ_by_zip[\"Purchase Down %\"].astype(\"float\")\n",
    "owner_occ_by_zip[\"Amount Mortgaged\"] = owner_occ_by_zip[\"Amount Mortgaged\"].astype(\"float\")\n",
    "owner_occ_by_zip[\"Mtg Tx Pd\"] = owner_occ_by_zip[\"Mtg Tx Pd\"].astype(\"float\")\n",
    "owner_occ_by_zip[\"Mansion Tax Pd\"] = owner_occ_by_zip[\"Mansion Tax Pd\"].astype(\"float\")\n",
    "owner_occ_by_zip[\"New Sales Tax Amount\"] = owner_occ_by_zip[\"New Sales Tax Amount\"].astype(\"float\")\n",
    "owner_occ_by_zip[\"Per Capita Income\"] = owner_occ_by_zip[\"Per Capita Income\"].astype(\"float\")"
   ]
  },
  {
   "cell_type": "code",
   "execution_count": null,
   "id": "05b1090a",
   "metadata": {},
   "outputs": [],
   "source": [
    "investor_by_zip = investor_df.groupby(['Zipcode']).agg({'Count': 'sum', 'Purchase Amt': 'mean', \n",
    "                                                            'Purchase Down %': 'mean',\n",
    "                                                            'Amount Mortgaged': 'mean', \n",
    "                                                            'Mtg Tx Pd': 'mean', 'Mansion Tax Pd': 'mean', \n",
    "                                                            'New Sales Tax Amount': 'mean', \n",
    "                                                            'Per Capita Income': 'mean'})\n",
    "\n",
    "\n",
    "investor_by_zip[\"Purchase Amt\"] = investor_by_zip[\"Purchase Amt\"] / 1000\n",
    "investor_by_zip[\"Amount Mortgaged\"] = investor_by_zip[\"Amount Mortgaged\"] / 1000\n",
    "investor_by_zip[\"Mtg Tx Pd\"] = investor_by_zip[\"Mtg Tx Pd\"] / 1000\n",
    "investor_by_zip[\"Mansion Tax Pd\"] = investor_by_zip[\"Mansion Tax Pd\"] / 1000\n",
    "investor_by_zip[\"New Sales Tax Amount\"] = investor_by_zip[\"New Sales Tax Amount\"] / 1000\n",
    "investor_by_zip[\"Per Capita Income\"] = investor_by_zip[\"Per Capita Income\"] / 1000\n",
    "\n",
    "investor_by_zip[\"Purchase Amt\"] = investor_by_zip[\"Purchase Amt\"].map(\"{:.2f}\".format)\n",
    "investor_by_zip[\"Purchase Down %\"] = investor_by_zip[\"Purchase Down %\"].map(\"{:.2f}\".format)\n",
    "investor_by_zip[\"Amount Mortgaged\"] = investor_by_zip[\"Amount Mortgaged\"].map(\"{:.2f}\".format)\n",
    "investor_by_zip[\"Mtg Tx Pd\"] = investor_by_zip[\"Mtg Tx Pd\"].map(\"{:.2f}\".format)\n",
    "investor_by_zip[\"Mansion Tax Pd\"] = investor_by_zip[\"Mansion Tax Pd\"].map(\"{:.2f}\".format)\n",
    "investor_by_zip[\"New Sales Tax Amount\"] = investor_by_zip[\"New Sales Tax Amount\"].map(\"{:.2f}\".format)\n",
    "investor_by_zip[\"Per Capita Income\"] = investor_by_zip[\"Per Capita Income\"].map(\"{:.2f}\".format)\n",
    "\n",
    "investor_by_zip[\"Purchase Amt\"] = investor_by_zip[\"Purchase Amt\"].astype(\"float\")\n",
    "investor_by_zip[\"Purchase Down %\"] = investor_by_zip[\"Purchase Down %\"].astype(\"float\")\n",
    "investor_by_zip[\"Amount Mortgaged\"] = investor_by_zip[\"Amount Mortgaged\"].astype(\"float\")\n",
    "investor_by_zip[\"Mtg Tx Pd\"] = investor_by_zip[\"Mtg Tx Pd\"].astype(\"float\")\n",
    "investor_by_zip[\"Mansion Tax Pd\"] = investor_by_zip[\"Mansion Tax Pd\"].astype(\"float\")\n",
    "investor_by_zip[\"New Sales Tax Amount\"] = investor_by_zip[\"New Sales Tax Amount\"].astype(\"float\")\n",
    "investor_by_zip[\"Per Capita Income\"] = investor_by_zip[\"Per Capita Income\"].astype(\"float\")"
   ]
  },
  {
   "cell_type": "code",
   "execution_count": null,
   "id": "2c8382d7",
   "metadata": {},
   "outputs": [],
   "source": [
    "owner_occ_by_zip[\"total_tax_paid\"] = owner_occ_by_zip[\"Mtg Tx Pd\"] + owner_occ_by_zip[\"Mansion Tax Pd\"]\n",
    "owner_occ_by_zip['percent borrowed'] = 100 - owner_occ_by_zip['Purchase Down %']\n",
    "owner_occ_by_zip['mtg tax as % of med income'] = owner_occ_by_zip['total_tax_paid']/owner_occ_by_zip['Per Capita Income'] *100\n",
    "owner_occ_by_zip['sales tax as % of med income'] = owner_occ_by_zip['New Sales Tax Amount']/owner_occ_by_zip['Per Capita Income'] *100\n",
    "owner_occ_by_zip.head(2)"
   ]
  },
  {
   "cell_type": "code",
   "execution_count": null,
   "id": "aaea4274",
   "metadata": {},
   "outputs": [],
   "source": [
    "investor_by_zip[\"total_tax_paid\"] = investor_by_zip[\"Mtg Tx Pd\"] + investor_by_zip[\"Mansion Tax Pd\"]\n",
    "investor_by_zip['percent borrowed'] = 100 - investor_by_zip['Purchase Down %']\n",
    "investor_by_zip['mtg tax as % of med income'] = investor_by_zip['total_tax_paid']/investor_by_zip['Per Capita Income'] *100\n",
    "investor_by_zip['sales tax as % of med income'] = investor_by_zip['New Sales Tax Amount']/investor_by_zip['Per Capita Income'] *100\n",
    "investor_by_zip.head(2)"
   ]
  },
  {
   "cell_type": "code",
   "execution_count": null,
   "id": "3df665e8",
   "metadata": {},
   "outputs": [],
   "source": [
    "investor_by_zip.dtypes"
   ]
  },
  {
   "cell_type": "code",
   "execution_count": null,
   "id": "822d37fa",
   "metadata": {},
   "outputs": [],
   "source": [
    "zipcode_list = investor_by_zip.index.values.astype(\"str\")\n",
    "zipcode_list"
   ]
  },
  {
   "cell_type": "markdown",
   "id": "c95ec397",
   "metadata": {},
   "source": [
    "## zipcodes of Manhattan: 10013, 10007, 10118, 10282, 10453, 11355, 10457, 11368\n",
    "## The rest of zipcodes are in Brooklyn."
   ]
  },
  {
   "cell_type": "code",
   "execution_count": null,
   "id": "9a627c0e",
   "metadata": {},
   "outputs": [],
   "source": [
    "\n",
    "manhattan_investor_df = investor_by_zip.loc[[10013, 10007, 10282, 10453, 11355, 10457, 11368], :].sort_values(\"Purchase Amt\", ascending=False)\n",
    "print(manhattan_df.shape)\n",
    "manhattan_investor_df.head(8)"
   ]
  },
  {
   "cell_type": "code",
   "execution_count": null,
   "id": "5680269c",
   "metadata": {},
   "outputs": [],
   "source": [
    "manhattan_oocc_df = owner_occ_by_zip.loc[[10013, 10007, 10282, 10453, 11355, 10457, 11368], :].sort_values(\"Purchase Amt\", ascending=False)\n",
    "print(manhattan_oocc_df.shape)\n",
    "manhattan_oocc_df.head(8)"
   ]
  },
  {
   "cell_type": "code",
   "execution_count": null,
   "id": "e6ae687f",
   "metadata": {
    "scrolled": true
   },
   "outputs": [],
   "source": [
    "bklyn_investor_df = investor_by_zip.drop([10013, 10007, 10282, 10453, 11355, 10457, 11368], axis = 0)\n",
    "bklyn_investor_df = bklyn_investor_df.sort_values(\"Purchase Amt\", ascending=False)\n",
    "print(bklyn_investor_df.shape)\n",
    "bklyn_investor_df.head(8)"
   ]
  },
  {
   "cell_type": "code",
   "execution_count": null,
   "id": "beee4b38",
   "metadata": {},
   "outputs": [],
   "source": [
    "bklyn_oocc_df = owner_occ_by_zip.drop([10013, 10007, 10282, 10453, 11355, 10457, 11368], axis = 0)\n",
    "bklyn_oocc_df = bklyn_oocc_df.sort_values(\"Purchase Amt\", ascending=False)\n",
    "print(bklyn_oocc_df.shape)\n",
    "bklyn_oocc_df.head()"
   ]
  },
  {
   "cell_type": "code",
   "execution_count": null,
   "id": "902d5698",
   "metadata": {},
   "outputs": [],
   "source": [
    "\n",
    "bklyn_oocc_df.set_index('Per Capita Income', inplace = True)\n",
    "#bklyn_oocc_df['Zip'] = bklyn_oocc_df.index.astype(str)\n",
    "\n",
    "bklyn_oocc_df.head(20)"
   ]
  },
  {
   "cell_type": "code",
   "execution_count": null,
   "id": "102bba33",
   "metadata": {},
   "outputs": [],
   "source": [
    "#make a chart of the % borrowed for the zip in ascending order but first sort dfs in order\n",
    "\n",
    "bklyn_oocc_df.set_index('Per Capita Income', inplace = True)\n",
    "bklyn_investor_df.set_index('Per Capita Income', inplace = True)\n",
    "bklyn_oocc_df['perCI'] = bklyn_oocc_df.index.astype(str)\n",
    "manhattan_oocc_df.set_index('Per Capita Income', inplace = True)\n",
    "manhattan_investor_df.set_index('Per Capita Income', inplace = True)\n",
    "\n",
    "\n",
    "plt.figure(figsize=(15,5))\n",
    "\n",
    "\n",
    "\n",
    "plt.plot(bklyn_oocc_df['perCI'], bklyn_oocc_df['percent borrowed'], marker=\"x\", label='Bklyn Residence Purchase')\n",
    "plt.plot(bklyn_oocc_df['perCI'], bklyn_investor_df['percent borrowed'], marker=\"o\", label='Bklyn Investment Purchase')\n",
    "#plt.plot(manhatt_oocc_df['Per Capita Income'], investor_by_zip[\"total_tax_paid\"], marker=\"o\", label='Total Tax Paid')\n",
    "#plt.xticks(bklyn_oocc_df['Per Capita Income'], rotation=90)\n",
    "plt.xticks(range(len(bklyn_oocc_df['Zip'])), fontsize=15, rotation='vertical')\n",
    "plt.yticks(fontsize=15)\n",
    "plt.xlabel('Zipcode sorted by Per Capita Income (in thousands)', fontsize=20)\n",
    "plt.ylabel('Percent Borrowed', fontsize=20)\n",
    "plt.title('Average Income vs. Average Percent Borrowed across Zipcodes in Brooklyn 2022', fontsize=20)\n",
    "plt.legend()\n",
    "plt.show()"
   ]
  },
  {
   "cell_type": "code",
   "execution_count": null,
   "id": "604117f7",
   "metadata": {},
   "outputs": [],
   "source": []
  },
  {
   "cell_type": "code",
   "execution_count": null,
   "id": "df965fd7",
   "metadata": {},
   "outputs": [],
   "source": [
    "\n",
    "plt.figure(figsize=(10,5))\n",
    "\n",
    "plt.plot(manhattan_oocc_df['Zip'], manhattan_oocc_df['percent borrowed'], marker=\"x\", label='manhattan Residence Purchase')\n",
    "plt.plot(manhattan_investor_df['Zip'], manhattan_investor_df['percent borrowed'], marker=\"o\", label='manhattan Investment Purchase')\n",
    "plt.xticks(fontsize=15, rotation='vertical')\n",
    "plt.yticks(fontsize=15)\n",
    "plt.xlabel('Zipcode sorted by Per Capita Income', fontsize=20)\n",
    "plt.ylabel('Percent Borrowed', fontsize=20)\n",
    "plt.title('Average Income vs. Average Percent Borrowed across Zipcodes in Brooklyn 2022', fontsize=20)\n",
    "plt.legend()\n",
    "plt.show()"
   ]
  },
  {
   "cell_type": "code",
   "execution_count": null,
   "id": "35b15fc0",
   "metadata": {},
   "outputs": [],
   "source": [
    "#make a chart of the % borrowed for the zip in ascending order but first sort dfs in order\n",
    "bklyn_oocc_df.sort_values(by =['Per Capita Income'], inplace=True)\n",
    "bklyn_oocc_df['Zip'] = bklyn_oocc_df.index.astype(str)\n",
    "bklyn_investor_df.sort_values(by =['Per Capita Income'], inplace=True)\n",
    "bklyn_investor_df['Zip'] = bklyn_investor_df.index.astype(str)\n",
    "manhattan_oocc_df.sort_values(by =['Per Capita Income'], inplace=True)\n",
    "manhattan_oocc_df['Zip'] = manhattan_oocc_df.index.astype(str)\n",
    "manhattan_investor_df.sort_values(by =['Per Capita Income'], inplace=True)\n",
    "manhattan_investor_df['Zip'] = manhattan_investor_df.index.astype(str)\n",
    "\n",
    "manhattan_investor_df.head(20)\n",
    "\n",
    "plt.figure(figsize=(15,5))\n",
    "\n",
    "plt.plot(bklyn_oocc_df['Zip'], bklyn_oocc_df['mtg tax as % of med income'], marker=\"x\", label='Mtg tax as % of med income')\n",
    "plt.plot(bklyn_investor_df['Zip'], bklyn_investor_df['percent borrowed'], marker=\"o\", label='Sales tax as % of med income')\n",
    "#plt.plot(manhatt_oocc_df['Per Capita Income'], investor_by_zip[\"total_tax_paid\"], marker=\"o\", label='Total Tax Paid')\n",
    "#plt.xticks(bklyn_oocc_df['Per Capita Income'], rotation=90)\n",
    "plt.xticks(fontsize=15, rotation='vertical')\n",
    "plt.yticks(fontsize=15)\n",
    "plt.xlabel('Zipcode sorted by Per Capita Income', fontsize=20)\n",
    "plt.ylabel('Percent Borrowed', fontsize=20)\n",
    "plt.title('Average Income vs. Average Percent Borrowed across Zipcodes in Brooklyn 2022', fontsize=20)\n",
    "plt.legend()\n",
    "plt.show()"
   ]
  },
  {
   "cell_type": "code",
   "execution_count": null,
   "id": "22569856",
   "metadata": {},
   "outputs": [],
   "source": []
  },
  {
   "cell_type": "code",
   "execution_count": null,
   "id": "51889011",
   "metadata": {},
   "outputs": [],
   "source": [
    "plt.figure(figsize=(20,5))\n",
    "\n",
    "plt.plot(zipcode_list, investor_by_zip[\"Per Capita Income\"], marker=\"o\", label='Per Capita Income')\n",
    "plt.plot(zipcode_list, investor_by_zip[\"Purchase Amt\"], marker=\"o\", label='Purchase Amountt')\n",
    "plt.plot(zipcode_list, investor_by_zip[\"total_tax_paid\"], marker=\"o\", label='Total Tax Paid')\n",
    "plt.xticks(zipcode_list, rotation=90)\n",
    "plt.xticks(fontsize=15)\n",
    "plt.yticks(fontsize=15)\n",
    "plt.xlabel('Zipcode', fontsize=20)\n",
    "plt.ylabel('Purchase Amount (in thousands)', fontsize=20)\n",
    "plt.title('Average Income v.s. Average Purchase Amount across Zipcodes in NYC', fontsize=20)\n",
    "plt.legend()\n",
    "plt.show()"
   ]
  },
  {
   "cell_type": "markdown",
   "id": "63a969c1",
   "metadata": {},
   "source": [
    "## Generate Manhattan dataframe"
   ]
  },
  {
   "cell_type": "code",
   "execution_count": null,
   "id": "0b402168",
   "metadata": {},
   "outputs": [],
   "source": [
    "mindex_list = manhattan_df.index.values\n",
    "\n",
    "for zipcode in mindex_list:\n",
    "    manhattan_df.rename(index={zipcode: str(zipcode)}, inplace=True)\n",
    "\n",
    "manhattan_df.index.name = \"Manhattan Zipcode\"\n",
    "\n",
    "mindex_list = manhattan_df.index.values \n",
    "mindex_list"
   ]
  },
  {
   "cell_type": "code",
   "execution_count": null,
   "id": "aaa4a062",
   "metadata": {},
   "outputs": [],
   "source": [
    "species = mindex_list\n",
    "\n",
    "housing_data = {\n",
    "    'Purchase Amt': manhattan_df[\"Purchase Amt\"].values,\n",
    "    'Amount Mortgaged': manhattan_df[\"Amount Mortgaged\"].values,\n",
    "    'Per Capita Income': manhattan_df[\"Per Capita Income\"].values,\n",
    "}\n",
    "\n",
    "x = np.arange(len(species))  # the label locations\n",
    "width = 0.25  # the width of the bars\n",
    "multiplier = 0\n",
    "\n",
    "fig, ax = plt.subplots(figsize=(15,6))\n",
    "\n",
    "for attribute, measurement in housing_data.items():\n",
    "    offset = width * multiplier\n",
    "    rects = ax.bar(x + offset, measurement, width, label=attribute)\n",
    "    #ax.bar_label(rects, padding=3)\n",
    "    multiplier += 1\n",
    "\n",
    "# Add some text for labels, title and custom x-axis tick labels, etc.\n",
    "ax.set_ylabel('Dollar Amount', fontsize=13)\n",
    "ax.set_title('Purchase & Mortgage (in thousands) Per Capita Income (in thousands)', fontsize=13)\n",
    "ax.set_xticks(x + width, species)\n",
    "ax.set_xlabel(\"Manhattan Zipcode\", fontsize=13)\n",
    "ax.legend(loc='upper left', ncols=3)\n",
    "ax.set_ylim(0, 500)\n",
    "plt.suptitle('Purchase Amount v.s. Amount Mortgaged v.s. Per Capita Income in Manhattan', fontsize=15)\n",
    "plt.show()"
   ]
  },
  {
   "cell_type": "code",
   "execution_count": null,
   "id": "0d8e57fb",
   "metadata": {},
   "outputs": [],
   "source": [
    "fig = plt.figure() # Create matplotlib figure\n",
    "\n",
    "ax = fig.add_subplot(111) # Create matplotlib axes\n",
    "ax2 = ax.twinx() # Create another axes that shares the same x-axis as ax.\n",
    "\n",
    "width = 0.4\n",
    "\n",
    "manhattan_df[\"Per Capita Income\"].plot(kind='bar', color='Orange', ax=ax, width=width, position=1)\n",
    "manhattan_df[\"total_tax_paid\"].plot(kind='bar', color='green', ax=ax2, width=width, position=0)\n",
    "\n",
    "ax.set_ylabel('Per Capita Income in Thousands')\n",
    "ax2.set_ylabel('Total Taxes paid')\n",
    "ax.set_title('Scale to the left for Income and to the right for Taxes (in thousands)')\n",
    "plt.suptitle('Per Capita Income v.s. Total Taxes paid',fontsize=15, y=1)\n",
    "ax.legend()\n",
    "ax2.legend(loc=9)\n",
    "\n",
    "plt.show()"
   ]
  },
  {
   "cell_type": "markdown",
   "id": "10797ab9",
   "metadata": {},
   "source": [
    "## Generate Broolyn dataframe"
   ]
  },
  {
   "cell_type": "code",
   "execution_count": null,
   "id": "72bbeb08",
   "metadata": {},
   "outputs": [],
   "source": [
    "brooklyn_df = investor_by_zip.drop([10013, 10007, 10282, 10453, 11355, 10457, 11368], axis=0)\\\n",
    "                            .sort_values(\"Purchase Amt\", ascending=False).reset_index()\n",
    "print(brooklyn_df.shape)\n",
    "\n",
    "top5_brooklyn_df = brooklyn_df.loc[0:4]\n",
    "\n",
    "top5_brooklyn_df.set_index([\"Zipcode\"], inplace=True)\n",
    "top5_brooklyn_df"
   ]
  },
  {
   "cell_type": "code",
   "execution_count": null,
   "id": "fa79f4b2",
   "metadata": {},
   "outputs": [],
   "source": [
    "# index_list = top5_brooklyn_df.index.values\n",
    "\n",
    "# for zipcode in index_list:\n",
    "#     top5_brooklyn_df.rename(index={zipcode: str(zipcode)}, inplace=True)\n",
    "\n",
    "# top5_brooklyn_df.index.name = \"Brooklyn Top 5 Zipcode\"\n",
    "\n",
    "index_list = top5_brooklyn_df.index.values.astype(\"str\")\n",
    "index_list"
   ]
  },
  {
   "cell_type": "code",
   "execution_count": null,
   "id": "86c00664",
   "metadata": {},
   "outputs": [],
   "source": [
    "species = index_list\n",
    "\n",
    "housing_data = {\n",
    "    'Purchase Amt': top5_brooklyn_df[\"Purchase Amt\"].values,\n",
    "    'Amount Mortgaged': top5_brooklyn_df[\"Amount Mortgaged\"].values,\n",
    "    'Per Capita Income': top5_brooklyn_df[\"Per Capita Income\"].values,\n",
    "}\n",
    "\n",
    "x = np.arange(len(species))  # the label locations\n",
    "width = 0.25  # the width of the bars\n",
    "multiplier = 0\n",
    "\n",
    "fig, ax = plt.subplots(figsize=(15,6))\n",
    "\n",
    "for attribute, measurement in housing_data.items():\n",
    "    offset = width * multiplier\n",
    "    rects = ax.bar(x + offset, measurement, width, label=attribute)\n",
    "    #ax.bar_label(rects, padding=3)\n",
    "    multiplier += 1\n",
    "\n",
    "# Add some text for labels, title and custom x-axis tick labels, etc.\n",
    "ax.set_ylabel('Dollar Amount', fontsize=13)\n",
    "ax.set_title('Purchase & Mortgage (in thousands) Per Capita Income (in thousands)', fontsize=13)\n",
    "ax.set_xticks(x + width, species)\n",
    "ax.set_xlabel(\"Brooklyn Top 5 Zipcode\", fontsize=13)\n",
    "ax.legend(loc='upper left', ncols=3)\n",
    "ax.set_ylim(0, 250)\n",
    "plt.suptitle('Top 5 Purchase Amount v.s. Amount Mortgaged v.s. Per Capita Income in Brooklyn', fontsize=15)\n",
    "plt.show()"
   ]
  },
  {
   "cell_type": "markdown",
   "id": "6394c027",
   "metadata": {},
   "source": [
    "## Line Chart Brooklyn - showing the amount borrowed by income level"
   ]
  },
  {
   "cell_type": "code",
   "execution_count": null,
   "id": "557fadd1",
   "metadata": {},
   "outputs": [],
   "source": [
    "complete_df.shape"
   ]
  },
  {
   "cell_type": "code",
   "execution_count": null,
   "id": "50fe8878",
   "metadata": {},
   "outputs": [],
   "source": [
    "brooklyn_complete = complete_df.drop([10013, 10007, 10282, 10453, 11355, 10457, 11368], axis=0)\n",
    "brooklyn_complete.shape"
   ]
  },
  {
   "cell_type": "code",
   "execution_count": null,
   "id": "546c94b8",
   "metadata": {},
   "outputs": [],
   "source": [
    "brooklyn_by_zip = brooklyn_complete.groupby(['Zipcode']).agg({'Count': 'sum', 'Purchase Amt': 'mean', \n",
    "                                                            'Purchase Down %': 'mean',\n",
    "                                                            'Amount Mortgaged': 'mean', \n",
    "                                                            'Mtg Tx Pd': 'mean', 'Mansion Tax Pd': 'mean', \n",
    "                                                            'New Sales Tax Amount': 'mean', \n",
    "                                                            'Per Capita Income': 'mean'})\n",
    "brooklyn_by_zip.shape"
   ]
  },
  {
   "cell_type": "code",
   "execution_count": null,
   "id": "73b97888",
   "metadata": {},
   "outputs": [],
   "source": [
    "brooklyn_by_zip_income_level = brooklyn_by_zip.sort_values(\"Per Capita Income\")\n",
    "brooklyn_by_zip_income_level.head()"
   ]
  },
  {
   "cell_type": "code",
   "execution_count": null,
   "id": "6f05a92d",
   "metadata": {},
   "outputs": [],
   "source": [
    "brooklyn_by_zip_income_level['Zipcode'] = brooklyn_by_zip_income_level.index\n",
    "final_brooklyn_by_zip_income_level = brooklyn_by_zip_income_level.set_index(\"Per Capita Income\")\n",
    "final_brooklyn_by_zip_income_level.head()"
   ]
  },
  {
   "cell_type": "code",
   "execution_count": null,
   "id": "6e62418f",
   "metadata": {},
   "outputs": [],
   "source": [
    "investor_df = complete_df[(complete_df['Owner Occ?'] ==1)]\n",
    "investor_df.shape"
   ]
  },
  {
   "cell_type": "code",
   "execution_count": null,
   "id": "24051cce",
   "metadata": {},
   "outputs": [],
   "source": [
    "investor_index = investor_df.drop([10013, 10007, 10282, 10453, 11355, 10457, 11368], axis=0)\n",
    "investor_index.shape"
   ]
  },
  {
   "cell_type": "code",
   "execution_count": null,
   "id": "ca3c1846",
   "metadata": {},
   "outputs": [],
   "source": [
    "investor_by_zip = investor_index.groupby(['Zipcode']).agg({'Count': 'sum', 'Purchase Amt': 'mean', \n",
    "                                                            'Purchase Down %': 'mean',\n",
    "                                                            'Amount Mortgaged': 'mean', \n",
    "                                                            'Mtg Tx Pd': 'mean', 'Mansion Tax Pd': 'mean', \n",
    "                                                            'New Sales Tax Amount': 'mean', \n",
    "                                                            'Per Capita Income': 'mean'})\n",
    "investor_by_zip.shape"
   ]
  },
  {
   "cell_type": "code",
   "execution_count": null,
   "id": "40f8a945",
   "metadata": {},
   "outputs": [],
   "source": [
    "investor_income_level = investor_by_zip.sort_values(\"Per Capita Income\")\n",
    "investor_income_level.head()"
   ]
  },
  {
   "cell_type": "code",
   "execution_count": null,
   "id": "0c26800a",
   "metadata": {},
   "outputs": [],
   "source": [
    "home_owner_df = complete_df[(complete_df['Owner Occ?'] ==0)]\n",
    "home_owner_df.shape"
   ]
  },
  {
   "cell_type": "code",
   "execution_count": null,
   "id": "5c7bae4e",
   "metadata": {},
   "outputs": [],
   "source": [
    "home_owner_df = complete_df[(complete_df['Owner Occ?'] ==0)]\n",
    "home_owner_df.shape "
   ]
  },
  {
   "cell_type": "code",
   "execution_count": null,
   "id": "4b17bddb",
   "metadata": {},
   "outputs": [],
   "source": [
    "home_owner_df = complete_df[(complete_df['Owner Occ?'] ==0)]\n",
    "zip_codes_to_drop = [10013, 10007, 10282, 10453, 11355, 10457, 11368]\n",
    "home_owner_index = home_owner_df[~home_owner_df['Zipcode'].isin(zip_codes_to_drop)]\n",
    "home_owner_index.shape"
   ]
  },
  {
   "cell_type": "code",
   "execution_count": null,
   "id": "ceeece17",
   "metadata": {},
   "outputs": [],
   "source": [
    "home_owner_by_zip = home_owner_index.groupby(['Zipcode']).agg({'Count': 'sum', 'Purchase Amt': 'mean', \n",
    "                                                             'Purchase Down %': 'mean',\n",
    "                                                             'Amount Mortgaged': 'mean', \n",
    "                                                             'Mtg Tx Pd': 'mean', 'Mansion Tax Pd': 'mean', \n",
    "                                                             'New Sales Tax Amount': 'mean', \n",
    "                                                             'Per Capita Income': 'mean'})\n",
    "home_owner_by_zip.shape"
   ]
  },
  {
   "cell_type": "code",
   "execution_count": null,
   "id": "bc83462c",
   "metadata": {},
   "outputs": [],
   "source": [
    "home_owner_by_zip_income_level = home_owner_by_zip.sort_values(\"Per Capita Income\")\n",
    "home_owner_by_zip_income_level.head()"
   ]
  },
  {
   "cell_type": "code",
   "execution_count": null,
   "id": "30dc6974",
   "metadata": {},
   "outputs": [],
   "source": [
    "columns_to_select = ['Column1', 'Column2', 'Column3']"
   ]
  },
  {
   "cell_type": "code",
   "execution_count": null,
   "id": "42c87da6",
   "metadata": {},
   "outputs": [],
   "source": [
    "plt.figure(figsize=(20,5))\n",
    "\n",
    "x_axis = brooklyn_by_zip_income_level['Zipcode'] \n",
    "y_axis = brooklyn_by_zip_income_level['Amount Mortgaged']\n",
    "plt.bar(x_axis, y_axis, color='r', alpha=0.5, align=\"center\")\n",
    "# plt.plot(brooklyn_by_zip_income_level['Zipcode'], brooklyn_by_zip_income_level['Amount Mortgaged'], marker=\"o\", label='Total Brooklyn Populaiton')\n",
    "# plt.plot(zipcode_list, investor_by_zip[\"Purchase Amt\"], marker=\"o\", label='Purchase Amountt')\n",
    "# plt.plot(zipcode_list, investor_by_zip[\"total_tax_paid\"], marker=\"o\", label='Total Tax Paid')\n",
    "\n",
    "plt.xticks(x_axis, rotation=90)\n",
    "plt.xticks(fontsize=15)\n",
    "plt.yticks(fontsize=15)\n",
    "plt.xlabel('Zipcode (Income=Lowest to Highest)', fontsize=20)\n",
    "plt.ylabel('Purchase Amount (in thousands)', fontsize=20)\n",
    "plt.title('Amount Mrtgaged vs Average Income Level by Zipcode', fontsize=20)\n",
    "plt.legend()\n",
    "plt.show()\n"
   ]
  },
  {
   "cell_type": "code",
   "execution_count": null,
   "id": "5fcbf346",
   "metadata": {},
   "outputs": [],
   "source": [
    "# plt.figure(figsize=(20,5))\n",
    "\n",
    "# plt.plot(zipcode_list, investor_by_zip[\"Per Capita Income\"], marker=\"o\", label='Per Capita Income')\n",
    "# plt.plot(zipcode_list, investor_by_zip[\"Purchase Amt\"], marker=\"o\", label='Purchase Amountt')\n",
    "# plt.plot(zipcode_list, investor_by_zip[\"total_tax_paid\"], marker=\"o\", label='Total Tax Paid')\n",
    "# plt.xticks(zipcode_list, rotation=90)\n",
    "# plt.xticks(fontsize=15)\n",
    "# plt.yticks(fontsize=15)\n",
    "# plt.xlabel('Zipcode', fontsize=20)\n",
    "# plt.ylabel('Purchase Amount (in thousands)', fontsize=20)\n",
    "# plt.title('Average Income v.s. Average Purchase Amount across Zipcodes in NYC', fontsize=20)\n",
    "# plt.legend()\n",
    "# plt.show()"
   ]
  },
  {
   "cell_type": "code",
   "execution_count": null,
   "id": "cf0e881a",
   "metadata": {},
   "outputs": [],
   "source": []
  }
 ],
 "metadata": {
  "kernelspec": {
   "display_name": "Python 3 (ipykernel)",
   "language": "python",
   "name": "python3"
  },
  "language_info": {
   "codemirror_mode": {
    "name": "ipython",
    "version": 3
   },
   "file_extension": ".py",
   "mimetype": "text/x-python",
   "name": "python",
   "nbconvert_exporter": "python",
   "pygments_lexer": "ipython3",
   "version": "3.11.5"
  }
 },
 "nbformat": 4,
 "nbformat_minor": 5
}
