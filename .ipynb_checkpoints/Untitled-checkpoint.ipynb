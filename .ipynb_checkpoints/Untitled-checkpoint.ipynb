{
 "cells": [
  {
   "cell_type": "code",
   "execution_count": 4,
   "id": "f26dfc12",
   "metadata": {},
   "outputs": [
    {
     "name": "stdout",
     "output_type": "stream",
     "text": [
      "Error: 400\n",
      "{\n",
      "  \"error\" : true,\n",
      "  \"message\" : \"Unrecognized arguments [borough]\"\n",
      "}\n",
      "\n"
     ]
    }
   ],
   "source": [
    "import requests\n",
    "\n",
    "# Specify the API endpoint URL\n",
    "url = \"https://data.cityofnewyork.us/resource/bnx9-e6tj.json\"\n",
    "\n",
    "# Specify the parameters for the query\n",
    "params = {\n",
    "    \"recorded_borough\": \"3\",  # Brooklyn borough code\n",
    "    \"$where\": \"docdate between '2022-01-01' and '2022-12-31'\",  # Filter by date range\n",
    "    \"$select\": \"zipcode, sale_price, doc_amount\",  # Specify the columns you want\n",
    "    \"$limit\": 10000  # Limit the number of results (adjust as needed)\n",
    "}\n",
    "\n",
    "# Make the API request\n",
    "response = requests.get(url, params=params)\n",
    "\n",
    "# Check if the request was successful (status code 200)\n",
    "if response.status_code == 200:\n",
    "    # Parse the JSON response\n",
    "    data = response.json()\n",
    "\n",
    "    # Do something with the data (e.g., print the results)\n",
    "    for record in data:\n",
    "        print(f\"Zip Code: {record['zipcode']}, Sale Price: {record['sale_price']}, DOC AMOUNT: {record['doc_amount']}\")\n",
    "else:\n",
    "    print(f\"Error: {response.status_code}\")\n",
    "    print(response.text)"
   ]
  },
  {
   "cell_type": "code",
   "execution_count": null,
   "id": "bbfb830f",
   "metadata": {},
   "outputs": [],
   "source": []
  }
 ],
 "metadata": {
  "kernelspec": {
   "display_name": "Python 3 (ipykernel)",
   "language": "python",
   "name": "python3"
  },
  "language_info": {
   "codemirror_mode": {
    "name": "ipython",
    "version": 3
   },
   "file_extension": ".py",
   "mimetype": "text/x-python",
   "name": "python",
   "nbconvert_exporter": "python",
   "pygments_lexer": "ipython3",
   "version": "3.10.13"
  }
 },
 "nbformat": 4,
 "nbformat_minor": 5
}
