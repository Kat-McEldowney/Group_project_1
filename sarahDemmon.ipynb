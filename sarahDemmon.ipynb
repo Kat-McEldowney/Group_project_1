{
 "cells": [
  {
   "cell_type": "code",
   "execution_count": 3,
   "id": "0f7d4f23",
   "metadata": {},
   "outputs": [],
   "source": [
    "import pandas as pd\n",
    "import numpy as np\n",
    "from scipy import stats\n",
    "import matplotlib.pyplot as plt\n",
    "import warnings"
   ]
  },
  {
   "cell_type": "code",
   "execution_count": 4,
   "id": "507b3895",
   "metadata": {},
   "outputs": [
    {
     "name": "stdout",
     "output_type": "stream",
     "text": [
      "(17701, 17)\n"
     ]
    },
    {
     "data": {
      "text/plain": [
       "Index(['Count', 'Zipcode', 'Type', 'Owner Occ?', 'Purchase Down %',\n",
       "       'Purchase Amt', 'Amount Mortgaged', 'Mtg Tx Pd', 'Mansion Tax Pd',\n",
       "       'New Sales Tax Amount', 'Population', 'Median Age', 'Household Income',\n",
       "       'Per Capita Income', 'Median Gross Rent', 'Poverty Count',\n",
       "       'Poverty Rate'],\n",
       "      dtype='object')"
      ]
     },
     "execution_count": 4,
     "metadata": {},
     "output_type": "execute_result"
    }
   ],
   "source": [
    "complete_df = pd.read_csv('complete.csv')\n",
    "print(complete_df.shape)\n",
    "complete_df.columns"
   ]
  },
  {
   "cell_type": "code",
   "execution_count": 5,
   "id": "195dffe4",
   "metadata": {},
   "outputs": [
    {
     "data": {
      "text/html": [
       "<div>\n",
       "<style scoped>\n",
       "    .dataframe tbody tr th:only-of-type {\n",
       "        vertical-align: middle;\n",
       "    }\n",
       "\n",
       "    .dataframe tbody tr th {\n",
       "        vertical-align: top;\n",
       "    }\n",
       "\n",
       "    .dataframe thead th {\n",
       "        text-align: right;\n",
       "    }\n",
       "</style>\n",
       "<table border=\"1\" class=\"dataframe\">\n",
       "  <thead>\n",
       "    <tr style=\"text-align: right;\">\n",
       "      <th></th>\n",
       "      <th>Count</th>\n",
       "      <th>Zipcode</th>\n",
       "      <th>Type</th>\n",
       "      <th>Owner Occ?</th>\n",
       "      <th>Purchase Down %</th>\n",
       "      <th>Purchase Amt</th>\n",
       "      <th>Amount Mortgaged</th>\n",
       "      <th>Mtg Tx Pd</th>\n",
       "      <th>Mansion Tax Pd</th>\n",
       "      <th>New Sales Tax Amount</th>\n",
       "      <th>Population</th>\n",
       "      <th>Median Age</th>\n",
       "      <th>Household Income</th>\n",
       "      <th>Per Capita Income</th>\n",
       "      <th>Median Gross Rent</th>\n",
       "      <th>Poverty Count</th>\n",
       "      <th>Poverty Rate</th>\n",
       "    </tr>\n",
       "  </thead>\n",
       "  <tbody>\n",
       "    <tr>\n",
       "      <th>7996</th>\n",
       "      <td>1</td>\n",
       "      <td>11201</td>\n",
       "      <td>CND</td>\n",
       "      <td>1.0</td>\n",
       "      <td>100.0</td>\n",
       "      <td>2700000.0</td>\n",
       "      <td>0.0</td>\n",
       "      <td>0.0</td>\n",
       "      <td>27000.0</td>\n",
       "      <td>119826.0000</td>\n",
       "      <td>69755.0</td>\n",
       "      <td>35.1</td>\n",
       "      <td>163310.0</td>\n",
       "      <td>108933.0</td>\n",
       "      <td>3110.0</td>\n",
       "      <td>7004.0</td>\n",
       "      <td>10.040857</td>\n",
       "    </tr>\n",
       "    <tr>\n",
       "      <th>7997</th>\n",
       "      <td>1</td>\n",
       "      <td>11201</td>\n",
       "      <td>CND</td>\n",
       "      <td>1.0</td>\n",
       "      <td>52.0</td>\n",
       "      <td>5173120.0</td>\n",
       "      <td>2500000.0</td>\n",
       "      <td>48750.0</td>\n",
       "      <td>51731.2</td>\n",
       "      <td>229583.0656</td>\n",
       "      <td>69755.0</td>\n",
       "      <td>35.1</td>\n",
       "      <td>163310.0</td>\n",
       "      <td>108933.0</td>\n",
       "      <td>3110.0</td>\n",
       "      <td>7004.0</td>\n",
       "      <td>10.040857</td>\n",
       "    </tr>\n",
       "  </tbody>\n",
       "</table>\n",
       "</div>"
      ],
      "text/plain": [
       "      Count  Zipcode Type  Owner Occ?  Purchase Down %  Purchase Amt  \\\n",
       "7996      1    11201  CND         1.0            100.0     2700000.0   \n",
       "7997      1    11201  CND         1.0             52.0     5173120.0   \n",
       "\n",
       "      Amount Mortgaged  Mtg Tx Pd  Mansion Tax Pd  New Sales Tax Amount  \\\n",
       "7996               0.0        0.0         27000.0           119826.0000   \n",
       "7997         2500000.0    48750.0         51731.2           229583.0656   \n",
       "\n",
       "      Population  Median Age  Household Income  Per Capita Income  \\\n",
       "7996     69755.0        35.1          163310.0           108933.0   \n",
       "7997     69755.0        35.1          163310.0           108933.0   \n",
       "\n",
       "      Median Gross Rent  Poverty Count  Poverty Rate  \n",
       "7996             3110.0         7004.0     10.040857  \n",
       "7997             3110.0         7004.0     10.040857  "
      ]
     },
     "execution_count": 5,
     "metadata": {},
     "output_type": "execute_result"
    }
   ],
   "source": [
    "investor_df = complete_df[(complete_df['Owner Occ?'] ==1)]\n",
    "investor_df.head(2)"
   ]
  },
  {
   "cell_type": "code",
   "execution_count": 6,
   "id": "9447ba26",
   "metadata": {},
   "outputs": [
    {
     "data": {
      "text/plain": [
       "SFR    5248\n",
       "CND    4457\n",
       "Name: Type, dtype: int64"
      ]
     },
     "execution_count": 6,
     "metadata": {},
     "output_type": "execute_result"
    }
   ],
   "source": [
    "investor_df['Type'].value_counts()"
   ]
  },
  {
   "cell_type": "code",
   "execution_count": 7,
   "id": "25c4b3a4",
   "metadata": {},
   "outputs": [
    {
     "data": {
      "image/png": "[encoded data removed]",
      "text/plain": [
       "<Figure size 432x288 with 1 Axes>"
      ]
     },
     "metadata": {},
     "output_type": "display_data"
    }
   ],
   "source": [
    "type_series = investor_df['Type'].value_counts()\n",
    "\n",
    "plt.pie(type_series.values,labels=type_series.index.values,autopct='%1.1f%%')\n",
    "plt.title(\"single-family rental v.s. Conditional Offer\")\n",
    "plt.show()"
   ]
  },
  {
   "cell_type": "code",
   "execution_count": 8,
   "id": "517d6a92",
   "metadata": {},
   "outputs": [
    {
     "data": {
      "text/plain": [
       "10007     207\n",
       "10013     506\n",
       "10282      19\n",
       "10453      15\n",
       "10457      50\n",
       "11201     510\n",
       "11203     222\n",
       "11204     191\n",
       "11205     107\n",
       "11206      85\n",
       "11207     104\n",
       "11208     109\n",
       "11209     345\n",
       "11210     340\n",
       "11211     192\n",
       "11212      85\n",
       "11213      71\n",
       "11214     273\n",
       "11215     373\n",
       "11216      91\n",
       "11217     170\n",
       "11218     172\n",
       "11219      95\n",
       "11220     111\n",
       "11221      45\n",
       "11222     127\n",
       "11223     236\n",
       "11224     166\n",
       "11225     110\n",
       "11226     139\n",
       "11228     306\n",
       "11229     612\n",
       "11230     185\n",
       "11231     200\n",
       "11232      42\n",
       "11233      43\n",
       "11234    1160\n",
       "11235     332\n",
       "11236     248\n",
       "11237      35\n",
       "11238     290\n",
       "11239      13\n",
       "11249     220\n",
       "11355     584\n",
       "11368     169\n",
       "Name: Zipcode, dtype: int64"
      ]
     },
     "execution_count": 8,
     "metadata": {},
     "output_type": "execute_result"
    }
   ],
   "source": [
    "investor_df['Zipcode'].value_counts().sort_index()"
   ]
  },
  {
   "cell_type": "code",
   "execution_count": 9,
   "id": "2b018db9",
   "metadata": {},
   "outputs": [],
   "source": [
    "investor_by_zip = investor_df.groupby(['Zipcode']).agg({'Count': 'sum', 'Purchase Amt': 'mean', \n",
    "                                                            'Purchase Down %': 'mean',\n",
    "                                                            'Amount Mortgaged': 'mean', \n",
    "                                                            'Mtg Tx Pd': 'mean', 'Mansion Tax Pd': 'mean', \n",
    "                                                            'New Sales Tax Amount': 'mean', \n",
    "                                                            'Per Capita Income': 'mean'})\n",
    "\n",
    "\n",
    "investor_by_zip[\"Purchase Amt\"] = investor_by_zip[\"Purchase Amt\"] / 10000\n",
    "investor_by_zip[\"Amount Mortgaged\"] = investor_by_zip[\"Amount Mortgaged\"] / 10000\n",
    "investor_by_zip[\"Mtg Tx Pd\"] = investor_by_zip[\"Mtg Tx Pd\"] / 1000\n",
    "investor_by_zip[\"Mansion Tax Pd\"] = investor_by_zip[\"Mansion Tax Pd\"] / 1000\n",
    "investor_by_zip[\"New Sales Tax Amount\"] = investor_by_zip[\"New Sales Tax Amount\"] / 1000\n",
    "investor_by_zip[\"Per Capita Income\"] = investor_by_zip[\"Per Capita Income\"] / 1000\n",
    "\n",
    "investor_by_zip[\"Purchase Amt\"] = investor_by_zip[\"Purchase Amt\"].map(\"{:.2f}\".format)\n",
    "investor_by_zip[\"Purchase Down %\"] = investor_by_zip[\"Purchase Down %\"].map(\"{:.2f}\".format)\n",
    "investor_by_zip[\"Amount Mortgaged\"] = investor_by_zip[\"Amount Mortgaged\"].map(\"{:.2f}\".format)\n",
    "investor_by_zip[\"Mtg Tx Pd\"] = investor_by_zip[\"Mtg Tx Pd\"].map(\"{:.2f}\".format)\n",
    "investor_by_zip[\"Mansion Tax Pd\"] = investor_by_zip[\"Mansion Tax Pd\"].map(\"{:.2f}\".format)\n",
    "investor_by_zip[\"New Sales Tax Amount\"] = investor_by_zip[\"New Sales Tax Amount\"].map(\"{:.2f}\".format)\n",
    "investor_by_zip[\"Per Capita Income\"] = investor_by_zip[\"Per Capita Income\"].map(\"{:.2f}\".format)\n",
    "\n",
    "investor_by_zip[\"Purchase Amt\"] = investor_by_zip[\"Purchase Amt\"].astype(\"float\")\n",
    "investor_by_zip[\"Purchase Down %\"] = investor_by_zip[\"Purchase Down %\"].astype(\"float\")\n",
    "investor_by_zip[\"Amount Mortgaged\"] = investor_by_zip[\"Amount Mortgaged\"].astype(\"float\")\n",
    "investor_by_zip[\"Mtg Tx Pd\"] = investor_by_zip[\"Mtg Tx Pd\"].astype(\"float\")\n",
    "investor_by_zip[\"Mansion Tax Pd\"] = investor_by_zip[\"Mansion Tax Pd\"].astype(\"float\")\n",
    "investor_by_zip[\"New Sales Tax Amount\"] = investor_by_zip[\"New Sales Tax Amount\"].astype(\"float\")\n",
    "investor_by_zip[\"Per Capita Income\"] = investor_by_zip[\"Per Capita Income\"].astype(\"float\")"
   ]
  },
  {
   "cell_type": "code",
   "execution_count": 10,
   "id": "cf47a95e",
   "metadata": {},
   "outputs": [
    {
     "name": "stdout",
     "output_type": "stream",
     "text": [
      "(45, 8)\n"
     ]
    },
    {
     "data": {
      "text/html": [
       "<div>\n",
       "<style scoped>\n",
       "    .dataframe tbody tr th:only-of-type {\n",
       "        vertical-align: middle;\n",
       "    }\n",
       "\n",
       "    .dataframe tbody tr th {\n",
       "        vertical-align: top;\n",
       "    }\n",
       "\n",
       "    .dataframe thead th {\n",
       "        text-align: right;\n",
       "    }\n",
       "</style>\n",
       "<table border=\"1\" class=\"dataframe\">\n",
       "  <thead>\n",
       "    <tr style=\"text-align: right;\">\n",
       "      <th></th>\n",
       "      <th>Count</th>\n",
       "      <th>Purchase Amt</th>\n",
       "      <th>Purchase Down %</th>\n",
       "      <th>Amount Mortgaged</th>\n",
       "      <th>Mtg Tx Pd</th>\n",
       "      <th>Mansion Tax Pd</th>\n",
       "      <th>New Sales Tax Amount</th>\n",
       "      <th>Per Capita Income</th>\n",
       "    </tr>\n",
       "    <tr>\n",
       "      <th>Zipcode</th>\n",
       "      <th></th>\n",
       "      <th></th>\n",
       "      <th></th>\n",
       "      <th></th>\n",
       "      <th></th>\n",
       "      <th></th>\n",
       "      <th></th>\n",
       "      <th></th>\n",
       "    </tr>\n",
       "  </thead>\n",
       "  <tbody>\n",
       "    <tr>\n",
       "      <th>10007</th>\n",
       "      <td>207</td>\n",
       "      <td>348.30</td>\n",
       "      <td>63.92</td>\n",
       "      <td>159.52</td>\n",
       "      <td>31.09</td>\n",
       "      <td>34.67</td>\n",
       "      <td>154.58</td>\n",
       "      <td>191.71</td>\n",
       "    </tr>\n",
       "    <tr>\n",
       "      <th>10013</th>\n",
       "      <td>506</td>\n",
       "      <td>395.44</td>\n",
       "      <td>65.75</td>\n",
       "      <td>148.59</td>\n",
       "      <td>28.97</td>\n",
       "      <td>39.08</td>\n",
       "      <td>175.49</td>\n",
       "      <td>157.38</td>\n",
       "    </tr>\n",
       "  </tbody>\n",
       "</table>\n",
       "</div>"
      ],
      "text/plain": [
       "         Count  Purchase Amt  Purchase Down %  Amount Mortgaged  Mtg Tx Pd  \\\n",
       "Zipcode                                                                      \n",
       "10007      207        348.30            63.92            159.52      31.09   \n",
       "10013      506        395.44            65.75            148.59      28.97   \n",
       "\n",
       "         Mansion Tax Pd  New Sales Tax Amount  Per Capita Income  \n",
       "Zipcode                                                           \n",
       "10007             34.67                154.58             191.71  \n",
       "10013             39.08                175.49             157.38  "
      ]
     },
     "execution_count": 10,
     "metadata": {},
     "output_type": "execute_result"
    }
   ],
   "source": [
    "print(investor_by_zip.shape)\n",
    "\n",
    "investor_by_zip.head(2)"
   ]
  },
  {
   "cell_type": "code",
   "execution_count": 11,
   "id": "aaea4274",
   "metadata": {},
   "outputs": [
    {
     "data": {
      "text/html": [
       "<div>\n",
       "<style scoped>\n",
       "    .dataframe tbody tr th:only-of-type {\n",
       "        vertical-align: middle;\n",
       "    }\n",
       "\n",
       "    .dataframe tbody tr th {\n",
       "        vertical-align: top;\n",
       "    }\n",
       "\n",
       "    .dataframe thead th {\n",
       "        text-align: right;\n",
       "    }\n",
       "</style>\n",
       "<table border=\"1\" class=\"dataframe\">\n",
       "  <thead>\n",
       "    <tr style=\"text-align: right;\">\n",
       "      <th></th>\n",
       "      <th>Count</th>\n",
       "      <th>Purchase Amt</th>\n",
       "      <th>Purchase Down %</th>\n",
       "      <th>Amount Mortgaged</th>\n",
       "      <th>Mtg Tx Pd</th>\n",
       "      <th>Mansion Tax Pd</th>\n",
       "      <th>New Sales Tax Amount</th>\n",
       "      <th>Per Capita Income</th>\n",
       "      <th>total_tax_paid</th>\n",
       "    </tr>\n",
       "    <tr>\n",
       "      <th>Zipcode</th>\n",
       "      <th></th>\n",
       "      <th></th>\n",
       "      <th></th>\n",
       "      <th></th>\n",
       "      <th></th>\n",
       "      <th></th>\n",
       "      <th></th>\n",
       "      <th></th>\n",
       "      <th></th>\n",
       "    </tr>\n",
       "  </thead>\n",
       "  <tbody>\n",
       "    <tr>\n",
       "      <th>10007</th>\n",
       "      <td>207</td>\n",
       "      <td>348.30</td>\n",
       "      <td>63.92</td>\n",
       "      <td>159.52</td>\n",
       "      <td>31.09</td>\n",
       "      <td>34.67</td>\n",
       "      <td>154.58</td>\n",
       "      <td>191.71</td>\n",
       "      <td>65.76</td>\n",
       "    </tr>\n",
       "    <tr>\n",
       "      <th>10013</th>\n",
       "      <td>506</td>\n",
       "      <td>395.44</td>\n",
       "      <td>65.75</td>\n",
       "      <td>148.59</td>\n",
       "      <td>28.97</td>\n",
       "      <td>39.08</td>\n",
       "      <td>175.49</td>\n",
       "      <td>157.38</td>\n",
       "      <td>68.05</td>\n",
       "    </tr>\n",
       "  </tbody>\n",
       "</table>\n",
       "</div>"
      ],
      "text/plain": [
       "         Count  Purchase Amt  Purchase Down %  Amount Mortgaged  Mtg Tx Pd  \\\n",
       "Zipcode                                                                      \n",
       "10007      207        348.30            63.92            159.52      31.09   \n",
       "10013      506        395.44            65.75            148.59      28.97   \n",
       "\n",
       "         Mansion Tax Pd  New Sales Tax Amount  Per Capita Income  \\\n",
       "Zipcode                                                            \n",
       "10007             34.67                154.58             191.71   \n",
       "10013             39.08                175.49             157.38   \n",
       "\n",
       "         total_tax_paid  \n",
       "Zipcode                  \n",
       "10007             65.76  \n",
       "10013             68.05  "
      ]
     },
     "execution_count": 11,
     "metadata": {},
     "output_type": "execute_result"
    }
   ],
   "source": [
    "investor_by_zip[\"total_tax_paid\"] = investor_by_zip[\"Mtg Tx Pd\"] + investor_by_zip[\"Mansion Tax Pd\"]\n",
    "investor_by_zip.head(2)"
   ]
  },
  {
   "cell_type": "code",
   "execution_count": 12,
   "id": "3df665e8",
   "metadata": {},
   "outputs": [
    {
     "data": {
      "text/plain": [
       "Count                     int64\n",
       "Purchase Amt            float64\n",
       "Purchase Down %         float64\n",
       "Amount Mortgaged        float64\n",
       "Mtg Tx Pd               float64\n",
       "Mansion Tax Pd          float64\n",
       "New Sales Tax Amount    float64\n",
       "Per Capita Income       float64\n",
       "total_tax_paid          float64\n",
       "dtype: object"
      ]
     },
     "execution_count": 12,
     "metadata": {},
     "output_type": "execute_result"
    }
   ],
   "source": [
    "investor_by_zip.dtypes"
   ]
  },
  {
   "cell_type": "code",
   "execution_count": 13,
   "id": "822d37fa",
   "metadata": {},
   "outputs": [
    {
     "data": {
      "text/plain": [
       "array(['10007', '10013', '10282', '10453', '10457', '11201', '11203',\n",
       "       '11204', '11205', '11206', '11207', '11208', '11209', '11210',\n",
       "       '11211', '11212', '11213', '11214', '11215', '11216', '11217',\n",
       "       '11218', '11219', '11220', '11221', '11222', '11223', '11224',\n",
       "       '11225', '11226', '11228', '11229', '11230', '11231', '11232',\n",
       "       '11233', '11234', '11235', '11236', '11237', '11238', '11239',\n",
       "       '11249', '11355', '11368'], dtype='<U21')"
      ]
     },
     "execution_count": 13,
     "metadata": {},
     "output_type": "execute_result"
    }
   ],
   "source": [
    "zipcode_list = investor_by_zip.index.values.astype(\"str\")\n",
    "zipcode_list"
   ]
  },
  {
   "cell_type": "markdown",
   "id": "c95ec397",
   "metadata": {},
   "source": [
    "## zipcodes of Manhattan: 10013, 10007, 10118, 10282, 10453, 11355, 10457, 11368\n",
    "## The rest of zipcodes are in Brooklyn."
   ]
  },
  {
   "cell_type": "code",
   "execution_count": 14,
   "id": "51889011",
   "metadata": {},
   "outputs": [
    {
     "data": {
      "image/png": "[encoded data removed]",
      "text/plain": [
       "<Figure size 1440x360 with 1 Axes>"
      ]
     },
     "metadata": {
      "needs_background": "light"
     },
     "output_type": "display_data"
    }
   ],
   "source": [
    "plt.figure(figsize=(20,5))\n",
    "\n",
    "plt.plot(zipcode_list, investor_by_zip[\"Per Capita Income\"], marker=\"o\", label='Per Capita Income')\n",
    "plt.plot(zipcode_list, investor_by_zip[\"Purchase Amt\"], marker=\"o\", label='Purchase Amountt')\n",
    "plt.plot(zipcode_list, investor_by_zip[\"total_tax_paid\"], marker=\"o\", label='Total Tax Paid')\n",
    "plt.xticks(zipcode_list, rotation=90)\n",
    "plt.xticks(fontsize=15)\n",
    "plt.yticks(fontsize=15)\n",
    "plt.xlabel('Zipcode', fontsize=20)\n",
    "plt.ylabel('Purchase Amount (in thousands)', fontsize=20)\n",
    "plt.title('Average Income v.s. Average Purchase Amount across Zipcodes in NYC', fontsize=20)\n",
    "plt.legend()\n",
    "plt.show()"
   ]
  },
  {
   "cell_type": "markdown",
   "id": "63a969c1",
   "metadata": {},
   "source": [
    "## Generate Manhattan dataframe"
   ]
  },
  {
   "cell_type": "code",
   "execution_count": 15,
   "id": "9664369d",
   "metadata": {},
   "outputs": [
    {
     "name": "stdout",
     "output_type": "stream",
     "text": [
      "(7, 9)\n"
     ]
    },
    {
     "data": {
      "text/html": [
       "<div>\n",
       "<style scoped>\n",
       "    .dataframe tbody tr th:only-of-type {\n",
       "        vertical-align: middle;\n",
       "    }\n",
       "\n",
       "    .dataframe tbody tr th {\n",
       "        vertical-align: top;\n",
       "    }\n",
       "\n",
       "    .dataframe thead th {\n",
       "        text-align: right;\n",
       "    }\n",
       "</style>\n",
       "<table border=\"1\" class=\"dataframe\">\n",
       "  <thead>\n",
       "    <tr style=\"text-align: right;\">\n",
       "      <th></th>\n",
       "      <th>Count</th>\n",
       "      <th>Purchase Amt</th>\n",
       "      <th>Purchase Down %</th>\n",
       "      <th>Amount Mortgaged</th>\n",
       "      <th>Mtg Tx Pd</th>\n",
       "      <th>Mansion Tax Pd</th>\n",
       "      <th>New Sales Tax Amount</th>\n",
       "      <th>Per Capita Income</th>\n",
       "      <th>total_tax_paid</th>\n",
       "    </tr>\n",
       "    <tr>\n",
       "      <th>Zipcode</th>\n",
       "      <th></th>\n",
       "      <th></th>\n",
       "      <th></th>\n",
       "      <th></th>\n",
       "      <th></th>\n",
       "      <th></th>\n",
       "      <th></th>\n",
       "      <th></th>\n",
       "      <th></th>\n",
       "    </tr>\n",
       "  </thead>\n",
       "  <tbody>\n",
       "    <tr>\n",
       "      <th>10013</th>\n",
       "      <td>506</td>\n",
       "      <td>395.44</td>\n",
       "      <td>65.75</td>\n",
       "      <td>148.59</td>\n",
       "      <td>28.97</td>\n",
       "      <td>39.08</td>\n",
       "      <td>175.49</td>\n",
       "      <td>157.38</td>\n",
       "      <td>68.05</td>\n",
       "    </tr>\n",
       "    <tr>\n",
       "      <th>10007</th>\n",
       "      <td>207</td>\n",
       "      <td>348.30</td>\n",
       "      <td>63.92</td>\n",
       "      <td>159.52</td>\n",
       "      <td>31.09</td>\n",
       "      <td>34.67</td>\n",
       "      <td>154.58</td>\n",
       "      <td>191.71</td>\n",
       "      <td>65.76</td>\n",
       "    </tr>\n",
       "    <tr>\n",
       "      <th>10282</th>\n",
       "      <td>19</td>\n",
       "      <td>298.71</td>\n",
       "      <td>63.32</td>\n",
       "      <td>105.30</td>\n",
       "      <td>20.50</td>\n",
       "      <td>29.87</td>\n",
       "      <td>132.57</td>\n",
       "      <td>190.52</td>\n",
       "      <td>50.37</td>\n",
       "    </tr>\n",
       "    <tr>\n",
       "      <th>11355</th>\n",
       "      <td>584</td>\n",
       "      <td>73.47</td>\n",
       "      <td>65.27</td>\n",
       "      <td>27.62</td>\n",
       "      <td>5.18</td>\n",
       "      <td>1.76</td>\n",
       "      <td>32.61</td>\n",
       "      <td>28.13</td>\n",
       "      <td>6.94</td>\n",
       "    </tr>\n",
       "    <tr>\n",
       "      <th>11368</th>\n",
       "      <td>169</td>\n",
       "      <td>58.09</td>\n",
       "      <td>55.09</td>\n",
       "      <td>24.15</td>\n",
       "      <td>4.45</td>\n",
       "      <td>0.77</td>\n",
       "      <td>25.78</td>\n",
       "      <td>24.23</td>\n",
       "      <td>5.22</td>\n",
       "    </tr>\n",
       "    <tr>\n",
       "      <th>10453</th>\n",
       "      <td>15</td>\n",
       "      <td>56.47</td>\n",
       "      <td>30.53</td>\n",
       "      <td>52.15</td>\n",
       "      <td>9.80</td>\n",
       "      <td>0.00</td>\n",
       "      <td>25.06</td>\n",
       "      <td>19.02</td>\n",
       "      <td>9.80</td>\n",
       "    </tr>\n",
       "    <tr>\n",
       "      <th>10457</th>\n",
       "      <td>50</td>\n",
       "      <td>48.76</td>\n",
       "      <td>18.54</td>\n",
       "      <td>43.16</td>\n",
       "      <td>8.13</td>\n",
       "      <td>0.43</td>\n",
       "      <td>21.64</td>\n",
       "      <td>20.19</td>\n",
       "      <td>8.56</td>\n",
       "    </tr>\n",
       "  </tbody>\n",
       "</table>\n",
       "</div>"
      ],
      "text/plain": [
       "         Count  Purchase Amt  Purchase Down %  Amount Mortgaged  Mtg Tx Pd  \\\n",
       "Zipcode                                                                      \n",
       "10013      506        395.44            65.75            148.59      28.97   \n",
       "10007      207        348.30            63.92            159.52      31.09   \n",
       "10282       19        298.71            63.32            105.30      20.50   \n",
       "11355      584         73.47            65.27             27.62       5.18   \n",
       "11368      169         58.09            55.09             24.15       4.45   \n",
       "10453       15         56.47            30.53             52.15       9.80   \n",
       "10457       50         48.76            18.54             43.16       8.13   \n",
       "\n",
       "         Mansion Tax Pd  New Sales Tax Amount  Per Capita Income  \\\n",
       "Zipcode                                                            \n",
       "10013             39.08                175.49             157.38   \n",
       "10007             34.67                154.58             191.71   \n",
       "10282             29.87                132.57             190.52   \n",
       "11355              1.76                 32.61              28.13   \n",
       "11368              0.77                 25.78              24.23   \n",
       "10453              0.00                 25.06              19.02   \n",
       "10457              0.43                 21.64              20.19   \n",
       "\n",
       "         total_tax_paid  \n",
       "Zipcode                  \n",
       "10013             68.05  \n",
       "10007             65.76  \n",
       "10282             50.37  \n",
       "11355              6.94  \n",
       "11368              5.22  \n",
       "10453              9.80  \n",
       "10457              8.56  "
      ]
     },
     "execution_count": 15,
     "metadata": {},
     "output_type": "execute_result"
    }
   ],
   "source": [
    "manhattan_df = investor_by_zip.loc[[10013, 10007, 10282, 10453, 11355, 10457, 11368], :].sort_values(\"Purchase Amt\", ascending=False)\n",
    "print(manhattan_df.shape)\n",
    "manhattan_df.head(8)"
   ]
  },
  {
   "cell_type": "code",
   "execution_count": 16,
   "id": "0b402168",
   "metadata": {},
   "outputs": [
    {
     "data": {
      "text/plain": [
       "array(['10013', '10007', '10282', '11355', '11368', '10453', '10457'],\n",
       "      dtype=object)"
      ]
     },
     "execution_count": 16,
     "metadata": {},
     "output_type": "execute_result"
    }
   ],
   "source": [
    "mindex_list = manhattan_df.index.values\n",
    "\n",
    "for zipcode in mindex_list:\n",
    "    manhattan_df.rename(index={zipcode: str(zipcode)}, inplace=True)\n",
    "\n",
    "manhattan_df.index.name = \"Manhattan Zipcode\"\n",
    "\n",
    "mindex_list = manhattan_df.index.values \n",
    "mindex_list"
   ]
  },
  {
   "cell_type": "code",
   "execution_count": 17,
   "id": "aaa4a062",
   "metadata": {},
   "outputs": [
    {
     "ename": "ValueError",
     "evalue": "The truth value of an array with more than one element is ambiguous. Use a.any() or a.all()",
     "output_type": "error",
     "traceback": [
      "\u001b[0;31m---------------------------------------------------------------------------\u001b[0m",
      "\u001b[0;31mValueError\u001b[0m                                Traceback (most recent call last)",
      "\u001b[0;32m/var/folders/3j/nyngcfks7d1cq_wmwfzffxr40000gn/T/ipykernel_37522/1586421921.py\u001b[0m in \u001b[0;36m<module>\u001b[0;34m\u001b[0m\n\u001b[1;32m     22\u001b[0m \u001b[0max\u001b[0m\u001b[0;34m.\u001b[0m\u001b[0mset_ylabel\u001b[0m\u001b[0;34m(\u001b[0m\u001b[0;34m'Dollar Amount'\u001b[0m\u001b[0;34m,\u001b[0m \u001b[0mfontsize\u001b[0m\u001b[0;34m=\u001b[0m\u001b[0;36m13\u001b[0m\u001b[0;34m)\u001b[0m\u001b[0;34m\u001b[0m\u001b[0;34m\u001b[0m\u001b[0m\n\u001b[1;32m     23\u001b[0m \u001b[0max\u001b[0m\u001b[0;34m.\u001b[0m\u001b[0mset_title\u001b[0m\u001b[0;34m(\u001b[0m\u001b[0;34m'Purchase & Mortgage (in thousands) Per Capita Income (in thousands)'\u001b[0m\u001b[0;34m,\u001b[0m \u001b[0mfontsize\u001b[0m\u001b[0;34m=\u001b[0m\u001b[0;36m13\u001b[0m\u001b[0;34m)\u001b[0m\u001b[0;34m\u001b[0m\u001b[0;34m\u001b[0m\u001b[0m\n\u001b[0;32m---> 24\u001b[0;31m \u001b[0max\u001b[0m\u001b[0;34m.\u001b[0m\u001b[0mset_xticks\u001b[0m\u001b[0;34m(\u001b[0m\u001b[0mx\u001b[0m \u001b[0;34m+\u001b[0m \u001b[0mwidth\u001b[0m\u001b[0;34m,\u001b[0m \u001b[0mspecies\u001b[0m\u001b[0;34m)\u001b[0m\u001b[0;34m\u001b[0m\u001b[0;34m\u001b[0m\u001b[0m\n\u001b[0m\u001b[1;32m     25\u001b[0m \u001b[0max\u001b[0m\u001b[0;34m.\u001b[0m\u001b[0mset_xlabel\u001b[0m\u001b[0;34m(\u001b[0m\u001b[0;34m\"Manhattan Zipcode\"\u001b[0m\u001b[0;34m,\u001b[0m \u001b[0mfontsize\u001b[0m\u001b[0;34m=\u001b[0m\u001b[0;36m13\u001b[0m\u001b[0;34m)\u001b[0m\u001b[0;34m\u001b[0m\u001b[0;34m\u001b[0m\u001b[0m\n\u001b[1;32m     26\u001b[0m \u001b[0max\u001b[0m\u001b[0;34m.\u001b[0m\u001b[0mlegend\u001b[0m\u001b[0;34m(\u001b[0m\u001b[0mloc\u001b[0m\u001b[0;34m=\u001b[0m\u001b[0;34m'upper left'\u001b[0m\u001b[0;34m,\u001b[0m \u001b[0mncols\u001b[0m\u001b[0;34m=\u001b[0m\u001b[0;36m3\u001b[0m\u001b[0;34m)\u001b[0m\u001b[0;34m\u001b[0m\u001b[0;34m\u001b[0m\u001b[0m\n",
      "\u001b[0;32m~/anaconda3/envs/PythonData/lib/python3.7/site-packages/matplotlib/axes/_base.py\u001b[0m in \u001b[0;36mset_xticks\u001b[0;34m(self, ticks, minor)\u001b[0m\n\u001b[1;32m   3348\u001b[0m             \u001b[0mDefault\u001b[0m \u001b[0;32mis\u001b[0m\u001b[0;31m \u001b[0m\u001b[0;31m`\u001b[0m\u001b[0;31m`\u001b[0m\u001b[0;32mFalse\u001b[0m\u001b[0;31m`\u001b[0m\u001b[0;31m`\u001b[0m\u001b[0;34m.\u001b[0m\u001b[0;34m\u001b[0m\u001b[0;34m\u001b[0m\u001b[0m\n\u001b[1;32m   3349\u001b[0m         \"\"\"\n\u001b[0;32m-> 3350\u001b[0;31m         \u001b[0mret\u001b[0m \u001b[0;34m=\u001b[0m \u001b[0mself\u001b[0m\u001b[0;34m.\u001b[0m\u001b[0mxaxis\u001b[0m\u001b[0;34m.\u001b[0m\u001b[0mset_ticks\u001b[0m\u001b[0;34m(\u001b[0m\u001b[0mticks\u001b[0m\u001b[0;34m,\u001b[0m \u001b[0mminor\u001b[0m\u001b[0;34m=\u001b[0m\u001b[0mminor\u001b[0m\u001b[0;34m)\u001b[0m\u001b[0;34m\u001b[0m\u001b[0;34m\u001b[0m\u001b[0m\n\u001b[0m\u001b[1;32m   3351\u001b[0m         \u001b[0mself\u001b[0m\u001b[0;34m.\u001b[0m\u001b[0mstale\u001b[0m \u001b[0;34m=\u001b[0m \u001b[0;32mTrue\u001b[0m\u001b[0;34m\u001b[0m\u001b[0;34m\u001b[0m\u001b[0m\n\u001b[1;32m   3352\u001b[0m         \u001b[0;32mreturn\u001b[0m \u001b[0mret\u001b[0m\u001b[0;34m\u001b[0m\u001b[0;34m\u001b[0m\u001b[0m\n",
      "\u001b[0;32m~/anaconda3/envs/PythonData/lib/python3.7/site-packages/matplotlib/axis.py\u001b[0m in \u001b[0;36mset_ticks\u001b[0;34m(self, ticks, minor)\u001b[0m\n\u001b[1;32m   1756\u001b[0m             \u001b[0;32melse\u001b[0m\u001b[0;34m:\u001b[0m\u001b[0;34m\u001b[0m\u001b[0;34m\u001b[0m\u001b[0m\n\u001b[1;32m   1757\u001b[0m                 \u001b[0mself\u001b[0m\u001b[0;34m.\u001b[0m\u001b[0mset_view_interval\u001b[0m\u001b[0;34m(\u001b[0m\u001b[0mmax\u001b[0m\u001b[0;34m(\u001b[0m\u001b[0mticks\u001b[0m\u001b[0;34m)\u001b[0m\u001b[0;34m,\u001b[0m \u001b[0mmin\u001b[0m\u001b[0;34m(\u001b[0m\u001b[0mticks\u001b[0m\u001b[0;34m)\u001b[0m\u001b[0;34m)\u001b[0m\u001b[0;34m\u001b[0m\u001b[0;34m\u001b[0m\u001b[0m\n\u001b[0;32m-> 1758\u001b[0;31m         \u001b[0;32mif\u001b[0m \u001b[0mminor\u001b[0m\u001b[0;34m:\u001b[0m\u001b[0;34m\u001b[0m\u001b[0;34m\u001b[0m\u001b[0m\n\u001b[0m\u001b[1;32m   1759\u001b[0m             \u001b[0mself\u001b[0m\u001b[0;34m.\u001b[0m\u001b[0mset_minor_locator\u001b[0m\u001b[0;34m(\u001b[0m\u001b[0mmticker\u001b[0m\u001b[0;34m.\u001b[0m\u001b[0mFixedLocator\u001b[0m\u001b[0;34m(\u001b[0m\u001b[0mticks\u001b[0m\u001b[0;34m)\u001b[0m\u001b[0;34m)\u001b[0m\u001b[0;34m\u001b[0m\u001b[0;34m\u001b[0m\u001b[0m\n\u001b[1;32m   1760\u001b[0m             \u001b[0;32mreturn\u001b[0m \u001b[0mself\u001b[0m\u001b[0;34m.\u001b[0m\u001b[0mget_minor_ticks\u001b[0m\u001b[0;34m(\u001b[0m\u001b[0mlen\u001b[0m\u001b[0;34m(\u001b[0m\u001b[0mticks\u001b[0m\u001b[0;34m)\u001b[0m\u001b[0;34m)\u001b[0m\u001b[0;34m\u001b[0m\u001b[0;34m\u001b[0m\u001b[0m\n",
      "\u001b[0;31mValueError\u001b[0m: The truth value of an array with more than one element is ambiguous. Use a.any() or a.all()"
     ]
    },
    {
     "data": {
      "image/png": "[encoded data removed]",
      "text/plain": [
       "<Figure size 1080x432 with 1 Axes>"
      ]
     },
     "metadata": {
      "needs_background": "light"
     },
     "output_type": "display_data"
    }
   ],
   "source": [
    "species = mindex_list\n",
    "\n",
    "housing_data = {\n",
    "    'Purchase Amt': manhattan_df[\"Purchase Amt\"].values,\n",
    "    'Amount Mortgaged': manhattan_df[\"Amount Mortgaged\"].values,\n",
    "    'Per Capita Income': manhattan_df[\"Per Capita Income\"].values,\n",
    "}\n",
    "\n",
    "x = np.arange(len(species))  # the label locations\n",
    "width = 0.25  # the width of the bars\n",
    "multiplier = 0\n",
    "\n",
    "fig, ax = plt.subplots(figsize=(15,6))\n",
    "\n",
    "for attribute, measurement in housing_data.items():\n",
    "    offset = width * multiplier\n",
    "    rects = ax.bar(x + offset, measurement, width, label=attribute)\n",
    "    #ax.bar_label(rects, padding=3)\n",
    "    multiplier += 1\n",
    "\n",
    "# Add some text for labels, title and custom x-axis tick labels, etc.\n",
    "ax.set_ylabel('Dollar Amount', fontsize=13)\n",
    "ax.set_title('Purchase & Mortgage (in thousands) Per Capita Income (in thousands)', fontsize=13)\n",
    "ax.set_xticks(x + width, species)\n",
    "ax.set_xlabel(\"Manhattan Zipcode\", fontsize=13)\n",
    "ax.legend(loc='upper left', ncols=3)\n",
    "ax.set_ylim(0, 500)\n",
    "plt.suptitle('Purchase Amount v.s. Amount Mortgaged v.s. Per Capita Income in Manhattan', fontsize=15)\n",
    "plt.show()"
   ]
  },
  {
   "cell_type": "code",
   "execution_count": 18,
   "id": "0d8e57fb",
   "metadata": {},
   "outputs": [
    {
     "data": {
      "image/png": "[encoded data removed]",
      "text/plain": [
       "<Figure size 432x288 with 2 Axes>"
      ]
     },
     "metadata": {
      "needs_background": "light"
     },
     "output_type": "display_data"
    }
   ],
   "source": [
    "fig = plt.figure() # Create matplotlib figure\n",
    "\n",
    "ax = fig.add_subplot(111) # Create matplotlib axes\n",
    "ax2 = ax.twinx() # Create another axes that shares the same x-axis as ax.\n",
    "\n",
    "width = 0.4\n",
    "\n",
    "manhattan_df[\"Per Capita Income\"].plot(kind='bar', color='Orange', ax=ax, width=width, position=1)\n",
    "manhattan_df[\"total_tax_paid\"].plot(kind='bar', color='green', ax=ax2, width=width, position=0)\n",
    "\n",
    "ax.set_ylabel('Per Capita Income in Thousands')\n",
    "ax2.set_ylabel('Total Taxes paid')\n",
    "ax.set_title('Scale to the left for Income and to the right for Taxes (in thousands)')\n",
    "plt.suptitle('Per Capita Income v.s. Total Taxes paid',fontsize=15, y=1)\n",
    "ax.legend()\n",
    "ax2.legend(loc=9)\n",
    "\n",
    "plt.show()"
   ]
  },
  {
   "cell_type": "markdown",
   "id": "10797ab9",
   "metadata": {},
   "source": [
    "## Generate Broolyn dataframe"
   ]
  },
  {
   "cell_type": "code",
   "execution_count": 19,
   "id": "72bbeb08",
   "metadata": {},
   "outputs": [
    {
     "name": "stdout",
     "output_type": "stream",
     "text": [
      "(38, 10)\n"
     ]
    },
    {
     "data": {
      "text/html": [
       "<div>\n",
       "<style scoped>\n",
       "    .dataframe tbody tr th:only-of-type {\n",
       "        vertical-align: middle;\n",
       "    }\n",
       "\n",
       "    .dataframe tbody tr th {\n",
       "        vertical-align: top;\n",
       "    }\n",
       "\n",
       "    .dataframe thead th {\n",
       "        text-align: right;\n",
       "    }\n",
       "</style>\n",
       "<table border=\"1\" class=\"dataframe\">\n",
       "  <thead>\n",
       "    <tr style=\"text-align: right;\">\n",
       "      <th></th>\n",
       "      <th>Count</th>\n",
       "      <th>Purchase Amt</th>\n",
       "      <th>Purchase Down %</th>\n",
       "      <th>Amount Mortgaged</th>\n",
       "      <th>Mtg Tx Pd</th>\n",
       "      <th>Mansion Tax Pd</th>\n",
       "      <th>New Sales Tax Amount</th>\n",
       "      <th>Per Capita Income</th>\n",
       "      <th>total_tax_paid</th>\n",
       "    </tr>\n",
       "    <tr>\n",
       "      <th>Zipcode</th>\n",
       "      <th></th>\n",
       "      <th></th>\n",
       "      <th></th>\n",
       "      <th></th>\n",
       "      <th></th>\n",
       "      <th></th>\n",
       "      <th></th>\n",
       "      <th></th>\n",
       "      <th></th>\n",
       "    </tr>\n",
       "  </thead>\n",
       "  <tbody>\n",
       "    <tr>\n",
       "      <th>11201</th>\n",
       "      <td>510</td>\n",
       "      <td>194.09</td>\n",
       "      <td>52.08</td>\n",
       "      <td>83.32</td>\n",
       "      <td>16.17</td>\n",
       "      <td>16.78</td>\n",
       "      <td>86.14</td>\n",
       "      <td>108.93</td>\n",
       "      <td>32.95</td>\n",
       "    </tr>\n",
       "    <tr>\n",
       "      <th>11231</th>\n",
       "      <td>200</td>\n",
       "      <td>176.20</td>\n",
       "      <td>47.54</td>\n",
       "      <td>84.91</td>\n",
       "      <td>16.51</td>\n",
       "      <td>14.94</td>\n",
       "      <td>78.20</td>\n",
       "      <td>87.01</td>\n",
       "      <td>31.45</td>\n",
       "    </tr>\n",
       "    <tr>\n",
       "      <th>11217</th>\n",
       "      <td>170</td>\n",
       "      <td>166.85</td>\n",
       "      <td>50.16</td>\n",
       "      <td>78.28</td>\n",
       "      <td>15.19</td>\n",
       "      <td>14.54</td>\n",
       "      <td>74.05</td>\n",
       "      <td>100.33</td>\n",
       "      <td>29.73</td>\n",
       "    </tr>\n",
       "    <tr>\n",
       "      <th>11215</th>\n",
       "      <td>373</td>\n",
       "      <td>165.09</td>\n",
       "      <td>47.39</td>\n",
       "      <td>85.53</td>\n",
       "      <td>16.63</td>\n",
       "      <td>13.94</td>\n",
       "      <td>73.27</td>\n",
       "      <td>98.25</td>\n",
       "      <td>30.57</td>\n",
       "    </tr>\n",
       "    <tr>\n",
       "      <th>11249</th>\n",
       "      <td>220</td>\n",
       "      <td>144.69</td>\n",
       "      <td>56.46</td>\n",
       "      <td>66.32</td>\n",
       "      <td>12.90</td>\n",
       "      <td>12.41</td>\n",
       "      <td>64.21</td>\n",
       "      <td>66.66</td>\n",
       "      <td>25.31</td>\n",
       "    </tr>\n",
       "  </tbody>\n",
       "</table>\n",
       "</div>"
      ],
      "text/plain": [
       "         Count  Purchase Amt  Purchase Down %  Amount Mortgaged  Mtg Tx Pd  \\\n",
       "Zipcode                                                                      \n",
       "11201      510        194.09            52.08             83.32      16.17   \n",
       "11231      200        176.20            47.54             84.91      16.51   \n",
       "11217      170        166.85            50.16             78.28      15.19   \n",
       "11215      373        165.09            47.39             85.53      16.63   \n",
       "11249      220        144.69            56.46             66.32      12.90   \n",
       "\n",
       "         Mansion Tax Pd  New Sales Tax Amount  Per Capita Income  \\\n",
       "Zipcode                                                            \n",
       "11201             16.78                 86.14             108.93   \n",
       "11231             14.94                 78.20              87.01   \n",
       "11217             14.54                 74.05             100.33   \n",
       "11215             13.94                 73.27              98.25   \n",
       "11249             12.41                 64.21              66.66   \n",
       "\n",
       "         total_tax_paid  \n",
       "Zipcode                  \n",
       "11201             32.95  \n",
       "11231             31.45  \n",
       "11217             29.73  \n",
       "11215             30.57  \n",
       "11249             25.31  "
      ]
     },
     "execution_count": 19,
     "metadata": {},
     "output_type": "execute_result"
    }
   ],
   "source": [
    "brooklyn_df = investor_by_zip.drop([10013, 10007, 10282, 10453, 11355, 10457, 11368], axis=0)\\\n",
    "                            .sort_values(\"Purchase Amt\", ascending=False).reset_index()\n",
    "print(brooklyn_df.shape)\n",
    "\n",
    "top5_brooklyn_df = brooklyn_df.loc[0:4]\n",
    "\n",
    "top5_brooklyn_df.set_index([\"Zipcode\"], inplace=True)\n",
    "top5_brooklyn_df"
   ]
  },
  {
   "cell_type": "code",
   "execution_count": 20,
   "id": "fa79f4b2",
   "metadata": {},
   "outputs": [
    {
     "data": {
      "text/plain": [
       "array(['11201', '11231', '11217', '11215', '11249'], dtype='<U21')"
      ]
     },
     "execution_count": 20,
     "metadata": {},
     "output_type": "execute_result"
    }
   ],
   "source": [
    "# index_list = top5_brooklyn_df.index.values\n",
    "\n",
    "# for zipcode in index_list:\n",
    "#     top5_brooklyn_df.rename(index={zipcode: str(zipcode)}, inplace=True)\n",
    "\n",
    "# top5_brooklyn_df.index.name = \"Brooklyn Top 5 Zipcode\"\n",
    "\n",
    "index_list = top5_brooklyn_df.index.values.astype(\"str\")\n",
    "index_list"
   ]
  },
  {
   "cell_type": "code",
   "execution_count": 26,
   "id": "86c00664",
   "metadata": {},
   "outputs": [
    {
     "ename": "ValueError",
     "evalue": "The truth value of an array with more than one element is ambiguous. Use a.any() or a.all()",
     "output_type": "error",
     "traceback": [
      "\u001b[0;31m---------------------------------------------------------------------------\u001b[0m",
      "\u001b[0;31mValueError\u001b[0m                                Traceback (most recent call last)",
      "\u001b[0;32m/var/folders/3j/nyngcfks7d1cq_wmwfzffxr40000gn/T/ipykernel_37522/1136047651.py\u001b[0m in \u001b[0;36m<module>\u001b[0;34m\u001b[0m\n\u001b[1;32m     22\u001b[0m \u001b[0max\u001b[0m\u001b[0;34m.\u001b[0m\u001b[0mset_ylabel\u001b[0m\u001b[0;34m(\u001b[0m\u001b[0;34m'Dollar Amount'\u001b[0m\u001b[0;34m,\u001b[0m \u001b[0mfontsize\u001b[0m\u001b[0;34m=\u001b[0m\u001b[0;36m13\u001b[0m\u001b[0;34m)\u001b[0m\u001b[0;34m\u001b[0m\u001b[0;34m\u001b[0m\u001b[0m\n\u001b[1;32m     23\u001b[0m \u001b[0max\u001b[0m\u001b[0;34m.\u001b[0m\u001b[0mset_title\u001b[0m\u001b[0;34m(\u001b[0m\u001b[0;34m'Purchase & Mortgage (in thousands) Per Capita Income (in thousands)'\u001b[0m\u001b[0;34m,\u001b[0m \u001b[0mfontsize\u001b[0m\u001b[0;34m=\u001b[0m\u001b[0;36m13\u001b[0m\u001b[0;34m)\u001b[0m\u001b[0;34m\u001b[0m\u001b[0;34m\u001b[0m\u001b[0m\n\u001b[0;32m---> 24\u001b[0;31m \u001b[0max\u001b[0m\u001b[0;34m.\u001b[0m\u001b[0mset_xticks\u001b[0m\u001b[0;34m(\u001b[0m\u001b[0mx\u001b[0m \u001b[0;34m+\u001b[0m \u001b[0mwidth\u001b[0m\u001b[0;34m,\u001b[0m \u001b[0mspecies\u001b[0m\u001b[0;34m)\u001b[0m\u001b[0;34m\u001b[0m\u001b[0;34m\u001b[0m\u001b[0m\n\u001b[0m\u001b[1;32m     25\u001b[0m \u001b[0max\u001b[0m\u001b[0;34m.\u001b[0m\u001b[0mset_xlabel\u001b[0m\u001b[0;34m(\u001b[0m\u001b[0;34m\"Brooklyn Top 5 Zipcode\"\u001b[0m\u001b[0;34m,\u001b[0m \u001b[0mfontsize\u001b[0m\u001b[0;34m=\u001b[0m\u001b[0;36m13\u001b[0m\u001b[0;34m)\u001b[0m\u001b[0;34m\u001b[0m\u001b[0;34m\u001b[0m\u001b[0m\n\u001b[1;32m     26\u001b[0m \u001b[0max\u001b[0m\u001b[0;34m.\u001b[0m\u001b[0mlegend\u001b[0m\u001b[0;34m(\u001b[0m\u001b[0mloc\u001b[0m\u001b[0;34m=\u001b[0m\u001b[0;34m'upper left'\u001b[0m\u001b[0;34m,\u001b[0m \u001b[0mncols\u001b[0m\u001b[0;34m=\u001b[0m\u001b[0;36m3\u001b[0m\u001b[0;34m)\u001b[0m\u001b[0;34m\u001b[0m\u001b[0;34m\u001b[0m\u001b[0m\n",
      "\u001b[0;32m~/anaconda3/envs/PythonData/lib/python3.7/site-packages/matplotlib/axes/_base.py\u001b[0m in \u001b[0;36mset_xticks\u001b[0;34m(self, ticks, minor)\u001b[0m\n\u001b[1;32m   3348\u001b[0m             \u001b[0mDefault\u001b[0m \u001b[0;32mis\u001b[0m\u001b[0;31m \u001b[0m\u001b[0;31m`\u001b[0m\u001b[0;31m`\u001b[0m\u001b[0;32mFalse\u001b[0m\u001b[0;31m`\u001b[0m\u001b[0;31m`\u001b[0m\u001b[0;34m.\u001b[0m\u001b[0;34m\u001b[0m\u001b[0;34m\u001b[0m\u001b[0m\n\u001b[1;32m   3349\u001b[0m         \"\"\"\n\u001b[0;32m-> 3350\u001b[0;31m         \u001b[0mret\u001b[0m \u001b[0;34m=\u001b[0m \u001b[0mself\u001b[0m\u001b[0;34m.\u001b[0m\u001b[0mxaxis\u001b[0m\u001b[0;34m.\u001b[0m\u001b[0mset_ticks\u001b[0m\u001b[0;34m(\u001b[0m\u001b[0mticks\u001b[0m\u001b[0;34m,\u001b[0m \u001b[0mminor\u001b[0m\u001b[0;34m=\u001b[0m\u001b[0mminor\u001b[0m\u001b[0;34m)\u001b[0m\u001b[0;34m\u001b[0m\u001b[0;34m\u001b[0m\u001b[0m\n\u001b[0m\u001b[1;32m   3351\u001b[0m         \u001b[0mself\u001b[0m\u001b[0;34m.\u001b[0m\u001b[0mstale\u001b[0m \u001b[0;34m=\u001b[0m \u001b[0;32mTrue\u001b[0m\u001b[0;34m\u001b[0m\u001b[0;34m\u001b[0m\u001b[0m\n\u001b[1;32m   3352\u001b[0m         \u001b[0;32mreturn\u001b[0m \u001b[0mret\u001b[0m\u001b[0;34m\u001b[0m\u001b[0;34m\u001b[0m\u001b[0m\n",
      "\u001b[0;32m~/anaconda3/envs/PythonData/lib/python3.7/site-packages/matplotlib/axis.py\u001b[0m in \u001b[0;36mset_ticks\u001b[0;34m(self, ticks, minor)\u001b[0m\n\u001b[1;32m   1756\u001b[0m             \u001b[0;32melse\u001b[0m\u001b[0;34m:\u001b[0m\u001b[0;34m\u001b[0m\u001b[0;34m\u001b[0m\u001b[0m\n\u001b[1;32m   1757\u001b[0m                 \u001b[0mself\u001b[0m\u001b[0;34m.\u001b[0m\u001b[0mset_view_interval\u001b[0m\u001b[0;34m(\u001b[0m\u001b[0mmax\u001b[0m\u001b[0;34m(\u001b[0m\u001b[0mticks\u001b[0m\u001b[0;34m)\u001b[0m\u001b[0;34m,\u001b[0m \u001b[0mmin\u001b[0m\u001b[0;34m(\u001b[0m\u001b[0mticks\u001b[0m\u001b[0;34m)\u001b[0m\u001b[0;34m)\u001b[0m\u001b[0;34m\u001b[0m\u001b[0;34m\u001b[0m\u001b[0m\n\u001b[0;32m-> 1758\u001b[0;31m         \u001b[0;32mif\u001b[0m \u001b[0mminor\u001b[0m\u001b[0;34m:\u001b[0m\u001b[0;34m\u001b[0m\u001b[0;34m\u001b[0m\u001b[0m\n\u001b[0m\u001b[1;32m   1759\u001b[0m             \u001b[0mself\u001b[0m\u001b[0;34m.\u001b[0m\u001b[0mset_minor_locator\u001b[0m\u001b[0;34m(\u001b[0m\u001b[0mmticker\u001b[0m\u001b[0;34m.\u001b[0m\u001b[0mFixedLocator\u001b[0m\u001b[0;34m(\u001b[0m\u001b[0mticks\u001b[0m\u001b[0;34m)\u001b[0m\u001b[0;34m)\u001b[0m\u001b[0;34m\u001b[0m\u001b[0;34m\u001b[0m\u001b[0m\n\u001b[1;32m   1760\u001b[0m             \u001b[0;32mreturn\u001b[0m \u001b[0mself\u001b[0m\u001b[0;34m.\u001b[0m\u001b[0mget_minor_ticks\u001b[0m\u001b[0;34m(\u001b[0m\u001b[0mlen\u001b[0m\u001b[0;34m(\u001b[0m\u001b[0mticks\u001b[0m\u001b[0;34m)\u001b[0m\u001b[0;34m)\u001b[0m\u001b[0;34m\u001b[0m\u001b[0;34m\u001b[0m\u001b[0m\n",
      "\u001b[0;31mValueError\u001b[0m: The truth value of an array with more than one element is ambiguous. Use a.any() or a.all()"
     ]
    },
    {
     "data": {
      "image/png": "[encoded data removed]",
      "text/plain": [
       "<Figure size 1080x432 with 1 Axes>"
      ]
     },
     "metadata": {
      "needs_background": "light"
     },
     "output_type": "display_data"
    }
   ],
   "source": [
    "species = index_list\n",
    "\n",
    "housing_data = {\n",
    "    'Purchase Amt': top5_brooklyn_df[\"Purchase Amt\"].values,\n",
    "    'Amount Mortgaged': top5_brooklyn_df[\"Amount Mortgaged\"].values,\n",
    "    'Per Capita Income': top5_brooklyn_df[\"Per Capita Income\"].values,\n",
    "}\n",
    "\n",
    "x = np.arange(len(species))  # the label locations\n",
    "width = 0.25  # the width of the bars\n",
    "multiplier = 0\n",
    "\n",
    "fig, ax = plt.subplots(figsize=(15,6))\n",
    "\n",
    "for attribute, measurement in housing_data.items():\n",
    "    offset = width * multiplier\n",
    "    rects = ax.bar(x + offset, measurement, width, label=attribute)\n",
    "    #ax.bar_label(rects, padding=3)\n",
    "    multiplier += 1\n",
    "\n",
    "# Add some text for labels, title and custom x-axis tick labels, etc.\n",
    "ax.set_ylabel('Dollar Amount', fontsize=13)\n",
    "ax.set_title('Purchase & Mortgage (in thousands) Per Capita Income (in thousands)', fontsize=13)\n",
    "ax.set_xticks(x + width, species)\n",
    "ax.set_xlabel(\"Brooklyn Top 5 Zipcode\", fontsize=13)\n",
    "ax.legend(loc='upper left', ncols=3)\n",
    "ax.set_ylim(0, 250)\n",
    "plt.suptitle('Top 5 Purchase Amount v.s. Amount Mortgaged v.s. Per Capita Income in Brooklyn', fontsize=15)\n",
    "plt.show()"
   ]
  },
  {
   "cell_type": "markdown",
   "id": "6394c027",
   "metadata": {},
   "source": [
    "## Line Chart Brooklyn - showing the amount borrowed by income level"
   ]
  },
  {
   "cell_type": "code",
   "execution_count": 27,
   "id": "557fadd1",
   "metadata": {},
   "outputs": [
    {
     "data": {
      "text/plain": [
       "(17701, 17)"
      ]
     },
     "execution_count": 27,
     "metadata": {},
     "output_type": "execute_result"
    }
   ],
   "source": [
    "complete_df.shape"
   ]
  },
  {
   "cell_type": "code",
   "execution_count": 28,
   "id": "50fe8878",
   "metadata": {},
   "outputs": [
    {
     "data": {
      "text/plain": [
       "(17694, 17)"
      ]
     },
     "execution_count": 28,
     "metadata": {},
     "output_type": "execute_result"
    }
   ],
   "source": [
    "brooklyn_complete = complete_df.drop([10013, 10007, 10282, 10453, 11355, 10457, 11368], axis=0)\n",
    "brooklyn_complete.shape"
   ]
  },
  {
   "cell_type": "code",
   "execution_count": 29,
   "id": "546c94b8",
   "metadata": {},
   "outputs": [
    {
     "data": {
      "text/plain": [
       "(45, 8)"
      ]
     },
     "execution_count": 29,
     "metadata": {},
     "output_type": "execute_result"
    }
   ],
   "source": [
    "brooklyn_by_zip = brooklyn_complete.groupby(['Zipcode']).agg({'Count': 'sum', 'Purchase Amt': 'mean', \n",
    "                                                            'Purchase Down %': 'mean',\n",
    "                                                            'Amount Mortgaged': 'mean', \n",
    "                                                            'Mtg Tx Pd': 'mean', 'Mansion Tax Pd': 'mean', \n",
    "                                                            'New Sales Tax Amount': 'mean', \n",
    "                                                            'Per Capita Income': 'mean'})\n",
    "brooklyn_by_zip.shape"
   ]
  },
  {
   "cell_type": "code",
   "execution_count": 31,
   "id": "73b97888",
   "metadata": {},
   "outputs": [
    {
     "data": {
      "text/html": [
       "<div>\n",
       "<style scoped>\n",
       "    .dataframe tbody tr th:only-of-type {\n",
       "        vertical-align: middle;\n",
       "    }\n",
       "\n",
       "    .dataframe tbody tr th {\n",
       "        vertical-align: top;\n",
       "    }\n",
       "\n",
       "    .dataframe thead th {\n",
       "        text-align: right;\n",
       "    }\n",
       "</style>\n",
       "<table border=\"1\" class=\"dataframe\">\n",
       "  <thead>\n",
       "    <tr style=\"text-align: right;\">\n",
       "      <th></th>\n",
       "      <th>Count</th>\n",
       "      <th>Purchase Amt</th>\n",
       "      <th>Purchase Down %</th>\n",
       "      <th>Amount Mortgaged</th>\n",
       "      <th>Mtg Tx Pd</th>\n",
       "      <th>Mansion Tax Pd</th>\n",
       "      <th>New Sales Tax Amount</th>\n",
       "      <th>Per Capita Income</th>\n",
       "    </tr>\n",
       "    <tr>\n",
       "      <th>Zipcode</th>\n",
       "      <th></th>\n",
       "      <th></th>\n",
       "      <th></th>\n",
       "      <th></th>\n",
       "      <th></th>\n",
       "      <th></th>\n",
       "      <th></th>\n",
       "      <th></th>\n",
       "    </tr>\n",
       "  </thead>\n",
       "  <tbody>\n",
       "    <tr>\n",
       "      <th>10453</th>\n",
       "      <td>23</td>\n",
       "      <td>583513.043478</td>\n",
       "      <td>26.043478</td>\n",
       "      <td>581110.130435</td>\n",
       "      <td>11021.583391</td>\n",
       "      <td>0.000000</td>\n",
       "      <td>19358.004522</td>\n",
       "      <td>19016.0</td>\n",
       "    </tr>\n",
       "    <tr>\n",
       "      <th>10457</th>\n",
       "      <td>61</td>\n",
       "      <td>504049.983607</td>\n",
       "      <td>21.786885</td>\n",
       "      <td>441001.622951</td>\n",
       "      <td>8288.753951</td>\n",
       "      <td>754.262295</td>\n",
       "      <td>18996.897977</td>\n",
       "      <td>20187.0</td>\n",
       "    </tr>\n",
       "    <tr>\n",
       "      <th>11219</th>\n",
       "      <td>162</td>\n",
       "      <td>689738.814815</td>\n",
       "      <td>49.080247</td>\n",
       "      <td>372354.808642</td>\n",
       "      <td>7009.950389</td>\n",
       "      <td>1223.790123</td>\n",
       "      <td>21585.947486</td>\n",
       "      <td>20336.0</td>\n",
       "    </tr>\n",
       "    <tr>\n",
       "      <th>11212</th>\n",
       "      <td>148</td>\n",
       "      <td>495542.750000</td>\n",
       "      <td>15.202703</td>\n",
       "      <td>435048.425676</td>\n",
       "      <td>8176.012591</td>\n",
       "      <td>91.216216</td>\n",
       "      <td>15607.126784</td>\n",
       "      <td>21502.0</td>\n",
       "    </tr>\n",
       "    <tr>\n",
       "      <th>11368</th>\n",
       "      <td>271</td>\n",
       "      <td>569080.760148</td>\n",
       "      <td>57.929889</td>\n",
       "      <td>226006.169742</td>\n",
       "      <td>4162.506050</td>\n",
       "      <td>850.695092</td>\n",
       "      <td>18787.520881</td>\n",
       "      <td>24232.0</td>\n",
       "    </tr>\n",
       "  </tbody>\n",
       "</table>\n",
       "</div>"
      ],
      "text/plain": [
       "         Count   Purchase Amt  Purchase Down %  Amount Mortgaged  \\\n",
       "Zipcode                                                            \n",
       "10453       23  583513.043478        26.043478     581110.130435   \n",
       "10457       61  504049.983607        21.786885     441001.622951   \n",
       "11219      162  689738.814815        49.080247     372354.808642   \n",
       "11212      148  495542.750000        15.202703     435048.425676   \n",
       "11368      271  569080.760148        57.929889     226006.169742   \n",
       "\n",
       "            Mtg Tx Pd  Mansion Tax Pd  New Sales Tax Amount  Per Capita Income  \n",
       "Zipcode                                                                         \n",
       "10453    11021.583391        0.000000          19358.004522            19016.0  \n",
       "10457     8288.753951      754.262295          18996.897977            20187.0  \n",
       "11219     7009.950389     1223.790123          21585.947486            20336.0  \n",
       "11212     8176.012591       91.216216          15607.126784            21502.0  \n",
       "11368     4162.506050      850.695092          18787.520881            24232.0  "
      ]
     },
     "execution_count": 31,
     "metadata": {},
     "output_type": "execute_result"
    }
   ],
   "source": [
    "brooklyn_by_zip_income_level = brooklyn_by_zip.sort_values(\"Per Capita Income\")\n",
    "brooklyn_by_zip_income_level.head()"
   ]
  },
  {
   "cell_type": "code",
   "execution_count": 32,
   "id": "6f05a92d",
   "metadata": {},
   "outputs": [
    {
     "data": {
      "text/html": [
       "<div>\n",
       "<style scoped>\n",
       "    .dataframe tbody tr th:only-of-type {\n",
       "        vertical-align: middle;\n",
       "    }\n",
       "\n",
       "    .dataframe tbody tr th {\n",
       "        vertical-align: top;\n",
       "    }\n",
       "\n",
       "    .dataframe thead th {\n",
       "        text-align: right;\n",
       "    }\n",
       "</style>\n",
       "<table border=\"1\" class=\"dataframe\">\n",
       "  <thead>\n",
       "    <tr style=\"text-align: right;\">\n",
       "      <th></th>\n",
       "      <th>Count</th>\n",
       "      <th>Purchase Amt</th>\n",
       "      <th>Purchase Down %</th>\n",
       "      <th>Amount Mortgaged</th>\n",
       "      <th>Mtg Tx Pd</th>\n",
       "      <th>Mansion Tax Pd</th>\n",
       "      <th>New Sales Tax Amount</th>\n",
       "      <th>Zipcode</th>\n",
       "    </tr>\n",
       "    <tr>\n",
       "      <th>Per Capita Income</th>\n",
       "      <th></th>\n",
       "      <th></th>\n",
       "      <th></th>\n",
       "      <th></th>\n",
       "      <th></th>\n",
       "      <th></th>\n",
       "      <th></th>\n",
       "      <th></th>\n",
       "    </tr>\n",
       "  </thead>\n",
       "  <tbody>\n",
       "    <tr>\n",
       "      <th>19016.0</th>\n",
       "      <td>23</td>\n",
       "      <td>583513.043478</td>\n",
       "      <td>26.043478</td>\n",
       "      <td>581110.130435</td>\n",
       "      <td>11021.583391</td>\n",
       "      <td>0.000000</td>\n",
       "      <td>19358.004522</td>\n",
       "      <td>10453</td>\n",
       "    </tr>\n",
       "    <tr>\n",
       "      <th>20187.0</th>\n",
       "      <td>61</td>\n",
       "      <td>504049.983607</td>\n",
       "      <td>21.786885</td>\n",
       "      <td>441001.622951</td>\n",
       "      <td>8288.753951</td>\n",
       "      <td>754.262295</td>\n",
       "      <td>18996.897977</td>\n",
       "      <td>10457</td>\n",
       "    </tr>\n",
       "    <tr>\n",
       "      <th>20336.0</th>\n",
       "      <td>162</td>\n",
       "      <td>689738.814815</td>\n",
       "      <td>49.080247</td>\n",
       "      <td>372354.808642</td>\n",
       "      <td>7009.950389</td>\n",
       "      <td>1223.790123</td>\n",
       "      <td>21585.947486</td>\n",
       "      <td>11219</td>\n",
       "    </tr>\n",
       "    <tr>\n",
       "      <th>21502.0</th>\n",
       "      <td>148</td>\n",
       "      <td>495542.750000</td>\n",
       "      <td>15.202703</td>\n",
       "      <td>435048.425676</td>\n",
       "      <td>8176.012591</td>\n",
       "      <td>91.216216</td>\n",
       "      <td>15607.126784</td>\n",
       "      <td>11212</td>\n",
       "    </tr>\n",
       "    <tr>\n",
       "      <th>24232.0</th>\n",
       "      <td>271</td>\n",
       "      <td>569080.760148</td>\n",
       "      <td>57.929889</td>\n",
       "      <td>226006.169742</td>\n",
       "      <td>4162.506050</td>\n",
       "      <td>850.695092</td>\n",
       "      <td>18787.520881</td>\n",
       "      <td>11368</td>\n",
       "    </tr>\n",
       "  </tbody>\n",
       "</table>\n",
       "</div>"
      ],
      "text/plain": [
       "                   Count   Purchase Amt  Purchase Down %  Amount Mortgaged  \\\n",
       "Per Capita Income                                                            \n",
       "19016.0               23  583513.043478        26.043478     581110.130435   \n",
       "20187.0               61  504049.983607        21.786885     441001.622951   \n",
       "20336.0              162  689738.814815        49.080247     372354.808642   \n",
       "21502.0              148  495542.750000        15.202703     435048.425676   \n",
       "24232.0              271  569080.760148        57.929889     226006.169742   \n",
       "\n",
       "                      Mtg Tx Pd  Mansion Tax Pd  New Sales Tax Amount  Zipcode  \n",
       "Per Capita Income                                                               \n",
       "19016.0            11021.583391        0.000000          19358.004522    10453  \n",
       "20187.0             8288.753951      754.262295          18996.897977    10457  \n",
       "20336.0             7009.950389     1223.790123          21585.947486    11219  \n",
       "21502.0             8176.012591       91.216216          15607.126784    11212  \n",
       "24232.0             4162.506050      850.695092          18787.520881    11368  "
      ]
     },
     "execution_count": 32,
     "metadata": {},
     "output_type": "execute_result"
    }
   ],
   "source": [
    "brooklyn_by_zip_income_level['Zipcode'] = brooklyn_by_zip_income_level.index\n",
    "final_brooklyn_by_zip_income_level = brooklyn_by_zip_income_level.set_index(\"Per Capita Income\")\n",
    "final_brooklyn_by_zip_income_level.head()"
   ]
  },
  {
   "cell_type": "code",
   "execution_count": 33,
   "id": "6e62418f",
   "metadata": {},
   "outputs": [
    {
     "data": {
      "text/plain": [
       "(9705, 17)"
      ]
     },
     "execution_count": 33,
     "metadata": {},
     "output_type": "execute_result"
    }
   ],
   "source": [
    "investor_df = complete_df[(complete_df['Owner Occ?'] ==1)]\n",
    "investor_df.shape"
   ]
  },
  {
   "cell_type": "code",
   "execution_count": 34,
   "id": "24051cce",
   "metadata": {},
   "outputs": [
    {
     "data": {
      "text/plain": [
       "(9698, 17)"
      ]
     },
     "execution_count": 34,
     "metadata": {},
     "output_type": "execute_result"
    }
   ],
   "source": [
    "investor_index = investor_df.drop([10013, 10007, 10282, 10453, 11355, 10457, 11368], axis=0)\n",
    "investor_index.shape"
   ]
  },
  {
   "cell_type": "code",
   "execution_count": 35,
   "id": "ca3c1846",
   "metadata": {},
   "outputs": [
    {
     "data": {
      "text/plain": [
       "(45, 8)"
      ]
     },
     "execution_count": 35,
     "metadata": {},
     "output_type": "execute_result"
    }
   ],
   "source": [
    "investor_by_zip = investor_index.groupby(['Zipcode']).agg({'Count': 'sum', 'Purchase Amt': 'mean', \n",
    "                                                            'Purchase Down %': 'mean',\n",
    "                                                            'Amount Mortgaged': 'mean', \n",
    "                                                            'Mtg Tx Pd': 'mean', 'Mansion Tax Pd': 'mean', \n",
    "                                                            'New Sales Tax Amount': 'mean', \n",
    "                                                            'Per Capita Income': 'mean'})\n",
    "investor_by_zip.shape"
   ]
  },
  {
   "cell_type": "code",
   "execution_count": 36,
   "id": "40f8a945",
   "metadata": {},
   "outputs": [
    {
     "data": {
      "text/html": [
       "<div>\n",
       "<style scoped>\n",
       "    .dataframe tbody tr th:only-of-type {\n",
       "        vertical-align: middle;\n",
       "    }\n",
       "\n",
       "    .dataframe tbody tr th {\n",
       "        vertical-align: top;\n",
       "    }\n",
       "\n",
       "    .dataframe thead th {\n",
       "        text-align: right;\n",
       "    }\n",
       "</style>\n",
       "<table border=\"1\" class=\"dataframe\">\n",
       "  <thead>\n",
       "    <tr style=\"text-align: right;\">\n",
       "      <th></th>\n",
       "      <th>Count</th>\n",
       "      <th>Purchase Amt</th>\n",
       "      <th>Purchase Down %</th>\n",
       "      <th>Amount Mortgaged</th>\n",
       "      <th>Mtg Tx Pd</th>\n",
       "      <th>Mansion Tax Pd</th>\n",
       "      <th>New Sales Tax Amount</th>\n",
       "      <th>Per Capita Income</th>\n",
       "    </tr>\n",
       "    <tr>\n",
       "      <th>Zipcode</th>\n",
       "      <th></th>\n",
       "      <th></th>\n",
       "      <th></th>\n",
       "      <th></th>\n",
       "      <th></th>\n",
       "      <th></th>\n",
       "      <th></th>\n",
       "      <th></th>\n",
       "    </tr>\n",
       "  </thead>\n",
       "  <tbody>\n",
       "    <tr>\n",
       "      <th>10453</th>\n",
       "      <td>15</td>\n",
       "      <td>564720.000000</td>\n",
       "      <td>30.533333</td>\n",
       "      <td>521535.666667</td>\n",
       "      <td>9802.513800</td>\n",
       "      <td>0.000000</td>\n",
       "      <td>25062.273600</td>\n",
       "      <td>19016.0</td>\n",
       "    </tr>\n",
       "    <tr>\n",
       "      <th>10457</th>\n",
       "      <td>50</td>\n",
       "      <td>487558.980000</td>\n",
       "      <td>18.540000</td>\n",
       "      <td>431634.920000</td>\n",
       "      <td>8126.812740</td>\n",
       "      <td>430.200000</td>\n",
       "      <td>21637.867532</td>\n",
       "      <td>20187.0</td>\n",
       "    </tr>\n",
       "    <tr>\n",
       "      <th>11219</th>\n",
       "      <td>95</td>\n",
       "      <td>682417.747368</td>\n",
       "      <td>49.894737</td>\n",
       "      <td>373118.442105</td>\n",
       "      <td>7031.119737</td>\n",
       "      <td>1309.410526</td>\n",
       "      <td>30285.699628</td>\n",
       "      <td>20336.0</td>\n",
       "    </tr>\n",
       "    <tr>\n",
       "      <th>11212</th>\n",
       "      <td>85</td>\n",
       "      <td>496878.823529</td>\n",
       "      <td>11.047059</td>\n",
       "      <td>449530.858824</td>\n",
       "      <td>8454.793429</td>\n",
       "      <td>158.823529</td>\n",
       "      <td>22051.482188</td>\n",
       "      <td>21502.0</td>\n",
       "    </tr>\n",
       "    <tr>\n",
       "      <th>11368</th>\n",
       "      <td>169</td>\n",
       "      <td>580916.065089</td>\n",
       "      <td>55.088757</td>\n",
       "      <td>241485.544379</td>\n",
       "      <td>4454.244959</td>\n",
       "      <td>769.752189</td>\n",
       "      <td>25781.054969</td>\n",
       "      <td>24232.0</td>\n",
       "    </tr>\n",
       "  </tbody>\n",
       "</table>\n",
       "</div>"
      ],
      "text/plain": [
       "         Count   Purchase Amt  Purchase Down %  Amount Mortgaged    Mtg Tx Pd  \\\n",
       "Zipcode                                                                         \n",
       "10453       15  564720.000000        30.533333     521535.666667  9802.513800   \n",
       "10457       50  487558.980000        18.540000     431634.920000  8126.812740   \n",
       "11219       95  682417.747368        49.894737     373118.442105  7031.119737   \n",
       "11212       85  496878.823529        11.047059     449530.858824  8454.793429   \n",
       "11368      169  580916.065089        55.088757     241485.544379  4454.244959   \n",
       "\n",
       "         Mansion Tax Pd  New Sales Tax Amount  Per Capita Income  \n",
       "Zipcode                                                           \n",
       "10453          0.000000          25062.273600            19016.0  \n",
       "10457        430.200000          21637.867532            20187.0  \n",
       "11219       1309.410526          30285.699628            20336.0  \n",
       "11212        158.823529          22051.482188            21502.0  \n",
       "11368        769.752189          25781.054969            24232.0  "
      ]
     },
     "execution_count": 36,
     "metadata": {},
     "output_type": "execute_result"
    }
   ],
   "source": [
    "investor_income_level = investor_by_zip.sort_values(\"Per Capita Income\")\n",
    "investor_income_level.head()"
   ]
  },
  {
   "cell_type": "code",
   "execution_count": 37,
   "id": "0c26800a",
   "metadata": {},
   "outputs": [
    {
     "data": {
      "text/plain": [
       "(7996, 17)"
      ]
     },
     "execution_count": 37,
     "metadata": {},
     "output_type": "execute_result"
    }
   ],
   "source": [
    "home_owner_df = complete_df[(complete_df['Owner Occ?'] ==0)]\n",
    "home_owner_df.shape"
   ]
  },
  {
   "cell_type": "code",
   "execution_count": 38,
   "id": "5c7bae4e",
   "metadata": {},
   "outputs": [
    {
     "data": {
      "text/plain": [
       "(7996, 17)"
      ]
     },
     "execution_count": 38,
     "metadata": {},
     "output_type": "execute_result"
    }
   ],
   "source": [
    "home_owner_df = complete_df[(complete_df['Owner Occ?'] ==0)]\n",
    "home_owner_df.shape "
   ]
  },
  {
   "cell_type": "code",
   "execution_count": 39,
   "id": "4b17bddb",
   "metadata": {},
   "outputs": [
    {
     "data": {
      "text/plain": [
       "(7345, 17)"
      ]
     },
     "execution_count": 39,
     "metadata": {},
     "output_type": "execute_result"
    }
   ],
   "source": [
    "home_owner_df = complete_df[(complete_df['Owner Occ?'] ==0)]\n",
    "zip_codes_to_drop = [10013, 10007, 10282, 10453, 11355, 10457, 11368]\n",
    "home_owner_index = home_owner_df[~home_owner_df['Zipcode'].isin(zip_codes_to_drop)]\n",
    "home_owner_index.shape"
   ]
  },
  {
   "cell_type": "code",
   "execution_count": 40,
   "id": "ceeece17",
   "metadata": {},
   "outputs": [
    {
     "data": {
      "text/plain": [
       "(38, 8)"
      ]
     },
     "execution_count": 40,
     "metadata": {},
     "output_type": "execute_result"
    }
   ],
   "source": [
    "home_owner_by_zip = home_owner_index.groupby(['Zipcode']).agg({'Count': 'sum', 'Purchase Amt': 'mean', \n",
    "                                                             'Purchase Down %': 'mean',\n",
    "                                                             'Amount Mortgaged': 'mean', \n",
    "                                                             'Mtg Tx Pd': 'mean', 'Mansion Tax Pd': 'mean', \n",
    "                                                             'New Sales Tax Amount': 'mean', \n",
    "                                                             'Per Capita Income': 'mean'})\n",
    "home_owner_by_zip.shape"
   ]
  },
  {
   "cell_type": "code",
   "execution_count": 41,
   "id": "bc83462c",
   "metadata": {},
   "outputs": [
    {
     "data": {
      "text/html": [
       "<div>\n",
       "<style scoped>\n",
       "    .dataframe tbody tr th:only-of-type {\n",
       "        vertical-align: middle;\n",
       "    }\n",
       "\n",
       "    .dataframe tbody tr th {\n",
       "        vertical-align: top;\n",
       "    }\n",
       "\n",
       "    .dataframe thead th {\n",
       "        text-align: right;\n",
       "    }\n",
       "</style>\n",
       "<table border=\"1\" class=\"dataframe\">\n",
       "  <thead>\n",
       "    <tr style=\"text-align: right;\">\n",
       "      <th></th>\n",
       "      <th>Count</th>\n",
       "      <th>Purchase Amt</th>\n",
       "      <th>Purchase Down %</th>\n",
       "      <th>Amount Mortgaged</th>\n",
       "      <th>Mtg Tx Pd</th>\n",
       "      <th>Mansion Tax Pd</th>\n",
       "      <th>New Sales Tax Amount</th>\n",
       "      <th>Per Capita Income</th>\n",
       "    </tr>\n",
       "    <tr>\n",
       "      <th>Zipcode</th>\n",
       "      <th></th>\n",
       "      <th></th>\n",
       "      <th></th>\n",
       "      <th></th>\n",
       "      <th></th>\n",
       "      <th></th>\n",
       "      <th></th>\n",
       "      <th></th>\n",
       "    </tr>\n",
       "  </thead>\n",
       "  <tbody>\n",
       "    <tr>\n",
       "      <th>11219</th>\n",
       "      <td>67</td>\n",
       "      <td>700119.432836</td>\n",
       "      <td>47.925373</td>\n",
       "      <td>371272.044776</td>\n",
       "      <td>6979.934149</td>\n",
       "      <td>1102.388060</td>\n",
       "      <td>9250.478030</td>\n",
       "      <td>20336.0</td>\n",
       "    </tr>\n",
       "    <tr>\n",
       "      <th>11212</th>\n",
       "      <td>63</td>\n",
       "      <td>493740.111111</td>\n",
       "      <td>20.809524</td>\n",
       "      <td>415508.634921</td>\n",
       "      <td>7799.879714</td>\n",
       "      <td>0.000000</td>\n",
       "      <td>6912.361556</td>\n",
       "      <td>21502.0</td>\n",
       "    </tr>\n",
       "    <tr>\n",
       "      <th>11208</th>\n",
       "      <td>75</td>\n",
       "      <td>538377.253333</td>\n",
       "      <td>34.293333</td>\n",
       "      <td>453984.160000</td>\n",
       "      <td>8665.194060</td>\n",
       "      <td>0.000000</td>\n",
       "      <td>7537.281547</td>\n",
       "      <td>25229.0</td>\n",
       "    </tr>\n",
       "    <tr>\n",
       "      <th>11204</th>\n",
       "      <td>122</td>\n",
       "      <td>748869.647541</td>\n",
       "      <td>50.393443</td>\n",
       "      <td>400207.270492</td>\n",
       "      <td>7632.601709</td>\n",
       "      <td>1526.639344</td>\n",
       "      <td>9720.855393</td>\n",
       "      <td>25404.0</td>\n",
       "    </tr>\n",
       "    <tr>\n",
       "      <th>11220</th>\n",
       "      <td>76</td>\n",
       "      <td>758124.144737</td>\n",
       "      <td>45.750000</td>\n",
       "      <td>448424.855263</td>\n",
       "      <td>8510.919888</td>\n",
       "      <td>2034.868421</td>\n",
       "      <td>9596.303816</td>\n",
       "      <td>25708.0</td>\n",
       "    </tr>\n",
       "  </tbody>\n",
       "</table>\n",
       "</div>"
      ],
      "text/plain": [
       "         Count   Purchase Amt  Purchase Down %  Amount Mortgaged    Mtg Tx Pd  \\\n",
       "Zipcode                                                                         \n",
       "11219       67  700119.432836        47.925373     371272.044776  6979.934149   \n",
       "11212       63  493740.111111        20.809524     415508.634921  7799.879714   \n",
       "11208       75  538377.253333        34.293333     453984.160000  8665.194060   \n",
       "11204      122  748869.647541        50.393443     400207.270492  7632.601709   \n",
       "11220       76  758124.144737        45.750000     448424.855263  8510.919888   \n",
       "\n",
       "         Mansion Tax Pd  New Sales Tax Amount  Per Capita Income  \n",
       "Zipcode                                                           \n",
       "11219       1102.388060           9250.478030            20336.0  \n",
       "11212          0.000000           6912.361556            21502.0  \n",
       "11208          0.000000           7537.281547            25229.0  \n",
       "11204       1526.639344           9720.855393            25404.0  \n",
       "11220       2034.868421           9596.303816            25708.0  "
      ]
     },
     "execution_count": 41,
     "metadata": {},
     "output_type": "execute_result"
    }
   ],
   "source": [
    "home_owner_by_zip_income_level = home_owner_by_zip.sort_values(\"Per Capita Income\")\n",
    "home_owner_by_zip_income_level.head()"
   ]
  },
  {
   "cell_type": "code",
   "execution_count": 42,
   "id": "30dc6974",
   "metadata": {},
   "outputs": [],
   "source": [
    "columns_to_select = ['Column1', 'Column2', 'Column3']"
   ]
  },
  {
   "cell_type": "code",
   "execution_count": 43,
   "id": "42c87da6",
   "metadata": {},
   "outputs": [
    {
     "name": "stderr",
     "output_type": "stream",
     "text": [
      "No handles with labels found to put in legend.\n"
     ]
    },
    {
     "data": {
      "image/png": "[encoded data removed]",
      "text/plain": [
       "<Figure size 1440x360 with 1 Axes>"
      ]
     },
     "metadata": {
      "needs_background": "light"
     },
     "output_type": "display_data"
    }
   ],
   "source": [
    "plt.figure(figsize=(20,5))\n",
    "\n",
    "x_axis = brooklyn_by_zip_income_level['Zipcode'] \n",
    "y_axis = brooklyn_by_zip_income_level['Amount Mortgaged']\n",
    "plt.bar(x_axis, y_axis, color='r', alpha=0.5, align=\"center\")\n",
    "# plt.plot(brooklyn_by_zip_income_level['Zipcode'], brooklyn_by_zip_income_level['Amount Mortgaged'], marker=\"o\", label='Total Brooklyn Populaiton')\n",
    "# plt.plot(zipcode_list, investor_by_zip[\"Purchase Amt\"], marker=\"o\", label='Purchase Amountt')\n",
    "# plt.plot(zipcode_list, investor_by_zip[\"total_tax_paid\"], marker=\"o\", label='Total Tax Paid')\n",
    "\n",
    "plt.xticks(x_axis, rotation=90)\n",
    "plt.xticks(fontsize=15)\n",
    "plt.yticks(fontsize=15)\n",
    "plt.xlabel('Zipcode (Income=Lowest to Highest)', fontsize=20)\n",
    "plt.ylabel('Purchase Amount (in thousands)', fontsize=20)\n",
    "plt.title('Amount Mrtgaged vs Average Income Level by Zipcode', fontsize=20)\n",
    "plt.legend()\n",
    "plt.show()\n"
   ]
  },
  {
   "cell_type": "code",
   "execution_count": 44,
   "id": "5fcbf346",
   "metadata": {},
   "outputs": [],
   "source": [
    "# plt.figure(figsize=(20,5))\n",
    "\n",
    "# plt.plot(zipcode_list, investor_by_zip[\"Per Capita Income\"], marker=\"o\", label='Per Capita Income')\n",
    "# plt.plot(zipcode_list, investor_by_zip[\"Purchase Amt\"], marker=\"o\", label='Purchase Amountt')\n",
    "# plt.plot(zipcode_list, investor_by_zip[\"total_tax_paid\"], marker=\"o\", label='Total Tax Paid')\n",
    "# plt.xticks(zipcode_list, rotation=90)\n",
    "# plt.xticks(fontsize=15)\n",
    "# plt.yticks(fontsize=15)\n",
    "# plt.xlabel('Zipcode', fontsize=20)\n",
    "# plt.ylabel('Purchase Amount (in thousands)', fontsize=20)\n",
    "# plt.title('Average Income v.s. Average Purchase Amount across Zipcodes in NYC', fontsize=20)\n",
    "# plt.legend()\n",
    "# plt.show()"
   ]
  },
  {
   "cell_type": "code",
   "execution_count": null,
   "id": "cf0e881a",
   "metadata": {},
   "outputs": [],
   "source": []
  }
 ],
 "metadata": {
  "kernelspec": {
   "display_name": "PythonData",
   "language": "python",
   "name": "pythondata"
  },
  "language_info": {
   "codemirror_mode": {
    "name": "ipython",
    "version": 3
   },
   "file_extension": ".py",
   "mimetype": "text/x-python",
   "name": "python",
   "nbconvert_exporter": "python",
   "pygments_lexer": "ipython3",
   "version": "3.7.7"
  }
 },
 "nbformat": 4,
 "nbformat_minor": 5
}
